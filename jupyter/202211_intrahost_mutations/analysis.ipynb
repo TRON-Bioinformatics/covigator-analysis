{
 "cells": [
  {
   "cell_type": "code",
   "execution_count": 11,
   "id": "e8e34f34",
   "metadata": {},
   "outputs": [],
   "source": [
    "import pandas as pd\n",
    "import seaborn as sns\n",
    "import matplotlib.pyplot as plt\n",
    "import numpy as np\n",
    "import json\n",
    "import os\n",
    "\n",
    "sns.set_context(\"notebook\", font_scale=1.25)\n",
    "sns.color_palette(\"colorblind\")\n",
    "sns.set(font_scale=2)\n",
    "sns.set_style(\"whitegrid\")"
   ]
  },
  {
   "cell_type": "markdown",
   "id": "b4078123",
   "metadata": {},
   "source": [
    "## References"
   ]
  },
  {
   "cell_type": "code",
   "execution_count": 2,
   "id": "5c47e297",
   "metadata": {},
   "outputs": [],
   "source": [
    "reference = json.load(open('../../references/sars_cov_2.json'))"
   ]
  },
  {
   "cell_type": "code",
   "execution_count": 3,
   "id": "1c10b4fe",
   "metadata": {},
   "outputs": [
    {
     "data": {
      "text/plain": [
       "dict_keys(['genes', 'division', 'species_id', 'dbname', 'reference', 'genebuild', 'GO_genome', 'id', 'organism', 'assembly'])"
      ]
     },
     "execution_count": 3,
     "metadata": {},
     "output_type": "execute_result"
    }
   ],
   "source": [
    "reference.keys()"
   ]
  },
  {
   "cell_type": "code",
   "execution_count": 5,
   "id": "982dacd3",
   "metadata": {},
   "outputs": [],
   "source": [
    "genes = []\n",
    "domains = []\n",
    "for g in reference.get('genes'):\n",
    "    for p in range(int(g.get('start')), int(g.get('end'))):\n",
    "        genes.append((g.get('name'), p))\n",
    "    for f in g.get('transcripts')[0].get('translations')[0].get('protein_features'):\n",
    "        if f.get('dbname') == 'Pfam':\n",
    "            for p in range(int(g.get('start')) + int(f.get('start')), int(g.get('start')) + int(f.get('end'))):\n",
    "                domains.append((f.get('description'), p))\n",
    "            \n",
    "genes_df = pd.DataFrame(data=genes, columns=['gene', 'position'])\n",
    "domains_df = pd.DataFrame(data=domains, columns=['domain', 'position'])"
   ]
  },
  {
   "cell_type": "code",
   "execution_count": 6,
   "id": "29fd151a",
   "metadata": {},
   "outputs": [
    {
     "data": {
      "text/html": [
       "<div>\n",
       "<style scoped>\n",
       "    .dataframe tbody tr th:only-of-type {\n",
       "        vertical-align: middle;\n",
       "    }\n",
       "\n",
       "    .dataframe tbody tr th {\n",
       "        vertical-align: top;\n",
       "    }\n",
       "\n",
       "    .dataframe thead th {\n",
       "        text-align: right;\n",
       "    }\n",
       "</style>\n",
       "<table border=\"1\" class=\"dataframe\">\n",
       "  <thead>\n",
       "    <tr style=\"text-align: right;\">\n",
       "      <th></th>\n",
       "      <th>gene</th>\n",
       "      <th>position</th>\n",
       "    </tr>\n",
       "  </thead>\n",
       "  <tbody>\n",
       "    <tr>\n",
       "      <th>0</th>\n",
       "      <td>S</td>\n",
       "      <td>21563</td>\n",
       "    </tr>\n",
       "    <tr>\n",
       "      <th>1</th>\n",
       "      <td>S</td>\n",
       "      <td>21564</td>\n",
       "    </tr>\n",
       "    <tr>\n",
       "      <th>2</th>\n",
       "      <td>S</td>\n",
       "      <td>21565</td>\n",
       "    </tr>\n",
       "    <tr>\n",
       "      <th>3</th>\n",
       "      <td>S</td>\n",
       "      <td>21566</td>\n",
       "    </tr>\n",
       "    <tr>\n",
       "      <th>4</th>\n",
       "      <td>S</td>\n",
       "      <td>21567</td>\n",
       "    </tr>\n",
       "  </tbody>\n",
       "</table>\n",
       "</div>"
      ],
      "text/plain": [
       "  gene  position\n",
       "0    S     21563\n",
       "1    S     21564\n",
       "2    S     21565\n",
       "3    S     21566\n",
       "4    S     21567"
      ]
     },
     "execution_count": 6,
     "metadata": {},
     "output_type": "execute_result"
    }
   ],
   "source": [
    "genes_df.head()"
   ]
  },
  {
   "cell_type": "code",
   "execution_count": 7,
   "id": "4bbdbb37",
   "metadata": {},
   "outputs": [
    {
     "data": {
      "text/html": [
       "<div>\n",
       "<style scoped>\n",
       "    .dataframe tbody tr th:only-of-type {\n",
       "        vertical-align: middle;\n",
       "    }\n",
       "\n",
       "    .dataframe tbody tr th {\n",
       "        vertical-align: top;\n",
       "    }\n",
       "\n",
       "    .dataframe thead th {\n",
       "        text-align: right;\n",
       "    }\n",
       "</style>\n",
       "<table border=\"1\" class=\"dataframe\">\n",
       "  <thead>\n",
       "    <tr style=\"text-align: right;\">\n",
       "      <th></th>\n",
       "      <th>domain</th>\n",
       "      <th>position</th>\n",
       "    </tr>\n",
       "  </thead>\n",
       "  <tbody>\n",
       "    <tr>\n",
       "      <th>0</th>\n",
       "      <td>CoV_S2</td>\n",
       "      <td>22274</td>\n",
       "    </tr>\n",
       "    <tr>\n",
       "      <th>1</th>\n",
       "      <td>CoV_S2</td>\n",
       "      <td>22275</td>\n",
       "    </tr>\n",
       "    <tr>\n",
       "      <th>2</th>\n",
       "      <td>CoV_S2</td>\n",
       "      <td>22276</td>\n",
       "    </tr>\n",
       "    <tr>\n",
       "      <th>3</th>\n",
       "      <td>CoV_S2</td>\n",
       "      <td>22277</td>\n",
       "    </tr>\n",
       "    <tr>\n",
       "      <th>4</th>\n",
       "      <td>CoV_S2</td>\n",
       "      <td>22278</td>\n",
       "    </tr>\n",
       "  </tbody>\n",
       "</table>\n",
       "</div>"
      ],
      "text/plain": [
       "   domain  position\n",
       "0  CoV_S2     22274\n",
       "1  CoV_S2     22275\n",
       "2  CoV_S2     22276\n",
       "3  CoV_S2     22277\n",
       "4  CoV_S2     22278"
      ]
     },
     "execution_count": 7,
     "metadata": {},
     "output_type": "execute_result"
    }
   ],
   "source": [
    "domains_df.head()"
   ]
  },
  {
   "cell_type": "code",
   "execution_count": 8,
   "id": "5ed59545",
   "metadata": {},
   "outputs": [],
   "source": [
    "def annotate_variants(variants, annotations):\n",
    "    return pd.merge(variants, annotations, on='position')"
   ]
  },
  {
   "cell_type": "markdown",
   "id": "c080222e",
   "metadata": {},
   "source": [
    "## Data loading"
   ]
  },
  {
   "cell_type": "code",
   "execution_count": 9,
   "id": "7389a61c",
   "metadata": {},
   "outputs": [],
   "source": [
    "data_folder = \"../../data/db_dump_20221028/\""
   ]
  },
  {
   "cell_type": "code",
   "execution_count": 12,
   "id": "961895e5",
   "metadata": {},
   "outputs": [
    {
     "data": {
      "text/html": [
       "<div>\n",
       "<style scoped>\n",
       "    .dataframe tbody tr th:only-of-type {\n",
       "        vertical-align: middle;\n",
       "    }\n",
       "\n",
       "    .dataframe tbody tr th {\n",
       "        vertical-align: top;\n",
       "    }\n",
       "\n",
       "    .dataframe thead th {\n",
       "        text-align: right;\n",
       "    }\n",
       "</style>\n",
       "<table border=\"1\" class=\"dataframe\">\n",
       "  <thead>\n",
       "    <tr style=\"text-align: right;\">\n",
       "      <th></th>\n",
       "      <th>run_accession</th>\n",
       "      <th>finished</th>\n",
       "      <th>sample_accession</th>\n",
       "      <th>scientific_name</th>\n",
       "      <th>study_accession</th>\n",
       "      <th>experiment_accession</th>\n",
       "      <th>first_created</th>\n",
       "      <th>collection_date</th>\n",
       "      <th>instrument_platform</th>\n",
       "      <th>instrument_model</th>\n",
       "      <th>...</th>\n",
       "      <th>percent_duplication</th>\n",
       "      <th>unpaired_reads_examined</th>\n",
       "      <th>read_pairs_examined</th>\n",
       "      <th>secondary_or_supplementary_reads</th>\n",
       "      <th>unmapped_reads</th>\n",
       "      <th>unpaired_read_duplicates</th>\n",
       "      <th>read_pair_duplicates</th>\n",
       "      <th>read_pair_optical_duplicates</th>\n",
       "      <th>covigator_accessor_version</th>\n",
       "      <th>covigator_processor_version</th>\n",
       "    </tr>\n",
       "  </thead>\n",
       "  <tbody>\n",
       "    <tr>\n",
       "      <th>0</th>\n",
       "      <td>SRR12980395</td>\n",
       "      <td>NaN</td>\n",
       "      <td>SAMN16662808</td>\n",
       "      <td>Severe acute respiratory syndrome coronavirus 2</td>\n",
       "      <td>PRJNA631061</td>\n",
       "      <td>SRX9432021</td>\n",
       "      <td>2020-11-05</td>\n",
       "      <td>2020-03-17</td>\n",
       "      <td>ILLUMINA</td>\n",
       "      <td>Illumina MiSeq</td>\n",
       "      <td>...</td>\n",
       "      <td>NaN</td>\n",
       "      <td>NaN</td>\n",
       "      <td>NaN</td>\n",
       "      <td>NaN</td>\n",
       "      <td>NaN</td>\n",
       "      <td>NaN</td>\n",
       "      <td>NaN</td>\n",
       "      <td>NaN</td>\n",
       "      <td>v1.0.0.dev1</td>\n",
       "      <td>v1.0.0.dev1</td>\n",
       "    </tr>\n",
       "    <tr>\n",
       "      <th>1</th>\n",
       "      <td>SRR16641660</td>\n",
       "      <td>NaN</td>\n",
       "      <td>SAMN22787387</td>\n",
       "      <td>Severe acute respiratory syndrome coronavirus 2</td>\n",
       "      <td>PRJNA776394</td>\n",
       "      <td>SRX12842354</td>\n",
       "      <td>2021-11-01</td>\n",
       "      <td>2020-12-30</td>\n",
       "      <td>ILLUMINA</td>\n",
       "      <td>Illumina iSeq 100</td>\n",
       "      <td>...</td>\n",
       "      <td>NaN</td>\n",
       "      <td>NaN</td>\n",
       "      <td>NaN</td>\n",
       "      <td>NaN</td>\n",
       "      <td>NaN</td>\n",
       "      <td>NaN</td>\n",
       "      <td>NaN</td>\n",
       "      <td>NaN</td>\n",
       "      <td>v1.0.0.dev1</td>\n",
       "      <td>v1.0.0.dev1</td>\n",
       "    </tr>\n",
       "    <tr>\n",
       "      <th>2</th>\n",
       "      <td>SRR17817451</td>\n",
       "      <td>NaN</td>\n",
       "      <td>SAMN25378633</td>\n",
       "      <td>Severe acute respiratory syndrome coronavirus 2</td>\n",
       "      <td>PRJNA754449</td>\n",
       "      <td>SRX13979433</td>\n",
       "      <td>2022-01-30</td>\n",
       "      <td>2020-11-02</td>\n",
       "      <td>ILLUMINA</td>\n",
       "      <td>Illumina MiSeq</td>\n",
       "      <td>...</td>\n",
       "      <td>NaN</td>\n",
       "      <td>NaN</td>\n",
       "      <td>NaN</td>\n",
       "      <td>NaN</td>\n",
       "      <td>NaN</td>\n",
       "      <td>NaN</td>\n",
       "      <td>NaN</td>\n",
       "      <td>NaN</td>\n",
       "      <td>v1.0.0.dev1</td>\n",
       "      <td>v1.0.0.dev1</td>\n",
       "    </tr>\n",
       "    <tr>\n",
       "      <th>3</th>\n",
       "      <td>SRR13009456</td>\n",
       "      <td>NaN</td>\n",
       "      <td>SAMN16707359</td>\n",
       "      <td>Severe acute respiratory syndrome coronavirus 2</td>\n",
       "      <td>PRJNA662193</td>\n",
       "      <td>SRX9460840</td>\n",
       "      <td>2020-11-10</td>\n",
       "      <td>2020-08-02</td>\n",
       "      <td>ILLUMINA</td>\n",
       "      <td>Illumina NovaSeq 6000</td>\n",
       "      <td>...</td>\n",
       "      <td>NaN</td>\n",
       "      <td>NaN</td>\n",
       "      <td>NaN</td>\n",
       "      <td>NaN</td>\n",
       "      <td>NaN</td>\n",
       "      <td>NaN</td>\n",
       "      <td>NaN</td>\n",
       "      <td>NaN</td>\n",
       "      <td>v1.0.0.dev1</td>\n",
       "      <td>v1.0.0.dev1</td>\n",
       "    </tr>\n",
       "    <tr>\n",
       "      <th>4</th>\n",
       "      <td>ERR8955642</td>\n",
       "      <td>NaN</td>\n",
       "      <td>SAMEA10200158</td>\n",
       "      <td>Severe acute respiratory syndrome coronavirus 2</td>\n",
       "      <td>PRJEB43828</td>\n",
       "      <td>ERX8501012</td>\n",
       "      <td>2022-02-25</td>\n",
       "      <td>2021-09-08</td>\n",
       "      <td>ILLUMINA</td>\n",
       "      <td>Illumina NovaSeq 6000</td>\n",
       "      <td>...</td>\n",
       "      <td>NaN</td>\n",
       "      <td>NaN</td>\n",
       "      <td>NaN</td>\n",
       "      <td>NaN</td>\n",
       "      <td>NaN</td>\n",
       "      <td>NaN</td>\n",
       "      <td>NaN</td>\n",
       "      <td>NaN</td>\n",
       "      <td>v1.0.0.dev1</td>\n",
       "      <td>v1.0.0.dev1</td>\n",
       "    </tr>\n",
       "  </tbody>\n",
       "</table>\n",
       "<p>5 rows × 100 columns</p>\n",
       "</div>"
      ],
      "text/plain": [
       "  run_accession  finished sample_accession  \\\n",
       "0   SRR12980395       NaN     SAMN16662808   \n",
       "1   SRR16641660       NaN     SAMN22787387   \n",
       "2   SRR17817451       NaN     SAMN25378633   \n",
       "3   SRR13009456       NaN     SAMN16707359   \n",
       "4    ERR8955642       NaN    SAMEA10200158   \n",
       "\n",
       "                                   scientific_name study_accession  \\\n",
       "0  Severe acute respiratory syndrome coronavirus 2     PRJNA631061   \n",
       "1  Severe acute respiratory syndrome coronavirus 2     PRJNA776394   \n",
       "2  Severe acute respiratory syndrome coronavirus 2     PRJNA754449   \n",
       "3  Severe acute respiratory syndrome coronavirus 2     PRJNA662193   \n",
       "4  Severe acute respiratory syndrome coronavirus 2      PRJEB43828   \n",
       "\n",
       "  experiment_accession first_created collection_date instrument_platform  \\\n",
       "0           SRX9432021    2020-11-05      2020-03-17            ILLUMINA   \n",
       "1          SRX12842354    2021-11-01      2020-12-30            ILLUMINA   \n",
       "2          SRX13979433    2022-01-30      2020-11-02            ILLUMINA   \n",
       "3           SRX9460840    2020-11-10      2020-08-02            ILLUMINA   \n",
       "4           ERX8501012    2022-02-25      2021-09-08            ILLUMINA   \n",
       "\n",
       "        instrument_model  ... percent_duplication  unpaired_reads_examined  \\\n",
       "0         Illumina MiSeq  ...                 NaN                      NaN   \n",
       "1      Illumina iSeq 100  ...                 NaN                      NaN   \n",
       "2         Illumina MiSeq  ...                 NaN                      NaN   \n",
       "3  Illumina NovaSeq 6000  ...                 NaN                      NaN   \n",
       "4  Illumina NovaSeq 6000  ...                 NaN                      NaN   \n",
       "\n",
       "  read_pairs_examined secondary_or_supplementary_reads unmapped_reads  \\\n",
       "0                 NaN                              NaN            NaN   \n",
       "1                 NaN                              NaN            NaN   \n",
       "2                 NaN                              NaN            NaN   \n",
       "3                 NaN                              NaN            NaN   \n",
       "4                 NaN                              NaN            NaN   \n",
       "\n",
       "  unpaired_read_duplicates  read_pair_duplicates  \\\n",
       "0                      NaN                   NaN   \n",
       "1                      NaN                   NaN   \n",
       "2                      NaN                   NaN   \n",
       "3                      NaN                   NaN   \n",
       "4                      NaN                   NaN   \n",
       "\n",
       "   read_pair_optical_duplicates  covigator_accessor_version  \\\n",
       "0                           NaN                 v1.0.0.dev1   \n",
       "1                           NaN                 v1.0.0.dev1   \n",
       "2                           NaN                 v1.0.0.dev1   \n",
       "3                           NaN                 v1.0.0.dev1   \n",
       "4                           NaN                 v1.0.0.dev1   \n",
       "\n",
       "   covigator_processor_version  \n",
       "0                  v1.0.0.dev1  \n",
       "1                  v1.0.0.dev1  \n",
       "2                  v1.0.0.dev1  \n",
       "3                  v1.0.0.dev1  \n",
       "4                  v1.0.0.dev1  \n",
       "\n",
       "[5 rows x 100 columns]"
      ]
     },
     "execution_count": 12,
     "metadata": {},
     "output_type": "execute_result"
    }
   ],
   "source": [
    "samples = pd.read_csv(os.path.join(data_folder, 'sample_ena.csv.gz'), compression='infer')\n",
    "samples.head()"
   ]
  },
  {
   "cell_type": "code",
   "execution_count": 13,
   "id": "4501083c",
   "metadata": {},
   "outputs": [
    {
     "data": {
      "text/plain": [
       "Index(['run_accession', 'finished', 'sample_accession', 'scientific_name',\n",
       "       'study_accession', 'experiment_accession', 'first_created',\n",
       "       'collection_date', 'instrument_platform', 'instrument_model',\n",
       "       'library_name', 'nominal_length', 'library_layout', 'library_strategy',\n",
       "       'library_source', 'library_selection', 'read_count', 'base_count',\n",
       "       'sample_collection', 'sequencing_method', 'center_name', 'fastq_ftp',\n",
       "       'fastq_md5', 'num_fastqs', 'host_tax_id', 'host_sex', 'host_body_site',\n",
       "       'host_gravidity', 'host_phenotype', 'host_genotype', 'lat', 'lon',\n",
       "       'country_raw', 'country', 'country_alpha_2', 'country_alpha_3',\n",
       "       'continent', 'continent_alpha_2', 'count_snvs', 'count_insertions',\n",
       "       'count_deletions', 'count_subclonal_snvs', 'count_subclonal_insertions',\n",
       "       'count_subclonal_deletions', 'count_low_frequency_snvs',\n",
       "       'count_low_frequency_insertions', 'count_low_frequency_deletions',\n",
       "       'status', 'created_at', 'queued_at', 'downloaded_at', 'analysed_at',\n",
       "       'cleaned_at', 'loaded_at', 'cooccurrence_at', 'failed_at',\n",
       "       'error_message', 'sample_folder', 'fastq_path', 'lofreq_vcf_path',\n",
       "       'ivar_vcf_path', 'gatk_vcf_path', 'bcftools_vcf_path',\n",
       "       'lofreq_pangolin_path', 'ivar_pangolin_path', 'gatk_pangolin_path',\n",
       "       'bcftools_pangolin_path', 'fastp_path', 'deduplication_metrics_path',\n",
       "       'horizontal_coverage_path', 'vertical_coverage_path', 'num_reads',\n",
       "       'covered_bases', 'coverage', 'mean_depth', 'mean_base_quality',\n",
       "       'mean_mapping_quality', 'pangolin_lineage', 'pangolin_conflict',\n",
       "       'pangolin_ambiguity_score', 'pangolin_scorpio_call',\n",
       "       'pangolin_scorpio_support', 'pangolin_scorpio_conflict',\n",
       "       'pangolin_version', 'pangolin_pangolin_version',\n",
       "       'pangolin_scorpio_version', 'pangolin_constellation_version',\n",
       "       'pangolin_qc_status', 'pangolin_qc_notes', 'pangolin_note',\n",
       "       'percent_duplication', 'unpaired_reads_examined', 'read_pairs_examined',\n",
       "       'secondary_or_supplementary_reads', 'unmapped_reads',\n",
       "       'unpaired_read_duplicates', 'read_pair_duplicates',\n",
       "       'read_pair_optical_duplicates', 'covigator_accessor_version',\n",
       "       'covigator_processor_version'],\n",
       "      dtype='object')"
      ]
     },
     "execution_count": 13,
     "metadata": {},
     "output_type": "execute_result"
    }
   ],
   "source": [
    "samples.columns"
   ]
  },
  {
   "cell_type": "code",
   "execution_count": 14,
   "id": "0439f2c8",
   "metadata": {},
   "outputs": [
    {
     "data": {
      "text/plain": [
       "(130941, 100)"
      ]
     },
     "execution_count": 14,
     "metadata": {},
     "output_type": "execute_result"
    }
   ],
   "source": [
    "# filter out unfinished samples\n",
    "samples = samples[samples.status == 'FINISHED']\n",
    "samples.shape"
   ]
  },
  {
   "cell_type": "code",
   "execution_count": 15,
   "id": "63ab780d",
   "metadata": {},
   "outputs": [],
   "source": [
    "num_samples = samples.shape[0]"
   ]
  },
  {
   "cell_type": "code",
   "execution_count": 16,
   "id": "ae37576d",
   "metadata": {},
   "outputs": [
    {
     "data": {
      "text/html": [
       "<div>\n",
       "<style scoped>\n",
       "    .dataframe tbody tr th:only-of-type {\n",
       "        vertical-align: middle;\n",
       "    }\n",
       "\n",
       "    .dataframe tbody tr th {\n",
       "        vertical-align: top;\n",
       "    }\n",
       "\n",
       "    .dataframe thead th {\n",
       "        text-align: right;\n",
       "    }\n",
       "</style>\n",
       "<table border=\"1\" class=\"dataframe\">\n",
       "  <thead>\n",
       "    <tr style=\"text-align: right;\">\n",
       "      <th></th>\n",
       "      <th>sample</th>\n",
       "      <th>variant_id</th>\n",
       "      <th>chromosome</th>\n",
       "      <th>position</th>\n",
       "      <th>reference</th>\n",
       "      <th>alternate</th>\n",
       "      <th>quality</th>\n",
       "      <th>filter</th>\n",
       "      <th>dp</th>\n",
       "      <th>ac</th>\n",
       "      <th>...</th>\n",
       "      <th>variant_type</th>\n",
       "      <th>length</th>\n",
       "      <th>reference_amino_acid</th>\n",
       "      <th>alternate_amino_acid</th>\n",
       "      <th>position_amino_acid</th>\n",
       "      <th>cons_hmm_sars_cov_2</th>\n",
       "      <th>cons_hmm_sarbecovirus</th>\n",
       "      <th>cons_hmm_vertebrate_cov</th>\n",
       "      <th>pfam_name</th>\n",
       "      <th>pfam_description</th>\n",
       "    </tr>\n",
       "  </thead>\n",
       "  <tbody>\n",
       "    <tr>\n",
       "      <th>0</th>\n",
       "      <td>ERR10161098</td>\n",
       "      <td>241:C&gt;T</td>\n",
       "      <td>MN908947.3</td>\n",
       "      <td>241</td>\n",
       "      <td>C</td>\n",
       "      <td>T</td>\n",
       "      <td>157</td>\n",
       "      <td>SUBCLONAL</td>\n",
       "      <td>10</td>\n",
       "      <td>5</td>\n",
       "      <td>...</td>\n",
       "      <td>SNV</td>\n",
       "      <td>0</td>\n",
       "      <td>NaN</td>\n",
       "      <td>NaN</td>\n",
       "      <td>NaN</td>\n",
       "      <td>-1.25436</td>\n",
       "      <td>-1.25436</td>\n",
       "      <td>0.00000</td>\n",
       "      <td>NaN</td>\n",
       "      <td>NaN</td>\n",
       "    </tr>\n",
       "    <tr>\n",
       "      <th>1</th>\n",
       "      <td>ERR10161098</td>\n",
       "      <td>670:T&gt;G</td>\n",
       "      <td>MN908947.3</td>\n",
       "      <td>670</td>\n",
       "      <td>T</td>\n",
       "      <td>G</td>\n",
       "      <td>160</td>\n",
       "      <td>SUBCLONAL</td>\n",
       "      <td>10</td>\n",
       "      <td>5</td>\n",
       "      <td>...</td>\n",
       "      <td>SNV</td>\n",
       "      <td>0</td>\n",
       "      <td>S</td>\n",
       "      <td>R</td>\n",
       "      <td>135.0</td>\n",
       "      <td>-0.72927</td>\n",
       "      <td>0.00000</td>\n",
       "      <td>-0.72927</td>\n",
       "      <td>bCoV_NSP1</td>\n",
       "      <td>Non-structural protein NSP1, betacoronavirus</td>\n",
       "    </tr>\n",
       "    <tr>\n",
       "      <th>2</th>\n",
       "      <td>ERR10161098</td>\n",
       "      <td>2470:C&gt;T</td>\n",
       "      <td>MN908947.3</td>\n",
       "      <td>2470</td>\n",
       "      <td>C</td>\n",
       "      <td>T</td>\n",
       "      <td>52</td>\n",
       "      <td>SUBCLONAL</td>\n",
       "      <td>17</td>\n",
       "      <td>2</td>\n",
       "      <td>...</td>\n",
       "      <td>SNV</td>\n",
       "      <td>0</td>\n",
       "      <td>NaN</td>\n",
       "      <td>NaN</td>\n",
       "      <td>NaN</td>\n",
       "      <td>-1.04511</td>\n",
       "      <td>-1.04511</td>\n",
       "      <td>0.00000</td>\n",
       "      <td>CoV_NSP2_C</td>\n",
       "      <td>Coronavirus replicase NSP2, C-terminal</td>\n",
       "    </tr>\n",
       "    <tr>\n",
       "      <th>3</th>\n",
       "      <td>ERR10161098</td>\n",
       "      <td>7512:A&gt;AT</td>\n",
       "      <td>MN908947.3</td>\n",
       "      <td>7512</td>\n",
       "      <td>A</td>\n",
       "      <td>AT</td>\n",
       "      <td>63</td>\n",
       "      <td>SUBCLONAL</td>\n",
       "      <td>20</td>\n",
       "      <td>2</td>\n",
       "      <td>...</td>\n",
       "      <td>INSERTION</td>\n",
       "      <td>1</td>\n",
       "      <td>NaN</td>\n",
       "      <td>NaN</td>\n",
       "      <td>NaN</td>\n",
       "      <td>0.57215</td>\n",
       "      <td>0.57215</td>\n",
       "      <td>0.00000</td>\n",
       "      <td>CoV_NSP3_C</td>\n",
       "      <td>Coronavirus replicase NSP3, C-terminal</td>\n",
       "    </tr>\n",
       "    <tr>\n",
       "      <th>4</th>\n",
       "      <td>ERR10161098</td>\n",
       "      <td>10447:G&gt;A</td>\n",
       "      <td>MN908947.3</td>\n",
       "      <td>10447</td>\n",
       "      <td>G</td>\n",
       "      <td>A</td>\n",
       "      <td>264</td>\n",
       "      <td>SUBCLONAL</td>\n",
       "      <td>13</td>\n",
       "      <td>8</td>\n",
       "      <td>...</td>\n",
       "      <td>SNV</td>\n",
       "      <td>0</td>\n",
       "      <td>NaN</td>\n",
       "      <td>NaN</td>\n",
       "      <td>NaN</td>\n",
       "      <td>-1.04511</td>\n",
       "      <td>-1.04511</td>\n",
       "      <td>-0.72839</td>\n",
       "      <td>Peptidase_C30</td>\n",
       "      <td>Peptidase C30, coronavirus</td>\n",
       "    </tr>\n",
       "  </tbody>\n",
       "</table>\n",
       "<p>5 rows × 34 columns</p>\n",
       "</div>"
      ],
      "text/plain": [
       "        sample variant_id  chromosome  position reference alternate  quality  \\\n",
       "0  ERR10161098    241:C>T  MN908947.3       241         C         T      157   \n",
       "1  ERR10161098    670:T>G  MN908947.3       670         T         G      160   \n",
       "2  ERR10161098   2470:C>T  MN908947.3      2470         C         T       52   \n",
       "3  ERR10161098  7512:A>AT  MN908947.3      7512         A        AT       63   \n",
       "4  ERR10161098  10447:G>A  MN908947.3     10447         G         A      264   \n",
       "\n",
       "      filter  dp  ac  ...  variant_type  length  reference_amino_acid  \\\n",
       "0  SUBCLONAL  10   5  ...           SNV       0                   NaN   \n",
       "1  SUBCLONAL  10   5  ...           SNV       0                     S   \n",
       "2  SUBCLONAL  17   2  ...           SNV       0                   NaN   \n",
       "3  SUBCLONAL  20   2  ...     INSERTION       1                   NaN   \n",
       "4  SUBCLONAL  13   8  ...           SNV       0                   NaN   \n",
       "\n",
       "   alternate_amino_acid  position_amino_acid  cons_hmm_sars_cov_2  \\\n",
       "0                   NaN                  NaN             -1.25436   \n",
       "1                     R                135.0             -0.72927   \n",
       "2                   NaN                  NaN             -1.04511   \n",
       "3                   NaN                  NaN              0.57215   \n",
       "4                   NaN                  NaN             -1.04511   \n",
       "\n",
       "  cons_hmm_sarbecovirus cons_hmm_vertebrate_cov      pfam_name  \\\n",
       "0              -1.25436                 0.00000            NaN   \n",
       "1               0.00000                -0.72927      bCoV_NSP1   \n",
       "2              -1.04511                 0.00000     CoV_NSP2_C   \n",
       "3               0.57215                 0.00000     CoV_NSP3_C   \n",
       "4              -1.04511                -0.72839  Peptidase_C30   \n",
       "\n",
       "                               pfam_description  \n",
       "0                                           NaN  \n",
       "1  Non-structural protein NSP1, betacoronavirus  \n",
       "2        Coronavirus replicase NSP2, C-terminal  \n",
       "3        Coronavirus replicase NSP3, C-terminal  \n",
       "4                    Peptidase C30, coronavirus  \n",
       "\n",
       "[5 rows x 34 columns]"
      ]
     },
     "execution_count": 16,
     "metadata": {},
     "output_type": "execute_result"
    }
   ],
   "source": [
    "subclonal_variants = pd.read_csv(os.path.join(data_folder, 'subclonal_variant_observation.csv.gz'), compression='infer')\n",
    "subclonal_variants.head()"
   ]
  },
  {
   "cell_type": "code",
   "execution_count": 1,
   "id": "2a4721c0",
   "metadata": {},
   "outputs": [
    {
     "ename": "NameError",
     "evalue": "name 'subclonal_variants' is not defined",
     "output_type": "error",
     "traceback": [
      "\u001b[0;31m---------------------------------------------------------------------------\u001b[0m",
      "\u001b[0;31mNameError\u001b[0m                                 Traceback (most recent call last)",
      "\u001b[0;32m/tmp/ipykernel_2539578/4039573564.py\u001b[0m in \u001b[0;36m<module>\u001b[0;34m\u001b[0m\n\u001b[0;32m----> 1\u001b[0;31m \u001b[0msubclonal_variants\u001b[0m\u001b[0;34m.\u001b[0m\u001b[0mshape\u001b[0m\u001b[0;34m\u001b[0m\u001b[0;34m\u001b[0m\u001b[0m\n\u001b[0m",
      "\u001b[0;31mNameError\u001b[0m: name 'subclonal_variants' is not defined"
     ]
    }
   ],
   "source": [
    "subclonal_variants.shape"
   ]
  },
  {
   "cell_type": "code",
   "execution_count": null,
   "id": "e4340f3a",
   "metadata": {},
   "outputs": [],
   "source": [
    "low_frequency_variants = pd.read_csv(os.path.join(data_folder, 'low_frequency_variant_observation.csv.gz'), compression='infer')\n",
    "low_frequency_variants.head()"
   ]
  },
  {
   "cell_type": "code",
   "execution_count": null,
   "id": "83450859",
   "metadata": {},
   "outputs": [],
   "source": [
    "low_frequency_variants.shape"
   ]
  },
  {
   "cell_type": "code",
   "execution_count": null,
   "id": "ac7682c5",
   "metadata": {},
   "outputs": [],
   "source": [
    "variants = pd.concat([low_frequency_variants, subclonal_variants])"
   ]
  },
  {
   "cell_type": "code",
   "execution_count": null,
   "id": "cd9ca75c",
   "metadata": {},
   "outputs": [],
   "source": [
    "variants.columns"
   ]
  },
  {
   "cell_type": "code",
   "execution_count": null,
   "id": "60201c22",
   "metadata": {},
   "outputs": [],
   "source": [
    "variants = annotate_variants(variants=variants, annotations=genes_df)"
   ]
  },
  {
   "cell_type": "code",
   "execution_count": null,
   "id": "9d2186e2",
   "metadata": {},
   "outputs": [],
   "source": [
    "variants = annotate_variants(variants=variants, annotations=domains_df)"
   ]
  },
  {
   "cell_type": "markdown",
   "id": "e34bf0b2",
   "metadata": {},
   "source": [
    "## Evaluate dataset"
   ]
  },
  {
   "cell_type": "code",
   "execution_count": 66,
   "id": "b891a2c8",
   "metadata": {},
   "outputs": [],
   "source": [
    "def calculate_dist(samples, variants):\n",
    "    # we take into account samples here to make sure the median includes samples with 0 intrahost\n",
    "    count_per_sample = pd.merge(variants[['sample', 'variant_id']].groupby('sample').count().reset_index(), samples.run_accession, left_on='sample', right_on='run_accession', how='outer').fillna(0).variant_id\n",
    "    return count_per_sample.median(), count_per_sample.quantile(0.25), count_per_sample.quantile(0.75)\n",
    "\n",
    "\n",
    "def calculate_inframe_fs_ratio(variants):\n",
    "    return variants[variants.annotation_highest_impact.isin(['conservative_inframe_deletion', 'disruptive_inframe_deletion', 'conservative_inframe_insertion', 'disruptive_inframe_insertion'])].shape[0] / \\\n",
    "          variants[variants.annotation_highest_impact == 'frameshift_variant'].shape[0]\n",
    "\n",
    "    \n",
    "def calculate_ns_s_ratio(variants):\n",
    "    return variants[variants.annotation_highest_impact.isin(['missense_variant', 'stop_lost', 'stop_gained', 'start_lost'])].shape[0] / variants[variants.annotation_highest_impact == 'synonymous_variant'].shape[0]\n",
    "\n"
   ]
  },
  {
   "cell_type": "code",
   "execution_count": 61,
   "id": "83b7a14c",
   "metadata": {},
   "outputs": [
    {
     "data": {
      "text/plain": [
       "array(['frameshift_variant', 'conservative_inframe_deletion',\n",
       "       'missense_variant', 'conservative_inframe_insertion',\n",
       "       'synonymous_variant', 'stop_gained', 'disruptive_inframe_deletion',\n",
       "       'disruptive_inframe_insertion', 'start_lost', 'stop_lost',\n",
       "       'gene_fusion'], dtype=object)"
      ]
     },
     "execution_count": 61,
     "metadata": {},
     "output_type": "execute_result"
    }
   ],
   "source": [
    "variants.annotation_highest_impact.unique()"
   ]
  },
  {
   "cell_type": "code",
   "execution_count": 71,
   "id": "12675a76",
   "metadata": {},
   "outputs": [],
   "source": [
    "def evaluate_dataset(samples, variants):\n",
    "    \n",
    "    print(\"Samples: %s\" % samples.shape[0])\n",
    "    \n",
    "    print(\"-----\")\n",
    "    print(\"Intrahost mutations: %s\" % variants.shape[0])\n",
    "    print(\"Intrahost SNVs: %s\" % variants[variants.variant_type == 'SNV'].shape[0])\n",
    "    print(\"Intrahost insertions: %s\" % variants[variants.variant_type == 'INSERTION'].shape[0])\n",
    "    print(\"Intrahost deletions: %s\" % variants[variants.variant_type == 'DELETION'].shape[0])\n",
    "    \n",
    "    print(\"-----\")\n",
    "    print(\"Unique intrahost mutations: %s\" % variants.variant_id.unique().shape[0])\n",
    "    print(\"Unique intrahost SNVs: %s\" % variants[variants.variant_type == 'SNV'].variant_id.unique().shape[0])\n",
    "    print(\"Unique intrahost insertions: %s\" % variants[variants.variant_type == 'INSERTION'].variant_id.unique().shape[0])\n",
    "    print(\"Unique intrahost deletions: %s\" % variants[variants.variant_type == 'DELETION'].variant_id.unique().shape[0])\n",
    "    \n",
    "    print(\"-----\")\n",
    "    median, lower_quartile, upper_quartile = calculate_dist(variants=variants, samples=samples)\n",
    "    print(\"Distribution intrahost mutations per sample (median [lower quartile, upper quartile]): %s [%s, %s]\" % (median, lower_quartile, upper_quartile))\n",
    "    median, lower_quartile, upper_quartile = calculate_dist(variants=variants[variants.variant_type == 'SNV'], samples=samples)\n",
    "    print(\"Distribution intrahost SNVs per sample (median [lower quartile, upper quartile]): %s [%s, %s]\" % (median, lower_quartile, upper_quartile))\n",
    "    median, lower_quartile, upper_quartile = calculate_dist(variants=variants[variants.variant_type == 'INSERTION'], samples=samples)\n",
    "    print(\"Distribution intrahost insertions per sample (median [lower quartile, upper quartile]): %s [%s, %s]\" % (median, lower_quartile, upper_quartile))\n",
    "    median, lower_quartile, upper_quartile = calculate_dist(variants=variants[variants.variant_type == 'DELETION'], samples=samples)\n",
    "    print(\"Distribution intrahost deletions per sample (median [lower quartile, upper quartile]): %s [%s, %s]\" % (median, lower_quartile, upper_quartile))\n",
    "    \n",
    "    print(\"-----\")\n",
    "    print(\"Median VAF: %s\" % variants.vaf.median())\n",
    "    print(\"Median AC: %s\" % variants.ac.median())\n",
    "    print(\"Median DP: %s\" % variants.dp.median())\n",
    "    \n",
    "    \n",
    "    print(\"-----\")\n",
    "    print(\"Ratio of NS/S: %s\" % (round(calculate_ns_s_ratio(variants), 3)))\n",
    "    print(\"Ratio of in-frame/frameshift: %s\" % (round(calculate_inframe_fs_ratio(variants), 3)))\n",
    "    print(\"Stop loss: %s\" % variants[variants.annotation_highest_impact == 'stop_lost'].shape[0])\n",
    "    print(\"Stop gained: %s\" % variants[variants.annotation_highest_impact == 'stop_gained'].shape[0])\n",
    "    print(\"Start loss: %s\" % variants[variants.annotation_highest_impact == 'start_lost'].shape[0])\n",
    "    \n",
    "    print(\"-----\")\n",
    "    print(\"Variant calling quality: %s\" % variants.quality.median())\n",
    "    print(\"SNVs: %s\" % variants[variants.variant_type == 'SNV'].quality.median())\n",
    "    print(\"Insertion: %s\" % variants[variants.variant_type == 'INSERTION'].quality.median())\n",
    "    print(\"Deletion: %s\" % variants[variants.variant_type == 'DELETION'].quality.median())\n",
    "    \n",
    "    print(\"-----\")\n",
    "    print(\"Entropy genomic positions: %s\" % variants.position.transform(lambda p: p * np.log(p)).sum())\n",
    "    print(\"SNVs: %s\" % variants[variants.variant_type == 'SNV'].position.transform(lambda p: p * np.log(p)).sum())\n",
    "    print(\"Insertions: %s\" % variants[variants.variant_type == 'INSERTION'].position.transform(lambda p: p * np.log(p)).sum())\n",
    "    print(\"Deletions: %s\" % variants[variants.variant_type == 'DELETION'].position.transform(lambda p: p * np.log(p)).sum())"
   ]
  },
  {
   "cell_type": "code",
   "execution_count": 68,
   "id": "0cbe4f65",
   "metadata": {},
   "outputs": [
    {
     "name": "stdout",
     "output_type": "stream",
     "text": [
      "Samples: 130941\n",
      "-----\n",
      "Intrahost mutations: 16299588\n",
      "Intrahost SNVs: 7289141\n",
      "Intrahost insertions: 3735469\n",
      "Intrahost deletions: 5274978\n",
      "-----\n",
      "Unique intrahost mutations: 60811\n",
      "Unique intrahost SNVs: 23561\n",
      "Unique intrahost insertions: 14344\n",
      "Unique intrahost deletions: 22906\n",
      "-----\n",
      "Distribution intrahost mutations per sample (median [lower quartile, upper quartile]): 82.0 [39.0, 148.0]\n",
      "Distribution intrahost SNVs per sample (median [lower quartile, upper quartile]): 24.0 [10.0, 60.0]\n",
      "Distribution intrahost insertions per sample (median [lower quartile, upper quartile]): 11.0 [4.0, 37.0]\n",
      "Distribution intrahost deletions per sample (median [lower quartile, upper quartile]): 27.0 [11.0, 52.0]\n",
      "-----\n",
      "Median VAF: 0.005900870077311993\n",
      "Median AC: 8.0\n",
      "Median DP: 1652.0\n",
      "-----\n",
      "Ratio of NS/S: 2.514\n",
      "Ratio of in-frame/frameshift: 0.098\n",
      "Stop loss: 773\n",
      "Stop gained: 293707\n",
      "Start loss: 5386\n",
      "-----\n",
      "Variant calling quality: 94.0\n",
      "SNVs: 114.0\n",
      "Insertion: 83.0\n",
      "Deletion: 78.0\n",
      "-----\n",
      "Entropy genomic positions: 872687601852.3394\n",
      "SNVs: 393188991108.59576\n",
      "Insertions: 223276762352.8979\n",
      "Deletions: 256221848390.8473\n"
     ]
    }
   ],
   "source": [
    "evaluate_dataset(samples=samples, variants=variants)"
   ]
  },
  {
   "cell_type": "code",
   "execution_count": 69,
   "id": "903208f9",
   "metadata": {},
   "outputs": [
    {
     "name": "stdout",
     "output_type": "stream",
     "text": [
      "Samples: 130941\n",
      "-----\n",
      "Intrahost mutations: 2464922\n",
      "Intrahost SNVs: 1556312\n",
      "Intrahost insertions: 636643\n",
      "Intrahost deletions: 271967\n",
      "-----\n",
      "Unique intrahost mutations: 126892\n",
      "Unique intrahost SNVs: 78263\n",
      "Unique intrahost insertions: 15872\n",
      "Unique intrahost deletions: 32757\n",
      "-----\n",
      "Distribution intrahost mutations per sample (median [lower quartile, upper quartile]): 5.0 [2.0, 10.0]\n",
      "Distribution intrahost SNVs per sample (median [lower quartile, upper quartile]): 3.0 [1.0, 7.0]\n",
      "Distribution intrahost insertions per sample (median [lower quartile, upper quartile]): 0.0 [0.0, 1.0]\n",
      "Distribution intrahost deletions per sample (median [lower quartile, upper quartile]): 1.0 [0.0, 3.0]\n",
      "-----\n",
      "Median VAF: 0.14285700023174286\n",
      "Median AC: 2.0\n",
      "Median DP: 21.0\n",
      "-----\n",
      "Ratio of NS/S: 2.503\n",
      "Ratio of in-frame/frameshift: 0.107\n",
      "Stop loss: 18966\n",
      "Stop gained: 44645\n",
      "Start loss: 1833\n",
      "-----\n",
      "Variant calling quality: 68.0\n",
      "SNVs: 115.0\n",
      "Insertion: 66.0\n",
      "Deletion: 324.0\n",
      "-----\n",
      "Entropy genomic positions: 384382503302.6119\n",
      "SNVs: 244733042580.0238\n",
      "Insertions: 93747186633.45255\n",
      "Deletions: 45902274089.1359\n"
     ]
    }
   ],
   "source": [
    "evaluate_dataset(samples=samples, variants=subclonal_variants)"
   ]
  },
  {
   "cell_type": "code",
   "execution_count": 80,
   "id": "b8c69feb",
   "metadata": {},
   "outputs": [],
   "source": [
    "def evaluate_dataset_by_gene_domain(variants):\n",
    "    \n",
    "    print(\"-----\")\n",
    "    print(\"Ratio of NS/S: %s\" % (round(calculate_ns_s_ratio(variants), 3)))\n",
    "    for g in variants.gene.unique():\n",
    "        print(\"Ratio of NS/S in gene %s: %s\" % (g, round(calculate_ns_s_ratio(variants[variants.gene == g]), 3)))\n",
    "    for d in variants[variants.gene == 'S'].domain.unique():\n",
    "        print(\"Ratio of NS/S in domain %s: %s\" % (d, round(calculate_ns_s_ratio(variants[variants.domain == d]), 3)))\n",
    "    \n",
    "    print(\"-----\")\n",
    "    print(\"Ratio of in-frame/frameshift: %s\" % (round(calculate_inframe_fs_ratio(variants), 3)))\n",
    "    for g in variants.gene.unique():\n",
    "        print(\"Ratio of in-frame/frameshift in gene %s: %s\" % (g, round(calculate_inframe_fs_ratio(variants[variants.gene == g]), 3)))\n",
    "    for d in variants[variants.gene == 'S'].domain.unique():\n",
    "        print(\"Ratio of in-frame/frameshift in domain %s: %s\" % (d, round(calculate_inframe_fs_ratio(variants[variants.domain == d]), 3)))"
   ]
  },
  {
   "cell_type": "code",
   "execution_count": 81,
   "id": "096f7af0",
   "metadata": {},
   "outputs": [
    {
     "name": "stdout",
     "output_type": "stream",
     "text": [
      "-----\n",
      "Ratio of NS/S: 2.514\n",
      "Ratio of NS/S in gene ORF1ab: 2.491\n",
      "Ratio of NS/S in gene S: 2.596\n",
      "Ratio of NS/S in gene M: 4.576\n",
      "Ratio of NS/S in gene ORF8: 3.117\n",
      "Ratio of NS/S in gene N: 2.47\n",
      "Ratio of NS/S in gene ORF3a: 1.853\n",
      "Ratio of NS/S in gene E: 3.509\n",
      "Ratio of NS/S in gene ORF7a: 3.599\n",
      "Ratio of NS/S in gene ORF7b: 2.34\n",
      "Ratio of NS/S in gene ORF6: 1.522\n",
      "Ratio of NS/S in domain bCoV_S1_RBD: 4.682\n",
      "Ratio of NS/S in domain CoV_S2: 3.263\n",
      "Ratio of NS/S in domain CoV_S1_C: 3.501\n",
      "Ratio of NS/S in domain bCoV_S1_N: 1.529\n",
      "-----\n",
      "Ratio of in-frame/frameshift: 0.098\n",
      "Ratio of in-frame/frameshift in gene ORF1ab: 0.099\n",
      "Ratio of in-frame/frameshift in gene S: 0.136\n",
      "Ratio of in-frame/frameshift in gene M: 0.026\n",
      "Ratio of in-frame/frameshift in gene ORF8: 0.007\n",
      "Ratio of in-frame/frameshift in gene N: 0.181\n",
      "Ratio of in-frame/frameshift in gene ORF3a: 0.032\n",
      "Ratio of in-frame/frameshift in gene E: 0.088\n",
      "Ratio of in-frame/frameshift in gene ORF7a: 0.018\n",
      "Ratio of in-frame/frameshift in gene ORF7b: 0.029\n",
      "Ratio of in-frame/frameshift in gene ORF6: 0.025\n",
      "Ratio of in-frame/frameshift in domain bCoV_S1_RBD: 0.288\n",
      "Ratio of in-frame/frameshift in domain CoV_S2: 0.049\n",
      "Ratio of in-frame/frameshift in domain CoV_S1_C: 0.012\n",
      "Ratio of in-frame/frameshift in domain bCoV_S1_N: 0.155\n"
     ]
    }
   ],
   "source": [
    "evaluate_dataset_by_gene_domain(variants)"
   ]
  },
  {
   "cell_type": "markdown",
   "id": "b25e2d11",
   "metadata": {},
   "source": [
    "## Sample filtering"
   ]
  },
  {
   "cell_type": "code",
   "execution_count": 16,
   "id": "dfba5c34",
   "metadata": {},
   "outputs": [
    {
     "data": {
      "text/html": [
       "<div>\n",
       "<style scoped>\n",
       "    .dataframe tbody tr th:only-of-type {\n",
       "        vertical-align: middle;\n",
       "    }\n",
       "\n",
       "    .dataframe tbody tr th {\n",
       "        vertical-align: top;\n",
       "    }\n",
       "\n",
       "    .dataframe thead th {\n",
       "        text-align: right;\n",
       "    }\n",
       "</style>\n",
       "<table border=\"1\" class=\"dataframe\">\n",
       "  <thead>\n",
       "    <tr style=\"text-align: right;\">\n",
       "      <th></th>\n",
       "      <th>run_accession</th>\n",
       "    </tr>\n",
       "    <tr>\n",
       "      <th>library_strategy</th>\n",
       "      <th></th>\n",
       "    </tr>\n",
       "  </thead>\n",
       "  <tbody>\n",
       "    <tr>\n",
       "      <th>Targeted-Capture</th>\n",
       "      <td>12945</td>\n",
       "    </tr>\n",
       "    <tr>\n",
       "      <th>WGA</th>\n",
       "      <td>72176</td>\n",
       "    </tr>\n",
       "    <tr>\n",
       "      <th>WGS</th>\n",
       "      <td>45820</td>\n",
       "    </tr>\n",
       "  </tbody>\n",
       "</table>\n",
       "</div>"
      ],
      "text/plain": [
       "                  run_accession\n",
       "library_strategy               \n",
       "Targeted-Capture          12945\n",
       "WGA                       72176\n",
       "WGS                       45820"
      ]
     },
     "execution_count": 16,
     "metadata": {},
     "output_type": "execute_result"
    }
   ],
   "source": [
    "samples[['library_strategy', 'run_accession']].groupby('library_strategy').count()"
   ]
  },
  {
   "cell_type": "code",
   "execution_count": 17,
   "id": "2ed04863",
   "metadata": {},
   "outputs": [
    {
     "data": {
      "text/plain": [
       "(0, 100)"
      ]
     },
     "execution_count": 17,
     "metadata": {},
     "output_type": "execute_result"
    }
   ],
   "source": [
    "samples[samples['num_reads'].isna()].shape"
   ]
  },
  {
   "cell_type": "markdown",
   "id": "f313dccb",
   "metadata": {},
   "source": [
    "### Filter by number of reads as a proxy for viral load\n",
    "\n",
    "The best proxy for viral load is PCR Ct, but we don't have that information. As an alternative Valesano and Sapoval used the total number of uniquely mapped reads (thresholds of 50,000 and 20,000 reads respectively). Here we will use the total number of reads which will be less conservative."
   ]
  },
  {
   "cell_type": "code",
   "execution_count": 18,
   "id": "dfa1c40a",
   "metadata": {},
   "outputs": [
    {
     "data": {
      "text/html": [
       "<div>\n",
       "<style scoped>\n",
       "    .dataframe tbody tr th:only-of-type {\n",
       "        vertical-align: middle;\n",
       "    }\n",
       "\n",
       "    .dataframe tbody tr th {\n",
       "        vertical-align: top;\n",
       "    }\n",
       "\n",
       "    .dataframe thead th {\n",
       "        text-align: right;\n",
       "    }\n",
       "</style>\n",
       "<table border=\"1\" class=\"dataframe\">\n",
       "  <thead>\n",
       "    <tr style=\"text-align: right;\">\n",
       "      <th></th>\n",
       "      <th>num_reads</th>\n",
       "    </tr>\n",
       "    <tr>\n",
       "      <th>library_strategy</th>\n",
       "      <th></th>\n",
       "    </tr>\n",
       "  </thead>\n",
       "  <tbody>\n",
       "    <tr>\n",
       "      <th>Targeted-Capture</th>\n",
       "      <td>105766.259251</td>\n",
       "    </tr>\n",
       "    <tr>\n",
       "      <th>WGA</th>\n",
       "      <td>524534.631886</td>\n",
       "    </tr>\n",
       "    <tr>\n",
       "      <th>WGS</th>\n",
       "      <td>493458.609057</td>\n",
       "    </tr>\n",
       "  </tbody>\n",
       "</table>\n",
       "</div>"
      ],
      "text/plain": [
       "                      num_reads\n",
       "library_strategy               \n",
       "Targeted-Capture  105766.259251\n",
       "WGA               524534.631886\n",
       "WGS               493458.609057"
      ]
     },
     "execution_count": 18,
     "metadata": {},
     "output_type": "execute_result"
    }
   ],
   "source": [
    "samples[['num_reads', 'library_strategy']].groupby('library_strategy').mean()"
   ]
  },
  {
   "cell_type": "code",
   "execution_count": 19,
   "id": "d8970520",
   "metadata": {},
   "outputs": [
    {
     "data": {
      "image/png": "[encoded data removed]",
      "text/plain": [
       "<Figure size 1080x864 with 1 Axes>"
      ]
     },
     "metadata": {},
     "output_type": "display_data"
    }
   ],
   "source": [
    "filter_num_reads_1 = 50000\n",
    "filter_num_reads_2 = 20000\n",
    "\n",
    "plt.figure(figsize=(15, 12))\n",
    "sns.boxplot(data=samples, x='library_strategy', y='num_reads')\n",
    "plt.yscale('log')\n",
    "plt.xlabel(None)\n",
    "plt.ylabel('log(num reads)')\n",
    "plt.axhline(filter_num_reads_1, c='r', linestyle='--')\n",
    "plt.axhline(filter_num_reads_2, c='r', linestyle='--')\n",
    "plt.suptitle(\"Valesano and Sapoval filtering on total number of reads below {} and {} bp\".format(filter_num_reads_1, filter_num_reads_2))\n",
    "num_filterd_samples_1 = samples[samples.num_reads < filter_num_reads_1].shape[0]\n",
    "num_filterd_samples_2 = samples[samples.num_reads < filter_num_reads_2].shape[0]\n",
    "plt.title(\"Removes {} ({} %) and {} ({} %) samples respectively\".format(num_filterd_samples_1, round(float(num_filterd_samples_1) / num_samples * 100, 2), num_filterd_samples_2, round(float(num_filterd_samples_2) / num_samples * 100, 2)))\n",
    "sns.despine(bottom=True)"
   ]
  },
  {
   "cell_type": "markdown",
   "id": "d62cf224",
   "metadata": {},
   "source": [
    "### Filter by horizontal coverage\n",
    "\n",
    "Valesano applies a filter of a consensus sequence of at least 29,000 bp. Popa applies a a filter on 96 % of genome coverage. Others combine horizontal coverage with mean depth of coverage. Here we apply two filters at 29,000 bp covered."
   ]
  },
  {
   "cell_type": "code",
   "execution_count": 20,
   "id": "18998006",
   "metadata": {},
   "outputs": [
    {
     "data": {
      "text/html": [
       "<div>\n",
       "<style scoped>\n",
       "    .dataframe tbody tr th:only-of-type {\n",
       "        vertical-align: middle;\n",
       "    }\n",
       "\n",
       "    .dataframe tbody tr th {\n",
       "        vertical-align: top;\n",
       "    }\n",
       "\n",
       "    .dataframe thead th {\n",
       "        text-align: right;\n",
       "    }\n",
       "</style>\n",
       "<table border=\"1\" class=\"dataframe\">\n",
       "  <thead>\n",
       "    <tr style=\"text-align: right;\">\n",
       "      <th></th>\n",
       "      <th>covered_bases</th>\n",
       "    </tr>\n",
       "    <tr>\n",
       "      <th>library_strategy</th>\n",
       "      <th></th>\n",
       "    </tr>\n",
       "  </thead>\n",
       "  <tbody>\n",
       "    <tr>\n",
       "      <th>Targeted-Capture</th>\n",
       "      <td>29236.836076</td>\n",
       "    </tr>\n",
       "    <tr>\n",
       "      <th>WGA</th>\n",
       "      <td>29766.462855</td>\n",
       "    </tr>\n",
       "    <tr>\n",
       "      <th>WGS</th>\n",
       "      <td>29516.085378</td>\n",
       "    </tr>\n",
       "  </tbody>\n",
       "</table>\n",
       "</div>"
      ],
      "text/plain": [
       "                  covered_bases\n",
       "library_strategy               \n",
       "Targeted-Capture   29236.836076\n",
       "WGA                29766.462855\n",
       "WGS                29516.085378"
      ]
     },
     "execution_count": 20,
     "metadata": {},
     "output_type": "execute_result"
    }
   ],
   "source": [
    "samples[['covered_bases', 'library_strategy']].groupby('library_strategy').mean()"
   ]
  },
  {
   "cell_type": "code",
   "execution_count": 21,
   "id": "98054902",
   "metadata": {},
   "outputs": [
    {
     "data": {
      "image/png": "[encoded data removed]",
      "text/plain": [
       "<Figure size 1080x864 with 1 Axes>"
      ]
     },
     "metadata": {},
     "output_type": "display_data"
    }
   ],
   "source": [
    "filter_covered_bases_thr = 29000\n",
    "total_length = 29903\n",
    "filter_covered_bases_thr_2 = int(29903 * 0.96)\n",
    "\n",
    "plt.figure(figsize=(15, 12))\n",
    "sns.boxplot(data=samples, x='library_strategy', y='covered_bases')\n",
    "plt.xlabel(None)\n",
    "plt.ylabel('covered bases')\n",
    "plt.axhline(filter_covered_bases_thr, c='r', linestyle='--')\n",
    "plt.axhline(filter_covered_bases_thr_2, c='r', linestyle='--')\n",
    "plt.suptitle(\"Valesano and Popa filtering of consensus sequences below {} and {} bp\".format(filter_covered_bases_thr, filter_covered_bases_thr_2))\n",
    "num_filterd_samples = samples[samples.covered_bases < filter_covered_bases_thr].shape[0]\n",
    "num_filterd_samples_2 = samples[samples.covered_bases < filter_covered_bases_thr_2].shape[0]\n",
    "plt.title(\"Removes {} ({} %) and {} ({} %) samples respectively\".format(num_filterd_samples, round(float(num_filterd_samples) / num_samples * 100, 2), num_filterd_samples_2, round(float(num_filterd_samples_2) / num_samples * 100, 2)))\n",
    "sns.despine(bottom=True)"
   ]
  },
  {
   "cell_type": "code",
   "execution_count": 22,
   "id": "a8065680",
   "metadata": {},
   "outputs": [
    {
     "data": {
      "text/html": [
       "<div>\n",
       "<style scoped>\n",
       "    .dataframe tbody tr th:only-of-type {\n",
       "        vertical-align: middle;\n",
       "    }\n",
       "\n",
       "    .dataframe tbody tr th {\n",
       "        vertical-align: top;\n",
       "    }\n",
       "\n",
       "    .dataframe thead th {\n",
       "        text-align: right;\n",
       "    }\n",
       "</style>\n",
       "<table border=\"1\" class=\"dataframe\">\n",
       "  <thead>\n",
       "    <tr style=\"text-align: right;\">\n",
       "      <th></th>\n",
       "      <th>coverage</th>\n",
       "    </tr>\n",
       "    <tr>\n",
       "      <th>library_strategy</th>\n",
       "      <th></th>\n",
       "    </tr>\n",
       "  </thead>\n",
       "  <tbody>\n",
       "    <tr>\n",
       "      <th>Targeted-Capture</th>\n",
       "      <td>97.772252</td>\n",
       "    </tr>\n",
       "    <tr>\n",
       "      <th>WGA</th>\n",
       "      <td>99.543399</td>\n",
       "    </tr>\n",
       "    <tr>\n",
       "      <th>WGS</th>\n",
       "      <td>98.706100</td>\n",
       "    </tr>\n",
       "  </tbody>\n",
       "</table>\n",
       "</div>"
      ],
      "text/plain": [
       "                   coverage\n",
       "library_strategy           \n",
       "Targeted-Capture  97.772252\n",
       "WGA               99.543399\n",
       "WGS               98.706100"
      ]
     },
     "execution_count": 22,
     "metadata": {},
     "output_type": "execute_result"
    }
   ],
   "source": [
    "samples[['library_strategy', 'coverage']].groupby('library_strategy').mean()"
   ]
  },
  {
   "cell_type": "markdown",
   "id": "dd608104",
   "metadata": {},
   "source": [
    "### Filter by vertical coverage\n",
    "\n",
    "Wang applies a hard filter on 60x mean coverage. Here we compare the impact of multiple thresholds."
   ]
  },
  {
   "cell_type": "code",
   "execution_count": 23,
   "id": "d4750ebd",
   "metadata": {},
   "outputs": [
    {
     "data": {
      "image/png": "[encoded data removed]",
      "text/plain": [
       "<Figure size 1080x864 with 1 Axes>"
      ]
     },
     "metadata": {},
     "output_type": "display_data"
    }
   ],
   "source": [
    "filter_mean_coverage_thr_1 = 100\n",
    "filter_mean_coverage_thr_2 = 60\n",
    "filter_mean_coverage_thr_3 = 40\n",
    "filter_mean_coverage_thr_4 = 20\n",
    "\n",
    "\n",
    "plt.figure(figsize=(15, 12))\n",
    "sns.boxplot(data=samples, x='library_strategy', y='mean_depth')\n",
    "plt.yscale('log')\n",
    "plt.xlabel(None)\n",
    "plt.ylabel('mean depth of coverage')\n",
    "plt.axhline(filter_mean_coverage_thr_1, c='r', linestyle='--')\n",
    "plt.axhline(filter_mean_coverage_thr_2, c='r', linestyle='--')\n",
    "plt.axhline(filter_mean_coverage_thr_3, c='r', linestyle='--')\n",
    "plt.axhline(filter_mean_coverage_thr_4, c='r', linestyle='--')\n",
    "\n",
    "plt.suptitle(\"Filters on mean depth of coverage below 100x, 60x, 40x and 20x\")\n",
    "num_filterd_samples_1 = samples[samples.mean_depth < filter_mean_coverage_thr_1].shape[0]\n",
    "num_filterd_samples_2 = samples[samples.mean_depth < filter_mean_coverage_thr_2].shape[0]\n",
    "num_filterd_samples_3 = samples[samples.mean_depth < filter_mean_coverage_thr_3].shape[0]\n",
    "num_filterd_samples_4 = samples[samples.mean_depth < filter_mean_coverage_thr_4].shape[0]\n",
    "plt.title(\"Removes {} ({} %), {} ({} %), {} ({} %) and {} ({} %) samples respectively\".format(\n",
    "    num_filterd_samples_1, round(float(num_filterd_samples_1) / num_samples * 100, 2), \n",
    "    num_filterd_samples_2, round(float(num_filterd_samples_2) / num_samples * 100, 2), \n",
    "    num_filterd_samples_3, round(float(num_filterd_samples_3) / num_samples * 100, 2), \n",
    "    num_filterd_samples_4, round(float(num_filterd_samples_4) / num_samples * 100, 2)))\n",
    "sns.despine(bottom=True)"
   ]
  },
  {
   "cell_type": "markdown",
   "id": "263c7ba1",
   "metadata": {},
   "source": [
    "### Filter by excess of low frequency variants"
   ]
  },
  {
   "cell_type": "code",
   "execution_count": 24,
   "id": "19a78aea",
   "metadata": {},
   "outputs": [],
   "source": [
    "data = pd.merge(variants, samples[['run_accession', 'library_strategy']], left_on='sample', right_on='run_accession', how='outer')[['library_strategy', 'run_accession', 'variant_id']].groupby(['library_strategy', 'run_accession']).count().reset_index()"
   ]
  },
  {
   "cell_type": "code",
   "execution_count": 25,
   "id": "bbb4ccbf",
   "metadata": {},
   "outputs": [
    {
     "data": {
      "image/png": "[encoded data removed]",
      "text/plain": [
       "<Figure size 1080x864 with 1 Axes>"
      ]
     },
     "metadata": {},
     "output_type": "display_data"
    }
   ],
   "source": [
    "filter_excess_mutations_thr = data.variant_id.quantile(0.99)\n",
    "\n",
    "plt.figure(figsize=(15, 12))\n",
    "sns.boxplot(data=data, x='library_strategy', y='variant_id')\n",
    "plt.yscale('log')\n",
    "plt.xlabel(None)\n",
    "plt.ylabel('log(num variants)')\n",
    "plt.axhline(filter_excess_mutations_thr, c='r', linestyle='--')\n",
    "\n",
    "plt.suptitle(\"Filters samples with an excess of mutations over the 99th percentile\")\n",
    "num_filterd_samples = data[data.variant_id > filter_excess_mutations_thr].shape[0]\n",
    "plt.title(\"Removes {} ({} %) samples\".format(\n",
    "    num_filterd_samples, round(float(num_filterd_samples) / num_samples * 100, 2)))\n",
    "sns.despine(bottom=True)"
   ]
  },
  {
   "cell_type": "markdown",
   "id": "be6c417a",
   "metadata": {},
   "source": [
    "### Identify co-infected samples\n",
    "\n",
    "In (Tonkin-Hall, 2020) they identify samples co-infected by different SARS-CoV-2 lineages using a linear model to identify those samples' mutations better explained by a combination of two SARS-Cov-2 lineages. \n",
    "They aim at filtering out those samples as they contain mutations with iSNV-looking VAFs derived from the co-infection.\n",
    "Here we use the number of mutations per sample with a VAF between 40 % and 80 % as a proxy for co-infection. We filter out those samples with an outlier number of these mid-VAF mutations.\n",
    "\n",
    "Furthermore, most of these samples have low horizontal coverage and read count values."
   ]
  },
  {
   "cell_type": "code",
   "execution_count": 26,
   "id": "55f616fb",
   "metadata": {
    "tags": []
   },
   "outputs": [],
   "source": [
    "count_variants_per_sample = pd.merge(\n",
    "    variants[(variants.vaf > 0.4) & (variants.vaf < 0.6)], \n",
    "    samples[['run_accession', 'library_strategy']], \n",
    "    left_on='sample', right_on='run_accession', how='outer')[['library_strategy', 'run_accession', 'variant_id']]\\\n",
    ".groupby(['library_strategy', 'run_accession']).count().reset_index()"
   ]
  },
  {
   "cell_type": "code",
   "execution_count": 27,
   "id": "0295c8c4",
   "metadata": {},
   "outputs": [
    {
     "data": {
      "text/plain": [
       "0.0"
      ]
     },
     "execution_count": 27,
     "metadata": {},
     "output_type": "execute_result"
    }
   ],
   "source": [
    "count_variants_per_sample.variant_id.median()"
   ]
  },
  {
   "cell_type": "code",
   "execution_count": 28,
   "id": "7175a645",
   "metadata": {},
   "outputs": [
    {
     "data": {
      "text/plain": [
       "10"
      ]
     },
     "execution_count": 28,
     "metadata": {},
     "output_type": "execute_result"
    }
   ],
   "source": [
    "#outlier_thr = count_variants_per_sample.variant_id.median() + (2 * (count_variants_per_sample.variant_id.quantile(0.75) - count_variants_per_sample.variant_id.quantile(0.25)))\n",
    "outlier_thr = 10\n",
    "outlier_thr"
   ]
  },
  {
   "cell_type": "code",
   "execution_count": 29,
   "id": "84305306",
   "metadata": {},
   "outputs": [
    {
     "data": {
      "text/plain": [
       "1050"
      ]
     },
     "execution_count": 29,
     "metadata": {},
     "output_type": "execute_result"
    }
   ],
   "source": [
    "count_variants_per_sample[count_variants_per_sample.variant_id > outlier_thr].shape[0]"
   ]
  },
  {
   "cell_type": "code",
   "execution_count": 30,
   "id": "ac7eca8b",
   "metadata": {},
   "outputs": [
    {
     "data": {
      "image/png": "[encoded data removed]",
      "text/plain": [
       "<Figure size 1080x864 with 1 Axes>"
      ]
     },
     "metadata": {},
     "output_type": "display_data"
    }
   ],
   "source": [
    "plt.figure(figsize=(15, 12))\n",
    "sns.boxplot(data=count_variants_per_sample, x='library_strategy', y='variant_id')\n",
    "plt.yscale('log')\n",
    "plt.xlabel(None)\n",
    "plt.ylabel('log(num variants)')\n",
    "plt.axhline(outlier_thr, c='r', linestyle='--')\n",
    "\n",
    "plt.suptitle(\"Filters samples with an excess of mutations with VAF between 40 % and 60 %\")\n",
    "num_filterd_samples = count_variants_per_sample[count_variants_per_sample.variant_id > outlier_thr].shape[0]\n",
    "plt.title(\"Removes {} ({} %) samples\".format(\n",
    "    num_filterd_samples, round(float(num_filterd_samples) / num_samples * 100, 2)))\n",
    "sns.despine(bottom=True)"
   ]
  },
  {
   "cell_type": "markdown",
   "id": "2d881aad",
   "metadata": {},
   "source": [
    "## Filtering variants"
   ]
  },
  {
   "cell_type": "code",
   "execution_count": 31,
   "id": "3b462cd8",
   "metadata": {},
   "outputs": [
    {
     "name": "stdout",
     "output_type": "stream",
     "text": [
      "Filtered 0 (0.0 %) variants with a depth of coverage threshold of 10x\n",
      "Filtered 1561951 (6.46 %) variants with a depth of coverage threshold of 50x\n",
      "Filtered 1789997 (7.4 %) variants with a depth of coverage threshold of 75x\n",
      "Filtered 2000810 (8.27 %) variants with a depth of coverage threshold of 100x\n",
      "Filtered 3539185 (14.63 %) variants with a depth of coverage threshold of 500x\n"
     ]
    }
   ],
   "source": [
    "total_variants = variants.shape[0]\n",
    "dp_thrs = [10, 50, 75, 100, 500]\n",
    "for thr in dp_thrs:\n",
    "    count_filtered_variants = variants[variants.dp < thr].shape[0]\n",
    "    print(\"Filtered {} ({} %) variants with a depth of coverage threshold of {}x\".format(count_filtered_variants, round(float(count_filtered_variants) / total_variants * 100, 2), thr))"
   ]
  },
  {
   "cell_type": "code",
   "execution_count": 32,
   "id": "d33796f2",
   "metadata": {},
   "outputs": [
    {
     "name": "stdout",
     "output_type": "stream",
     "text": [
      "Filtered 16405145 (67.82 %) variants with a VAF threshold of 0.01\n",
      "Filtered 19600498 (81.03 %) variants with a VAF threshold of 0.02\n",
      "Filtered 21725174 (89.81 %) variants with a VAF threshold of 0.05\n"
     ]
    }
   ],
   "source": [
    "af_thrs = [0.01, 0.02, 0.05]\n",
    "for thr in af_thrs:\n",
    "    count_filtered_variants = variants[variants.vaf < thr].shape[0]\n",
    "    print(\"Filtered {} ({} %) variants with a VAF threshold of {}\".format(count_filtered_variants, round(float(count_filtered_variants) / total_variants * 100, 2), thr))"
   ]
  },
  {
   "cell_type": "code",
   "execution_count": 33,
   "id": "fa062aa8",
   "metadata": {},
   "outputs": [
    {
     "name": "stdout",
     "output_type": "stream",
     "text": [
      "Filtered 5713691 (23.62 %) variants with a number of supporting reads threshold of 5\n",
      "Filtered 13400570 (55.4 %) variants with a number of supporting reads threshold of 10\n"
     ]
    }
   ],
   "source": [
    "ac_thrs = [5, 10]\n",
    "for thr in ac_thrs:\n",
    "    count_filtered_variants = variants[variants.ac < thr].shape[0]\n",
    "    print(\"Filtered {} ({} %) variants with a number of supporting reads threshold of {}\".format(count_filtered_variants, round(float(count_filtered_variants) / total_variants * 100, 2), thr))"
   ]
  },
  {
   "cell_type": "markdown",
   "id": "04b6d44c",
   "metadata": {},
   "source": [
    "### Variants at the extremes of the genome and at homoplasmic positions\n",
    "\n",
    "In (Sapoval, 2021) they filter out mutations at the extreme of the genome. In particular mutations between positions 1 and 55 and 29804 and 29903.\n",
    "They also filter homoplasmic positions previously reported in (De Maio, 2020).\n",
    "\n",
    "The De Maio list is maintained in this repository, we apply the same filtering with the most up to date resource, to find around a 50 % more variants being masked."
   ]
  },
  {
   "cell_type": "code",
   "execution_count": 34,
   "id": "ba2a273d",
   "metadata": {},
   "outputs": [
    {
     "data": {
      "text/html": [
       "<div>\n",
       "<style scoped>\n",
       "    .dataframe tbody tr th:only-of-type {\n",
       "        vertical-align: middle;\n",
       "    }\n",
       "\n",
       "    .dataframe tbody tr th {\n",
       "        vertical-align: top;\n",
       "    }\n",
       "\n",
       "    .dataframe thead th {\n",
       "        text-align: right;\n",
       "    }\n",
       "</style>\n",
       "<table border=\"1\" class=\"dataframe\">\n",
       "  <thead>\n",
       "    <tr style=\"text-align: right;\">\n",
       "      <th></th>\n",
       "      <th>variant_id</th>\n",
       "      <th>sample</th>\n",
       "    </tr>\n",
       "  </thead>\n",
       "  <tbody>\n",
       "    <tr>\n",
       "      <th>75169</th>\n",
       "      <td>5743:G&gt;C</td>\n",
       "      <td>55810</td>\n",
       "    </tr>\n",
       "    <tr>\n",
       "      <th>75172</th>\n",
       "      <td>5744:T&gt;C</td>\n",
       "      <td>54653</td>\n",
       "    </tr>\n",
       "    <tr>\n",
       "      <th>63701</th>\n",
       "      <td>29187:C&gt;T</td>\n",
       "      <td>30155</td>\n",
       "    </tr>\n",
       "    <tr>\n",
       "      <th>63703</th>\n",
       "      <td>29188:A&gt;G</td>\n",
       "      <td>29247</td>\n",
       "    </tr>\n",
       "    <tr>\n",
       "      <th>63210</th>\n",
       "      <td>29039:A&gt;T</td>\n",
       "      <td>29067</td>\n",
       "    </tr>\n",
       "    <tr>\n",
       "      <th>78332</th>\n",
       "      <td>6696:C&gt;T</td>\n",
       "      <td>25551</td>\n",
       "    </tr>\n",
       "    <tr>\n",
       "      <th>60593</th>\n",
       "      <td>28254:A&gt;C</td>\n",
       "      <td>25437</td>\n",
       "    </tr>\n",
       "    <tr>\n",
       "      <th>87657</th>\n",
       "      <td>9502:C&gt;T</td>\n",
       "      <td>25100</td>\n",
       "    </tr>\n",
       "    <tr>\n",
       "      <th>49314</th>\n",
       "      <td>24858:G&gt;A</td>\n",
       "      <td>23970</td>\n",
       "    </tr>\n",
       "    <tr>\n",
       "      <th>24301</th>\n",
       "      <td>1730:G&gt;A</td>\n",
       "      <td>22229</td>\n",
       "    </tr>\n",
       "    <tr>\n",
       "      <th>33173</th>\n",
       "      <td>19983:C&gt;T</td>\n",
       "      <td>18929</td>\n",
       "    </tr>\n",
       "    <tr>\n",
       "      <th>2052</th>\n",
       "      <td>10619:C&gt;A</td>\n",
       "      <td>18806</td>\n",
       "    </tr>\n",
       "    <tr>\n",
       "      <th>5490</th>\n",
       "      <td>11654:T&gt;C</td>\n",
       "      <td>16670</td>\n",
       "    </tr>\n",
       "    <tr>\n",
       "      <th>75239</th>\n",
       "      <td>5765:G&gt;A</td>\n",
       "      <td>16382</td>\n",
       "    </tr>\n",
       "    <tr>\n",
       "      <th>75243</th>\n",
       "      <td>5766:G&gt;C</td>\n",
       "      <td>15950</td>\n",
       "    </tr>\n",
       "    <tr>\n",
       "      <th>39797</th>\n",
       "      <td>21987:G&gt;A</td>\n",
       "      <td>15576</td>\n",
       "    </tr>\n",
       "    <tr>\n",
       "      <th>10719</th>\n",
       "      <td>13225:C&gt;T</td>\n",
       "      <td>15522</td>\n",
       "    </tr>\n",
       "    <tr>\n",
       "      <th>73643</th>\n",
       "      <td>5284:C&gt;T</td>\n",
       "      <td>15219</td>\n",
       "    </tr>\n",
       "    <tr>\n",
       "      <th>55281</th>\n",
       "      <td>26654:G&gt;T</td>\n",
       "      <td>15009</td>\n",
       "    </tr>\n",
       "    <tr>\n",
       "      <th>16482</th>\n",
       "      <td>14960:A&gt;T</td>\n",
       "      <td>14862</td>\n",
       "    </tr>\n",
       "  </tbody>\n",
       "</table>\n",
       "</div>"
      ],
      "text/plain": [
       "      variant_id  sample\n",
       "75169   5743:G>C   55810\n",
       "75172   5744:T>C   54653\n",
       "63701  29187:C>T   30155\n",
       "63703  29188:A>G   29247\n",
       "63210  29039:A>T   29067\n",
       "78332   6696:C>T   25551\n",
       "60593  28254:A>C   25437\n",
       "87657   9502:C>T   25100\n",
       "49314  24858:G>A   23970\n",
       "24301   1730:G>A   22229\n",
       "33173  19983:C>T   18929\n",
       "2052   10619:C>A   18806\n",
       "5490   11654:T>C   16670\n",
       "75239   5765:G>A   16382\n",
       "75243   5766:G>C   15950\n",
       "39797  21987:G>A   15576\n",
       "10719  13225:C>T   15522\n",
       "73643   5284:C>T   15219\n",
       "55281  26654:G>T   15009\n",
       "16482  14960:A>T   14862"
      ]
     },
     "execution_count": 34,
     "metadata": {},
     "output_type": "execute_result"
    }
   ],
   "source": [
    "variants[variants.variant_type == 'SNV'][['sample', 'variant_id']].groupby('variant_id').count().reset_index().sort_values(by='sample', ascending=False).head(20)"
   ]
  },
  {
   "cell_type": "code",
   "execution_count": 35,
   "id": "2ac72556",
   "metadata": {},
   "outputs": [
    {
     "data": {
      "text/html": [
       "<div>\n",
       "<style scoped>\n",
       "    .dataframe tbody tr th:only-of-type {\n",
       "        vertical-align: middle;\n",
       "    }\n",
       "\n",
       "    .dataframe tbody tr th {\n",
       "        vertical-align: top;\n",
       "    }\n",
       "\n",
       "    .dataframe thead th {\n",
       "        text-align: right;\n",
       "    }\n",
       "</style>\n",
       "<table border=\"1\" class=\"dataframe\">\n",
       "  <thead>\n",
       "    <tr style=\"text-align: right;\">\n",
       "      <th></th>\n",
       "      <th>variant_id</th>\n",
       "      <th>sample</th>\n",
       "    </tr>\n",
       "  </thead>\n",
       "  <tbody>\n",
       "    <tr>\n",
       "      <th>50765</th>\n",
       "      <td>6696:C&gt;CT</td>\n",
       "      <td>64167</td>\n",
       "    </tr>\n",
       "    <tr>\n",
       "      <th>41054</th>\n",
       "      <td>29051:C&gt;CA</td>\n",
       "      <td>51394</td>\n",
       "    </tr>\n",
       "    <tr>\n",
       "      <th>38922</th>\n",
       "      <td>28214:C&gt;CT</td>\n",
       "      <td>35987</td>\n",
       "    </tr>\n",
       "    <tr>\n",
       "      <th>13057</th>\n",
       "      <td>15965:G&gt;GT</td>\n",
       "      <td>31248</td>\n",
       "    </tr>\n",
       "    <tr>\n",
       "      <th>35561</th>\n",
       "      <td>26654:G&gt;GT</td>\n",
       "      <td>29937</td>\n",
       "    </tr>\n",
       "    <tr>\n",
       "      <th>4099</th>\n",
       "      <td>11812:C&gt;CA</td>\n",
       "      <td>28223</td>\n",
       "    </tr>\n",
       "    <tr>\n",
       "      <th>24043</th>\n",
       "      <td>21101:G&gt;GT</td>\n",
       "      <td>28109</td>\n",
       "    </tr>\n",
       "    <tr>\n",
       "      <th>2380</th>\n",
       "      <td>11095:C&gt;CT</td>\n",
       "      <td>27349</td>\n",
       "    </tr>\n",
       "    <tr>\n",
       "      <th>1340</th>\n",
       "      <td>10619:C&gt;CA</td>\n",
       "      <td>25645</td>\n",
       "    </tr>\n",
       "    <tr>\n",
       "      <th>839</th>\n",
       "      <td>10386:C&gt;CT</td>\n",
       "      <td>22905</td>\n",
       "    </tr>\n",
       "    <tr>\n",
       "      <th>38745</th>\n",
       "      <td>28134:G&gt;GT</td>\n",
       "      <td>22773</td>\n",
       "    </tr>\n",
       "    <tr>\n",
       "      <th>34816</th>\n",
       "      <td>26257:G&gt;GT</td>\n",
       "      <td>22176</td>\n",
       "    </tr>\n",
       "    <tr>\n",
       "      <th>18304</th>\n",
       "      <td>18368:G&gt;GT</td>\n",
       "      <td>22049</td>\n",
       "    </tr>\n",
       "    <tr>\n",
       "      <th>30855</th>\n",
       "      <td>24358:C&gt;CA</td>\n",
       "      <td>21037</td>\n",
       "    </tr>\n",
       "    <tr>\n",
       "      <th>30582</th>\n",
       "      <td>24223:C&gt;CT</td>\n",
       "      <td>20709</td>\n",
       "    </tr>\n",
       "    <tr>\n",
       "      <th>15305</th>\n",
       "      <td>17019:G&gt;GT</td>\n",
       "      <td>20319</td>\n",
       "    </tr>\n",
       "    <tr>\n",
       "      <th>20276</th>\n",
       "      <td>19231:G&gt;GT</td>\n",
       "      <td>20041</td>\n",
       "    </tr>\n",
       "    <tr>\n",
       "      <th>3035</th>\n",
       "      <td>1135:G&gt;GA</td>\n",
       "      <td>19712</td>\n",
       "    </tr>\n",
       "    <tr>\n",
       "      <th>55257</th>\n",
       "      <td>8927:G&gt;GT</td>\n",
       "      <td>19616</td>\n",
       "    </tr>\n",
       "    <tr>\n",
       "      <th>52337</th>\n",
       "      <td>7504:C&gt;CA</td>\n",
       "      <td>19597</td>\n",
       "    </tr>\n",
       "  </tbody>\n",
       "</table>\n",
       "</div>"
      ],
      "text/plain": [
       "       variant_id  sample\n",
       "50765   6696:C>CT   64167\n",
       "41054  29051:C>CA   51394\n",
       "38922  28214:C>CT   35987\n",
       "13057  15965:G>GT   31248\n",
       "35561  26654:G>GT   29937\n",
       "4099   11812:C>CA   28223\n",
       "24043  21101:G>GT   28109\n",
       "2380   11095:C>CT   27349\n",
       "1340   10619:C>CA   25645\n",
       "839    10386:C>CT   22905\n",
       "38745  28134:G>GT   22773\n",
       "34816  26257:G>GT   22176\n",
       "18304  18368:G>GT   22049\n",
       "30855  24358:C>CA   21037\n",
       "30582  24223:C>CT   20709\n",
       "15305  17019:G>GT   20319\n",
       "20276  19231:G>GT   20041\n",
       "3035    1135:G>GA   19712\n",
       "55257   8927:G>GT   19616\n",
       "52337   7504:C>CA   19597"
      ]
     },
     "execution_count": 35,
     "metadata": {},
     "output_type": "execute_result"
    }
   ],
   "source": [
    "variants[variants.variant_type == 'INSERTION'][['sample', 'variant_id']].groupby('variant_id').count().reset_index().sort_values(by='sample', ascending=False).head(20)"
   ]
  },
  {
   "cell_type": "code",
   "execution_count": 36,
   "id": "ccc30d65",
   "metadata": {},
   "outputs": [
    {
     "data": {
      "text/html": [
       "<div>\n",
       "<style scoped>\n",
       "    .dataframe tbody tr th:only-of-type {\n",
       "        vertical-align: middle;\n",
       "    }\n",
       "\n",
       "    .dataframe tbody tr th {\n",
       "        vertical-align: top;\n",
       "    }\n",
       "\n",
       "    .dataframe thead th {\n",
       "        text-align: right;\n",
       "    }\n",
       "</style>\n",
       "<table border=\"1\" class=\"dataframe\">\n",
       "  <thead>\n",
       "    <tr style=\"text-align: right;\">\n",
       "      <th></th>\n",
       "      <th>variant_id</th>\n",
       "      <th>sample</th>\n",
       "    </tr>\n",
       "  </thead>\n",
       "  <tbody>\n",
       "    <tr>\n",
       "      <th>75401</th>\n",
       "      <td>509:GGTCATGTTATGGTT&gt;G</td>\n",
       "      <td>47447</td>\n",
       "    </tr>\n",
       "    <tr>\n",
       "      <th>65061</th>\n",
       "      <td>28987:CCAA&gt;C</td>\n",
       "      <td>36761</td>\n",
       "    </tr>\n",
       "    <tr>\n",
       "      <th>75299</th>\n",
       "      <td>507:ATGGTCATGTTATGGT&gt;A</td>\n",
       "      <td>32361</td>\n",
       "    </tr>\n",
       "    <tr>\n",
       "      <th>75622</th>\n",
       "      <td>514:TGTTATG&gt;T</td>\n",
       "      <td>29887</td>\n",
       "    </tr>\n",
       "    <tr>\n",
       "      <th>81448</th>\n",
       "      <td>7044:CT&gt;C</td>\n",
       "      <td>26301</td>\n",
       "    </tr>\n",
       "    <tr>\n",
       "      <th>73302</th>\n",
       "      <td>443:GT&gt;G</td>\n",
       "      <td>23499</td>\n",
       "    </tr>\n",
       "    <tr>\n",
       "      <th>85620</th>\n",
       "      <td>8376:CA&gt;C</td>\n",
       "      <td>23183</td>\n",
       "    </tr>\n",
       "    <tr>\n",
       "      <th>29354</th>\n",
       "      <td>18606:CT&gt;C</td>\n",
       "      <td>22632</td>\n",
       "    </tr>\n",
       "    <tr>\n",
       "      <th>64705</th>\n",
       "      <td>2889:TG&gt;T</td>\n",
       "      <td>19946</td>\n",
       "    </tr>\n",
       "    <tr>\n",
       "      <th>62725</th>\n",
       "      <td>28361:GGAGAACGCA&gt;G</td>\n",
       "      <td>19748</td>\n",
       "    </tr>\n",
       "    <tr>\n",
       "      <th>75398</th>\n",
       "      <td>509:GGTCATGTTA&gt;G</td>\n",
       "      <td>19738</td>\n",
       "    </tr>\n",
       "    <tr>\n",
       "      <th>70602</th>\n",
       "      <td>3545:AATG&gt;A</td>\n",
       "      <td>18851</td>\n",
       "    </tr>\n",
       "    <tr>\n",
       "      <th>75774</th>\n",
       "      <td>518:ATGGTT&gt;A</td>\n",
       "      <td>18045</td>\n",
       "    </tr>\n",
       "    <tr>\n",
       "      <th>75719</th>\n",
       "      <td>517:TATG&gt;T</td>\n",
       "      <td>17852</td>\n",
       "    </tr>\n",
       "    <tr>\n",
       "      <th>62263</th>\n",
       "      <td>28253:CA&gt;C</td>\n",
       "      <td>17510</td>\n",
       "    </tr>\n",
       "    <tr>\n",
       "      <th>68913</th>\n",
       "      <td>3036:TC&gt;T</td>\n",
       "      <td>17421</td>\n",
       "    </tr>\n",
       "    <tr>\n",
       "      <th>80850</th>\n",
       "      <td>685:AAAGTCATTT&gt;A</td>\n",
       "      <td>17286</td>\n",
       "    </tr>\n",
       "    <tr>\n",
       "      <th>56425</th>\n",
       "      <td>26779:GTCTTGTAGGCTTGATGTGGCTCAGCTACTTCATTGCT&gt;G</td>\n",
       "      <td>16891</td>\n",
       "    </tr>\n",
       "    <tr>\n",
       "      <th>15678</th>\n",
       "      <td>14407:CCTACAAG&gt;C</td>\n",
       "      <td>16009</td>\n",
       "    </tr>\n",
       "    <tr>\n",
       "      <th>17991</th>\n",
       "      <td>15157:CA&gt;C</td>\n",
       "      <td>15792</td>\n",
       "    </tr>\n",
       "  </tbody>\n",
       "</table>\n",
       "</div>"
      ],
      "text/plain": [
       "                                           variant_id  sample\n",
       "75401                           509:GGTCATGTTATGGTT>G   47447\n",
       "65061                                    28987:CCAA>C   36761\n",
       "75299                          507:ATGGTCATGTTATGGT>A   32361\n",
       "75622                                   514:TGTTATG>T   29887\n",
       "81448                                       7044:CT>C   26301\n",
       "73302                                        443:GT>G   23499\n",
       "85620                                       8376:CA>C   23183\n",
       "29354                                      18606:CT>C   22632\n",
       "64705                                       2889:TG>T   19946\n",
       "62725                              28361:GGAGAACGCA>G   19748\n",
       "75398                                509:GGTCATGTTA>G   19738\n",
       "70602                                     3545:AATG>A   18851\n",
       "75774                                    518:ATGGTT>A   18045\n",
       "75719                                      517:TATG>T   17852\n",
       "62263                                      28253:CA>C   17510\n",
       "68913                                       3036:TC>T   17421\n",
       "80850                                685:AAAGTCATTT>A   17286\n",
       "56425  26779:GTCTTGTAGGCTTGATGTGGCTCAGCTACTTCATTGCT>G   16891\n",
       "15678                                14407:CCTACAAG>C   16009\n",
       "17991                                      15157:CA>C   15792"
      ]
     },
     "execution_count": 36,
     "metadata": {},
     "output_type": "execute_result"
    }
   ],
   "source": [
    "variants[variants.variant_type == 'DELETION'][['sample', 'variant_id']].groupby('variant_id').count().reset_index().sort_values(by='sample', ascending=False).head(20)"
   ]
  },
  {
   "cell_type": "code",
   "execution_count": 37,
   "id": "fb25a75e",
   "metadata": {},
   "outputs": [
    {
     "data": {
      "text/plain": [
       "44037"
      ]
     },
     "execution_count": 37,
     "metadata": {},
     "output_type": "execute_result"
    }
   ],
   "source": [
    "sapoval_lower_position = 56\n",
    "sapoval_upper_position = 29803\n",
    "variants[(variants.position < sapoval_lower_position) | (variants.position > sapoval_upper_position)].shape[0]"
   ]
  },
  {
   "cell_type": "code",
   "execution_count": 38,
   "id": "ab8398fc",
   "metadata": {},
   "outputs": [
    {
     "data": {
      "text/plain": [
       "82091"
      ]
     },
     "execution_count": 38,
     "metadata": {},
     "output_type": "execute_result"
    }
   ],
   "source": [
    "demaio_homoplasmic_positions = [187, 1059, 2094, 3037, 3130, 6990, 8022, 10323, 10741, 11074, 13408, 14786, 19684, 20148, 21137, 24034, 24378, 25563, 26144, 26461, 26681, 28077, 28826, 28854, 29700]\n",
    "variants[(variants.position.isin(demaio_homoplasmic_positions))].shape[0]"
   ]
  },
  {
   "cell_type": "code",
   "execution_count": 39,
   "id": "d6ef4331",
   "metadata": {},
   "outputs": [
    {
     "data": {
      "text/html": [
       "<div>\n",
       "<style scoped>\n",
       "    .dataframe tbody tr th:only-of-type {\n",
       "        vertical-align: middle;\n",
       "    }\n",
       "\n",
       "    .dataframe tbody tr th {\n",
       "        vertical-align: top;\n",
       "    }\n",
       "\n",
       "    .dataframe thead th {\n",
       "        text-align: right;\n",
       "    }\n",
       "</style>\n",
       "<table border=\"1\" class=\"dataframe\">\n",
       "  <thead>\n",
       "    <tr style=\"text-align: right;\">\n",
       "      <th></th>\n",
       "      <th>chromosome</th>\n",
       "      <th>position</th>\n",
       "      <th>reference</th>\n",
       "      <th>alternate</th>\n",
       "      <th>variant_id</th>\n",
       "      <th>mask</th>\n",
       "    </tr>\n",
       "  </thead>\n",
       "  <tbody>\n",
       "    <tr>\n",
       "      <th>0</th>\n",
       "      <td>MN908947.3</td>\n",
       "      <td>1</td>\n",
       "      <td>A</td>\n",
       "      <td>T</td>\n",
       "      <td>1:A&gt;T</td>\n",
       "      <td>True</td>\n",
       "    </tr>\n",
       "    <tr>\n",
       "      <th>0</th>\n",
       "      <td>MN908947.3</td>\n",
       "      <td>1</td>\n",
       "      <td>A</td>\n",
       "      <td>G</td>\n",
       "      <td>1:A&gt;G</td>\n",
       "      <td>True</td>\n",
       "    </tr>\n",
       "    <tr>\n",
       "      <th>0</th>\n",
       "      <td>MN908947.3</td>\n",
       "      <td>1</td>\n",
       "      <td>A</td>\n",
       "      <td>C</td>\n",
       "      <td>1:A&gt;C</td>\n",
       "      <td>True</td>\n",
       "    </tr>\n",
       "    <tr>\n",
       "      <th>1</th>\n",
       "      <td>MN908947.3</td>\n",
       "      <td>2</td>\n",
       "      <td>T</td>\n",
       "      <td>G</td>\n",
       "      <td>2:T&gt;G</td>\n",
       "      <td>True</td>\n",
       "    </tr>\n",
       "    <tr>\n",
       "      <th>1</th>\n",
       "      <td>MN908947.3</td>\n",
       "      <td>2</td>\n",
       "      <td>T</td>\n",
       "      <td>C</td>\n",
       "      <td>2:T&gt;C</td>\n",
       "      <td>True</td>\n",
       "    </tr>\n",
       "  </tbody>\n",
       "</table>\n",
       "</div>"
      ],
      "text/plain": [
       "   chromosome  position reference alternate variant_id  mask\n",
       "0  MN908947.3         1         A         T      1:A>T  True\n",
       "0  MN908947.3         1         A         G      1:A>G  True\n",
       "0  MN908947.3         1         A         C      1:A>C  True\n",
       "1  MN908947.3         2         T         G      2:T>G  True\n",
       "1  MN908947.3         2         T         C      2:T>C  True"
      ]
     },
     "execution_count": 39,
     "metadata": {},
     "output_type": "execute_result"
    }
   ],
   "source": [
    "problematic_sites = pd.read_csv('problematic_sites_sarsCov2.mask.decomposed.tsv', sep='\\t', names=['chromosome', 'position', 'reference', 'alternate'])\n",
    "\n",
    "specific_problematic = problematic_sites[problematic_sites.alternate != '.']\n",
    "general_problematic = problematic_sites[problematic_sites.alternate == '.']\n",
    "\n",
    "bases = ['A', 'C', 'G', 'T']\n",
    "first_pass = general_problematic.copy()\n",
    "first_pass.alternate = first_pass.reference.transform(lambda r: bases[0] if r not in [bases[0]] else bases[1])\n",
    "\n",
    "second_pass = general_problematic.copy()\n",
    "second_pass.alternate = second_pass.reference.transform(lambda r: bases[1] if r not in bases[0:2] else bases[2])\n",
    "\n",
    "third_pass = general_problematic.copy()\n",
    "third_pass.alternate = third_pass.reference.transform(lambda r: bases[2] if r not in bases[0:3] else bases[3])\n",
    "\n",
    "\n",
    "problematic_sites = pd.concat([specific_problematic, first_pass, second_pass, third_pass]).sort_values('position')\n",
    "\n",
    "problematic_sites['variant_id'] = problematic_sites[['position', 'reference', 'alternate']].apply(lambda x: \"{}:{}>{}\".format(x[0], x[1], x[2]), axis=1)\n",
    "problematic_sites['mask'] = True\n",
    "problematic_sites.head()"
   ]
  },
  {
   "cell_type": "code",
   "execution_count": 40,
   "id": "934ca89a",
   "metadata": {},
   "outputs": [
    {
     "data": {
      "text/plain": [
       "166571"
      ]
     },
     "execution_count": 40,
     "metadata": {},
     "output_type": "execute_result"
    }
   ],
   "source": [
    "masked_variants = pd.merge(variants, problematic_sites[['variant_id', 'mask']], on='variant_id')\n",
    "masked_variants[masked_variants['mask']].shape[0]"
   ]
  },
  {
   "cell_type": "markdown",
   "id": "c046c85f",
   "metadata": {},
   "source": [
    "## Valesano-like filtering"
   ]
  },
  {
   "cell_type": "code",
   "execution_count": 41,
   "id": "be40828c",
   "metadata": {},
   "outputs": [],
   "source": [
    "valesano_samples = samples[(samples.read_count >= 50000) & (samples.covered_bases >= 29000)]"
   ]
  },
  {
   "cell_type": "code",
   "execution_count": 42,
   "id": "793922a4",
   "metadata": {},
   "outputs": [],
   "source": [
    "valesano_variants = variants[(variants['sample'].isin(valesano_samples.run_accession)) &(variants.vaf >= 0.02) & (variants.vaf < 0.5) & (variants.dp >= 100) & (variants.ac >= 10)]"
   ]
  },
  {
   "cell_type": "code",
   "execution_count": 43,
   "id": "0ca6842f",
   "metadata": {},
   "outputs": [
    {
     "name": "stdout",
     "output_type": "stream",
     "text": [
      "Samples: 121522\n",
      "-----\n",
      "Intrahost mutations: 2017901\n",
      "Intrahost SNVs: 1602246\n",
      "Intrahost insertions: 223284\n",
      "Intrahost deletions: 192371\n",
      "-----\n",
      "Unique intrahost mutations: 112267\n",
      "Unique intrahost SNVs: 76131\n",
      "Unique intrahost insertions: 5296\n",
      "Unique intrahost deletions: 30840\n",
      "-----\n",
      "Distribution intrahost mutations per sample (median [lower quartile, upper quartile]): 4.0 [2.0, 10.0]\n",
      "Distribution intrahost SNVs per sample (median [lower quartile, upper quartile]): 3.0 [1.0, 7.0]\n",
      "Distribution intrahost insertions per sample (median [lower quartile, upper quartile]): 0.0 [0.0, 2.0]\n",
      "Distribution intrahost deletions per sample (median [lower quartile, upper quartile]): 0.0 [0.0, 1.0]\n",
      "-----\n",
      "Median VAF: 0.035087700933217995\n",
      "Median AC: 47.0\n",
      "Median DP: 1273.0\n",
      "-----\n",
      "Ratio of NS/S: 2.376\n",
      "Ratio of in-frame/frameshift: 0.047\n",
      "Stop loss: 19987\n",
      "Stop gained: 53143\n",
      "Start loss: 2024\n",
      "-----\n",
      "Variant calling quality: 736.0\n",
      "SNVs: 669.0\n",
      "Insertion: 1039.0\n",
      "Deletion: 990.0\n",
      "-----\n",
      "Entropy genomic positions: 307248037093.72125\n",
      "SNVs: 244793436334.31516\n",
      "Insertions: 34686207578.02567\n",
      "Deletions: 27768393181.3803\n"
     ]
    }
   ],
   "source": [
    "evaluate_dataset(samples=valesano_samples, variants=valesano_variants)"
   ]
  },
  {
   "cell_type": "code",
   "execution_count": 44,
   "id": "cbca5a47",
   "metadata": {},
   "outputs": [],
   "source": [
    "valesano_samples_amplicon = valesano_samples[valesano_samples.library_strategy == \"WGA\"]"
   ]
  },
  {
   "cell_type": "code",
   "execution_count": 45,
   "id": "3715af84",
   "metadata": {},
   "outputs": [],
   "source": [
    "valesano_variants_amplicon = valesano_variants[valesano_variants['sample'].isin(valesano_samples_amplicon.run_accession)]"
   ]
  },
  {
   "cell_type": "code",
   "execution_count": 46,
   "id": "2f19fef7",
   "metadata": {},
   "outputs": [
    {
     "name": "stdout",
     "output_type": "stream",
     "text": [
      "Samples: 70982\n",
      "-----\n",
      "Intrahost mutations: 1229711\n",
      "Intrahost SNVs: 961251\n",
      "Intrahost insertions: 143351\n",
      "Intrahost deletions: 125109\n",
      "-----\n",
      "Unique intrahost mutations: 99188\n",
      "Unique intrahost SNVs: 68557\n",
      "Unique intrahost insertions: 4692\n",
      "Unique intrahost deletions: 25939\n",
      "-----\n",
      "Distribution intrahost mutations per sample (median [lower quartile, upper quartile]): 4.0 [2.0, 8.0]\n",
      "Distribution intrahost SNVs per sample (median [lower quartile, upper quartile]): 3.0 [1.0, 6.0]\n",
      "Distribution intrahost insertions per sample (median [lower quartile, upper quartile]): 1.0 [0.0, 2.0]\n",
      "Distribution intrahost deletions per sample (median [lower quartile, upper quartile]): 0.0 [0.0, 1.0]\n",
      "-----\n",
      "Median VAF: 0.035075001418590546\n",
      "Median AC: 48.0\n",
      "Median DP: 1275.0\n",
      "-----\n",
      "Ratio of NS/S: 1.976\n",
      "Ratio of in-frame/frameshift: 0.041\n",
      "Stop loss: 15761\n",
      "Stop gained: 22367\n",
      "Start loss: 662\n",
      "-----\n",
      "Variant calling quality: 768.0\n",
      "SNVs: 709.0\n",
      "Insertion: 1014.0\n",
      "Deletion: 968.0\n",
      "-----\n",
      "Entropy genomic positions: 185780602185.47214\n",
      "SNVs: 144903503576.40143\n",
      "Insertions: 23063242896.147045\n",
      "Deletions: 17813855712.92355\n"
     ]
    }
   ],
   "source": [
    "evaluate_dataset(samples=valesano_samples_amplicon, variants=valesano_variants_amplicon)"
   ]
  },
  {
   "cell_type": "code",
   "execution_count": 47,
   "id": "9a9a6da7",
   "metadata": {},
   "outputs": [],
   "source": [
    "valesano_samples_wgs = valesano_samples[valesano_samples.library_strategy == \"WGS\"]"
   ]
  },
  {
   "cell_type": "code",
   "execution_count": 48,
   "id": "a7660a30",
   "metadata": {},
   "outputs": [],
   "source": [
    "valesano_variants_wgs = valesano_variants[valesano_variants['sample'].isin(valesano_samples_wgs.run_accession)]"
   ]
  },
  {
   "cell_type": "code",
   "execution_count": 49,
   "id": "bcb833a6",
   "metadata": {},
   "outputs": [
    {
     "name": "stdout",
     "output_type": "stream",
     "text": [
      "Samples: 42252\n",
      "-----\n",
      "Intrahost mutations: 727277\n",
      "Intrahost SNVs: 604087\n",
      "Intrahost insertions: 62124\n",
      "Intrahost deletions: 61066\n",
      "-----\n",
      "Unique intrahost mutations: 76531\n",
      "Unique intrahost SNVs: 56506\n",
      "Unique intrahost insertions: 2742\n",
      "Unique intrahost deletions: 17283\n",
      "-----\n",
      "Distribution intrahost mutations per sample (median [lower quartile, upper quartile]): 5.0 [1.0, 19.0]\n",
      "Distribution intrahost SNVs per sample (median [lower quartile, upper quartile]): 3.0 [1.0, 16.0]\n",
      "Distribution intrahost insertions per sample (median [lower quartile, upper quartile]): 0.0 [0.0, 1.0]\n",
      "Distribution intrahost deletions per sample (median [lower quartile, upper quartile]): 0.0 [0.0, 1.0]\n",
      "-----\n",
      "Median VAF: 0.03444559872150421\n",
      "Median AC: 49.0\n",
      "Median DP: 1335.0\n",
      "-----\n",
      "Ratio of NS/S: 3.319\n",
      "Ratio of in-frame/frameshift: 0.068\n",
      "Stop loss: 3988\n",
      "Stop gained: 29576\n",
      "Start loss: 440\n",
      "-----\n",
      "Variant calling quality: 705.0\n",
      "SNVs: 632.0\n",
      "Insertion: 1117.0\n",
      "Deletion: 1103.0\n",
      "-----\n",
      "Entropy genomic positions: 112543381007.15112\n",
      "SNVs: 93754886896.1316\n",
      "Insertions: 9646735264.81105\n",
      "Deletions: 9141758846.208406\n"
     ]
    }
   ],
   "source": [
    "evaluate_dataset(samples=valesano_samples_wgs, variants=valesano_variants_wgs)"
   ]
  },
  {
   "cell_type": "code",
   "execution_count": 50,
   "id": "d7b95d26",
   "metadata": {},
   "outputs": [],
   "source": [
    "valesano_samples_targeted = valesano_samples[valesano_samples.library_strategy == \"Targeted-Capture\"]"
   ]
  },
  {
   "cell_type": "code",
   "execution_count": 51,
   "id": "1e544aad",
   "metadata": {},
   "outputs": [],
   "source": [
    "valesano_variants_targeted = valesano_variants[valesano_variants['sample'].isin(valesano_samples_targeted.run_accession)]"
   ]
  },
  {
   "cell_type": "code",
   "execution_count": 52,
   "id": "1294e419",
   "metadata": {},
   "outputs": [
    {
     "name": "stdout",
     "output_type": "stream",
     "text": [
      "Samples: 8288\n",
      "-----\n",
      "Intrahost mutations: 60913\n",
      "Intrahost SNVs: 36908\n",
      "Intrahost insertions: 17809\n",
      "Intrahost deletions: 6196\n",
      "-----\n",
      "Unique intrahost mutations: 13768\n",
      "Unique intrahost SNVs: 12578\n",
      "Unique intrahost insertions: 250\n",
      "Unique intrahost deletions: 940\n",
      "-----\n",
      "Distribution intrahost mutations per sample (median [lower quartile, upper quartile]): 5.0 [2.0, 8.0]\n",
      "Distribution intrahost SNVs per sample (median [lower quartile, upper quartile]): 1.0 [0.0, 3.0]\n",
      "Distribution intrahost insertions per sample (median [lower quartile, upper quartile]): 2.0 [0.0, 4.0]\n",
      "Distribution intrahost deletions per sample (median [lower quartile, upper quartile]): 1.0 [0.0, 1.0]\n",
      "-----\n",
      "Median VAF: 0.04841149970889092\n",
      "Median AC: 26.0\n",
      "Median DP: 606.0\n",
      "-----\n",
      "Ratio of NS/S: 2.293\n",
      "Ratio of in-frame/frameshift: 0.014\n",
      "Stop loss: 238\n",
      "Stop gained: 1200\n",
      "Start loss: 922\n",
      "-----\n",
      "Variant calling quality: 372.0\n",
      "SNVs: 243.0\n",
      "Insertion: 949.0\n",
      "Deletion: 517.5\n",
      "-----\n",
      "Entropy genomic positions: 8924053901.098007\n",
      "SNVs: 6135045861.782099\n",
      "Insertions: 1976229417.067577\n",
      "Deletions: 812778622.2483325\n"
     ]
    }
   ],
   "source": [
    "evaluate_dataset(samples=valesano_samples_targeted, variants=valesano_variants_targeted)"
   ]
  },
  {
   "cell_type": "markdown",
   "id": "03cb0168",
   "metadata": {},
   "source": [
    "## Sapoval-like filtering"
   ]
  },
  {
   "cell_type": "code",
   "execution_count": 53,
   "id": "45d7d6aa",
   "metadata": {},
   "outputs": [],
   "source": [
    "sapoval_samples = samples[(samples.read_count >= 20000)]"
   ]
  },
  {
   "cell_type": "code",
   "execution_count": 54,
   "id": "a7e1a523",
   "metadata": {},
   "outputs": [],
   "source": [
    "sapoval_variants = variants[(variants['sample'].isin(sapoval_samples.run_accession)) &(variants.vaf >= 0.02) & (variants.vaf < 0.5) & (variants.dp >= 10)]\n",
    "sapoval_variants = sapoval_variants[~sapoval_variants.position.isin(demaio_homoplasmic_positions)]\n",
    "sapoval_variants = sapoval_variants[~((sapoval_variants.position < sapoval_lower_position) | (sapoval_variants.position > sapoval_upper_position))]"
   ]
  },
  {
   "cell_type": "code",
   "execution_count": 55,
   "id": "777f6d37",
   "metadata": {},
   "outputs": [
    {
     "name": "stdout",
     "output_type": "stream",
     "text": [
      "Samples: 127245\n",
      "-----\n",
      "Intrahost mutations: 4258145\n",
      "Intrahost SNVs: 2802086\n",
      "Intrahost insertions: 899226\n",
      "Intrahost deletions: 556833\n",
      "-----\n",
      "Unique intrahost mutations: 150693\n",
      "Unique intrahost SNVs: 84748\n",
      "Unique intrahost insertions: 17875\n",
      "Unique intrahost deletions: 48070\n",
      "-----\n",
      "Distribution intrahost mutations per sample (median [lower quartile, upper quartile]): 9.0 [4.0, 30.0]\n",
      "Distribution intrahost SNVs per sample (median [lower quartile, upper quartile]): 5.0 [2.0, 17.0]\n",
      "Distribution intrahost insertions per sample (median [lower quartile, upper quartile]): 1.0 [0.0, 4.0]\n",
      "Distribution intrahost deletions per sample (median [lower quartile, upper quartile]): 1.0 [0.0, 4.0]\n",
      "-----\n",
      "Median VAF: 0.05128210037946701\n",
      "Median AC: 8.0\n",
      "Median DP: 206.0\n",
      "-----\n",
      "Ratio of NS/S: 2.386\n",
      "Ratio of in-frame/frameshift: 0.035\n",
      "Stop loss: 36321\n",
      "Stop gained: 98884\n",
      "Start loss: 3879\n",
      "-----\n",
      "Variant calling quality: 132.0\n",
      "SNVs: 229.0\n",
      "Insertion: 67.0\n",
      "Deletion: 76.0\n",
      "-----\n",
      "Entropy genomic positions: 646642382756.3137\n",
      "SNVs: 428616744748.62115\n",
      "Insertions: 136006455497.6139\n",
      "Deletions: 82019182510.07866\n"
     ]
    }
   ],
   "source": [
    "evaluate_dataset(samples=sapoval_samples, variants=sapoval_variants)"
   ]
  },
  {
   "cell_type": "markdown",
   "id": "fcb479f2",
   "metadata": {},
   "source": [
    "## Tonkin-Hill like filtering"
   ]
  },
  {
   "cell_type": "code",
   "execution_count": 56,
   "id": "795e4814",
   "metadata": {},
   "outputs": [],
   "source": [
    "# exclude samples by excess of iSNVs\n",
    "count_variants_per_sample = pd.merge(variants, samples[['run_accession']], left_on='sample', right_on='run_accession', how='outer')[['run_accession', 'variant_id']].groupby('run_accession').count().reset_index()\n",
    "excess_mutations_thr = count_variants_per_sample.variant_id.quantile(0.99)\n",
    "excluded_samples_by_excess_variants = count_variants_per_sample[count_variants_per_sample.variant_id > excess_mutations_thr].run_accession\n",
    "\n",
    "# exclude samples by excess of high frequency iSNVs, suspicion of co-infection\n",
    "count_high_variants_per_sample = pd.merge(variants[variants.vaf > 0.4], samples[['run_accession']], left_on='sample', right_on='run_accession', how='outer')[['run_accession', 'variant_id']].groupby('run_accession').count().reset_index()\n",
    "coinfection_thr = count_high_variants_per_sample.variant_id.median() + (2 * (count_high_variants_per_sample.variant_id.quantile(0.75) - count_high_variants_per_sample.variant_id.quantile(0.25)))\n",
    "excluded_samples_by_coinfection = count_high_variants_per_sample[count_high_variants_per_sample.variant_id > coinfection_thr].run_accession\n",
    "\n",
    "tonkin_samples = samples[~(samples.run_accession.isin(excluded_samples_by_excess_variants)) & ~(samples.run_accession.isin(excluded_samples_by_coinfection))]"
   ]
  },
  {
   "cell_type": "code",
   "execution_count": 57,
   "id": "9ed8ee93",
   "metadata": {},
   "outputs": [],
   "source": [
    "tonkin_variants = variants[(variants['sample'].isin(tonkin_samples.run_accession)) &(variants.vaf >= 0.05) & (variants.vaf < 0.5) & (variants.dp >= 100) & (variants.ac >= 5)]"
   ]
  },
  {
   "cell_type": "code",
   "execution_count": 58,
   "id": "d67d816c",
   "metadata": {},
   "outputs": [
    {
     "name": "stdout",
     "output_type": "stream",
     "text": [
      "Samples: 123600\n",
      "-----\n",
      "Intrahost mutations: 482245\n",
      "Intrahost SNVs: 339776\n",
      "Intrahost insertions: 80857\n",
      "Intrahost deletions: 61612\n",
      "-----\n",
      "Unique intrahost mutations: 73220\n",
      "Unique intrahost SNVs: 53208\n",
      "Unique intrahost insertions: 2998\n",
      "Unique intrahost deletions: 17014\n",
      "-----\n",
      "Distribution intrahost mutations per sample (median [lower quartile, upper quartile]): 2.0 [0.0, 3.0]\n",
      "Distribution intrahost SNVs per sample (median [lower quartile, upper quartile]): 1.0 [0.0, 2.0]\n",
      "Distribution intrahost insertions per sample (median [lower quartile, upper quartile]): 0.0 [0.0, 1.0]\n",
      "Distribution intrahost deletions per sample (median [lower quartile, upper quartile]): 0.0 [0.0, 0.0]\n",
      "-----\n",
      "Median VAF: 0.0776699036359787\n",
      "Median AC: 81.0\n",
      "Median DP: 922.0\n",
      "-----\n",
      "Ratio of NS/S: 2.77\n",
      "Ratio of in-frame/frameshift: 0.048\n",
      "Stop loss: 3001\n",
      "Stop gained: 11916\n",
      "Start loss: 503\n",
      "-----\n",
      "Variant calling quality: 1676.0\n",
      "SNVs: 1567.0\n",
      "Insertion: 1891.0\n",
      "Deletion: 1881.0\n",
      "-----\n",
      "Entropy genomic positions: 73560302980.56769\n",
      "SNVs: 53184244858.93191\n",
      "Insertions: 11451002161.797283\n",
      "Deletions: 8925055959.838486\n"
     ]
    }
   ],
   "source": [
    "evaluate_dataset(samples=tonkin_samples, variants=tonkin_variants)"
   ]
  },
  {
   "cell_type": "markdown",
   "id": "1637793f",
   "metadata": {},
   "source": [
    "## Conservative filter\n",
    "\n",
    "Excludes samples:\n",
    "- Mapped reads >= 50,000\n",
    "- Horizontal coverage >= 29,000 bp\n",
    "- Exclude samples above 99th percentile of number of iSNVs\n",
    "- Exclude samples with an outlier number of iSNVs with VAF > 40% and VAF < 80 %\n",
    "\n",
    "Exclude variants:\n",
    "- VAF >= 2%, VAF < 50 %\n",
    "- DP >= 100\n",
    "- supporting reads >= 10\n",
    "- Mask extremes of genome + homoplasmic positions from De Maio, 2020\n",
    "- indels <= 10 bp"
   ]
  },
  {
   "cell_type": "code",
   "execution_count": 59,
   "id": "5a3cd77b",
   "metadata": {},
   "outputs": [],
   "source": [
    "conservative_samples = samples[~(samples.run_accession.isin(excluded_samples_by_excess_variants)) & ~(samples.run_accession.isin(excluded_samples_by_coinfection)) & \n",
    "                              (samples.read_count >= 50000) & (samples.covered_bases >= 29000)]"
   ]
  },
  {
   "cell_type": "code",
   "execution_count": 65,
   "id": "3cd16ecf",
   "metadata": {},
   "outputs": [],
   "source": [
    "conservative_variants = variants[(variants['sample'].isin(conservative_samples.run_accession)) &(variants.vaf >= 0.02) & (variants.vaf < 0.5) & (variants.dp >= 100) & (variants.ac >= 10)]\n",
    "#conservative_variants = conservative_variants[~conservative_variants.position.isin(demaio_homoplasmic_positions)]\n",
    "masked_variants = pd.merge(conservative_variants, problematic_sites[['variant_id', 'mask']], on='variant_id', how='outer')\n",
    "masked_variants['mask'].fillna(False, inplace=True)\n",
    "conservative_variants = masked_variants[~masked_variants['mask']]\n",
    "conservative_variants = conservative_variants[~((conservative_variants.position < sapoval_lower_position) | (conservative_variants.position > sapoval_upper_position))]\n",
    "conservative_variants = conservative_variants[(conservative_variants.length <= 10) & (conservative_variants.length >= -10)]"
   ]
  },
  {
   "cell_type": "code",
   "execution_count": 66,
   "id": "3d66c914",
   "metadata": {},
   "outputs": [
    {
     "name": "stdout",
     "output_type": "stream",
     "text": [
      "Samples: 114416\n",
      "-----\n",
      "Intrahost mutations: 1394566\n",
      "Intrahost SNVs: 1019159\n",
      "Intrahost insertions: 211146\n",
      "Intrahost deletions: 164261\n",
      "-----\n",
      "Unique intrahost mutations: 104778\n",
      "Unique intrahost SNVs: 72618\n",
      "Unique intrahost insertions: 4987\n",
      "Unique intrahost deletions: 27173\n",
      "-----\n",
      "Distribution intrahost mutations per sample (median [lower quartile, upper quartile]): 4.0 [2.0, 9.0]\n",
      "Distribution intrahost SNVs per sample (median [lower quartile, upper quartile]): 2.0 [1.0, 6.0]\n",
      "Distribution intrahost insertions per sample (median [lower quartile, upper quartile]): 0.0 [0.0, 2.0]\n",
      "Distribution intrahost deletions per sample (median [lower quartile, upper quartile]): 0.0 [0.0, 1.0]\n",
      "-----\n",
      "Median VAF: 0.034246601164340966\n",
      "Median AC: 46.0\n",
      "Median DP: 1270.0\n",
      "-----\n",
      "Ratio of NS/S: 2.73\n",
      "Ratio of in-frame/frameshift: 0.035\n",
      "Stop loss: 8353\n",
      "Stop gained: 35026\n",
      "Start loss: 1679\n",
      "-----\n",
      "Variant calling quality: 749.0\n",
      "SNVs: 656.0\n",
      "Insertion: 1037.0\n",
      "Deletion: 970.0\n",
      "-----\n",
      "Entropy genomic positions: 214115562418.4187\n",
      "SNVs: 158018654575.16992\n",
      "Insertions: 32831455037.269066\n",
      "Deletions: 23265452805.97979\n"
     ]
    }
   ],
   "source": [
    "evaluate_dataset(samples=conservative_samples, variants=conservative_variants)"
   ]
  },
  {
   "cell_type": "code",
   "execution_count": null,
   "id": "9229e69b",
   "metadata": {},
   "outputs": [],
   "source": []
  }
 ],
 "metadata": {
  "kernelspec": {
   "display_name": "Python 3 (ipykernel)",
   "language": "python",
   "name": "python3"
  },
  "language_info": {
   "codemirror_mode": {
    "name": "ipython",
    "version": 3
   },
   "file_extension": ".py",
   "mimetype": "text/x-python",
   "name": "python",
   "nbconvert_exporter": "python",
   "pygments_lexer": "ipython3",
   "version": "3.8.10"
  }
 },
 "nbformat": 4,
 "nbformat_minor": 5
}
