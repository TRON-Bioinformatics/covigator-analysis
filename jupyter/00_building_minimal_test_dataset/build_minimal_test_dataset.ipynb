{
 "cells": [
  {
   "cell_type": "markdown",
   "id": "9123503d-3261-49f4-bb8a-ab401e38f784",
   "metadata": {},
   "source": [
    "# Minimal test dataset\n",
    "\n",
    "\n",
    "For testing purposes it is useful to have a minimal dataset, here we choose a random set of samples to have that."
   ]
  },
  {
   "cell_type": "code",
   "execution_count": 13,
   "id": "6fa820d8-70c2-409c-9e80-310359019674",
   "metadata": {},
   "outputs": [],
   "source": [
    "import sys, os\n",
    "module_path = os.path.abspath(os.path.join('..'))\n",
    "if module_path not in sys.path:\n",
    "    sys.path.append(module_path)\n",
    "import src.data_loading as dl\n",
    "import pandas as pd"
   ]
  },
  {
   "cell_type": "markdown",
   "id": "e05e5f4c-1bd3-42c9-8ca7-7e866f269ec4",
   "metadata": {},
   "source": [
    "## ENA"
   ]
  },
  {
   "cell_type": "code",
   "execution_count": 14,
   "id": "d42368be-31b4-4b45-b1f8-aef084abcd39",
   "metadata": {},
   "outputs": [
    {
     "name": "stderr",
     "output_type": "stream",
     "text": [
      "/opt/conda/lib/python3.8/site-packages/IPython/core/interactiveshell.py:3361: DtypeWarning: Columns (77) have mixed types.Specify dtype option on import or set low_memory=False.\n",
      "  if (await self.run_code(code, result,  async_=asy)):\n"
     ]
    }
   ],
   "source": [
    "# load all data\n",
    "ena_samples = dl.load_ena_samples()\n",
    "ena_variant_observations = dl.load_ena_variant_observations()\n",
    "ena_variants = dl.load_ena_variants()\n",
    "ena_subclonal_variants = dl.load_ena_subclonal_variants()\n",
    "ena_subclonal_variant_observations = dl.load_ena_subclonal_variant_observations()\n",
    "ena_variant_cooccurrence = dl.load_ena_variant_cooccurrence()"
   ]
  },
  {
   "cell_type": "code",
   "execution_count": 15,
   "id": "701e0661-9cc2-4b0f-8a9c-522b184aed9d",
   "metadata": {},
   "outputs": [],
   "source": [
    "# builds ENA minimal dataset\n",
    "minimal_ena_samples = ena_samples[ena_samples.status == 'FINISHED'].sample(1000)\n",
    "# these two columns cause trouble with Pandas \"intelligent\" column typing\n",
    "del minimal_ena_samples['cleaned_at']\n",
    "del minimal_ena_samples['cooccurrence_at']\n",
    "minimal_ena_variant_observations = ena_variant_observations[ena_variant_observations['sample'].isin(minimal_ena_samples.run_accession)]\n",
    "minimal_ena_variants = ena_variants[ena_variants.variant_id.isin(minimal_ena_variant_observations.variant_id)]\n",
    "minimal_ena_variant_cooccurrence = ena_variant_cooccurrence[(ena_variant_cooccurrence.variant_id_one.isin(minimal_ena_variants.variant_id)) & \n",
    "                                                            (ena_variant_cooccurrence.variant_id_two.isin(minimal_ena_variants.variant_id))]\n",
    "minimal_ena_subclonal_variant_observations = ena_subclonal_variant_observations[ena_subclonal_variant_observations['sample'].isin(minimal_ena_samples.run_accession)]\n",
    "minimal_ena_subclonal_variants = ena_subclonal_variants[ena_subclonal_variants.variant_id.isin(minimal_ena_subclonal_variant_observations.variant_id)]"
   ]
  },
  {
   "cell_type": "code",
   "execution_count": 16,
   "id": "c9ebfea3-67db-4bc0-9160-a370dd73a1de",
   "metadata": {},
   "outputs": [],
   "source": [
    "# writes minimal ENA dataset\n",
    "minimal_ena_samples.to_csv(os.path.join(dl.data_folder, 'sample_ena.minimal.csv.gz'), sep=',', index=False, compression='gzip')\n",
    "minimal_ena_variant_observations.to_csv(os.path.join(dl.data_folder, 'variant_observation.minimal.csv.gz'), sep=',', index=False, compression='gzip')\n",
    "minimal_ena_variants.to_csv(os.path.join(dl.data_folder, 'variant.minimal.csv.gz'), sep=',', index=False, compression='gzip')\n",
    "minimal_ena_subclonal_variant_observations.to_csv(os.path.join(dl.data_folder, 'subclonal_variant_observation.minimal.csv.gz'), sep=',', index=False, compression='gzip')\n",
    "minimal_ena_subclonal_variants.to_csv(os.path.join(dl.data_folder, 'subclonal_variant.minimal.csv.gz'), sep=',', index=False, compression='gzip')\n",
    "minimal_ena_variant_cooccurrence.to_csv(os.path.join(dl.data_folder, 'variant_cooccurrence.minimal.csv.gz'), sep=',', index=False, compression='gzip')"
   ]
  },
  {
   "cell_type": "markdown",
   "id": "1b446954-6ec8-4c74-bda3-5d0b9ca5d36e",
   "metadata": {},
   "source": [
    "## GISAID"
   ]
  },
  {
   "cell_type": "code",
   "execution_count": 5,
   "id": "af29c466-4747-4256-a49d-f9a92da8c047",
   "metadata": {},
   "outputs": [
    {
     "name": "stderr",
     "output_type": "stream",
     "text": [
      "/opt/conda/lib/python3.8/site-packages/IPython/core/interactiveshell.py:3361: DtypeWarning: Columns (1,23,25,26,27,28,29,30,31,34,37,38,39,40,41,43) have mixed types.Specify dtype option on import or set low_memory=False.\n",
      "  if (await self.run_code(code, result,  async_=asy)):\n"
     ]
    }
   ],
   "source": [
    "gisaid_samples = dl.load_gisaid_samples()\n",
    "gisaid_variant_observations = dl.load_gisaid_variant_observations()\n",
    "gisaid_variants = dl.load_gisaid_variants()"
   ]
  },
  {
   "cell_type": "code",
   "execution_count": 6,
   "id": "400aeb49-f957-49ea-aa8c-a3c8a07c11fc",
   "metadata": {},
   "outputs": [],
   "source": [
    "# builds GISAID minimal dataset\n",
    "minimal_gisaid_samples = gisaid_samples[gisaid_samples.status == 'FINISHED'].sample(1000)\n",
    "minimal_gisaid_variant_observations = gisaid_variant_observations[gisaid_variant_observations['sample'].isin(minimal_gisaid_samples.run_accession)]\n",
    "minimal_gisaid_variants = gisaid_variants[gisaid_variants.variant_id.isin(minimal_gisaid_variant_observations.variant_id)]"
   ]
  },
  {
   "cell_type": "code",
   "execution_count": 7,
   "id": "88b387f9-fcc2-427f-85ca-1dc997bf18ff",
   "metadata": {},
   "outputs": [],
   "source": [
    "# writes minimal GISAID dataset\n",
    "minimal_gisaid_samples.to_csv(os.path.join(dl.data_folder, 'sample_gisaid.minimal.csv.gz'), sep=',', index=False, compression='gzip')\n",
    "minimal_gisaid_variant_observations.to_csv(os.path.join(dl.data_folder, 'gisaid_variant_observation.minimal.csv.gz'), sep=',', index=False, compression='gzip')\n",
    "minimal_gisaid_variants.to_csv(os.path.join(dl.data_folder, 'gisaid_variant.minimal.csv.gz'), sep=',', index=False, compression='gzip')"
   ]
  }
 ],
 "metadata": {
  "kernelspec": {
   "display_name": "Python 3",
   "language": "python",
   "name": "python3"
  },
  "language_info": {
   "codemirror_mode": {
    "name": "ipython",
    "version": 3
   },
   "file_extension": ".py",
   "mimetype": "text/x-python",
   "name": "python",
   "nbconvert_exporter": "python",
   "pygments_lexer": "ipython3",
   "version": "3.8.8"
  }
 },
 "nbformat": 4,
 "nbformat_minor": 5
}
