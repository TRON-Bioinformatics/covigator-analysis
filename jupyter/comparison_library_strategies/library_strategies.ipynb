{
 "cells": [
  {
   "cell_type": "markdown",
   "id": "1ba78a78-9c42-4011-856f-a20835857da5",
   "metadata": {},
   "source": [
    "# Comparison of library strategies\n",
    "\n",
    "We aim at comparing how different is the variant calling outcome depending on the library strategy employed.\n",
    "For this purpose we will use samples obtained from ENA (last queried 09/10/2021, n=48,844 samples) sequenced with Illumina technology using three library strategies: WGS, WGA and targeted-capture.\n",
    "The SARS-CoV-2 ENA dataset is imperfect for this purpose as we don't have the same samples sequenced with different strategies.\n",
    "Furthermore, we expect a high heterogeneity between sequencing centers across the globe using the same library strategy.\n",
    "\n",
    "We aim to look at two factors: 1) mutations and 2) coverage.\n",
    "\n",
    "Regarding 1) we are interested in understanding:\n",
    "* Overall number of mutations per sample\n",
    "* Unique mutations for each technology\n",
    "* Focused geographical and temporal analysis to minimise expected variability in SARS-CoV-2\n",
    "\n",
    "Regarding 2) we are interested in understanding:\n",
    "* How depth of coverage differs between technologies\n",
    "* How breadth of coverage differs between technologies\n",
    "* Are there any blind spots of a particular technology?"
   ]
  },
  {
   "cell_type": "code",
   "execution_count": 1,
   "id": "6eac51d9-993b-465f-8273-c9d6c79dc9f8",
   "metadata": {},
   "outputs": [
    {
     "data": {
      "text/html": [
       "<svg  width=\"550\" height=\"55\"><rect x=\"0\" y=\"0\" width=\"55\" height=\"55\" style=\"fill:#0173b2;stroke-width:2;stroke:rgb(255,255,255)\"/><rect x=\"55\" y=\"0\" width=\"55\" height=\"55\" style=\"fill:#de8f05;stroke-width:2;stroke:rgb(255,255,255)\"/><rect x=\"110\" y=\"0\" width=\"55\" height=\"55\" style=\"fill:#029e73;stroke-width:2;stroke:rgb(255,255,255)\"/><rect x=\"165\" y=\"0\" width=\"55\" height=\"55\" style=\"fill:#d55e00;stroke-width:2;stroke:rgb(255,255,255)\"/><rect x=\"220\" y=\"0\" width=\"55\" height=\"55\" style=\"fill:#cc78bc;stroke-width:2;stroke:rgb(255,255,255)\"/><rect x=\"275\" y=\"0\" width=\"55\" height=\"55\" style=\"fill:#ca9161;stroke-width:2;stroke:rgb(255,255,255)\"/><rect x=\"330\" y=\"0\" width=\"55\" height=\"55\" style=\"fill:#fbafe4;stroke-width:2;stroke:rgb(255,255,255)\"/><rect x=\"385\" y=\"0\" width=\"55\" height=\"55\" style=\"fill:#949494;stroke-width:2;stroke:rgb(255,255,255)\"/><rect x=\"440\" y=\"0\" width=\"55\" height=\"55\" style=\"fill:#ece133;stroke-width:2;stroke:rgb(255,255,255)\"/><rect x=\"495\" y=\"0\" width=\"55\" height=\"55\" style=\"fill:#56b4e9;stroke-width:2;stroke:rgb(255,255,255)\"/></svg>"
      ],
      "text/plain": [
       "[(0.00392156862745098, 0.45098039215686275, 0.6980392156862745),\n",
       " (0.8705882352941177, 0.5607843137254902, 0.0196078431372549),\n",
       " (0.00784313725490196, 0.6196078431372549, 0.45098039215686275),\n",
       " (0.8352941176470589, 0.3686274509803922, 0.0),\n",
       " (0.8, 0.47058823529411764, 0.7372549019607844),\n",
       " (0.792156862745098, 0.5686274509803921, 0.3803921568627451),\n",
       " (0.984313725490196, 0.6862745098039216, 0.8941176470588236),\n",
       " (0.5803921568627451, 0.5803921568627451, 0.5803921568627451),\n",
       " (0.9254901960784314, 0.8823529411764706, 0.2),\n",
       " (0.33725490196078434, 0.7058823529411765, 0.9137254901960784)]"
      ]
     },
     "execution_count": 1,
     "metadata": {},
     "output_type": "execute_result"
    }
   ],
   "source": [
    "import os\n",
    "import numpy as np\n",
    "import pandas as pd\n",
    "import seaborn as sns\n",
    "import matplotlib.pyplot as plt\n",
    "from datetime import datetime\n",
    "import upsetplot\n",
    "sns.set_context(\"paper\")\n",
    "sns.color_palette(\"colorblind\")"
   ]
  },
  {
   "cell_type": "code",
   "execution_count": 2,
   "id": "2b2c81d3-19d2-45d8-bf36-31aa4d03cbcf",
   "metadata": {},
   "outputs": [],
   "source": [
    "blue = sns.color_palette(\"colorblind\")[0]\n",
    "orange = sns.color_palette(\"colorblind\")[1]\n",
    "green = sns.color_palette(\"colorblind\")[2]\n",
    "red = sns.color_palette(\"colorblind\")[3]\n",
    "brown = sns.color_palette(\"colorblind\")[5]\n",
    "grey = sns.color_palette(\"colorblind\")[7]\n",
    "lightblue = sns.color_palette(\"colorblind\")[-1]"
   ]
  },
  {
   "cell_type": "code",
   "execution_count": 3,
   "id": "58d17f22-b63f-4f42-b0bb-63447a8912b6",
   "metadata": {},
   "outputs": [],
   "source": [
    "colors_library_strategy = {\n",
    "    \"RNA-Seq\": blue,\n",
    "    \"Targeted-Capture\": orange,\n",
    "    \"WGS\": green,\n",
    "    \"WGA\": grey\n",
    "}"
   ]
  },
  {
   "cell_type": "markdown",
   "id": "190573d5-0132-4b11-8746-8c8463518c92",
   "metadata": {},
   "source": [
    "## Data loading"
   ]
  },
  {
   "cell_type": "code",
   "execution_count": 4,
   "id": "d69c6f76-eac4-4e45-8a68-30d5f8ab5162",
   "metadata": {},
   "outputs": [],
   "source": [
    "local_base_folder = \"/home/priesgo/tronland\"  # replace this by \"/\" if running on tronland\n",
    "data_folder = os.path.join(local_base_folder, \"scratch/info/projects/covigator/data/db_dump_20211102\")\n",
    "sample_table = os.path.join(data_folder, \"sample_ena.csv.gz\")\n",
    "jobs_table = os.path.join(data_folder, \"job_ena.csv.gz\")\n",
    "genes_table = os.path.join(data_folder, \"gene.csv\")\n",
    "variants_table = os.path.join(data_folder, \"variant_observation_only_ena.csv.gz\")"
   ]
  },
  {
   "cell_type": "code",
   "execution_count": 5,
   "id": "f8906cba-8f8b-49d3-ab1a-4a500b7ee9f7",
   "metadata": {},
   "outputs": [
    {
     "data": {
      "text/html": [
       "<div>\n",
       "<style scoped>\n",
       "    .dataframe tbody tr th:only-of-type {\n",
       "        vertical-align: middle;\n",
       "    }\n",
       "\n",
       "    .dataframe tbody tr th {\n",
       "        vertical-align: top;\n",
       "    }\n",
       "\n",
       "    .dataframe thead th {\n",
       "        text-align: right;\n",
       "    }\n",
       "</style>\n",
       "<table border=\"1\" class=\"dataframe\">\n",
       "  <thead>\n",
       "    <tr style=\"text-align: right;\">\n",
       "      <th></th>\n",
       "      <th>run_accession</th>\n",
       "      <th>finished</th>\n",
       "      <th>sample_accession</th>\n",
       "      <th>scientific_name</th>\n",
       "      <th>study_accession</th>\n",
       "      <th>experiment_accession</th>\n",
       "      <th>first_created</th>\n",
       "      <th>collection_date</th>\n",
       "      <th>instrument_platform</th>\n",
       "      <th>instrument_model</th>\n",
       "      <th>...</th>\n",
       "      <th>country_alpha_2</th>\n",
       "      <th>country_alpha_3</th>\n",
       "      <th>continent</th>\n",
       "      <th>continent_alpha_2</th>\n",
       "      <th>count_snvs</th>\n",
       "      <th>count_insertions</th>\n",
       "      <th>count_deletions</th>\n",
       "      <th>count_subclonal_snvs</th>\n",
       "      <th>count_subclonal_insertions</th>\n",
       "      <th>count_subclonal_deletions</th>\n",
       "    </tr>\n",
       "  </thead>\n",
       "  <tbody>\n",
       "    <tr>\n",
       "      <th>0</th>\n",
       "      <td>ERR6356167</td>\n",
       "      <td>f</td>\n",
       "      <td>SAMEA8993004</td>\n",
       "      <td>Severe acute respiratory syndrome coronavirus 2</td>\n",
       "      <td>PRJEB43166</td>\n",
       "      <td>ERX5987718</td>\n",
       "      <td>2021-07-23</td>\n",
       "      <td>2021-07-03</td>\n",
       "      <td>ILLUMINA</td>\n",
       "      <td>Illumina MiSeq</td>\n",
       "      <td>...</td>\n",
       "      <td>ES</td>\n",
       "      <td>ESP</td>\n",
       "      <td>Europe</td>\n",
       "      <td>EU</td>\n",
       "      <td>NaN</td>\n",
       "      <td>NaN</td>\n",
       "      <td>NaN</td>\n",
       "      <td>NaN</td>\n",
       "      <td>NaN</td>\n",
       "      <td>NaN</td>\n",
       "    </tr>\n",
       "    <tr>\n",
       "      <th>1</th>\n",
       "      <td>ERR6360438</td>\n",
       "      <td>t</td>\n",
       "      <td>SAMEA8995531</td>\n",
       "      <td>Severe acute respiratory syndrome coronavirus 2</td>\n",
       "      <td>PRJEB43166</td>\n",
       "      <td>ERX5991972</td>\n",
       "      <td>2021-07-26</td>\n",
       "      <td>2021-06-26</td>\n",
       "      <td>ILLUMINA</td>\n",
       "      <td>Illumina MiSeq</td>\n",
       "      <td>...</td>\n",
       "      <td>ES</td>\n",
       "      <td>ESP</td>\n",
       "      <td>Europe</td>\n",
       "      <td>EU</td>\n",
       "      <td>34.0</td>\n",
       "      <td>0.0</td>\n",
       "      <td>3.0</td>\n",
       "      <td>47.0</td>\n",
       "      <td>77.0</td>\n",
       "      <td>27.0</td>\n",
       "    </tr>\n",
       "    <tr>\n",
       "      <th>2</th>\n",
       "      <td>ERR6356169</td>\n",
       "      <td>t</td>\n",
       "      <td>SAMEA8993006</td>\n",
       "      <td>Severe acute respiratory syndrome coronavirus 2</td>\n",
       "      <td>PRJEB43166</td>\n",
       "      <td>ERX5987720</td>\n",
       "      <td>2021-07-23</td>\n",
       "      <td>2021-07-03</td>\n",
       "      <td>ILLUMINA</td>\n",
       "      <td>Illumina MiSeq</td>\n",
       "      <td>...</td>\n",
       "      <td>ES</td>\n",
       "      <td>ESP</td>\n",
       "      <td>Europe</td>\n",
       "      <td>EU</td>\n",
       "      <td>35.0</td>\n",
       "      <td>0.0</td>\n",
       "      <td>4.0</td>\n",
       "      <td>33.0</td>\n",
       "      <td>76.0</td>\n",
       "      <td>35.0</td>\n",
       "    </tr>\n",
       "    <tr>\n",
       "      <th>3</th>\n",
       "      <td>ERR6360437</td>\n",
       "      <td>t</td>\n",
       "      <td>SAMEA8995530</td>\n",
       "      <td>Severe acute respiratory syndrome coronavirus 2</td>\n",
       "      <td>PRJEB43166</td>\n",
       "      <td>ERX5991971</td>\n",
       "      <td>2021-07-26</td>\n",
       "      <td>2021-06-26</td>\n",
       "      <td>ILLUMINA</td>\n",
       "      <td>Illumina MiSeq</td>\n",
       "      <td>...</td>\n",
       "      <td>ES</td>\n",
       "      <td>ESP</td>\n",
       "      <td>Europe</td>\n",
       "      <td>EU</td>\n",
       "      <td>34.0</td>\n",
       "      <td>0.0</td>\n",
       "      <td>3.0</td>\n",
       "      <td>47.0</td>\n",
       "      <td>125.0</td>\n",
       "      <td>52.0</td>\n",
       "    </tr>\n",
       "    <tr>\n",
       "      <th>4</th>\n",
       "      <td>ERR6360435</td>\n",
       "      <td>t</td>\n",
       "      <td>SAMEA8995528</td>\n",
       "      <td>Severe acute respiratory syndrome coronavirus 2</td>\n",
       "      <td>PRJEB43166</td>\n",
       "      <td>ERX5991969</td>\n",
       "      <td>2021-07-26</td>\n",
       "      <td>2021-06-26</td>\n",
       "      <td>ILLUMINA</td>\n",
       "      <td>Illumina MiSeq</td>\n",
       "      <td>...</td>\n",
       "      <td>ES</td>\n",
       "      <td>ESP</td>\n",
       "      <td>Europe</td>\n",
       "      <td>EU</td>\n",
       "      <td>33.0</td>\n",
       "      <td>0.0</td>\n",
       "      <td>3.0</td>\n",
       "      <td>34.0</td>\n",
       "      <td>109.0</td>\n",
       "      <td>35.0</td>\n",
       "    </tr>\n",
       "  </tbody>\n",
       "</table>\n",
       "<p>5 rows × 44 columns</p>\n",
       "</div>"
      ],
      "text/plain": [
       "  run_accession finished sample_accession  \\\n",
       "0    ERR6356167        f     SAMEA8993004   \n",
       "1    ERR6360438        t     SAMEA8995531   \n",
       "2    ERR6356169        t     SAMEA8993006   \n",
       "3    ERR6360437        t     SAMEA8995530   \n",
       "4    ERR6360435        t     SAMEA8995528   \n",
       "\n",
       "                                   scientific_name study_accession  \\\n",
       "0  Severe acute respiratory syndrome coronavirus 2      PRJEB43166   \n",
       "1  Severe acute respiratory syndrome coronavirus 2      PRJEB43166   \n",
       "2  Severe acute respiratory syndrome coronavirus 2      PRJEB43166   \n",
       "3  Severe acute respiratory syndrome coronavirus 2      PRJEB43166   \n",
       "4  Severe acute respiratory syndrome coronavirus 2      PRJEB43166   \n",
       "\n",
       "  experiment_accession first_created collection_date instrument_platform  \\\n",
       "0           ERX5987718    2021-07-23      2021-07-03            ILLUMINA   \n",
       "1           ERX5991972    2021-07-26      2021-06-26            ILLUMINA   \n",
       "2           ERX5987720    2021-07-23      2021-07-03            ILLUMINA   \n",
       "3           ERX5991971    2021-07-26      2021-06-26            ILLUMINA   \n",
       "4           ERX5991969    2021-07-26      2021-06-26            ILLUMINA   \n",
       "\n",
       "  instrument_model  ... country_alpha_2  country_alpha_3 continent  \\\n",
       "0   Illumina MiSeq  ...              ES              ESP    Europe   \n",
       "1   Illumina MiSeq  ...              ES              ESP    Europe   \n",
       "2   Illumina MiSeq  ...              ES              ESP    Europe   \n",
       "3   Illumina MiSeq  ...              ES              ESP    Europe   \n",
       "4   Illumina MiSeq  ...              ES              ESP    Europe   \n",
       "\n",
       "  continent_alpha_2 count_snvs count_insertions  count_deletions  \\\n",
       "0                EU        NaN              NaN              NaN   \n",
       "1                EU       34.0              0.0              3.0   \n",
       "2                EU       35.0              0.0              4.0   \n",
       "3                EU       34.0              0.0              3.0   \n",
       "4                EU       33.0              0.0              3.0   \n",
       "\n",
       "   count_subclonal_snvs  count_subclonal_insertions  count_subclonal_deletions  \n",
       "0                   NaN                         NaN                        NaN  \n",
       "1                  47.0                        77.0                       27.0  \n",
       "2                  33.0                        76.0                       35.0  \n",
       "3                  47.0                       125.0                       52.0  \n",
       "4                  34.0                       109.0                       35.0  \n",
       "\n",
       "[5 rows x 44 columns]"
      ]
     },
     "execution_count": 5,
     "metadata": {},
     "output_type": "execute_result"
    }
   ],
   "source": [
    "samples = pd.read_csv(sample_table)\n",
    "samples.head()"
   ]
  },
  {
   "cell_type": "code",
   "execution_count": 6,
   "id": "0f133489-b890-465c-80e4-9c70ac02c266",
   "metadata": {},
   "outputs": [
    {
     "data": {
      "text/html": [
       "<div>\n",
       "<style scoped>\n",
       "    .dataframe tbody tr th:only-of-type {\n",
       "        vertical-align: middle;\n",
       "    }\n",
       "\n",
       "    .dataframe tbody tr th {\n",
       "        vertical-align: top;\n",
       "    }\n",
       "\n",
       "    .dataframe thead th {\n",
       "        text-align: right;\n",
       "    }\n",
       "</style>\n",
       "<table border=\"1\" class=\"dataframe\">\n",
       "  <thead>\n",
       "    <tr style=\"text-align: right;\">\n",
       "      <th></th>\n",
       "      <th>run_accession</th>\n",
       "      <th>status</th>\n",
       "      <th>created_at</th>\n",
       "      <th>queued_at</th>\n",
       "      <th>downloaded_at</th>\n",
       "      <th>analysed_at</th>\n",
       "      <th>cleaned_at</th>\n",
       "      <th>loaded_at</th>\n",
       "      <th>cooccurrence_at</th>\n",
       "      <th>failed_at</th>\n",
       "      <th>...</th>\n",
       "      <th>vcf_path</th>\n",
       "      <th>qc_path</th>\n",
       "      <th>horizontal_coverage_path</th>\n",
       "      <th>vertical_coverage_path</th>\n",
       "      <th>num_reads</th>\n",
       "      <th>covered_bases</th>\n",
       "      <th>coverage</th>\n",
       "      <th>mean_depth</th>\n",
       "      <th>mean_base_quality</th>\n",
       "      <th>mean_mapping_quality</th>\n",
       "    </tr>\n",
       "  </thead>\n",
       "  <tbody>\n",
       "    <tr>\n",
       "      <th>0</th>\n",
       "      <td>ERR6542323</td>\n",
       "      <td>FINISHED</td>\n",
       "      <td>2021-08-27 08:49:27.078335+02</td>\n",
       "      <td>2021-09-28 22:05:37.516373+02</td>\n",
       "      <td>2021-09-29 03:57:10.596071+02</td>\n",
       "      <td>2021-09-29 04:04:19.620247+02</td>\n",
       "      <td>NaN</td>\n",
       "      <td>2021-09-29 04:04:21.165466+02</td>\n",
       "      <td>2021-09-29 04:04:24.839144+02</td>\n",
       "      <td>2021-09-28 21:44:56.926702+02</td>\n",
       "      <td>...</td>\n",
       "      <td>/scratch/info/projects/covigator/data/ena/ERR6...</td>\n",
       "      <td>/scratch/info/projects/covigator/data/ena/ERR6...</td>\n",
       "      <td>/scratch/info/projects/covigator/data/ena/ERR6...</td>\n",
       "      <td>/scratch/info/projects/covigator/data/ena/ERR6...</td>\n",
       "      <td>28035.0</td>\n",
       "      <td>29903.0</td>\n",
       "      <td>100.0000</td>\n",
       "      <td>132.765</td>\n",
       "      <td>35.9</td>\n",
       "      <td>60.0</td>\n",
       "    </tr>\n",
       "    <tr>\n",
       "      <th>1</th>\n",
       "      <td>SRR16040540</td>\n",
       "      <td>FAILED_PROCESSING</td>\n",
       "      <td>2021-09-29 20:34:58.832106+02</td>\n",
       "      <td>2021-10-09 10:42:12.908603+02</td>\n",
       "      <td>NaN</td>\n",
       "      <td>NaN</td>\n",
       "      <td>NaN</td>\n",
       "      <td>NaN</td>\n",
       "      <td>NaN</td>\n",
       "      <td>2021-10-10 03:48:08.66686+02</td>\n",
       "      <td>...</td>\n",
       "      <td>NaN</td>\n",
       "      <td>NaN</td>\n",
       "      <td>NaN</td>\n",
       "      <td>NaN</td>\n",
       "      <td>NaN</td>\n",
       "      <td>NaN</td>\n",
       "      <td>NaN</td>\n",
       "      <td>NaN</td>\n",
       "      <td>NaN</td>\n",
       "      <td>NaN</td>\n",
       "    </tr>\n",
       "    <tr>\n",
       "      <th>2</th>\n",
       "      <td>SRR12380016</td>\n",
       "      <td>EXCLUDED</td>\n",
       "      <td>2021-10-09 09:03:31.296565+02</td>\n",
       "      <td>2021-10-09 10:39:59.981645+02</td>\n",
       "      <td>NaN</td>\n",
       "      <td>NaN</td>\n",
       "      <td>NaN</td>\n",
       "      <td>NaN</td>\n",
       "      <td>NaN</td>\n",
       "      <td>2021-10-09 19:37:38.904806+02</td>\n",
       "      <td>...</td>\n",
       "      <td>NaN</td>\n",
       "      <td>NaN</td>\n",
       "      <td>NaN</td>\n",
       "      <td>NaN</td>\n",
       "      <td>NaN</td>\n",
       "      <td>NaN</td>\n",
       "      <td>NaN</td>\n",
       "      <td>NaN</td>\n",
       "      <td>NaN</td>\n",
       "      <td>NaN</td>\n",
       "    </tr>\n",
       "    <tr>\n",
       "      <th>3</th>\n",
       "      <td>SRR12733630</td>\n",
       "      <td>EXCLUDED</td>\n",
       "      <td>2021-10-09 09:03:31.296565+02</td>\n",
       "      <td>2021-10-09 10:39:56.968163+02</td>\n",
       "      <td>NaN</td>\n",
       "      <td>NaN</td>\n",
       "      <td>NaN</td>\n",
       "      <td>NaN</td>\n",
       "      <td>NaN</td>\n",
       "      <td>2021-10-09 20:03:07.516184+02</td>\n",
       "      <td>...</td>\n",
       "      <td>NaN</td>\n",
       "      <td>NaN</td>\n",
       "      <td>NaN</td>\n",
       "      <td>NaN</td>\n",
       "      <td>NaN</td>\n",
       "      <td>NaN</td>\n",
       "      <td>NaN</td>\n",
       "      <td>NaN</td>\n",
       "      <td>NaN</td>\n",
       "      <td>NaN</td>\n",
       "    </tr>\n",
       "    <tr>\n",
       "      <th>4</th>\n",
       "      <td>ERR6445714</td>\n",
       "      <td>FINISHED</td>\n",
       "      <td>2021-08-27 08:49:27.078335+02</td>\n",
       "      <td>2021-09-28 22:05:37.585955+02</td>\n",
       "      <td>2021-09-29 03:58:28.207788+02</td>\n",
       "      <td>2021-09-29 04:04:42.919961+02</td>\n",
       "      <td>NaN</td>\n",
       "      <td>2021-09-29 04:04:43.863973+02</td>\n",
       "      <td>2021-09-29 04:04:47.498311+02</td>\n",
       "      <td>2021-09-28 21:44:58.181657+02</td>\n",
       "      <td>...</td>\n",
       "      <td>/scratch/info/projects/covigator/data/ena/ERR6...</td>\n",
       "      <td>/scratch/info/projects/covigator/data/ena/ERR6...</td>\n",
       "      <td>/scratch/info/projects/covigator/data/ena/ERR6...</td>\n",
       "      <td>/scratch/info/projects/covigator/data/ena/ERR6...</td>\n",
       "      <td>2133.0</td>\n",
       "      <td>28584.0</td>\n",
       "      <td>95.5891</td>\n",
       "      <td>15.115</td>\n",
       "      <td>35.5</td>\n",
       "      <td>60.0</td>\n",
       "    </tr>\n",
       "  </tbody>\n",
       "</table>\n",
       "<p>5 rows × 22 columns</p>\n",
       "</div>"
      ],
      "text/plain": [
       "  run_accession             status                     created_at  \\\n",
       "0    ERR6542323           FINISHED  2021-08-27 08:49:27.078335+02   \n",
       "1   SRR16040540  FAILED_PROCESSING  2021-09-29 20:34:58.832106+02   \n",
       "2   SRR12380016           EXCLUDED  2021-10-09 09:03:31.296565+02   \n",
       "3   SRR12733630           EXCLUDED  2021-10-09 09:03:31.296565+02   \n",
       "4    ERR6445714           FINISHED  2021-08-27 08:49:27.078335+02   \n",
       "\n",
       "                       queued_at                  downloaded_at  \\\n",
       "0  2021-09-28 22:05:37.516373+02  2021-09-29 03:57:10.596071+02   \n",
       "1  2021-10-09 10:42:12.908603+02                            NaN   \n",
       "2  2021-10-09 10:39:59.981645+02                            NaN   \n",
       "3  2021-10-09 10:39:56.968163+02                            NaN   \n",
       "4  2021-09-28 22:05:37.585955+02  2021-09-29 03:58:28.207788+02   \n",
       "\n",
       "                     analysed_at  cleaned_at                      loaded_at  \\\n",
       "0  2021-09-29 04:04:19.620247+02         NaN  2021-09-29 04:04:21.165466+02   \n",
       "1                            NaN         NaN                            NaN   \n",
       "2                            NaN         NaN                            NaN   \n",
       "3                            NaN         NaN                            NaN   \n",
       "4  2021-09-29 04:04:42.919961+02         NaN  2021-09-29 04:04:43.863973+02   \n",
       "\n",
       "                 cooccurrence_at                      failed_at  ...  \\\n",
       "0  2021-09-29 04:04:24.839144+02  2021-09-28 21:44:56.926702+02  ...   \n",
       "1                            NaN   2021-10-10 03:48:08.66686+02  ...   \n",
       "2                            NaN  2021-10-09 19:37:38.904806+02  ...   \n",
       "3                            NaN  2021-10-09 20:03:07.516184+02  ...   \n",
       "4  2021-09-29 04:04:47.498311+02  2021-09-28 21:44:58.181657+02  ...   \n",
       "\n",
       "                                            vcf_path  \\\n",
       "0  /scratch/info/projects/covigator/data/ena/ERR6...   \n",
       "1                                                NaN   \n",
       "2                                                NaN   \n",
       "3                                                NaN   \n",
       "4  /scratch/info/projects/covigator/data/ena/ERR6...   \n",
       "\n",
       "                                             qc_path  \\\n",
       "0  /scratch/info/projects/covigator/data/ena/ERR6...   \n",
       "1                                                NaN   \n",
       "2                                                NaN   \n",
       "3                                                NaN   \n",
       "4  /scratch/info/projects/covigator/data/ena/ERR6...   \n",
       "\n",
       "                            horizontal_coverage_path  \\\n",
       "0  /scratch/info/projects/covigator/data/ena/ERR6...   \n",
       "1                                                NaN   \n",
       "2                                                NaN   \n",
       "3                                                NaN   \n",
       "4  /scratch/info/projects/covigator/data/ena/ERR6...   \n",
       "\n",
       "                              vertical_coverage_path num_reads covered_bases  \\\n",
       "0  /scratch/info/projects/covigator/data/ena/ERR6...   28035.0       29903.0   \n",
       "1                                                NaN       NaN           NaN   \n",
       "2                                                NaN       NaN           NaN   \n",
       "3                                                NaN       NaN           NaN   \n",
       "4  /scratch/info/projects/covigator/data/ena/ERR6...    2133.0       28584.0   \n",
       "\n",
       "   coverage  mean_depth  mean_base_quality  mean_mapping_quality  \n",
       "0  100.0000     132.765               35.9                  60.0  \n",
       "1       NaN         NaN                NaN                   NaN  \n",
       "2       NaN         NaN                NaN                   NaN  \n",
       "3       NaN         NaN                NaN                   NaN  \n",
       "4   95.5891      15.115               35.5                  60.0  \n",
       "\n",
       "[5 rows x 22 columns]"
      ]
     },
     "execution_count": 6,
     "metadata": {},
     "output_type": "execute_result"
    }
   ],
   "source": [
    "jobs = pd.read_csv(jobs_table)\n",
    "jobs.head()"
   ]
  },
  {
   "cell_type": "code",
   "execution_count": 7,
   "id": "2ef4f487-711a-43ec-ba94-257b905fa9cf",
   "metadata": {},
   "outputs": [
    {
     "data": {
      "text/html": [
       "<div>\n",
       "<style scoped>\n",
       "    .dataframe tbody tr th:only-of-type {\n",
       "        vertical-align: middle;\n",
       "    }\n",
       "\n",
       "    .dataframe tbody tr th {\n",
       "        vertical-align: top;\n",
       "    }\n",
       "\n",
       "    .dataframe thead th {\n",
       "        text-align: right;\n",
       "    }\n",
       "</style>\n",
       "<table border=\"1\" class=\"dataframe\">\n",
       "  <thead>\n",
       "    <tr style=\"text-align: right;\">\n",
       "      <th></th>\n",
       "      <th>source</th>\n",
       "      <th>sample</th>\n",
       "      <th>variant_id</th>\n",
       "      <th>chromosome</th>\n",
       "      <th>position</th>\n",
       "      <th>reference</th>\n",
       "      <th>alternate</th>\n",
       "      <th>quality</th>\n",
       "      <th>filter</th>\n",
       "      <th>dp</th>\n",
       "      <th>...</th>\n",
       "      <th>variant_type</th>\n",
       "      <th>length</th>\n",
       "      <th>reference_amino_acid</th>\n",
       "      <th>alternate_amino_acid</th>\n",
       "      <th>position_amino_acid</th>\n",
       "      <th>cons_hmm_sars_cov_2</th>\n",
       "      <th>cons_hmm_sarbecovirus</th>\n",
       "      <th>cons_hmm_vertebrate_cov</th>\n",
       "      <th>pfam_name</th>\n",
       "      <th>pfam_description</th>\n",
       "    </tr>\n",
       "  </thead>\n",
       "  <tbody>\n",
       "    <tr>\n",
       "      <th>0</th>\n",
       "      <td>ENA</td>\n",
       "      <td>ERR6426655</td>\n",
       "      <td>26217:G&gt;T</td>\n",
       "      <td>MN908947.3</td>\n",
       "      <td>26217</td>\n",
       "      <td>G</td>\n",
       "      <td>T</td>\n",
       "      <td>41200.0</td>\n",
       "      <td>NaN</td>\n",
       "      <td>1194.0</td>\n",
       "      <td>...</td>\n",
       "      <td>SNV</td>\n",
       "      <td>0</td>\n",
       "      <td>L</td>\n",
       "      <td>F</td>\n",
       "      <td>275.0</td>\n",
       "      <td>-0.35633</td>\n",
       "      <td>-0.35633</td>\n",
       "      <td>0.00000</td>\n",
       "      <td>NaN</td>\n",
       "      <td>NaN</td>\n",
       "    </tr>\n",
       "    <tr>\n",
       "      <th>1</th>\n",
       "      <td>ENA</td>\n",
       "      <td>ERR6405909</td>\n",
       "      <td>21301:C&gt;A</td>\n",
       "      <td>MN908947.3</td>\n",
       "      <td>21301</td>\n",
       "      <td>C</td>\n",
       "      <td>A</td>\n",
       "      <td>16308.0</td>\n",
       "      <td>NaN</td>\n",
       "      <td>443.0</td>\n",
       "      <td>...</td>\n",
       "      <td>SNV</td>\n",
       "      <td>0</td>\n",
       "      <td>N</td>\n",
       "      <td>K</td>\n",
       "      <td>7012.0</td>\n",
       "      <td>0.00000</td>\n",
       "      <td>0.57215</td>\n",
       "      <td>-0.72839</td>\n",
       "      <td>CoV_Methyltr_2</td>\n",
       "      <td>Non-structural protein NSP16, coronavirus-like</td>\n",
       "    </tr>\n",
       "    <tr>\n",
       "      <th>2</th>\n",
       "      <td>ENA</td>\n",
       "      <td>ERR6424166</td>\n",
       "      <td>26424:T&gt;C</td>\n",
       "      <td>MN908947.3</td>\n",
       "      <td>26424</td>\n",
       "      <td>T</td>\n",
       "      <td>C</td>\n",
       "      <td>49314.0</td>\n",
       "      <td>NaN</td>\n",
       "      <td>1655.0</td>\n",
       "      <td>...</td>\n",
       "      <td>SNV</td>\n",
       "      <td>0</td>\n",
       "      <td>NaN</td>\n",
       "      <td>NaN</td>\n",
       "      <td>NaN</td>\n",
       "      <td>0.00000</td>\n",
       "      <td>0.00000</td>\n",
       "      <td>0.00000</td>\n",
       "      <td>CoV_E</td>\n",
       "      <td>Envelope small membrane protein, coronavirus</td>\n",
       "    </tr>\n",
       "    <tr>\n",
       "      <th>3</th>\n",
       "      <td>ENA</td>\n",
       "      <td>ERR6424166</td>\n",
       "      <td>24334:C&gt;T</td>\n",
       "      <td>MN908947.3</td>\n",
       "      <td>24334</td>\n",
       "      <td>C</td>\n",
       "      <td>T</td>\n",
       "      <td>13602.0</td>\n",
       "      <td>NaN</td>\n",
       "      <td>387.0</td>\n",
       "      <td>...</td>\n",
       "      <td>SNV</td>\n",
       "      <td>0</td>\n",
       "      <td>NaN</td>\n",
       "      <td>NaN</td>\n",
       "      <td>NaN</td>\n",
       "      <td>-0.72839</td>\n",
       "      <td>0.00000</td>\n",
       "      <td>-0.72839</td>\n",
       "      <td>CoV_S2</td>\n",
       "      <td>Spike glycoprotein S2, coronavirus</td>\n",
       "    </tr>\n",
       "    <tr>\n",
       "      <th>4</th>\n",
       "      <td>ENA</td>\n",
       "      <td>ERR6412149</td>\n",
       "      <td>1684:C&gt;T</td>\n",
       "      <td>MN908947.3</td>\n",
       "      <td>1684</td>\n",
       "      <td>C</td>\n",
       "      <td>T</td>\n",
       "      <td>30130.0</td>\n",
       "      <td>NaN</td>\n",
       "      <td>832.0</td>\n",
       "      <td>...</td>\n",
       "      <td>SNV</td>\n",
       "      <td>0</td>\n",
       "      <td>NaN</td>\n",
       "      <td>NaN</td>\n",
       "      <td>NaN</td>\n",
       "      <td>-1.04511</td>\n",
       "      <td>-1.04511</td>\n",
       "      <td>0.00000</td>\n",
       "      <td>NaN</td>\n",
       "      <td>NaN</td>\n",
       "    </tr>\n",
       "  </tbody>\n",
       "</table>\n",
       "<p>5 rows × 34 columns</p>\n",
       "</div>"
      ],
      "text/plain": [
       "  source      sample variant_id  chromosome  position reference alternate  \\\n",
       "0    ENA  ERR6426655  26217:G>T  MN908947.3     26217         G         T   \n",
       "1    ENA  ERR6405909  21301:C>A  MN908947.3     21301         C         A   \n",
       "2    ENA  ERR6424166  26424:T>C  MN908947.3     26424         T         C   \n",
       "3    ENA  ERR6424166  24334:C>T  MN908947.3     24334         C         T   \n",
       "4    ENA  ERR6412149   1684:C>T  MN908947.3      1684         C         T   \n",
       "\n",
       "   quality  filter      dp  ...  variant_type  length  reference_amino_acid  \\\n",
       "0  41200.0     NaN  1194.0  ...           SNV       0                     L   \n",
       "1  16308.0     NaN   443.0  ...           SNV       0                     N   \n",
       "2  49314.0     NaN  1655.0  ...           SNV       0                   NaN   \n",
       "3  13602.0     NaN   387.0  ...           SNV       0                   NaN   \n",
       "4  30130.0     NaN   832.0  ...           SNV       0                   NaN   \n",
       "\n",
       "   alternate_amino_acid  position_amino_acid  cons_hmm_sars_cov_2  \\\n",
       "0                     F                275.0             -0.35633   \n",
       "1                     K               7012.0              0.00000   \n",
       "2                   NaN                  NaN              0.00000   \n",
       "3                   NaN                  NaN             -0.72839   \n",
       "4                   NaN                  NaN             -1.04511   \n",
       "\n",
       "  cons_hmm_sarbecovirus cons_hmm_vertebrate_cov       pfam_name  \\\n",
       "0              -0.35633                 0.00000             NaN   \n",
       "1               0.57215                -0.72839  CoV_Methyltr_2   \n",
       "2               0.00000                 0.00000           CoV_E   \n",
       "3               0.00000                -0.72839          CoV_S2   \n",
       "4              -1.04511                 0.00000             NaN   \n",
       "\n",
       "                                 pfam_description  \n",
       "0                                             NaN  \n",
       "1  Non-structural protein NSP16, coronavirus-like  \n",
       "2    Envelope small membrane protein, coronavirus  \n",
       "3              Spike glycoprotein S2, coronavirus  \n",
       "4                                             NaN  \n",
       "\n",
       "[5 rows x 34 columns]"
      ]
     },
     "execution_count": 7,
     "metadata": {},
     "output_type": "execute_result"
    }
   ],
   "source": [
    "variants = pd.read_csv(variants_table)\n",
    "variants.head()"
   ]
  },
  {
   "cell_type": "markdown",
   "id": "9137e742-e76a-488f-b882-d6ae04bfb7bb",
   "metadata": {},
   "source": [
    "### Data filtering criteria\n",
    "\n",
    "We exclude samples from other strategy than WGA, WGS or targeted-capture; in particular due to historical reasons we have in our table RNA-Seq samples. Furthermore, samples that failed to be processed by the pipeline or that were excluded due to quality criteria."
   ]
  },
  {
   "cell_type": "code",
   "execution_count": 8,
   "id": "559c9c3d-2e9b-463c-bd09-b7594d2782dc",
   "metadata": {},
   "outputs": [],
   "source": [
    "samples = pd.merge(samples, jobs, on=\"run_accession\")"
   ]
  },
  {
   "cell_type": "code",
   "execution_count": 9,
   "id": "9a877a9d-1552-49fc-9236-9f7091cbb1c5",
   "metadata": {},
   "outputs": [
    {
     "data": {
      "text/plain": [
       "FINISHED             48844\n",
       "EXCLUDED              6230\n",
       "FAILED_PROCESSING     4701\n",
       "Name: status, dtype: int64"
      ]
     },
     "execution_count": 9,
     "metadata": {},
     "output_type": "execute_result"
    }
   ],
   "source": [
    "samples.status.value_counts()"
   ]
  },
  {
   "cell_type": "code",
   "execution_count": 10,
   "id": "6b54e687-fbf0-4638-99fc-887a892492a8",
   "metadata": {},
   "outputs": [
    {
     "data": {
      "text/plain": [
       "t    48844\n",
       "f    10931\n",
       "Name: finished, dtype: int64"
      ]
     },
     "execution_count": 10,
     "metadata": {},
     "output_type": "execute_result"
    }
   ],
   "source": [
    "samples.finished.value_counts()"
   ]
  },
  {
   "cell_type": "code",
   "execution_count": 11,
   "id": "19696119-5590-4ce6-b130-4cde6bfe5420",
   "metadata": {},
   "outputs": [],
   "source": [
    "samples = samples[samples.finished == \"t\"]"
   ]
  },
  {
   "cell_type": "code",
   "execution_count": 12,
   "id": "c136dcce-a3fc-4066-874e-654d214a5f92",
   "metadata": {},
   "outputs": [
    {
     "data": {
      "text/plain": [
       "FINISHED    48844\n",
       "Name: status, dtype: int64"
      ]
     },
     "execution_count": 12,
     "metadata": {},
     "output_type": "execute_result"
    }
   ],
   "source": [
    "samples.status.value_counts()"
   ]
  },
  {
   "cell_type": "code",
   "execution_count": 13,
   "id": "c4ba9236-2ac4-4b09-9c78-bcbf9b7b7be8",
   "metadata": {},
   "outputs": [
    {
     "data": {
      "text/plain": [
       "(969319, 34)"
      ]
     },
     "execution_count": 13,
     "metadata": {},
     "output_type": "execute_result"
    }
   ],
   "source": [
    "variants.shape"
   ]
  },
  {
   "cell_type": "code",
   "execution_count": 14,
   "id": "5cb22e11-4d22-4dc5-a60a-fd388fa39ab6",
   "metadata": {},
   "outputs": [
    {
     "data": {
      "text/plain": [
       "(969148, 34)"
      ]
     },
     "execution_count": 14,
     "metadata": {},
     "output_type": "execute_result"
    }
   ],
   "source": [
    "variants = variants[variants[\"sample\"].isin(samples.run_accession)]\n",
    "variants.shape"
   ]
  },
  {
   "cell_type": "markdown",
   "id": "b989f198-20cc-4210-ada8-a23d31a7a976",
   "metadata": {},
   "source": [
    "## Use of library strategies through time"
   ]
  },
  {
   "cell_type": "code",
   "execution_count": 15,
   "id": "759c378b-6dfe-4c9d-9061-ae32d6183fb9",
   "metadata": {},
   "outputs": [
    {
     "data": {
      "image/png": "[encoded data removed]",
      "text/plain": [
       "<Figure size 1440x576 with 1 Axes>"
      ]
     },
     "metadata": {
      "needs_background": "light"
     },
     "output_type": "display_data"
    }
   ],
   "source": [
    "samples[\"month\"] = pd.to_datetime(samples.collection_date, format='%Y-%m-%d', errors='coerce').dt.to_period('m')\n",
    "fig, ax = plt.subplots(1, 1, figsize=(20, 8))\n",
    "splot = sns.barplot(data=samples[[\"library_strategy\", \"run_accession\", \"month\"]].groupby([\"month\", \"library_strategy\"]).count().reset_index(), \n",
    "            y=\"run_accession\", x=\"month\", hue='library_strategy')\n",
    "plt.xticks(rotation=30)\n",
    "ax.legend(loc='upper right')\n",
    "splot.set(xlabel=None, ylabel=None)\n",
    "sns.despine(bottom=True, left=True)\n",
    "plt.ylabel(\"num. samples\")\n",
    "plt.grid(axis=\"y\")\n",
    "fig.savefig(\"figure_00_distribution_samples_through_time_by_library_strategy.jpg\", dpi=200)"
   ]
  },
  {
   "cell_type": "markdown",
   "id": "fe4e25f9-c25b-486e-a7e0-d01eb93ad94f",
   "metadata": {},
   "source": [
    "## Number of mutations per sample\n",
    "\n",
    "We found an outlier WGA sample having 162 mutations, the next sample with more mutation has less than 60 mutations.\n",
    "We will exclude this sample from further analysis.\n",
    "\n",
    "We normalise the number of samples by the total number of samples.\n",
    "\n",
    "We observed three peaks in number of mutations at just below 10 mutations, just below 20 mutations and just below 40 mutations. \n",
    "The third peak is observed for the three library strategies. The first and and second peaks show more variability.\n",
    "The library strategy more different from the others in terms of number of mutations is the targeted capture, which would make sense if the targeted region is very different."
   ]
  },
  {
   "cell_type": "code",
   "execution_count": 16,
   "id": "a5af5db9-262f-4114-a1fc-1f6853629e24",
   "metadata": {},
   "outputs": [
    {
     "data": {
      "text/html": [
       "<div>\n",
       "<style scoped>\n",
       "    .dataframe tbody tr th:only-of-type {\n",
       "        vertical-align: middle;\n",
       "    }\n",
       "\n",
       "    .dataframe tbody tr th {\n",
       "        vertical-align: top;\n",
       "    }\n",
       "\n",
       "    .dataframe thead th {\n",
       "        text-align: right;\n",
       "    }\n",
       "</style>\n",
       "<table border=\"1\" class=\"dataframe\">\n",
       "  <thead>\n",
       "    <tr style=\"text-align: right;\">\n",
       "      <th></th>\n",
       "      <th>sample</th>\n",
       "      <th>variant_id</th>\n",
       "      <th>library_strategy</th>\n",
       "    </tr>\n",
       "  </thead>\n",
       "  <tbody>\n",
       "    <tr>\n",
       "      <th>0</th>\n",
       "      <td>DRR287659</td>\n",
       "      <td>1</td>\n",
       "      <td>WGS</td>\n",
       "    </tr>\n",
       "    <tr>\n",
       "      <th>1</th>\n",
       "      <td>DRR287660</td>\n",
       "      <td>1</td>\n",
       "      <td>WGS</td>\n",
       "    </tr>\n",
       "    <tr>\n",
       "      <th>2</th>\n",
       "      <td>DRR287661</td>\n",
       "      <td>1</td>\n",
       "      <td>WGS</td>\n",
       "    </tr>\n",
       "    <tr>\n",
       "      <th>3</th>\n",
       "      <td>DRR287662</td>\n",
       "      <td>1</td>\n",
       "      <td>WGS</td>\n",
       "    </tr>\n",
       "    <tr>\n",
       "      <th>4</th>\n",
       "      <td>DRR287663</td>\n",
       "      <td>3</td>\n",
       "      <td>WGS</td>\n",
       "    </tr>\n",
       "  </tbody>\n",
       "</table>\n",
       "</div>"
      ],
      "text/plain": [
       "      sample  variant_id library_strategy\n",
       "0  DRR287659           1              WGS\n",
       "1  DRR287660           1              WGS\n",
       "2  DRR287661           1              WGS\n",
       "3  DRR287662           1              WGS\n",
       "4  DRR287663           3              WGS"
      ]
     },
     "execution_count": 16,
     "metadata": {},
     "output_type": "execute_result"
    }
   ],
   "source": [
    "variants_per_sample = variants[[\"sample\", \"variant_id\"]].groupby(\"sample\").count().reset_index()\n",
    "variants_per_sample = pd.merge(variants_per_sample, samples[[\"run_accession\", \"library_strategy\"]], left_on=\"sample\", right_on=\"run_accession\")\n",
    "del variants_per_sample[\"run_accession\"]\n",
    "variants_per_sample.head()"
   ]
  },
  {
   "cell_type": "code",
   "execution_count": 17,
   "id": "46e110a6-1eec-425e-a897-02e5ca795d4b",
   "metadata": {},
   "outputs": [
    {
     "data": {
      "text/html": [
       "<div>\n",
       "<style scoped>\n",
       "    .dataframe tbody tr th:only-of-type {\n",
       "        vertical-align: middle;\n",
       "    }\n",
       "\n",
       "    .dataframe tbody tr th {\n",
       "        vertical-align: top;\n",
       "    }\n",
       "\n",
       "    .dataframe thead th {\n",
       "        text-align: right;\n",
       "    }\n",
       "</style>\n",
       "<table border=\"1\" class=\"dataframe\">\n",
       "  <thead>\n",
       "    <tr style=\"text-align: right;\">\n",
       "      <th></th>\n",
       "      <th>library_strategy</th>\n",
       "      <th>variant_id</th>\n",
       "      <th>sample</th>\n",
       "    </tr>\n",
       "  </thead>\n",
       "  <tbody>\n",
       "    <tr>\n",
       "      <th>0</th>\n",
       "      <td>Targeted-Capture</td>\n",
       "      <td>1</td>\n",
       "      <td>151</td>\n",
       "    </tr>\n",
       "    <tr>\n",
       "      <th>1</th>\n",
       "      <td>Targeted-Capture</td>\n",
       "      <td>2</td>\n",
       "      <td>164</td>\n",
       "    </tr>\n",
       "    <tr>\n",
       "      <th>2</th>\n",
       "      <td>Targeted-Capture</td>\n",
       "      <td>3</td>\n",
       "      <td>170</td>\n",
       "    </tr>\n",
       "    <tr>\n",
       "      <th>3</th>\n",
       "      <td>Targeted-Capture</td>\n",
       "      <td>4</td>\n",
       "      <td>213</td>\n",
       "    </tr>\n",
       "    <tr>\n",
       "      <th>4</th>\n",
       "      <td>Targeted-Capture</td>\n",
       "      <td>5</td>\n",
       "      <td>263</td>\n",
       "    </tr>\n",
       "  </tbody>\n",
       "</table>\n",
       "</div>"
      ],
      "text/plain": [
       "   library_strategy  variant_id  sample\n",
       "0  Targeted-Capture           1     151\n",
       "1  Targeted-Capture           2     164\n",
       "2  Targeted-Capture           3     170\n",
       "3  Targeted-Capture           4     213\n",
       "4  Targeted-Capture           5     263"
      ]
     },
     "execution_count": 17,
     "metadata": {},
     "output_type": "execute_result"
    }
   ],
   "source": [
    "num_samples_per_variant_count = variants_per_sample.groupby([\"library_strategy\", \"variant_id\"]).count().reset_index()\n",
    "num_samples_per_variant_count.head()"
   ]
  },
  {
   "cell_type": "code",
   "execution_count": 18,
   "id": "de19c60a-c513-465a-a329-c85b6780207c",
   "metadata": {},
   "outputs": [
    {
     "data": {
      "text/html": [
       "<div>\n",
       "<style scoped>\n",
       "    .dataframe tbody tr th:only-of-type {\n",
       "        vertical-align: middle;\n",
       "    }\n",
       "\n",
       "    .dataframe tbody tr th {\n",
       "        vertical-align: top;\n",
       "    }\n",
       "\n",
       "    .dataframe thead th {\n",
       "        text-align: right;\n",
       "    }\n",
       "</style>\n",
       "<table border=\"1\" class=\"dataframe\">\n",
       "  <thead>\n",
       "    <tr style=\"text-align: right;\">\n",
       "      <th></th>\n",
       "      <th>library_strategy</th>\n",
       "      <th>total_samples</th>\n",
       "    </tr>\n",
       "  </thead>\n",
       "  <tbody>\n",
       "    <tr>\n",
       "      <th>0</th>\n",
       "      <td>WGA</td>\n",
       "      <td>19660</td>\n",
       "    </tr>\n",
       "    <tr>\n",
       "      <th>1</th>\n",
       "      <td>WGS</td>\n",
       "      <td>14825</td>\n",
       "    </tr>\n",
       "    <tr>\n",
       "      <th>2</th>\n",
       "      <td>Targeted-Capture</td>\n",
       "      <td>14359</td>\n",
       "    </tr>\n",
       "  </tbody>\n",
       "</table>\n",
       "</div>"
      ],
      "text/plain": [
       "   library_strategy  total_samples\n",
       "0               WGA          19660\n",
       "1               WGS          14825\n",
       "2  Targeted-Capture          14359"
      ]
     },
     "execution_count": 18,
     "metadata": {},
     "output_type": "execute_result"
    }
   ],
   "source": [
    "count_samples_by_library_strategy = samples.library_strategy.value_counts().reset_index().rename(\n",
    "    columns={\"index\": \"library_strategy\", \"library_strategy\": \"total_samples\"})\n",
    "count_samples_by_library_strategy"
   ]
  },
  {
   "cell_type": "code",
   "execution_count": 19,
   "id": "84c1e68e-39a9-4990-b254-8f34896f558e",
   "metadata": {},
   "outputs": [
    {
     "data": {
      "text/html": [
       "<div>\n",
       "<style scoped>\n",
       "    .dataframe tbody tr th:only-of-type {\n",
       "        vertical-align: middle;\n",
       "    }\n",
       "\n",
       "    .dataframe tbody tr th {\n",
       "        vertical-align: top;\n",
       "    }\n",
       "\n",
       "    .dataframe thead th {\n",
       "        text-align: right;\n",
       "    }\n",
       "</style>\n",
       "<table border=\"1\" class=\"dataframe\">\n",
       "  <thead>\n",
       "    <tr style=\"text-align: right;\">\n",
       "      <th></th>\n",
       "      <th>library_strategy</th>\n",
       "      <th>variant_id</th>\n",
       "      <th>sample</th>\n",
       "      <th>total_samples</th>\n",
       "      <th>sample_normalised</th>\n",
       "    </tr>\n",
       "  </thead>\n",
       "  <tbody>\n",
       "    <tr>\n",
       "      <th>0</th>\n",
       "      <td>Targeted-Capture</td>\n",
       "      <td>1</td>\n",
       "      <td>151</td>\n",
       "      <td>14359</td>\n",
       "      <td>0.010516</td>\n",
       "    </tr>\n",
       "    <tr>\n",
       "      <th>1</th>\n",
       "      <td>Targeted-Capture</td>\n",
       "      <td>2</td>\n",
       "      <td>164</td>\n",
       "      <td>14359</td>\n",
       "      <td>0.011421</td>\n",
       "    </tr>\n",
       "    <tr>\n",
       "      <th>2</th>\n",
       "      <td>Targeted-Capture</td>\n",
       "      <td>3</td>\n",
       "      <td>170</td>\n",
       "      <td>14359</td>\n",
       "      <td>0.011839</td>\n",
       "    </tr>\n",
       "    <tr>\n",
       "      <th>3</th>\n",
       "      <td>Targeted-Capture</td>\n",
       "      <td>4</td>\n",
       "      <td>213</td>\n",
       "      <td>14359</td>\n",
       "      <td>0.014834</td>\n",
       "    </tr>\n",
       "    <tr>\n",
       "      <th>4</th>\n",
       "      <td>Targeted-Capture</td>\n",
       "      <td>5</td>\n",
       "      <td>263</td>\n",
       "      <td>14359</td>\n",
       "      <td>0.018316</td>\n",
       "    </tr>\n",
       "  </tbody>\n",
       "</table>\n",
       "</div>"
      ],
      "text/plain": [
       "   library_strategy  variant_id  sample  total_samples  sample_normalised\n",
       "0  Targeted-Capture           1     151          14359           0.010516\n",
       "1  Targeted-Capture           2     164          14359           0.011421\n",
       "2  Targeted-Capture           3     170          14359           0.011839\n",
       "3  Targeted-Capture           4     213          14359           0.014834\n",
       "4  Targeted-Capture           5     263          14359           0.018316"
      ]
     },
     "execution_count": 19,
     "metadata": {},
     "output_type": "execute_result"
    }
   ],
   "source": [
    "num_samples_per_variant_count = pd.merge(num_samples_per_variant_count, count_samples_by_library_strategy, on=\"library_strategy\")\n",
    "num_samples_per_variant_count[\"sample_normalised\"] = num_samples_per_variant_count[\"sample\"] / num_samples_per_variant_count[\"total_samples\"]\n",
    "num_samples_per_variant_count.head()"
   ]
  },
  {
   "cell_type": "code",
   "execution_count": 20,
   "id": "55da3e39-e43d-4878-8a4e-a7495c11231a",
   "metadata": {},
   "outputs": [
    {
     "data": {
      "image/png": "[encoded data removed]",
      "text/plain": [
       "<Figure size 1440x576 with 1 Axes>"
      ]
     },
     "metadata": {
      "needs_background": "light"
     },
     "output_type": "display_data"
    }
   ],
   "source": [
    "plt.figure(figsize=(20, 8))\n",
    "sns.lineplot(data=num_samples_per_variant_count, x=\"variant_id\", y=\"sample_normalised\", hue=\"library_strategy\", legend=False, linestyle=\"--\")\n",
    "sns.scatterplot(data=num_samples_per_variant_count, x=\"variant_id\", y=\"sample_normalised\", hue=\"library_strategy\", style=\"library_strategy\", legend=True)\n",
    "plt.xticks(rotation=30)\n",
    "plt.title(\"\")\n",
    "plt.ylabel(\"num. samples / total samples\")\n",
    "plt.xlabel(\"num. mutations\")\n",
    "plt.legend(title=None)\n",
    "plt.grid(axis=\"x\")\n",
    "plt.grid(axis=\"y\")\n",
    "sns.despine(bottom=True, left=True)\n",
    "plt.savefig(\"figure_01_mutations_per_sample_distribution.png\")"
   ]
  },
  {
   "cell_type": "code",
   "execution_count": 21,
   "id": "ca827dc0-0047-4154-92a6-0ae90f5d14d3",
   "metadata": {},
   "outputs": [
    {
     "data": {
      "text/html": [
       "<div>\n",
       "<style scoped>\n",
       "    .dataframe tbody tr th:only-of-type {\n",
       "        vertical-align: middle;\n",
       "    }\n",
       "\n",
       "    .dataframe tbody tr th {\n",
       "        vertical-align: top;\n",
       "    }\n",
       "\n",
       "    .dataframe thead th {\n",
       "        text-align: right;\n",
       "    }\n",
       "</style>\n",
       "<table border=\"1\" class=\"dataframe\">\n",
       "  <thead>\n",
       "    <tr style=\"text-align: right;\">\n",
       "      <th></th>\n",
       "      <th>library_strategy</th>\n",
       "      <th>variant_id</th>\n",
       "      <th>sample</th>\n",
       "      <th>total_samples</th>\n",
       "      <th>sample_normalised</th>\n",
       "    </tr>\n",
       "  </thead>\n",
       "  <tbody>\n",
       "    <tr>\n",
       "      <th>101</th>\n",
       "      <td>WGA</td>\n",
       "      <td>162</td>\n",
       "      <td>1</td>\n",
       "      <td>19660</td>\n",
       "      <td>0.000051</td>\n",
       "    </tr>\n",
       "  </tbody>\n",
       "</table>\n",
       "</div>"
      ],
      "text/plain": [
       "    library_strategy  variant_id  sample  total_samples  sample_normalised\n",
       "101              WGA         162       1          19660           0.000051"
      ]
     },
     "execution_count": 21,
     "metadata": {},
     "output_type": "execute_result"
    }
   ],
   "source": [
    "num_samples_per_variant_count[num_samples_per_variant_count.variant_id > 100]"
   ]
  },
  {
   "cell_type": "code",
   "execution_count": 22,
   "id": "e154cd0f-e195-49f7-a66a-7c973c87f26a",
   "metadata": {},
   "outputs": [
    {
     "data": {
      "image/png": "[encoded data removed]",
      "text/plain": [
       "<Figure size 1440x576 with 1 Axes>"
      ]
     },
     "metadata": {
      "needs_background": "light"
     },
     "output_type": "display_data"
    }
   ],
   "source": [
    "plt.figure(figsize=(20, 8))\n",
    "sns.lineplot(data=num_samples_per_variant_count[num_samples_per_variant_count.variant_id < 100], \n",
    "             x=\"variant_id\", y=\"sample_normalised\", hue=\"library_strategy\", legend=False, linestyle=\"--\")\n",
    "sns.scatterplot(data=num_samples_per_variant_count[num_samples_per_variant_count.variant_id < 100], \n",
    "                x=\"variant_id\", y=\"sample_normalised\", hue=\"library_strategy\", style=\"library_strategy\", legend=True)\n",
    "plt.xticks(rotation=30)\n",
    "plt.title(\"\")\n",
    "plt.ylabel(\"num. samples / total samples\")\n",
    "plt.xlabel(\"num. mutations\")\n",
    "plt.legend(title=None)\n",
    "plt.grid(axis=\"x\")\n",
    "plt.grid(axis=\"y\")\n",
    "sns.despine(bottom=True, left=True)\n",
    "plt.savefig(\"figure_01_mutations_per_sample_distribution_wo_outliers.png\")"
   ]
  },
  {
   "cell_type": "markdown",
   "id": "ddb895e8-4d16-4e16-beeb-817158902e4b",
   "metadata": {},
   "source": [
    "## Unique mutations"
   ]
  },
  {
   "cell_type": "code",
   "execution_count": 23,
   "id": "38560568-6b65-4749-8196-1855b74c7b0a",
   "metadata": {},
   "outputs": [
    {
     "data": {
      "text/plain": [
       "<Figure size 1440x576 with 0 Axes>"
      ]
     },
     "metadata": {},
     "output_type": "display_data"
    },
    {
     "data": {
      "image/png": "[encoded data removed]",
      "text/plain": [
       "<Figure size 600x250 with 4 Axes>"
      ]
     },
     "metadata": {
      "needs_background": "light"
     },
     "output_type": "display_data"
    }
   ],
   "source": [
    "data=pd.merge(variants, samples[[\"run_accession\", \"library_strategy\"]], left_on=\"sample\", right_on=\"run_accession\")\n",
    "annotations=[]\n",
    "table = data.groupby(['variant_id', 'library_strategy']).size().unstack(fill_value=0).astype(bool)\n",
    "all_afs = data.set_index(['variant_id'])\n",
    "all_afs = all_afs.loc[~all_afs.index.duplicated(keep='first')]\n",
    "table = table.reset_index().join(all_afs, how='inner', on=['variant_id'])\n",
    "table = table.set_index(list(set(data.library_strategy)))\n",
    "\n",
    "plt.figure(figsize=(20, 8))\n",
    "upset = upsetplot.UpSet(table, subset_size='count', intersection_plot_elements=2, facecolor='steelblue', show_counts=True, element_size=50)\n",
    "colors= ['orange', 'forestgreen', 'indianred']\n",
    "for a, c in zip(annotations, colors):\n",
    "        upset.add_catplot(value=a, kind='strip', color=c, alpha=0.4)\n",
    "fig = plt.figure(figsize=(300,100))\n",
    "upset.plot(fig=fig)\n",
    "fig.savefig(\"figure_02_upset.png\")"
   ]
  },
  {
   "cell_type": "markdown",
   "id": "2e5cfd29-bc4e-4889-b31d-b384d6398d71",
   "metadata": {},
   "source": [
    "## Focused geographical and temporal analysis"
   ]
  },
  {
   "cell_type": "code",
   "execution_count": 24,
   "id": "94c34ffb-cc8f-4e12-981c-934470fe3ad8",
   "metadata": {},
   "outputs": [
    {
     "data": {
      "text/html": [
       "<div>\n",
       "<style scoped>\n",
       "    .dataframe tbody tr th:only-of-type {\n",
       "        vertical-align: middle;\n",
       "    }\n",
       "\n",
       "    .dataframe tbody tr th {\n",
       "        vertical-align: top;\n",
       "    }\n",
       "\n",
       "    .dataframe thead th {\n",
       "        text-align: right;\n",
       "    }\n",
       "</style>\n",
       "<table border=\"1\" class=\"dataframe\">\n",
       "  <thead>\n",
       "    <tr style=\"text-align: right;\">\n",
       "      <th></th>\n",
       "      <th>index</th>\n",
       "      <th>country</th>\n",
       "    </tr>\n",
       "  </thead>\n",
       "  <tbody>\n",
       "    <tr>\n",
       "      <th>0</th>\n",
       "      <td>Spain</td>\n",
       "      <td>18631</td>\n",
       "    </tr>\n",
       "    <tr>\n",
       "      <th>1</th>\n",
       "      <td>United Kingdom</td>\n",
       "      <td>17720</td>\n",
       "    </tr>\n",
       "    <tr>\n",
       "      <th>2</th>\n",
       "      <td>United States</td>\n",
       "      <td>5750</td>\n",
       "    </tr>\n",
       "    <tr>\n",
       "      <th>3</th>\n",
       "      <td>India</td>\n",
       "      <td>2003</td>\n",
       "    </tr>\n",
       "    <tr>\n",
       "      <th>4</th>\n",
       "      <td>Switzerland</td>\n",
       "      <td>1755</td>\n",
       "    </tr>\n",
       "    <tr>\n",
       "      <th>5</th>\n",
       "      <td>Poland</td>\n",
       "      <td>901</td>\n",
       "    </tr>\n",
       "    <tr>\n",
       "      <th>6</th>\n",
       "      <td>Brazil</td>\n",
       "      <td>394</td>\n",
       "    </tr>\n",
       "    <tr>\n",
       "      <th>7</th>\n",
       "      <td>Peru</td>\n",
       "      <td>355</td>\n",
       "    </tr>\n",
       "    <tr>\n",
       "      <th>8</th>\n",
       "      <td>Greece</td>\n",
       "      <td>320</td>\n",
       "    </tr>\n",
       "    <tr>\n",
       "      <th>9</th>\n",
       "      <td>Qatar</td>\n",
       "      <td>242</td>\n",
       "    </tr>\n",
       "  </tbody>\n",
       "</table>\n",
       "</div>"
      ],
      "text/plain": [
       "            index  country\n",
       "0           Spain    18631\n",
       "1  United Kingdom    17720\n",
       "2   United States     5750\n",
       "3           India     2003\n",
       "4     Switzerland     1755\n",
       "5          Poland      901\n",
       "6          Brazil      394\n",
       "7            Peru      355\n",
       "8          Greece      320\n",
       "9           Qatar      242"
      ]
     },
     "execution_count": 24,
     "metadata": {},
     "output_type": "execute_result"
    }
   ],
   "source": [
    "top_10_countries = list(samples.country.value_counts().head(10).reset_index()[\"index\"])\n",
    "samples.country.value_counts().head(10).reset_index()"
   ]
  },
  {
   "cell_type": "code",
   "execution_count": 25,
   "id": "449066a7-c3fd-4abc-8594-946f91c29116",
   "metadata": {},
   "outputs": [
    {
     "data": {
      "text/plain": [
       "<Figure size 1440x576 with 0 Axes>"
      ]
     },
     "metadata": {},
     "output_type": "display_data"
    },
    {
     "data": {
      "image/png": "[encoded data removed]",
      "text/plain": [
       "<Figure size 550x250 with 4 Axes>"
      ]
     },
     "metadata": {
      "needs_background": "light"
     },
     "output_type": "display_data"
    },
    {
     "data": {
      "text/plain": [
       "<Figure size 1440x576 with 0 Axes>"
      ]
     },
     "metadata": {},
     "output_type": "display_data"
    },
    {
     "data": {
      "image/png": "[encoded data removed]",
      "text/plain": [
       "<Figure size 400x200 with 4 Axes>"
      ]
     },
     "metadata": {
      "needs_background": "light"
     },
     "output_type": "display_data"
    },
    {
     "data": {
      "text/plain": [
       "<Figure size 1440x576 with 0 Axes>"
      ]
     },
     "metadata": {},
     "output_type": "display_data"
    },
    {
     "data": {
      "image/png": "[encoded data removed]",
      "text/plain": [
       "<Figure size 550x250 with 4 Axes>"
      ]
     },
     "metadata": {
      "needs_background": "light"
     },
     "output_type": "display_data"
    },
    {
     "data": {
      "text/plain": [
       "<Figure size 1440x576 with 0 Axes>"
      ]
     },
     "metadata": {},
     "output_type": "display_data"
    },
    {
     "data": {
      "image/png": "[encoded data removed]",
      "text/plain": [
       "<Figure size 350x200 with 4 Axes>"
      ]
     },
     "metadata": {
      "needs_background": "light"
     },
     "output_type": "display_data"
    },
    {
     "data": {
      "text/plain": [
       "<Figure size 1440x576 with 0 Axes>"
      ]
     },
     "metadata": {},
     "output_type": "display_data"
    },
    {
     "data": {
      "image/png": "[encoded data removed]",
      "text/plain": [
       "<Figure size 400x200 with 4 Axes>"
      ]
     },
     "metadata": {
      "needs_background": "light"
     },
     "output_type": "display_data"
    },
    {
     "data": {
      "text/plain": [
       "<Figure size 1440x576 with 0 Axes>"
      ]
     },
     "metadata": {},
     "output_type": "display_data"
    },
    {
     "data": {
      "image/png": "[encoded data removed]",
      "text/plain": [
       "<Figure size 350x200 with 4 Axes>"
      ]
     },
     "metadata": {
      "needs_background": "light"
     },
     "output_type": "display_data"
    }
   ],
   "source": [
    "for country in top_10_countries:\n",
    "    data = pd.merge(variants, samples[[\"run_accession\", \"library_strategy\", \"country\"]], left_on=\"sample\", right_on=\"run_accession\")\n",
    "    data = data[data.country == country]\n",
    "    if len(data.library_strategy.unique()) > 1:\n",
    "        annotations=[]\n",
    "        table = data.groupby(['variant_id', 'library_strategy']).size().unstack(fill_value=0).astype(bool)\n",
    "        all_afs = data.set_index(['variant_id'])\n",
    "        all_afs = all_afs.loc[~all_afs.index.duplicated(keep='first')]\n",
    "        table = table.reset_index().join(all_afs, how='inner', on=['variant_id'])\n",
    "        table = table.set_index(list(set(data.library_strategy)))\n",
    "\n",
    "        plt.figure(figsize=(20, 8))\n",
    "        upset = upsetplot.UpSet(table, subset_size='count', intersection_plot_elements=2, facecolor='steelblue', show_counts=True, element_size=50)\n",
    "        colors= ['orange', 'forestgreen', 'indianred']\n",
    "        for a, c in zip(annotations, colors):\n",
    "                upset.add_catplot(value=a, kind='strip', color=c, alpha=0.4)\n",
    "        fig = plt.figure(figsize=(300,100))\n",
    "        upset.plot(fig=fig)\n",
    "        plt.title(country)\n",
    "        fig.savefig(\"figure_03_upset_by_country_{}.png\".format(country.replace(\" \", \"_\")))"
   ]
  },
  {
   "cell_type": "markdown",
   "id": "008e512e-c3a5-406e-adbd-488a1835166f",
   "metadata": {},
   "source": [
    "## Depth of coverage\n",
    "\n",
    "The median depth of coverage is of 1171X for WGA, 247X for targeted capture and 132X for WGS."
   ]
  },
  {
   "cell_type": "code",
   "execution_count": 26,
   "id": "c018a81f-a793-472c-bcd9-9fb0267e9773",
   "metadata": {},
   "outputs": [
    {
     "data": {
      "text/plain": [
       "count    48844.000000\n",
       "mean      1228.172768\n",
       "std       2242.075216\n",
       "min          0.285323\n",
       "25%         90.363550\n",
       "50%        898.076000\n",
       "75%       1425.570000\n",
       "max      49611.600000\n",
       "Name: mean_depth, dtype: float64"
      ]
     },
     "execution_count": 26,
     "metadata": {},
     "output_type": "execute_result"
    }
   ],
   "source": [
    "samples.mean_depth.describe()"
   ]
  },
  {
   "cell_type": "code",
   "execution_count": 27,
   "id": "4684ed60-fffd-490e-bf20-7579bca7786c",
   "metadata": {},
   "outputs": [],
   "source": [
    "samples.sort_values(\"library_strategy\", inplace=True)"
   ]
  },
  {
   "cell_type": "code",
   "execution_count": 28,
   "id": "30167324-164b-4fd7-917c-f8e0599184e9",
   "metadata": {},
   "outputs": [
    {
     "data": {
      "image/png": "[encoded data removed]",
      "text/plain": [
       "<Figure size 1440x576 with 1 Axes>"
      ]
     },
     "metadata": {
      "needs_background": "light"
     },
     "output_type": "display_data"
    }
   ],
   "source": [
    "plt.figure(figsize=(20, 8))\n",
    "sns.boxplot(data=samples, y=\"mean_depth\", x=\"library_strategy\", palette=colors_library_strategy)\n",
    "plt.title(\"\")\n",
    "plt.xlabel(None)\n",
    "plt.ylabel(\"mean depth of coverage\", size=18)\n",
    "plt.grid(axis=\"y\")\n",
    "plt.yscale(\"log\")\n",
    "plt.xticks(fontsize=18)\n",
    "sns.despine(bottom=True, left=True)\n",
    "plt.savefig(\"figure_04_width_coverage_boxplot.png\")"
   ]
  },
  {
   "cell_type": "code",
   "execution_count": 29,
   "id": "6bc8069c-4dd4-40fb-9a20-a7849b436320",
   "metadata": {},
   "outputs": [
    {
     "data": {
      "text/plain": [
       "count    19660.000000\n",
       "mean      1113.907024\n",
       "std        548.591644\n",
       "min          7.603890\n",
       "25%        894.385000\n",
       "50%       1170.870000\n",
       "75%       1416.390000\n",
       "max      18556.200000\n",
       "Name: mean_depth, dtype: float64"
      ]
     },
     "execution_count": 29,
     "metadata": {},
     "output_type": "execute_result"
    }
   ],
   "source": [
    "samples[samples.library_strategy == \"WGA\"].mean_depth.describe()"
   ]
  },
  {
   "cell_type": "code",
   "execution_count": 30,
   "id": "dc76e287-8e57-4445-b6e1-91e43e0220ae",
   "metadata": {},
   "outputs": [
    {
     "data": {
      "text/plain": [
       "count    14825.000000\n",
       "mean       968.182174\n",
       "std       2103.706289\n",
       "min          0.285323\n",
       "25%         60.255600\n",
       "50%        132.046000\n",
       "75%       1462.310000\n",
       "max      49611.600000\n",
       "Name: mean_depth, dtype: float64"
      ]
     },
     "execution_count": 30,
     "metadata": {},
     "output_type": "execute_result"
    }
   ],
   "source": [
    "samples[samples.library_strategy == \"WGS\"].mean_depth.describe()"
   ]
  },
  {
   "cell_type": "code",
   "execution_count": 31,
   "id": "277f70a3-f50e-4f10-9b6b-82c042c2462c",
   "metadata": {},
   "outputs": [
    {
     "data": {
      "text/plain": [
       "count    14359.000000\n",
       "mean      1653.050897\n",
       "std       3442.529671\n",
       "min          0.788249\n",
       "25%         38.295250\n",
       "50%        247.400000\n",
       "75%       1487.755000\n",
       "max      47461.900000\n",
       "Name: mean_depth, dtype: float64"
      ]
     },
     "execution_count": 31,
     "metadata": {},
     "output_type": "execute_result"
    }
   ],
   "source": [
    "samples[samples.library_strategy == \"Targeted-Capture\"].mean_depth.describe()"
   ]
  },
  {
   "cell_type": "markdown",
   "id": "05f1e38f-5784-459e-8e8d-e4ab38398a8d",
   "metadata": {},
   "source": [
    "## Breadth of coverage\n",
    "\n",
    "We found that the library strategy with highest breadth of coverage across all samples was the targeted sequencing with a median of 99.9498, followed by WGS with 99.7492 and WGA with 99.0."
   ]
  },
  {
   "cell_type": "code",
   "execution_count": 32,
   "id": "359410be-300c-4438-87ab-8e198dbb2f90",
   "metadata": {},
   "outputs": [
    {
     "data": {
      "text/plain": [
       "count    48844.000000\n",
       "mean        98.272006\n",
       "std          6.403529\n",
       "min         20.000000\n",
       "25%         99.000000\n",
       "50%         99.762600\n",
       "75%         99.923100\n",
       "max        100.000000\n",
       "Name: coverage, dtype: float64"
      ]
     },
     "execution_count": 32,
     "metadata": {},
     "output_type": "execute_result"
    }
   ],
   "source": [
    "samples.coverage.describe()"
   ]
  },
  {
   "cell_type": "code",
   "execution_count": 33,
   "id": "a75926d7-fac5-4561-adc2-33699e7d1b12",
   "metadata": {},
   "outputs": [],
   "source": [
    "# bins coverage with bin size 5 %\n",
    "samples[\"coverage_binned\"] = pd.cut(samples.coverage, bins=range(0, 101, 5))"
   ]
  },
  {
   "cell_type": "code",
   "execution_count": 34,
   "id": "7bf65f73-fd7a-4ef1-93b5-bb408855063f",
   "metadata": {},
   "outputs": [
    {
     "data": {
      "text/html": [
       "<div>\n",
       "<style scoped>\n",
       "    .dataframe tbody tr th:only-of-type {\n",
       "        vertical-align: middle;\n",
       "    }\n",
       "\n",
       "    .dataframe tbody tr th {\n",
       "        vertical-align: top;\n",
       "    }\n",
       "\n",
       "    .dataframe thead th {\n",
       "        text-align: right;\n",
       "    }\n",
       "</style>\n",
       "<table border=\"1\" class=\"dataframe\">\n",
       "  <thead>\n",
       "    <tr style=\"text-align: right;\">\n",
       "      <th></th>\n",
       "      <th>library_strategy</th>\n",
       "      <th>coverage_binned</th>\n",
       "      <th>coverage</th>\n",
       "      <th>run_accession</th>\n",
       "      <th>total_samples</th>\n",
       "      <th>sample_normalised</th>\n",
       "    </tr>\n",
       "  </thead>\n",
       "  <tbody>\n",
       "    <tr>\n",
       "      <th>0</th>\n",
       "      <td>Targeted-Capture</td>\n",
       "      <td>(0, 5]</td>\n",
       "      <td>20.0000</td>\n",
       "      <td>NaN</td>\n",
       "      <td>14359</td>\n",
       "      <td>NaN</td>\n",
       "    </tr>\n",
       "    <tr>\n",
       "      <th>1</th>\n",
       "      <td>Targeted-Capture</td>\n",
       "      <td>(0, 5]</td>\n",
       "      <td>20.0849</td>\n",
       "      <td>NaN</td>\n",
       "      <td>14359</td>\n",
       "      <td>NaN</td>\n",
       "    </tr>\n",
       "    <tr>\n",
       "      <th>2</th>\n",
       "      <td>Targeted-Capture</td>\n",
       "      <td>(0, 5]</td>\n",
       "      <td>20.2521</td>\n",
       "      <td>NaN</td>\n",
       "      <td>14359</td>\n",
       "      <td>NaN</td>\n",
       "    </tr>\n",
       "    <tr>\n",
       "      <th>3</th>\n",
       "      <td>Targeted-Capture</td>\n",
       "      <td>(0, 5]</td>\n",
       "      <td>20.9979</td>\n",
       "      <td>NaN</td>\n",
       "      <td>14359</td>\n",
       "      <td>NaN</td>\n",
       "    </tr>\n",
       "    <tr>\n",
       "      <th>4</th>\n",
       "      <td>Targeted-Capture</td>\n",
       "      <td>(0, 5]</td>\n",
       "      <td>21.0000</td>\n",
       "      <td>NaN</td>\n",
       "      <td>14359</td>\n",
       "      <td>NaN</td>\n",
       "    </tr>\n",
       "  </tbody>\n",
       "</table>\n",
       "</div>"
      ],
      "text/plain": [
       "   library_strategy coverage_binned  coverage  run_accession  total_samples  \\\n",
       "0  Targeted-Capture          (0, 5]   20.0000            NaN          14359   \n",
       "1  Targeted-Capture          (0, 5]   20.0849            NaN          14359   \n",
       "2  Targeted-Capture          (0, 5]   20.2521            NaN          14359   \n",
       "3  Targeted-Capture          (0, 5]   20.9979            NaN          14359   \n",
       "4  Targeted-Capture          (0, 5]   21.0000            NaN          14359   \n",
       "\n",
       "   sample_normalised  \n",
       "0                NaN  \n",
       "1                NaN  \n",
       "2                NaN  \n",
       "3                NaN  \n",
       "4                NaN  "
      ]
     },
     "execution_count": 34,
     "metadata": {},
     "output_type": "execute_result"
    }
   ],
   "source": [
    "num_samples_by_breadth_coverage = samples[[\"run_accession\", \"library_strategy\", \"coverage_binned\", \"coverage\"]].groupby(\n",
    "    [\"library_strategy\", \"coverage_binned\", \"coverage\"]).count().reset_index()\n",
    "num_samples_by_breadth_coverage = pd.merge(num_samples_by_breadth_coverage, count_samples_by_library_strategy, on=\"library_strategy\")\n",
    "num_samples_by_breadth_coverage[\"sample_normalised\"] = num_samples_by_breadth_coverage.run_accession / num_samples_by_breadth_coverage.total_samples\n",
    "num_samples_by_breadth_coverage.head()"
   ]
  },
  {
   "cell_type": "code",
   "execution_count": 35,
   "id": "687e1fa6-70fe-4262-bb7f-ccaa8752bc78",
   "metadata": {},
   "outputs": [
    {
     "data": {
      "image/png": "[encoded data removed]",
      "text/plain": [
       "<Figure size 1440x576 with 1 Axes>"
      ]
     },
     "metadata": {
      "needs_background": "light"
     },
     "output_type": "display_data"
    }
   ],
   "source": [
    "plt.figure(figsize=(20, 8))\n",
    "sns.barplot(data=num_samples_by_breadth_coverage, \n",
    "                x=\"coverage_binned\", y=\"sample_normalised\", hue=\"library_strategy\")\n",
    "plt.xticks(rotation=45)\n",
    "plt.title(\"\")\n",
    "plt.ylabel(\"num. samples / total samples\")\n",
    "plt.xlabel(\"% of the genome covered\")\n",
    "plt.legend(title=None)\n",
    "#plt.grid(axis=\"x\")\n",
    "plt.grid(axis=\"y\")\n",
    "plt.yscale(\"log\")\n",
    "sns.despine(bottom=True, left=True)\n",
    "plt.savefig(\"figure_05_bredth_coverage_per_sample_distribution.png\")"
   ]
  },
  {
   "cell_type": "code",
   "execution_count": 36,
   "id": "b4043de3-807f-49cb-80eb-1231876f1286",
   "metadata": {},
   "outputs": [
    {
     "data": {
      "image/png": "[encoded data removed]",
      "text/plain": [
       "<Figure size 1440x576 with 1 Axes>"
      ]
     },
     "metadata": {
      "needs_background": "light"
     },
     "output_type": "display_data"
    }
   ],
   "source": [
    "plt.figure(figsize=(20, 8))\n",
    "sns.boxplot(data=samples, y=100 - samples.coverage, x=\"library_strategy\", palette=colors_library_strategy)\n",
    "plt.title(\"\")\n",
    "plt.xlabel(None)\n",
    "plt.ylabel(\"% of the genome covered\", size=18)\n",
    "plt.grid(axis=\"y\")\n",
    "plt.yscale(\"log\")\n",
    "plt.yticks([0.01, 0.1, 1, 10, 100], [\"99.99\", \"99.9\", \"99.0\", \"90.0\", \"0.0\"])\n",
    "plt.gca().invert_yaxis()\n",
    "plt.xticks(fontsize=18)\n",
    "sns.despine(bottom=True, left=True)\n",
    "plt.savefig(\"figure_05_bredth_coverage_boxplot.png\")"
   ]
  },
  {
   "cell_type": "code",
   "execution_count": 37,
   "id": "3fa479ac-ef4b-45de-a133-feb99c77289d",
   "metadata": {},
   "outputs": [
    {
     "data": {
      "text/plain": [
       "count    19660.000000\n",
       "mean        99.047509\n",
       "std          2.666220\n",
       "min         27.967100\n",
       "25%         99.000000\n",
       "50%         99.000000\n",
       "75%         99.846200\n",
       "max        100.000000\n",
       "Name: coverage, dtype: float64"
      ]
     },
     "execution_count": 37,
     "metadata": {},
     "output_type": "execute_result"
    }
   ],
   "source": [
    "samples[samples.library_strategy == \"WGA\"].coverage.describe()"
   ]
  },
  {
   "cell_type": "code",
   "execution_count": 38,
   "id": "02f46100-f642-4891-97e8-4fd8a165cd90",
   "metadata": {},
   "outputs": [
    {
     "data": {
      "text/plain": [
       "count    14825.000000\n",
       "mean        97.612148\n",
       "std          8.799691\n",
       "min         20.000000\n",
       "25%         99.000000\n",
       "50%         99.749200\n",
       "75%         99.859500\n",
       "max        100.000000\n",
       "Name: coverage, dtype: float64"
      ]
     },
     "execution_count": 38,
     "metadata": {},
     "output_type": "execute_result"
    }
   ],
   "source": [
    "samples[samples.library_strategy == \"WGS\"].coverage.describe()"
   ]
  },
  {
   "cell_type": "code",
   "execution_count": 39,
   "id": "e62fc1ba-769f-4555-adb7-189b29884b7b",
   "metadata": {},
   "outputs": [
    {
     "data": {
      "text/plain": [
       "count    14359.000000\n",
       "mean        97.891478\n",
       "std          6.956463\n",
       "min         20.252100\n",
       "25%         99.712400\n",
       "50%         99.949800\n",
       "75%         99.996700\n",
       "max        100.000000\n",
       "Name: coverage, dtype: float64"
      ]
     },
     "execution_count": 39,
     "metadata": {},
     "output_type": "execute_result"
    }
   ],
   "source": [
    "samples[samples.library_strategy == \"Targeted-Capture\"].coverage.describe()"
   ]
  },
  {
   "cell_type": "markdown",
   "id": "007d712f-b0c2-4157-8f05-fbddfa8b2f1b",
   "metadata": {},
   "source": [
    "## Coverage blind spots\n",
    "\n",
    "The coverage per position data is stored in the file system. Due to performance reasons we sample 1000 samples from the total to read this coverage data.\n",
    "\n",
    "The median coverage per position is not homogeneous for any library strategy and it drops at the beginning and end of the genome.\n",
    "\n",
    "All three library strategies show coverage gaps at the end of the genome below 10X from position 29,855, 29,867 and 29,893 for WGA, WGS and targeted capture respectively.\n",
    "Only WGA and WGS show coverage gaps below 10X at the beginning of the genome until position 38 and 30 respectively.\n",
    "\n",
    "There are only two internal coverage gaps; a coverage gap below 20X in WGA samples between 22,340 and 22,523; and below 30X there is a small gap  observed in targeted capture samples between positions 21,766 and 21,768. These two gaps are in the N terminal domain. The second gap corresponds to a deletion with high prevalence 21764:ATACATG>A, although this deletion is 6 bp long and not 3 bp. It was confirmed that this deletion was observed irrespective of the library strategy. The first gap is more concerning as it is 183 bp long and lies within the N-terminal domain. "
   ]
  },
  {
   "cell_type": "code",
   "execution_count": 40,
   "id": "0c4bb91f-be42-4435-b69c-b2b26f6f7771",
   "metadata": {},
   "outputs": [
    {
     "data": {
      "text/html": [
       "<div>\n",
       "<style scoped>\n",
       "    .dataframe tbody tr th:only-of-type {\n",
       "        vertical-align: middle;\n",
       "    }\n",
       "\n",
       "    .dataframe tbody tr th {\n",
       "        vertical-align: top;\n",
       "    }\n",
       "\n",
       "    .dataframe thead th {\n",
       "        text-align: right;\n",
       "    }\n",
       "</style>\n",
       "<table border=\"1\" class=\"dataframe\">\n",
       "  <thead>\n",
       "    <tr style=\"text-align: right;\">\n",
       "      <th></th>\n",
       "      <th>chromosome</th>\n",
       "      <th>position</th>\n",
       "      <th>ERR6360438</th>\n",
       "    </tr>\n",
       "  </thead>\n",
       "  <tbody>\n",
       "    <tr>\n",
       "      <th>0</th>\n",
       "      <td>MN908947.3</td>\n",
       "      <td>32</td>\n",
       "      <td>1</td>\n",
       "    </tr>\n",
       "    <tr>\n",
       "      <th>1</th>\n",
       "      <td>MN908947.3</td>\n",
       "      <td>33</td>\n",
       "      <td>1</td>\n",
       "    </tr>\n",
       "    <tr>\n",
       "      <th>2</th>\n",
       "      <td>MN908947.3</td>\n",
       "      <td>34</td>\n",
       "      <td>1</td>\n",
       "    </tr>\n",
       "    <tr>\n",
       "      <th>3</th>\n",
       "      <td>MN908947.3</td>\n",
       "      <td>35</td>\n",
       "      <td>1</td>\n",
       "    </tr>\n",
       "    <tr>\n",
       "      <th>4</th>\n",
       "      <td>MN908947.3</td>\n",
       "      <td>36</td>\n",
       "      <td>1</td>\n",
       "    </tr>\n",
       "  </tbody>\n",
       "</table>\n",
       "</div>"
      ],
      "text/plain": [
       "   chromosome  position  ERR6360438\n",
       "0  MN908947.3        32           1\n",
       "1  MN908947.3        33           1\n",
       "2  MN908947.3        34           1\n",
       "3  MN908947.3        35           1\n",
       "4  MN908947.3        36           1"
      ]
     },
     "execution_count": 40,
     "metadata": {},
     "output_type": "execute_result"
    }
   ],
   "source": [
    "depth_coverage_sample = os.path.join(local_base_folder, \"scratch/info/projects/covigator/data/ena/ERR6360438/ERR6360438.depth.tsv\")\n",
    "sample_depth_coverage = pd.read_csv(depth_coverage_sample, sep=\"\\t\", names=[\"chromosome\", \"position\", \"ERR6360438\"], skiprows=1)\n",
    "sample_depth_coverage.head()"
   ]
  },
  {
   "cell_type": "code",
   "execution_count": 41,
   "id": "8b94c105-b440-4168-93b1-e0589842db6b",
   "metadata": {},
   "outputs": [
    {
     "data": {
      "text/plain": [
       "'/home/priesgo/tronland'"
      ]
     },
     "execution_count": 41,
     "metadata": {},
     "output_type": "execute_result"
    }
   ],
   "source": [
    "local_base_folder"
   ]
  },
  {
   "cell_type": "code",
   "execution_count": null,
   "id": "42dc12ca-9533-4786-900d-eb3cf8086b78",
   "metadata": {},
   "outputs": [],
   "source": [
    "coverages_list = []\n",
    "num_samples = 1000\n",
    "for sample in samples.sample(n=num_samples).run_accession:\n",
    "    path = local_base_folder + samples[samples.run_accession == sample].vertical_coverage_path.iloc[0]\n",
    "    data = pd.read_csv(path, sep=\"\\t\", names=[\"chromosome\", \"position\", \"count\"], skiprows=1)\n",
    "    del data[\"chromosome\"]\n",
    "    data[\"run_accession\"] = sample\n",
    "    coverages_list.append(data)\n",
    "coverages = pd.concat(coverages_list)\n",
    "del coverages_list\n",
    "coverages = pd.merge(coverages, samples[[\"run_accession\", \"library_strategy\"]], on=\"run_accession\")"
   ]
  },
  {
   "cell_type": "code",
   "execution_count": null,
   "id": "8baaccec-95bb-4a83-95a8-ca483cb34a79",
   "metadata": {},
   "outputs": [],
   "source": [
    "coverages.head()"
   ]
  },
  {
   "cell_type": "code",
   "execution_count": null,
   "id": "4c99b986-9763-477b-89c7-6472b31104af",
   "metadata": {},
   "outputs": [],
   "source": [
    "median_coverage_by_position = coverages[[\"position\", \"count\", \"library_strategy\"]].groupby([\"position\", \"library_strategy\"]).median().reset_index()\n",
    "median_coverage_by_position.head()"
   ]
  },
  {
   "cell_type": "code",
   "execution_count": null,
   "id": "1d93e8d5-9c07-4155-b0eb-7dcb3ab8efde",
   "metadata": {},
   "outputs": [],
   "source": [
    "plt.figure(figsize=(20, 8))\n",
    "sns.lineplot(data=median_coverage_by_position, x=\"position\", y=\"count\", hue=\"library_strategy\", legend=True, linestyle=\"--\")\n",
    "plt.xticks(rotation=30)\n",
    "plt.title(\"n={} samples\".format(num_samples))\n",
    "plt.ylabel(\"Median depth of coverage\")\n",
    "plt.xlabel(\"Genomic position\")\n",
    "plt.grid(axis=\"y\")\n",
    "sns.despine(bottom=True, left=True)\n",
    "plt.savefig(\"figure_06_coverage_by_position.png\")"
   ]
  },
  {
   "cell_type": "code",
   "execution_count": null,
   "id": "41de2c99-c34f-465b-907a-18b93e68a47e",
   "metadata": {},
   "outputs": [],
   "source": [
    "def get_coverage_gaps(library_strategy = \"WGA\", coverage_threshold = 10):\n",
    "\n",
    "    data = median_coverage_by_position[\n",
    "        (median_coverage_by_position[\"count\"] < coverage_threshold) & \n",
    "        (median_coverage_by_position.library_strategy == library_strategy)]\n",
    "    data[\"step\"] = data.position - data.position.shift(1)\n",
    "    return data[data.step != 1] #data[data.step != 1] #data[(data.position > 1000) & (data.position < 28000)] #data[data.step != 1]"
   ]
  },
  {
   "cell_type": "code",
   "execution_count": null,
   "id": "dd309278-a615-4fd1-97ca-ca22e59c9f36",
   "metadata": {},
   "outputs": [],
   "source": [
    "plt.figure(figsize=(20, 8))\n",
    "sns.lineplot(data=median_coverage_by_position[median_coverage_by_position.library_strategy == \"WGA\"], \n",
    "             x=\"position\", y=\"count\", linestyle=\"--\")\n",
    "plt.xticks(rotation=30)\n",
    "plt.title(\"WGA samples\")\n",
    "plt.ylabel(\"Median depth of coverage\")\n",
    "plt.xlabel(\"Genomic position\")\n",
    "plt.grid(axis=\"y\")\n",
    "sns.despine(bottom=True, left=True)\n",
    "plt.savefig(\"figure_06_coverage_by_position_wga.png\")"
   ]
  },
  {
   "cell_type": "code",
   "execution_count": null,
   "id": "27c95847-6839-4426-ae2f-f1f8089a805e",
   "metadata": {},
   "outputs": [],
   "source": [
    "get_coverage_gaps(library_strategy = \"WGA\", coverage_threshold = 10)"
   ]
  },
  {
   "cell_type": "code",
   "execution_count": null,
   "id": "8388261b-155a-4019-ba30-950f056a5b74",
   "metadata": {},
   "outputs": [],
   "source": [
    "get_coverage_gaps(library_strategy = \"WGA\", coverage_threshold = 20)"
   ]
  },
  {
   "cell_type": "code",
   "execution_count": null,
   "id": "f5b8c590-4100-4058-bd77-530ef1ce3139",
   "metadata": {},
   "outputs": [],
   "source": [
    "get_coverage_gaps(library_strategy = \"WGA\", coverage_threshold = 30)"
   ]
  },
  {
   "cell_type": "code",
   "execution_count": null,
   "id": "2f87f098-07c7-4371-82c2-e2e03d844533",
   "metadata": {},
   "outputs": [],
   "source": [
    "plt.figure(figsize=(20, 8))\n",
    "sns.lineplot(data=median_coverage_by_position[median_coverage_by_position.library_strategy == \"WGS\"], \n",
    "             x=\"position\", y=\"count\", linestyle=\"--\")\n",
    "plt.xticks(rotation=30)\n",
    "plt.title(\"WGS samples\")\n",
    "plt.ylabel(\"Median depth of coverage\")\n",
    "plt.xlabel(\"Genomic position\")\n",
    "plt.grid(axis=\"y\")\n",
    "sns.despine(bottom=True, left=True)\n",
    "plt.savefig(\"figure_06_coverage_by_position_wgs.png\")"
   ]
  },
  {
   "cell_type": "code",
   "execution_count": null,
   "id": "25cae267-5cf2-456d-9745-c0849600c959",
   "metadata": {},
   "outputs": [],
   "source": [
    "get_coverage_gaps(library_strategy = \"WGS\", coverage_threshold = 10)"
   ]
  },
  {
   "cell_type": "code",
   "execution_count": null,
   "id": "f41a4c32-a29b-4bab-a0ce-004f0774b439",
   "metadata": {},
   "outputs": [],
   "source": [
    "get_coverage_gaps(library_strategy = \"WGS\", coverage_threshold = 20)"
   ]
  },
  {
   "cell_type": "code",
   "execution_count": null,
   "id": "986ea160-7552-45fd-9afa-1d59e10202b6",
   "metadata": {},
   "outputs": [],
   "source": [
    "get_coverage_gaps(library_strategy = \"WGS\", coverage_threshold = 30)"
   ]
  },
  {
   "cell_type": "code",
   "execution_count": null,
   "id": "0fb90a62-10eb-4806-88ac-3a90a0887ae1",
   "metadata": {},
   "outputs": [],
   "source": [
    "plt.figure(figsize=(20, 8))\n",
    "sns.lineplot(data=median_coverage_by_position[median_coverage_by_position.library_strategy == \"Targeted-Capture\"], \n",
    "             x=\"position\", y=\"count\", linestyle=\"--\")\n",
    "plt.xticks(rotation=30)\n",
    "plt.title(\"Targeted-Capture samples\")\n",
    "plt.ylabel(\"Median depth of coverage\")\n",
    "plt.xlabel(\"Genomic position\")\n",
    "plt.grid(axis=\"y\")\n",
    "sns.despine(bottom=True, left=True)\n",
    "plt.savefig(\"figure_06_coverage_by_position_targeted_capture.png\")"
   ]
  },
  {
   "cell_type": "code",
   "execution_count": null,
   "id": "fd12c315-23bb-4211-a839-54cba86706b4",
   "metadata": {},
   "outputs": [],
   "source": [
    "get_coverage_gaps(library_strategy = \"Targeted-Capture\", coverage_threshold = 10)"
   ]
  },
  {
   "cell_type": "code",
   "execution_count": null,
   "id": "c50397cb-6d3c-4797-83c3-b4d00456dc1b",
   "metadata": {},
   "outputs": [],
   "source": [
    "get_coverage_gaps(library_strategy = \"Targeted-Capture\", coverage_threshold = 20)"
   ]
  },
  {
   "cell_type": "code",
   "execution_count": null,
   "id": "c2d10fe2-b8f9-4746-839e-581fe99c7c35",
   "metadata": {},
   "outputs": [],
   "source": [
    "get_coverage_gaps(library_strategy = \"Targeted-Capture\", coverage_threshold = 30)"
   ]
  },
  {
   "cell_type": "code",
   "execution_count": null,
   "id": "fd7dc01d-13e6-4d21-9414-5592a13ffb89",
   "metadata": {},
   "outputs": [],
   "source": [
    "samples[samples.run_accession.isin(variants[variants.variant_id == \"21764:ATACATG>A\"][\"sample\"])].library_strategy.value_counts()"
   ]
  },
  {
   "cell_type": "code",
   "execution_count": null,
   "id": "8c94b6d8-de44-4e5c-b6af-b91d2104768d",
   "metadata": {},
   "outputs": [],
   "source": [
    "max_coverage_by_position = coverages[[\"position\", \"count\", \"library_strategy\"]].groupby([\"position\", \"library_strategy\"]).max().reset_index()\n",
    "max_coverage_by_position.head()"
   ]
  },
  {
   "cell_type": "code",
   "execution_count": null,
   "id": "c6a37e4b-d89b-4b9f-bdf8-9a1a19d05fd9",
   "metadata": {},
   "outputs": [],
   "source": [
    "plt.figure(figsize=(20, 8))\n",
    "sns.lineplot(data=max_coverage_by_position, x=\"position\", y=\"count\", hue=\"library_strategy\", legend=True, linestyle=\"--\")\n",
    "plt.xticks(rotation=30)\n",
    "plt.title(\"n={} samples\".format(num_samples))\n",
    "plt.ylabel(\"Maximum depth of coverage\")\n",
    "plt.xlabel(\"Genomic position\")\n",
    "plt.grid(axis=\"y\")\n",
    "sns.despine(bottom=True, left=True)\n",
    "plt.savefig(\"figure_06_max_coverage_by_position.png\")"
   ]
  }
 ],
 "metadata": {
  "kernelspec": {
   "display_name": "Python 3 (ipykernel)",
   "language": "python",
   "name": "python3"
  },
  "language_info": {
   "codemirror_mode": {
    "name": "ipython",
    "version": 3
   },
   "file_extension": ".py",
   "mimetype": "text/x-python",
   "name": "python",
   "nbconvert_exporter": "python",
   "pygments_lexer": "ipython3",
   "version": "3.8.12"
  }
 },
 "nbformat": 4,
 "nbformat_minor": 5
}
