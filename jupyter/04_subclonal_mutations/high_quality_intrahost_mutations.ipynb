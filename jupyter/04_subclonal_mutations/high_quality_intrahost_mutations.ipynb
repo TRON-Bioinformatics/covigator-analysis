{
 "cells": [
  {
   "cell_type": "markdown",
   "id": "cb30dff7-ff1b-4f9d-ac89-3a703c65c6de",
   "metadata": {},
   "source": [
    "# High quality intrahost mutations\n",
    "\n",
    "The aim of this analysis is to assess the impact of different filtering approaches on the CoVigator intrahost mutations dataset and identify a conservative filtering approach that gives us a high quality set of mutations."
   ]
  },
  {
   "cell_type": "code",
   "execution_count": 1,
   "id": "5b43d262-24c1-4e01-9d23-d071be1bd63c",
   "metadata": {},
   "outputs": [],
   "source": [
    "import pandas as pd\n",
    "import seaborn as sns\n",
    "import matplotlib.pyplot as plt\n",
    "import numpy as np\n",
    "import json\n",
    "import os\n",
    "from math import pi\n",
    "\n",
    "sns.set_context(\"notebook\", font_scale=1.25)\n",
    "sns.color_palette(\"colorblind\")\n",
    "sns.set(font_scale=2)\n",
    "sns.set_style(\"whitegrid\")"
   ]
  },
  {
   "cell_type": "markdown",
   "id": "488f6f82-016e-4063-9666-85fc8156780f",
   "metadata": {},
   "source": [
    "## References"
   ]
  },
  {
   "cell_type": "code",
   "execution_count": 139,
   "id": "d92c546f-bfe7-4137-9f81-ac051cfa99fc",
   "metadata": {},
   "outputs": [],
   "source": [
    "reference_folder = '../../references/'\n",
    "data_folder = '../../data/db_dump_20221128/'\n",
    "figure_output_folder = './filtering_figures'"
   ]
  },
  {
   "cell_type": "code",
   "execution_count": 140,
   "id": "49b2a8d2-4f3f-413a-99d5-37b56a948120",
   "metadata": {},
   "outputs": [],
   "source": [
    "reference = json.load(open(os.path.join(reference_folder, 'sars_cov_2.json')))"
   ]
  },
  {
   "cell_type": "code",
   "execution_count": 141,
   "id": "3308b5a7-c63f-46c1-aa6e-8b2b9e07b5f0",
   "metadata": {},
   "outputs": [
    {
     "data": {
      "text/plain": [
       "dict_keys(['genes', 'division', 'species_id', 'dbname', 'reference', 'genebuild', 'GO_genome', 'id', 'organism', 'assembly'])"
      ]
     },
     "execution_count": 141,
     "metadata": {},
     "output_type": "execute_result"
    }
   ],
   "source": [
    "reference.keys()"
   ]
  },
  {
   "cell_type": "code",
   "execution_count": 142,
   "id": "6c4d7b82-011e-4de6-9462-ac7201073446",
   "metadata": {},
   "outputs": [],
   "source": [
    "genes = []\n",
    "domains = []\n",
    "for g in reference.get('genes'):\n",
    "    for p in range(int(g.get('start')), int(g.get('end'))):\n",
    "        genes.append((g.get('name'), p))\n",
    "    for f in g.get('transcripts')[0].get('translations')[0].get('protein_features'):\n",
    "        if f.get('dbname') == 'Pfam':\n",
    "            for p in range(int(g.get('start')) + int(f.get('start')), int(g.get('start')) + int(f.get('end'))):\n",
    "                domains.append((f.get('description'), p))\n",
    "            \n",
    "genes_df = pd.DataFrame(data=genes, columns=['gene', 'position'])\n",
    "domains_df = pd.DataFrame(data=domains, columns=['domain', 'position'])"
   ]
  },
  {
   "cell_type": "code",
   "execution_count": 143,
   "id": "ff6e6de8-3a61-4c3d-b8e9-bff81b3e62bd",
   "metadata": {},
   "outputs": [
    {
     "data": {
      "text/html": [
       "<div>\n",
       "<style scoped>\n",
       "    .dataframe tbody tr th:only-of-type {\n",
       "        vertical-align: middle;\n",
       "    }\n",
       "\n",
       "    .dataframe tbody tr th {\n",
       "        vertical-align: top;\n",
       "    }\n",
       "\n",
       "    .dataframe thead th {\n",
       "        text-align: right;\n",
       "    }\n",
       "</style>\n",
       "<table border=\"1\" class=\"dataframe\">\n",
       "  <thead>\n",
       "    <tr style=\"text-align: right;\">\n",
       "      <th></th>\n",
       "      <th>gene</th>\n",
       "      <th>position</th>\n",
       "    </tr>\n",
       "  </thead>\n",
       "  <tbody>\n",
       "    <tr>\n",
       "      <th>0</th>\n",
       "      <td>S</td>\n",
       "      <td>21563</td>\n",
       "    </tr>\n",
       "    <tr>\n",
       "      <th>1</th>\n",
       "      <td>S</td>\n",
       "      <td>21564</td>\n",
       "    </tr>\n",
       "    <tr>\n",
       "      <th>2</th>\n",
       "      <td>S</td>\n",
       "      <td>21565</td>\n",
       "    </tr>\n",
       "    <tr>\n",
       "      <th>3</th>\n",
       "      <td>S</td>\n",
       "      <td>21566</td>\n",
       "    </tr>\n",
       "    <tr>\n",
       "      <th>4</th>\n",
       "      <td>S</td>\n",
       "      <td>21567</td>\n",
       "    </tr>\n",
       "  </tbody>\n",
       "</table>\n",
       "</div>"
      ],
      "text/plain": [
       "  gene  position\n",
       "0    S     21563\n",
       "1    S     21564\n",
       "2    S     21565\n",
       "3    S     21566\n",
       "4    S     21567"
      ]
     },
     "execution_count": 143,
     "metadata": {},
     "output_type": "execute_result"
    }
   ],
   "source": [
    "genes_df.head()"
   ]
  },
  {
   "cell_type": "code",
   "execution_count": 144,
   "id": "81c6396b-13aa-4cd4-97a9-806869401b80",
   "metadata": {},
   "outputs": [
    {
     "data": {
      "text/html": [
       "<div>\n",
       "<style scoped>\n",
       "    .dataframe tbody tr th:only-of-type {\n",
       "        vertical-align: middle;\n",
       "    }\n",
       "\n",
       "    .dataframe tbody tr th {\n",
       "        vertical-align: top;\n",
       "    }\n",
       "\n",
       "    .dataframe thead th {\n",
       "        text-align: right;\n",
       "    }\n",
       "</style>\n",
       "<table border=\"1\" class=\"dataframe\">\n",
       "  <thead>\n",
       "    <tr style=\"text-align: right;\">\n",
       "      <th></th>\n",
       "      <th>domain</th>\n",
       "      <th>position</th>\n",
       "    </tr>\n",
       "  </thead>\n",
       "  <tbody>\n",
       "    <tr>\n",
       "      <th>0</th>\n",
       "      <td>CoV_S2</td>\n",
       "      <td>22274</td>\n",
       "    </tr>\n",
       "    <tr>\n",
       "      <th>1</th>\n",
       "      <td>CoV_S2</td>\n",
       "      <td>22275</td>\n",
       "    </tr>\n",
       "    <tr>\n",
       "      <th>2</th>\n",
       "      <td>CoV_S2</td>\n",
       "      <td>22276</td>\n",
       "    </tr>\n",
       "    <tr>\n",
       "      <th>3</th>\n",
       "      <td>CoV_S2</td>\n",
       "      <td>22277</td>\n",
       "    </tr>\n",
       "    <tr>\n",
       "      <th>4</th>\n",
       "      <td>CoV_S2</td>\n",
       "      <td>22278</td>\n",
       "    </tr>\n",
       "  </tbody>\n",
       "</table>\n",
       "</div>"
      ],
      "text/plain": [
       "   domain  position\n",
       "0  CoV_S2     22274\n",
       "1  CoV_S2     22275\n",
       "2  CoV_S2     22276\n",
       "3  CoV_S2     22277\n",
       "4  CoV_S2     22278"
      ]
     },
     "execution_count": 144,
     "metadata": {},
     "output_type": "execute_result"
    }
   ],
   "source": [
    "domains_df.head()"
   ]
  },
  {
   "cell_type": "code",
   "execution_count": 145,
   "id": "f9fee308-baa7-4e25-9590-2d5b1df5e3e7",
   "metadata": {},
   "outputs": [],
   "source": [
    "def annotate_variants(variants, annotations):\n",
    "    return pd.merge(variants, annotations, on='position')"
   ]
  },
  {
   "cell_type": "markdown",
   "id": "73839dfd-1ba6-4686-92c3-c1d85fd3cebd",
   "metadata": {},
   "source": [
    "## Data loading"
   ]
  },
  {
   "cell_type": "code",
   "execution_count": 146,
   "id": "8db8b5ed-71b9-420e-929b-7c413d4f015d",
   "metadata": {},
   "outputs": [
    {
     "data": {
      "text/html": [
       "<div>\n",
       "<style scoped>\n",
       "    .dataframe tbody tr th:only-of-type {\n",
       "        vertical-align: middle;\n",
       "    }\n",
       "\n",
       "    .dataframe tbody tr th {\n",
       "        vertical-align: top;\n",
       "    }\n",
       "\n",
       "    .dataframe thead th {\n",
       "        text-align: right;\n",
       "    }\n",
       "</style>\n",
       "<table border=\"1\" class=\"dataframe\">\n",
       "  <thead>\n",
       "    <tr style=\"text-align: right;\">\n",
       "      <th></th>\n",
       "      <th>run_accession</th>\n",
       "      <th>finished</th>\n",
       "      <th>sample_accession</th>\n",
       "      <th>scientific_name</th>\n",
       "      <th>study_accession</th>\n",
       "      <th>experiment_accession</th>\n",
       "      <th>first_created</th>\n",
       "      <th>collection_date</th>\n",
       "      <th>instrument_platform</th>\n",
       "      <th>instrument_model</th>\n",
       "      <th>...</th>\n",
       "      <th>percent_duplication</th>\n",
       "      <th>unpaired_reads_examined</th>\n",
       "      <th>read_pairs_examined</th>\n",
       "      <th>secondary_or_supplementary_reads</th>\n",
       "      <th>unmapped_reads</th>\n",
       "      <th>unpaired_read_duplicates</th>\n",
       "      <th>read_pair_duplicates</th>\n",
       "      <th>read_pair_optical_duplicates</th>\n",
       "      <th>covigator_accessor_version</th>\n",
       "      <th>covigator_processor_version</th>\n",
       "    </tr>\n",
       "  </thead>\n",
       "  <tbody>\n",
       "    <tr>\n",
       "      <th>0</th>\n",
       "      <td>ERR5078834</td>\n",
       "      <td>NaN</td>\n",
       "      <td>SAMEA7796020</td>\n",
       "      <td>Severe acute respiratory syndrome coronavirus 2</td>\n",
       "      <td>PRJEB37886</td>\n",
       "      <td>ERX4884988</td>\n",
       "      <td>2021-01-11</td>\n",
       "      <td>2020-09-18</td>\n",
       "      <td>ILLUMINA</td>\n",
       "      <td>unspecified</td>\n",
       "      <td>...</td>\n",
       "      <td>NaN</td>\n",
       "      <td>NaN</td>\n",
       "      <td>NaN</td>\n",
       "      <td>NaN</td>\n",
       "      <td>NaN</td>\n",
       "      <td>NaN</td>\n",
       "      <td>NaN</td>\n",
       "      <td>NaN</td>\n",
       "      <td>v1.0.0.dev1</td>\n",
       "      <td>v1.1.1</td>\n",
       "    </tr>\n",
       "    <tr>\n",
       "      <th>1</th>\n",
       "      <td>ERR9468310</td>\n",
       "      <td>NaN</td>\n",
       "      <td>SAMEA13299001</td>\n",
       "      <td>Severe acute respiratory syndrome coronavirus 2</td>\n",
       "      <td>PRJEB43828</td>\n",
       "      <td>ERX9010135</td>\n",
       "      <td>2022-04-01</td>\n",
       "      <td>2022-02-25</td>\n",
       "      <td>ILLUMINA</td>\n",
       "      <td>Illumina NovaSeq 6000</td>\n",
       "      <td>...</td>\n",
       "      <td>NaN</td>\n",
       "      <td>NaN</td>\n",
       "      <td>NaN</td>\n",
       "      <td>NaN</td>\n",
       "      <td>NaN</td>\n",
       "      <td>NaN</td>\n",
       "      <td>NaN</td>\n",
       "      <td>NaN</td>\n",
       "      <td>v1.0.0.dev1</td>\n",
       "      <td>v1.1.1</td>\n",
       "    </tr>\n",
       "    <tr>\n",
       "      <th>2</th>\n",
       "      <td>ERR5885231</td>\n",
       "      <td>NaN</td>\n",
       "      <td>SAMEA8694539</td>\n",
       "      <td>Severe acute respiratory syndrome coronavirus 2</td>\n",
       "      <td>PRJEB44396</td>\n",
       "      <td>ERX5528668</td>\n",
       "      <td>2021-05-06</td>\n",
       "      <td>2021-01-01</td>\n",
       "      <td>ILLUMINA</td>\n",
       "      <td>NextSeq 500</td>\n",
       "      <td>...</td>\n",
       "      <td>NaN</td>\n",
       "      <td>NaN</td>\n",
       "      <td>NaN</td>\n",
       "      <td>NaN</td>\n",
       "      <td>NaN</td>\n",
       "      <td>NaN</td>\n",
       "      <td>NaN</td>\n",
       "      <td>NaN</td>\n",
       "      <td>v1.0.0.dev1</td>\n",
       "      <td>v1.1.1</td>\n",
       "    </tr>\n",
       "    <tr>\n",
       "      <th>3</th>\n",
       "      <td>ERR10009744</td>\n",
       "      <td>NaN</td>\n",
       "      <td>SAMEA13793603</td>\n",
       "      <td>Severe acute respiratory syndrome coronavirus 2</td>\n",
       "      <td>PRJEB43828</td>\n",
       "      <td>ERX9550703</td>\n",
       "      <td>2022-07-29</td>\n",
       "      <td>2022-03-14</td>\n",
       "      <td>ILLUMINA</td>\n",
       "      <td>Illumina NovaSeq 6000</td>\n",
       "      <td>...</td>\n",
       "      <td>0.723239</td>\n",
       "      <td>0.0</td>\n",
       "      <td>2016066.0</td>\n",
       "      <td>837.0</td>\n",
       "      <td>24.0</td>\n",
       "      <td>0.0</td>\n",
       "      <td>1458098.0</td>\n",
       "      <td>0.0</td>\n",
       "      <td>v1.0.0.dev1</td>\n",
       "      <td>v1.1.1</td>\n",
       "    </tr>\n",
       "    <tr>\n",
       "      <th>4</th>\n",
       "      <td>SRR12768734</td>\n",
       "      <td>NaN</td>\n",
       "      <td>SAMN16361111</td>\n",
       "      <td>Severe acute respiratory syndrome coronavirus 2</td>\n",
       "      <td>PRJNA667180</td>\n",
       "      <td>SRX9239474</td>\n",
       "      <td>2020-10-05</td>\n",
       "      <td>2020-01-01</td>\n",
       "      <td>ILLUMINA</td>\n",
       "      <td>Illumina NovaSeq 6000</td>\n",
       "      <td>...</td>\n",
       "      <td>NaN</td>\n",
       "      <td>NaN</td>\n",
       "      <td>NaN</td>\n",
       "      <td>NaN</td>\n",
       "      <td>NaN</td>\n",
       "      <td>NaN</td>\n",
       "      <td>NaN</td>\n",
       "      <td>NaN</td>\n",
       "      <td>v1.0.0.dev1</td>\n",
       "      <td>v1.1.1</td>\n",
       "    </tr>\n",
       "  </tbody>\n",
       "</table>\n",
       "<p>5 rows × 100 columns</p>\n",
       "</div>"
      ],
      "text/plain": [
       "  run_accession  finished sample_accession  \\\n",
       "0    ERR5078834       NaN     SAMEA7796020   \n",
       "1    ERR9468310       NaN    SAMEA13299001   \n",
       "2    ERR5885231       NaN     SAMEA8694539   \n",
       "3   ERR10009744       NaN    SAMEA13793603   \n",
       "4   SRR12768734       NaN     SAMN16361111   \n",
       "\n",
       "                                   scientific_name study_accession  \\\n",
       "0  Severe acute respiratory syndrome coronavirus 2      PRJEB37886   \n",
       "1  Severe acute respiratory syndrome coronavirus 2      PRJEB43828   \n",
       "2  Severe acute respiratory syndrome coronavirus 2      PRJEB44396   \n",
       "3  Severe acute respiratory syndrome coronavirus 2      PRJEB43828   \n",
       "4  Severe acute respiratory syndrome coronavirus 2     PRJNA667180   \n",
       "\n",
       "  experiment_accession first_created collection_date instrument_platform  \\\n",
       "0           ERX4884988    2021-01-11      2020-09-18            ILLUMINA   \n",
       "1           ERX9010135    2022-04-01      2022-02-25            ILLUMINA   \n",
       "2           ERX5528668    2021-05-06      2021-01-01            ILLUMINA   \n",
       "3           ERX9550703    2022-07-29      2022-03-14            ILLUMINA   \n",
       "4           SRX9239474    2020-10-05      2020-01-01            ILLUMINA   \n",
       "\n",
       "        instrument_model  ... percent_duplication  unpaired_reads_examined  \\\n",
       "0            unspecified  ...                 NaN                      NaN   \n",
       "1  Illumina NovaSeq 6000  ...                 NaN                      NaN   \n",
       "2            NextSeq 500  ...                 NaN                      NaN   \n",
       "3  Illumina NovaSeq 6000  ...            0.723239                      0.0   \n",
       "4  Illumina NovaSeq 6000  ...                 NaN                      NaN   \n",
       "\n",
       "  read_pairs_examined secondary_or_supplementary_reads unmapped_reads  \\\n",
       "0                 NaN                              NaN            NaN   \n",
       "1                 NaN                              NaN            NaN   \n",
       "2                 NaN                              NaN            NaN   \n",
       "3           2016066.0                            837.0           24.0   \n",
       "4                 NaN                              NaN            NaN   \n",
       "\n",
       "  unpaired_read_duplicates  read_pair_duplicates  \\\n",
       "0                      NaN                   NaN   \n",
       "1                      NaN                   NaN   \n",
       "2                      NaN                   NaN   \n",
       "3                      0.0             1458098.0   \n",
       "4                      NaN                   NaN   \n",
       "\n",
       "   read_pair_optical_duplicates  covigator_accessor_version  \\\n",
       "0                           NaN                 v1.0.0.dev1   \n",
       "1                           NaN                 v1.0.0.dev1   \n",
       "2                           NaN                 v1.0.0.dev1   \n",
       "3                           0.0                 v1.0.0.dev1   \n",
       "4                           NaN                 v1.0.0.dev1   \n",
       "\n",
       "   covigator_processor_version  \n",
       "0                       v1.1.1  \n",
       "1                       v1.1.1  \n",
       "2                       v1.1.1  \n",
       "3                       v1.1.1  \n",
       "4                       v1.1.1  \n",
       "\n",
       "[5 rows x 100 columns]"
      ]
     },
     "execution_count": 146,
     "metadata": {},
     "output_type": "execute_result"
    }
   ],
   "source": [
    "samples = pd.read_csv(os.path.join(data_folder, 'sample_ena.csv.gz'), compression='infer')\n",
    "samples.head()"
   ]
  },
  {
   "cell_type": "code",
   "execution_count": 147,
   "id": "931e5e06-2dd7-4ba9-8669-68ac539f32e4",
   "metadata": {},
   "outputs": [
    {
     "data": {
      "text/plain": [
       "Index(['run_accession', 'finished', 'sample_accession', 'scientific_name',\n",
       "       'study_accession', 'experiment_accession', 'first_created',\n",
       "       'collection_date', 'instrument_platform', 'instrument_model',\n",
       "       'library_name', 'nominal_length', 'library_layout', 'library_strategy',\n",
       "       'library_source', 'library_selection', 'read_count', 'base_count',\n",
       "       'sample_collection', 'sequencing_method', 'center_name', 'fastq_ftp',\n",
       "       'fastq_md5', 'num_fastqs', 'host_tax_id', 'host_sex', 'host_body_site',\n",
       "       'host_gravidity', 'host_phenotype', 'host_genotype', 'lat', 'lon',\n",
       "       'country_raw', 'country', 'country_alpha_2', 'country_alpha_3',\n",
       "       'continent', 'continent_alpha_2', 'count_snvs', 'count_insertions',\n",
       "       'count_deletions', 'count_subclonal_snvs', 'count_subclonal_insertions',\n",
       "       'count_subclonal_deletions', 'count_low_frequency_snvs',\n",
       "       'count_low_frequency_insertions', 'count_low_frequency_deletions',\n",
       "       'status', 'created_at', 'queued_at', 'downloaded_at', 'analysed_at',\n",
       "       'cleaned_at', 'loaded_at', 'cooccurrence_at', 'failed_at',\n",
       "       'error_message', 'sample_folder', 'fastq_path', 'lofreq_vcf_path',\n",
       "       'ivar_vcf_path', 'gatk_vcf_path', 'bcftools_vcf_path',\n",
       "       'lofreq_pangolin_path', 'ivar_pangolin_path', 'gatk_pangolin_path',\n",
       "       'bcftools_pangolin_path', 'fastp_path', 'deduplication_metrics_path',\n",
       "       'horizontal_coverage_path', 'vertical_coverage_path', 'num_reads',\n",
       "       'covered_bases', 'coverage', 'mean_depth', 'mean_base_quality',\n",
       "       'mean_mapping_quality', 'pangolin_lineage', 'pangolin_conflict',\n",
       "       'pangolin_ambiguity_score', 'pangolin_scorpio_call',\n",
       "       'pangolin_scorpio_support', 'pangolin_scorpio_conflict',\n",
       "       'pangolin_version', 'pangolin_pangolin_version',\n",
       "       'pangolin_scorpio_version', 'pangolin_constellation_version',\n",
       "       'pangolin_qc_status', 'pangolin_qc_notes', 'pangolin_note',\n",
       "       'percent_duplication', 'unpaired_reads_examined', 'read_pairs_examined',\n",
       "       'secondary_or_supplementary_reads', 'unmapped_reads',\n",
       "       'unpaired_read_duplicates', 'read_pair_duplicates',\n",
       "       'read_pair_optical_duplicates', 'covigator_accessor_version',\n",
       "       'covigator_processor_version'],\n",
       "      dtype='object')"
      ]
     },
     "execution_count": 147,
     "metadata": {},
     "output_type": "execute_result"
    }
   ],
   "source": [
    "samples.columns"
   ]
  },
  {
   "cell_type": "code",
   "execution_count": 148,
   "id": "941f028e-5761-4dd2-a710-860c05a7f316",
   "metadata": {},
   "outputs": [
    {
     "data": {
      "text/plain": [
       "(135452, 100)"
      ]
     },
     "execution_count": 148,
     "metadata": {},
     "output_type": "execute_result"
    }
   ],
   "source": [
    "# filter out unfinished samples\n",
    "samples = samples[samples.status == 'FINISHED']\n",
    "samples.shape"
   ]
  },
  {
   "cell_type": "code",
   "execution_count": 149,
   "id": "ec189cbb-03d5-4078-8c9a-0ffa268abf1e",
   "metadata": {},
   "outputs": [],
   "source": [
    "num_samples = samples.shape[0]"
   ]
  },
  {
   "cell_type": "code",
   "execution_count": 150,
   "id": "a89bdf1c-6f9a-4b51-bf36-3f1b4f15b9b1",
   "metadata": {},
   "outputs": [
    {
     "data": {
      "text/html": [
       "<div>\n",
       "<style scoped>\n",
       "    .dataframe tbody tr th:only-of-type {\n",
       "        vertical-align: middle;\n",
       "    }\n",
       "\n",
       "    .dataframe tbody tr th {\n",
       "        vertical-align: top;\n",
       "    }\n",
       "\n",
       "    .dataframe thead th {\n",
       "        text-align: right;\n",
       "    }\n",
       "</style>\n",
       "<table border=\"1\" class=\"dataframe\">\n",
       "  <thead>\n",
       "    <tr style=\"text-align: right;\">\n",
       "      <th></th>\n",
       "      <th>sample</th>\n",
       "      <th>variant_id</th>\n",
       "      <th>chromosome</th>\n",
       "      <th>position</th>\n",
       "      <th>reference</th>\n",
       "      <th>alternate</th>\n",
       "      <th>quality</th>\n",
       "      <th>filter</th>\n",
       "      <th>dp</th>\n",
       "      <th>ac</th>\n",
       "      <th>...</th>\n",
       "      <th>variant_type</th>\n",
       "      <th>length</th>\n",
       "      <th>reference_amino_acid</th>\n",
       "      <th>alternate_amino_acid</th>\n",
       "      <th>position_amino_acid</th>\n",
       "      <th>cons_hmm_sars_cov_2</th>\n",
       "      <th>cons_hmm_sarbecovirus</th>\n",
       "      <th>cons_hmm_vertebrate_cov</th>\n",
       "      <th>pfam_name</th>\n",
       "      <th>pfam_description</th>\n",
       "    </tr>\n",
       "  </thead>\n",
       "  <tbody>\n",
       "    <tr>\n",
       "      <th>0</th>\n",
       "      <td>ERR10322829</td>\n",
       "      <td>10198:C&gt;T</td>\n",
       "      <td>MN908947.3</td>\n",
       "      <td>10198</td>\n",
       "      <td>C</td>\n",
       "      <td>T</td>\n",
       "      <td>272</td>\n",
       "      <td>SUBCLONAL</td>\n",
       "      <td>14</td>\n",
       "      <td>9</td>\n",
       "      <td>...</td>\n",
       "      <td>SNV</td>\n",
       "      <td>0</td>\n",
       "      <td>NaN</td>\n",
       "      <td>NaN</td>\n",
       "      <td>NaN</td>\n",
       "      <td>-0.59191</td>\n",
       "      <td>-0.35633</td>\n",
       "      <td>-0.59191</td>\n",
       "      <td>Peptidase_C30</td>\n",
       "      <td>Peptidase C30, coronavirus</td>\n",
       "    </tr>\n",
       "    <tr>\n",
       "      <th>1</th>\n",
       "      <td>ERR10322829</td>\n",
       "      <td>21987:G&gt;A</td>\n",
       "      <td>MN908947.3</td>\n",
       "      <td>21987</td>\n",
       "      <td>G</td>\n",
       "      <td>A</td>\n",
       "      <td>17122</td>\n",
       "      <td>SUBCLONAL</td>\n",
       "      <td>850</td>\n",
       "      <td>588</td>\n",
       "      <td>...</td>\n",
       "      <td>SNV</td>\n",
       "      <td>0</td>\n",
       "      <td>G</td>\n",
       "      <td>D</td>\n",
       "      <td>142.0</td>\n",
       "      <td>-1.04511</td>\n",
       "      <td>-1.04511</td>\n",
       "      <td>-0.72927</td>\n",
       "      <td>bCoV_S1_N</td>\n",
       "      <td>Betacoronavirus-like spike glycoprotein S1, N-...</td>\n",
       "    </tr>\n",
       "    <tr>\n",
       "      <th>2</th>\n",
       "      <td>ERR10322829</td>\n",
       "      <td>22882:T&gt;G</td>\n",
       "      <td>MN908947.3</td>\n",
       "      <td>22882</td>\n",
       "      <td>T</td>\n",
       "      <td>G</td>\n",
       "      <td>14632</td>\n",
       "      <td>SUBCLONAL</td>\n",
       "      <td>805</td>\n",
       "      <td>514</td>\n",
       "      <td>...</td>\n",
       "      <td>SNV</td>\n",
       "      <td>0</td>\n",
       "      <td>N</td>\n",
       "      <td>K</td>\n",
       "      <td>440.0</td>\n",
       "      <td>-1.02973</td>\n",
       "      <td>-1.02973</td>\n",
       "      <td>-0.72927</td>\n",
       "      <td>bCoV_S1_RBD</td>\n",
       "      <td>Spike receptor binding domain, betacoronavirus</td>\n",
       "    </tr>\n",
       "    <tr>\n",
       "      <th>3</th>\n",
       "      <td>ERR10322829</td>\n",
       "      <td>25000:C&gt;T</td>\n",
       "      <td>MN908947.3</td>\n",
       "      <td>25000</td>\n",
       "      <td>C</td>\n",
       "      <td>T</td>\n",
       "      <td>17590</td>\n",
       "      <td>SUBCLONAL</td>\n",
       "      <td>1122</td>\n",
       "      <td>647</td>\n",
       "      <td>...</td>\n",
       "      <td>SNV</td>\n",
       "      <td>0</td>\n",
       "      <td>NaN</td>\n",
       "      <td>NaN</td>\n",
       "      <td>NaN</td>\n",
       "      <td>-1.27455</td>\n",
       "      <td>-1.27455</td>\n",
       "      <td>0.00000</td>\n",
       "      <td>CoV_S2</td>\n",
       "      <td>Spike glycoprotein S2, coronavirus</td>\n",
       "    </tr>\n",
       "    <tr>\n",
       "      <th>4</th>\n",
       "      <td>ERR10322829</td>\n",
       "      <td>26577:C&gt;G</td>\n",
       "      <td>MN908947.3</td>\n",
       "      <td>26577</td>\n",
       "      <td>C</td>\n",
       "      <td>G</td>\n",
       "      <td>21709</td>\n",
       "      <td>SUBCLONAL</td>\n",
       "      <td>1168</td>\n",
       "      <td>762</td>\n",
       "      <td>...</td>\n",
       "      <td>SNV</td>\n",
       "      <td>0</td>\n",
       "      <td>Q</td>\n",
       "      <td>E</td>\n",
       "      <td>19.0</td>\n",
       "      <td>0.67226</td>\n",
       "      <td>0.67226</td>\n",
       "      <td>0.00000</td>\n",
       "      <td>CoV_M</td>\n",
       "      <td>M matrix/glycoprotein, coronavirus</td>\n",
       "    </tr>\n",
       "  </tbody>\n",
       "</table>\n",
       "<p>5 rows × 34 columns</p>\n",
       "</div>"
      ],
      "text/plain": [
       "        sample variant_id  chromosome  position reference alternate  quality  \\\n",
       "0  ERR10322829  10198:C>T  MN908947.3     10198         C         T      272   \n",
       "1  ERR10322829  21987:G>A  MN908947.3     21987         G         A    17122   \n",
       "2  ERR10322829  22882:T>G  MN908947.3     22882         T         G    14632   \n",
       "3  ERR10322829  25000:C>T  MN908947.3     25000         C         T    17590   \n",
       "4  ERR10322829  26577:C>G  MN908947.3     26577         C         G    21709   \n",
       "\n",
       "      filter    dp   ac  ...  variant_type  length  reference_amino_acid  \\\n",
       "0  SUBCLONAL    14    9  ...           SNV       0                   NaN   \n",
       "1  SUBCLONAL   850  588  ...           SNV       0                     G   \n",
       "2  SUBCLONAL   805  514  ...           SNV       0                     N   \n",
       "3  SUBCLONAL  1122  647  ...           SNV       0                   NaN   \n",
       "4  SUBCLONAL  1168  762  ...           SNV       0                     Q   \n",
       "\n",
       "   alternate_amino_acid  position_amino_acid  cons_hmm_sars_cov_2  \\\n",
       "0                   NaN                  NaN             -0.59191   \n",
       "1                     D                142.0             -1.04511   \n",
       "2                     K                440.0             -1.02973   \n",
       "3                   NaN                  NaN             -1.27455   \n",
       "4                     E                 19.0              0.67226   \n",
       "\n",
       "  cons_hmm_sarbecovirus cons_hmm_vertebrate_cov      pfam_name  \\\n",
       "0              -0.35633                -0.59191  Peptidase_C30   \n",
       "1              -1.04511                -0.72927      bCoV_S1_N   \n",
       "2              -1.02973                -0.72927    bCoV_S1_RBD   \n",
       "3              -1.27455                 0.00000         CoV_S2   \n",
       "4               0.67226                 0.00000          CoV_M   \n",
       "\n",
       "                                    pfam_description  \n",
       "0                         Peptidase C30, coronavirus  \n",
       "1  Betacoronavirus-like spike glycoprotein S1, N-...  \n",
       "2     Spike receptor binding domain, betacoronavirus  \n",
       "3                 Spike glycoprotein S2, coronavirus  \n",
       "4                 M matrix/glycoprotein, coronavirus  \n",
       "\n",
       "[5 rows x 34 columns]"
      ]
     },
     "execution_count": 150,
     "metadata": {},
     "output_type": "execute_result"
    }
   ],
   "source": [
    "subclonal_variants = pd.read_csv(os.path.join(data_folder, 'subclonal_variant_observation.csv.gz'), compression='infer')\n",
    "subclonal_variants.head()"
   ]
  },
  {
   "cell_type": "code",
   "execution_count": 151,
   "id": "e4623643-b61e-44c6-8661-6c551b01c643",
   "metadata": {},
   "outputs": [
    {
     "data": {
      "text/plain": [
       "(2510660, 34)"
      ]
     },
     "execution_count": 151,
     "metadata": {},
     "output_type": "execute_result"
    }
   ],
   "source": [
    "subclonal_variants.shape"
   ]
  },
  {
   "cell_type": "code",
   "execution_count": 152,
   "id": "12539900-142b-4962-b652-13d53da78ab3",
   "metadata": {},
   "outputs": [
    {
     "data": {
      "text/html": [
       "<div>\n",
       "<style scoped>\n",
       "    .dataframe tbody tr th:only-of-type {\n",
       "        vertical-align: middle;\n",
       "    }\n",
       "\n",
       "    .dataframe tbody tr th {\n",
       "        vertical-align: top;\n",
       "    }\n",
       "\n",
       "    .dataframe thead th {\n",
       "        text-align: right;\n",
       "    }\n",
       "</style>\n",
       "<table border=\"1\" class=\"dataframe\">\n",
       "  <thead>\n",
       "    <tr style=\"text-align: right;\">\n",
       "      <th></th>\n",
       "      <th>sample</th>\n",
       "      <th>variant_id</th>\n",
       "      <th>chromosome</th>\n",
       "      <th>position</th>\n",
       "      <th>reference</th>\n",
       "      <th>alternate</th>\n",
       "      <th>quality</th>\n",
       "      <th>filter</th>\n",
       "      <th>dp</th>\n",
       "      <th>ac</th>\n",
       "      <th>...</th>\n",
       "      <th>variant_type</th>\n",
       "      <th>length</th>\n",
       "      <th>reference_amino_acid</th>\n",
       "      <th>alternate_amino_acid</th>\n",
       "      <th>position_amino_acid</th>\n",
       "      <th>cons_hmm_sars_cov_2</th>\n",
       "      <th>cons_hmm_sarbecovirus</th>\n",
       "      <th>cons_hmm_vertebrate_cov</th>\n",
       "      <th>pfam_name</th>\n",
       "      <th>pfam_description</th>\n",
       "    </tr>\n",
       "  </thead>\n",
       "  <tbody>\n",
       "    <tr>\n",
       "      <th>0</th>\n",
       "      <td>ERR10322829</td>\n",
       "      <td>40:CT&gt;C</td>\n",
       "      <td>MN908947.3</td>\n",
       "      <td>40</td>\n",
       "      <td>CT</td>\n",
       "      <td>C</td>\n",
       "      <td>55</td>\n",
       "      <td>LOW_FREQUENCY</td>\n",
       "      <td>534</td>\n",
       "      <td>3</td>\n",
       "      <td>...</td>\n",
       "      <td>DELETION</td>\n",
       "      <td>-1</td>\n",
       "      <td>NaN</td>\n",
       "      <td>NaN</td>\n",
       "      <td>NaN</td>\n",
       "      <td>NaN</td>\n",
       "      <td>NaN</td>\n",
       "      <td>NaN</td>\n",
       "      <td>NaN</td>\n",
       "      <td>NaN</td>\n",
       "    </tr>\n",
       "    <tr>\n",
       "      <th>1</th>\n",
       "      <td>ERR10322829</td>\n",
       "      <td>509:GGTCATGTTATGGTT&gt;G</td>\n",
       "      <td>MN908947.3</td>\n",
       "      <td>509</td>\n",
       "      <td>GGTCATGTTATGGTT</td>\n",
       "      <td>G</td>\n",
       "      <td>111</td>\n",
       "      <td>LOW_FREQUENCY</td>\n",
       "      <td>1726</td>\n",
       "      <td>7</td>\n",
       "      <td>...</td>\n",
       "      <td>DELETION</td>\n",
       "      <td>-14</td>\n",
       "      <td>NaN</td>\n",
       "      <td>NaN</td>\n",
       "      <td>NaN</td>\n",
       "      <td>0.57215</td>\n",
       "      <td>0.57215</td>\n",
       "      <td>0.00000</td>\n",
       "      <td>bCoV_NSP1</td>\n",
       "      <td>Non-structural protein NSP1, betacoronavirus</td>\n",
       "    </tr>\n",
       "    <tr>\n",
       "      <th>2</th>\n",
       "      <td>ERR10322829</td>\n",
       "      <td>512:CATGTTATGGTT&gt;C</td>\n",
       "      <td>MN908947.3</td>\n",
       "      <td>512</td>\n",
       "      <td>CATGTTATGGTT</td>\n",
       "      <td>C</td>\n",
       "      <td>59</td>\n",
       "      <td>LOW_FREQUENCY</td>\n",
       "      <td>1743</td>\n",
       "      <td>4</td>\n",
       "      <td>...</td>\n",
       "      <td>DELETION</td>\n",
       "      <td>-11</td>\n",
       "      <td>NaN</td>\n",
       "      <td>NaN</td>\n",
       "      <td>NaN</td>\n",
       "      <td>0.57215</td>\n",
       "      <td>0.57215</td>\n",
       "      <td>0.00000</td>\n",
       "      <td>bCoV_NSP1</td>\n",
       "      <td>Non-structural protein NSP1, betacoronavirus</td>\n",
       "    </tr>\n",
       "    <tr>\n",
       "      <th>3</th>\n",
       "      <td>ERR10322829</td>\n",
       "      <td>517:TATG&gt;T</td>\n",
       "      <td>MN908947.3</td>\n",
       "      <td>517</td>\n",
       "      <td>TATG</td>\n",
       "      <td>T</td>\n",
       "      <td>77</td>\n",
       "      <td>LOW_FREQUENCY</td>\n",
       "      <td>1766</td>\n",
       "      <td>5</td>\n",
       "      <td>...</td>\n",
       "      <td>DELETION</td>\n",
       "      <td>-3</td>\n",
       "      <td>NaN</td>\n",
       "      <td>NaN</td>\n",
       "      <td>NaN</td>\n",
       "      <td>-0.72927</td>\n",
       "      <td>0.00000</td>\n",
       "      <td>-0.72927</td>\n",
       "      <td>bCoV_NSP1</td>\n",
       "      <td>Non-structural protein NSP1, betacoronavirus</td>\n",
       "    </tr>\n",
       "    <tr>\n",
       "      <th>4</th>\n",
       "      <td>ERR10322829</td>\n",
       "      <td>518:ATGGTT&gt;A</td>\n",
       "      <td>MN908947.3</td>\n",
       "      <td>518</td>\n",
       "      <td>ATGGTT</td>\n",
       "      <td>A</td>\n",
       "      <td>53</td>\n",
       "      <td>LOW_FREQUENCY</td>\n",
       "      <td>1755</td>\n",
       "      <td>4</td>\n",
       "      <td>...</td>\n",
       "      <td>DELETION</td>\n",
       "      <td>-5</td>\n",
       "      <td>NaN</td>\n",
       "      <td>NaN</td>\n",
       "      <td>NaN</td>\n",
       "      <td>0.00000</td>\n",
       "      <td>0.00000</td>\n",
       "      <td>0.00000</td>\n",
       "      <td>bCoV_NSP1</td>\n",
       "      <td>Non-structural protein NSP1, betacoronavirus</td>\n",
       "    </tr>\n",
       "  </tbody>\n",
       "</table>\n",
       "<p>5 rows × 34 columns</p>\n",
       "</div>"
      ],
      "text/plain": [
       "        sample             variant_id  chromosome  position        reference  \\\n",
       "0  ERR10322829                40:CT>C  MN908947.3        40               CT   \n",
       "1  ERR10322829  509:GGTCATGTTATGGTT>G  MN908947.3       509  GGTCATGTTATGGTT   \n",
       "2  ERR10322829     512:CATGTTATGGTT>C  MN908947.3       512     CATGTTATGGTT   \n",
       "3  ERR10322829             517:TATG>T  MN908947.3       517             TATG   \n",
       "4  ERR10322829           518:ATGGTT>A  MN908947.3       518           ATGGTT   \n",
       "\n",
       "  alternate  quality         filter    dp  ac  ...  variant_type  length  \\\n",
       "0         C       55  LOW_FREQUENCY   534   3  ...      DELETION      -1   \n",
       "1         G      111  LOW_FREQUENCY  1726   7  ...      DELETION     -14   \n",
       "2         C       59  LOW_FREQUENCY  1743   4  ...      DELETION     -11   \n",
       "3         T       77  LOW_FREQUENCY  1766   5  ...      DELETION      -3   \n",
       "4         A       53  LOW_FREQUENCY  1755   4  ...      DELETION      -5   \n",
       "\n",
       "   reference_amino_acid  alternate_amino_acid  position_amino_acid  \\\n",
       "0                   NaN                   NaN                  NaN   \n",
       "1                   NaN                   NaN                  NaN   \n",
       "2                   NaN                   NaN                  NaN   \n",
       "3                   NaN                   NaN                  NaN   \n",
       "4                   NaN                   NaN                  NaN   \n",
       "\n",
       "   cons_hmm_sars_cov_2 cons_hmm_sarbecovirus cons_hmm_vertebrate_cov  \\\n",
       "0                  NaN                   NaN                     NaN   \n",
       "1              0.57215               0.57215                 0.00000   \n",
       "2              0.57215               0.57215                 0.00000   \n",
       "3             -0.72927               0.00000                -0.72927   \n",
       "4              0.00000               0.00000                 0.00000   \n",
       "\n",
       "   pfam_name                              pfam_description  \n",
       "0        NaN                                           NaN  \n",
       "1  bCoV_NSP1  Non-structural protein NSP1, betacoronavirus  \n",
       "2  bCoV_NSP1  Non-structural protein NSP1, betacoronavirus  \n",
       "3  bCoV_NSP1  Non-structural protein NSP1, betacoronavirus  \n",
       "4  bCoV_NSP1  Non-structural protein NSP1, betacoronavirus  \n",
       "\n",
       "[5 rows x 34 columns]"
      ]
     },
     "execution_count": 152,
     "metadata": {},
     "output_type": "execute_result"
    }
   ],
   "source": [
    "low_frequency_variants = pd.read_csv(os.path.join(data_folder, 'low_frequency_variant_observation.csv.gz'), compression='infer')\n",
    "low_frequency_variants.head()"
   ]
  },
  {
   "cell_type": "code",
   "execution_count": 153,
   "id": "9b0e6484-1a72-4fe3-a93a-697c4040b0f8",
   "metadata": {},
   "outputs": [
    {
     "data": {
      "text/plain": [
       "(23943046, 34)"
      ]
     },
     "execution_count": 153,
     "metadata": {},
     "output_type": "execute_result"
    }
   ],
   "source": [
    "low_frequency_variants.shape"
   ]
  },
  {
   "cell_type": "code",
   "execution_count": 154,
   "id": "e6be2851-9c5a-4f23-81d5-6757877943b4",
   "metadata": {},
   "outputs": [],
   "source": [
    "variants = pd.concat([low_frequency_variants, subclonal_variants])"
   ]
  },
  {
   "cell_type": "code",
   "execution_count": 155,
   "id": "5bb258be-e4b1-42ed-a41e-f289fb58781e",
   "metadata": {
    "tags": []
   },
   "outputs": [
    {
     "data": {
      "text/plain": [
       "Index(['sample', 'variant_id', 'chromosome', 'position', 'reference',\n",
       "       'alternate', 'quality', 'filter', 'dp', 'ac', 'dp4_ref_forward',\n",
       "       'dp4_ref_reverse', 'dp4_alt_forward', 'dp4_alt_reverse', 'vaf',\n",
       "       'strand_bias', 'annotation', 'annotation_impact', 'biotype',\n",
       "       'annotation_highest_impact', 'gene_name', 'hgvs_c', 'hgvs_p', 'date',\n",
       "       'variant_type', 'length', 'reference_amino_acid',\n",
       "       'alternate_amino_acid', 'position_amino_acid', 'cons_hmm_sars_cov_2',\n",
       "       'cons_hmm_sarbecovirus', 'cons_hmm_vertebrate_cov', 'pfam_name',\n",
       "       'pfam_description'],\n",
       "      dtype='object')"
      ]
     },
     "execution_count": 155,
     "metadata": {},
     "output_type": "execute_result"
    }
   ],
   "source": [
    "variants.columns"
   ]
  },
  {
   "cell_type": "code",
   "execution_count": 156,
   "id": "466e7561-c7e1-4488-b742-956214c6da2b",
   "metadata": {},
   "outputs": [],
   "source": [
    "variants = annotate_variants(variants=variants, annotations=genes_df)"
   ]
  },
  {
   "cell_type": "code",
   "execution_count": 157,
   "id": "6119db2f-2665-486a-8933-92cef1132f99",
   "metadata": {},
   "outputs": [],
   "source": [
    "variants = annotate_variants(variants=variants, annotations=domains_df)"
   ]
  },
  {
   "cell_type": "markdown",
   "id": "79805033-bc7a-435f-ab45-8c3d40d9121c",
   "metadata": {},
   "source": [
    "## Evaluate dataset"
   ]
  },
  {
   "cell_type": "code",
   "execution_count": 158,
   "id": "01bd0675-ec6c-4871-b5d9-b7b4ff71171c",
   "metadata": {},
   "outputs": [],
   "source": [
    "def calculate_dist(samples, variants):\n",
    "    # we take into account samples here to make sure the median includes samples with 0 intrahost\n",
    "    count_per_sample = pd.merge(variants[['sample', 'variant_id']].groupby('sample').count().reset_index(), samples.run_accession, left_on='sample', right_on='run_accession', how='outer').fillna(0).variant_id\n",
    "    return count_per_sample.median(), count_per_sample.quantile(0.25), count_per_sample.quantile(0.75)\n",
    "\n",
    "def calculate_median_mutations_per_sample(samples, variants):\n",
    "    # we take into account samples here to make sure the median includes samples with 0 intrahost\n",
    "    count_per_sample = pd.merge(variants[['sample', 'variant_id']].groupby('sample').count().reset_index(), samples.run_accession, left_on='sample', right_on='run_accession', how='outer').fillna(0).variant_id\n",
    "    return count_per_sample.median()\n",
    "\n",
    "def calculate_inframe_fs_ratio(variants):\n",
    "    return variants[variants.annotation_highest_impact.isin(['conservative_inframe_deletion', 'disruptive_inframe_deletion', 'conservative_inframe_insertion', 'disruptive_inframe_insertion'])].shape[0] / \\\n",
    "          variants[variants.annotation_highest_impact == 'frameshift_variant'].shape[0]\n",
    "\n",
    "    \n",
    "def calculate_ns_s_ratio(variants):\n",
    "    return variants[variants.annotation_highest_impact.isin(['missense_variant', 'stop_lost', 'stop_gained', 'start_lost'])].shape[0] / variants[variants.annotation_highest_impact == 'synonymous_variant'].shape[0]\n",
    "\n",
    "\n",
    "def print_results_values(results):\n",
    "    for v in results.values():\n",
    "        print(v)"
   ]
  },
  {
   "cell_type": "code",
   "execution_count": 159,
   "id": "d9476ac8-93cf-44e7-b169-46cdbff35bfa",
   "metadata": {},
   "outputs": [
    {
     "data": {
      "text/plain": [
       "array(['frameshift_variant', 'disruptive_inframe_deletion',\n",
       "       'missense_variant', 'disruptive_inframe_insertion',\n",
       "       'conservative_inframe_deletion', 'synonymous_variant',\n",
       "       'conservative_inframe_insertion', 'stop_gained', 'start_lost',\n",
       "       'stop_lost', 'gene_fusion'], dtype=object)"
      ]
     },
     "execution_count": 159,
     "metadata": {},
     "output_type": "execute_result"
    }
   ],
   "source": [
    "variants.annotation_highest_impact.unique()"
   ]
  },
  {
   "cell_type": "code",
   "execution_count": 160,
   "id": "2da9a472-ca5e-4350-8931-cf76bc911b33",
   "metadata": {},
   "outputs": [],
   "source": [
    "def evaluate_dataset(samples, variants):\n",
    "    \n",
    "    data = {\n",
    "        'Num. samples': samples.shape[0],\n",
    "        ###\n",
    "        'Num. mutations': variants.shape[0],\n",
    "        'Num. SNVs': variants[variants.variant_type == 'SNV'].shape[0],\n",
    "        'Num. insertions': variants[variants.variant_type == 'INSERTION'].shape[0],\n",
    "        'Num. deletions': variants[variants.variant_type == 'DELETION'].shape[0],\n",
    "        ###\n",
    "        'Num. unique mutations': variants.variant_id.unique().shape[0],\n",
    "        'Num. unique SNVs': variants[variants.variant_type == 'SNV'].variant_id.unique().shape[0],\n",
    "        'Num. unique insertions': variants[variants.variant_type == 'INSERTION'].variant_id.unique().shape[0],\n",
    "        'Num. unique deletions': variants[variants.variant_type == 'DELETION'].variant_id.unique().shape[0],\n",
    "        ###\n",
    "        'Median VAF': variants.vaf.median(),\n",
    "        'Median AC': variants.ac.median(),\n",
    "        'Median DP': variants.dp.median(),\n",
    "        ###\n",
    "        'Median mutations per sample': calculate_median_mutations_per_sample(samples, variants),\n",
    "        'Median SNVs per sample': calculate_median_mutations_per_sample(samples, variants[variants.variant_type == 'SNV']),\n",
    "        'Median insertions per sample': calculate_median_mutations_per_sample(samples, variants[variants.variant_type == 'INSERTION']),\n",
    "        'Median deletions per sample': calculate_median_mutations_per_sample(samples, variants[variants.variant_type == 'DELETION']),\n",
    "        ###\n",
    "        'Ratio of NS/S': round(calculate_ns_s_ratio(variants), 3),\n",
    "        'Ratio of in-frame/frameshift': round(calculate_inframe_fs_ratio(variants), 3),\n",
    "        'Start loss': variants[variants.annotation_highest_impact == 'start_lost'].shape[0],\n",
    "        'Ratio start loss': variants[variants.annotation_highest_impact == 'start_lost'].shape[0] / variants.shape[0],\n",
    "        'Stop gained': variants[variants.annotation_highest_impact == 'stop_gained'].shape[0],\n",
    "        'Ratio stop gained': variants[variants.annotation_highest_impact == 'stop_gained'].shape[0] / variants.shape[0],\n",
    "        'Stop loss': variants[variants.annotation_highest_impact == 'stop_lost'].shape[0],\n",
    "        'Ratio stop loss': variants[variants.annotation_highest_impact == 'stop_lost'].shape[0] / variants.shape[0],\n",
    "        ###\n",
    "        'Variant calling quality': variants.quality.median(),\n",
    "        'Variant calling quality SNVs': variants[variants.variant_type == 'SNV'].quality.median(),\n",
    "        'Variant calling quality insertions': variants[variants.variant_type == 'INSERTION'].quality.median(),\n",
    "        'Variant calling quality deletions': variants[variants.variant_type == 'DELETION'].quality.median(),\n",
    "        ###\n",
    "        'Entropy genomic positions': variants.position.transform(lambda p: p * np.log(p)).sum(),\n",
    "        'Entropy genomic positions SNVs': variants[variants.variant_type == 'SNV'].position.transform(lambda p: p * np.log(p)).sum(),\n",
    "        'Entropy genomic positions insertions': variants[variants.variant_type == 'INSERTION'].position.transform(lambda p: p * np.log(p)).sum(),\n",
    "        'Entropy genomic positions deletions': variants[variants.variant_type == 'DELETION'].position.transform(lambda p: p * np.log(p)).sum(),\n",
    "    }\n",
    "    \n",
    "    \n",
    "    return data"
   ]
  },
  {
   "cell_type": "code",
   "execution_count": 161,
   "id": "ce9d1d4c-6952-4f9e-b653-61e5e3c1e4ed",
   "metadata": {},
   "outputs": [
    {
     "data": {
      "text/plain": [
       "{'Num. samples': 135452,\n",
       " 'Num. mutations': 17805559,\n",
       " 'Num. SNVs': 8300969,\n",
       " 'Num. insertions': 3846983,\n",
       " 'Num. deletions': 5657607,\n",
       " 'Num. unique mutations': 61594,\n",
       " 'Num. unique SNVs': 23588,\n",
       " 'Num. unique insertions': 14743,\n",
       " 'Num. unique deletions': 23263,\n",
       " 'Median VAF': 0.0056360699236392975,\n",
       " 'Median AC': 8.0,\n",
       " 'Median DP': 1779.0,\n",
       " 'Median mutations per sample': 84.0,\n",
       " 'Median SNVs per sample': 24.0,\n",
       " 'Median insertions per sample': 11.0,\n",
       " 'Median deletions per sample': 28.0,\n",
       " 'Ratio of NS/S': 2.536,\n",
       " 'Ratio of in-frame/frameshift': 0.101,\n",
       " 'Start loss': 6366,\n",
       " 'Ratio start loss': 0.0003575287919913101,\n",
       " 'Stop gained': 336324,\n",
       " 'Ratio stop gained': 0.018888707734477754,\n",
       " 'Stop loss': 920,\n",
       " 'Ratio stop loss': 5.1669256775369985e-05,\n",
       " 'Variant calling quality': 96.0,\n",
       " 'Variant calling quality SNVs': 118.0,\n",
       " 'Variant calling quality insertions': 84.0,\n",
       " 'Variant calling quality deletions': 79.0,\n",
       " 'Entropy genomic positions': 951942484473.9773,\n",
       " 'Entropy genomic positions SNVs': 446076837696.54645,\n",
       " 'Entropy genomic positions insertions': 229529416038.528,\n",
       " 'Entropy genomic positions deletions': 276336230738.904}"
      ]
     },
     "execution_count": 161,
     "metadata": {},
     "output_type": "execute_result"
    }
   ],
   "source": [
    "results_raw = evaluate_dataset(samples=samples, variants=variants)\n",
    "results_raw"
   ]
  },
  {
   "cell_type": "code",
   "execution_count": 162,
   "id": "54effab6-fc3e-4ab9-82c6-f2743bdd6449",
   "metadata": {},
   "outputs": [
    {
     "name": "stdout",
     "output_type": "stream",
     "text": [
      "135452\n",
      "17805559\n",
      "8300969\n",
      "3846983\n",
      "5657607\n",
      "61594\n",
      "23588\n",
      "14743\n",
      "23263\n",
      "0.0056360699236392975\n",
      "8.0\n",
      "1779.0\n",
      "84.0\n",
      "24.0\n",
      "11.0\n",
      "28.0\n",
      "2.536\n",
      "0.101\n",
      "6366\n",
      "0.0003575287919913101\n",
      "336324\n",
      "0.018888707734477754\n",
      "920\n",
      "5.1669256775369985e-05\n",
      "96.0\n",
      "118.0\n",
      "84.0\n",
      "79.0\n",
      "951942484473.9773\n",
      "446076837696.54645\n",
      "229529416038.528\n",
      "276336230738.904\n"
     ]
    }
   ],
   "source": [
    "print_results_values(results_raw)"
   ]
  },
  {
   "cell_type": "code",
   "execution_count": 163,
   "id": "6fc5c82d-845f-42f5-a223-a107d4a977b8",
   "metadata": {},
   "outputs": [
    {
     "data": {
      "text/plain": [
       "{'Num. samples': 135452,\n",
       " 'Num. mutations': 2510660,\n",
       " 'Num. SNVs': 1590157,\n",
       " 'Num. insertions': 640604,\n",
       " 'Num. deletions': 279899,\n",
       " 'Num. unique mutations': 127456,\n",
       " 'Num. unique SNVs': 78658,\n",
       " 'Num. unique insertions': 15897,\n",
       " 'Num. unique deletions': 32901,\n",
       " 'Median VAF': 0.13924099504947662,\n",
       " 'Median AC': 3.0,\n",
       " 'Median DP': 22.0,\n",
       " 'Median mutations per sample': 5.0,\n",
       " 'Median SNVs per sample': 3.0,\n",
       " 'Median insertions per sample': 0.0,\n",
       " 'Median deletions per sample': 1.0,\n",
       " 'Ratio of NS/S': 2.512,\n",
       " 'Ratio of in-frame/frameshift': 0.113,\n",
       " 'Start loss': 1885,\n",
       " 'Ratio start loss': 0.0007507985947918077,\n",
       " 'Stop gained': 45460,\n",
       " 'Ratio stop gained': 0.018106792636199246,\n",
       " 'Stop loss': 19335,\n",
       " 'Ratio stop loss': 0.00770116224419077,\n",
       " 'Variant calling quality': 69.0,\n",
       " 'Variant calling quality SNVs': 120.0,\n",
       " 'Variant calling quality insertions': 66.0,\n",
       " 'Variant calling quality deletions': 388.0,\n",
       " 'Entropy genomic positions': 391502469502.3932,\n",
       " 'Entropy genomic positions SNVs': 249719394786.27924,\n",
       " 'Entropy genomic positions insertions': 94223167684.62859,\n",
       " 'Entropy genomic positions deletions': 47559907031.485504}"
      ]
     },
     "execution_count": 163,
     "metadata": {},
     "output_type": "execute_result"
    }
   ],
   "source": [
    "results_covigator = evaluate_dataset(samples=samples, variants=subclonal_variants)\n",
    "results_covigator"
   ]
  },
  {
   "cell_type": "code",
   "execution_count": 164,
   "id": "a8a79e2d-3578-4720-ad7e-82651fe05214",
   "metadata": {},
   "outputs": [
    {
     "name": "stdout",
     "output_type": "stream",
     "text": [
      "135452\n",
      "2510660\n",
      "1590157\n",
      "640604\n",
      "279899\n",
      "127456\n",
      "78658\n",
      "15897\n",
      "32901\n",
      "0.13924099504947662\n",
      "3.0\n",
      "22.0\n",
      "5.0\n",
      "3.0\n",
      "0.0\n",
      "1.0\n",
      "2.512\n",
      "0.113\n",
      "1885\n",
      "0.0007507985947918077\n",
      "45460\n",
      "0.018106792636199246\n",
      "19335\n",
      "0.00770116224419077\n",
      "69.0\n",
      "120.0\n",
      "66.0\n",
      "388.0\n",
      "391502469502.3932\n",
      "249719394786.27924\n",
      "94223167684.62859\n",
      "47559907031.485504\n"
     ]
    }
   ],
   "source": [
    "print_results_values(results_covigator)"
   ]
  },
  {
   "cell_type": "code",
   "execution_count": 165,
   "id": "a867ce5e-4ded-4736-9523-ccd4aab08067",
   "metadata": {},
   "outputs": [
    {
     "data": {
      "text/plain": [
       "{'Num. samples': 135452,\n",
       " 'Num. mutations': 2288363,\n",
       " 'Num. SNVs': 1447734,\n",
       " 'Num. insertions': 639757,\n",
       " 'Num. deletions': 200872,\n",
       " 'Num. unique mutations': 126999,\n",
       " 'Num. unique SNVs': 78431,\n",
       " 'Num. unique insertions': 15887,\n",
       " 'Num. unique deletions': 32681,\n",
       " 'Median VAF': 0.125,\n",
       " 'Median AC': 2.0,\n",
       " 'Median DP': 20.0,\n",
       " 'Median mutations per sample': 3.0,\n",
       " 'Median SNVs per sample': 2.0,\n",
       " 'Median insertions per sample': 0.0,\n",
       " 'Median deletions per sample': 0.0,\n",
       " 'Ratio of NS/S': 2.49,\n",
       " 'Ratio of in-frame/frameshift': 0.025,\n",
       " 'Start loss': 1871,\n",
       " 'Ratio start loss': 0.0008176150374743867,\n",
       " 'Stop gained': 42488,\n",
       " 'Ratio stop gained': 0.01856698434645203,\n",
       " 'Stop loss': 18698,\n",
       " 'Ratio stop loss': 0.008170906451467709,\n",
       " 'Variant calling quality': 67.0,\n",
       " 'Variant calling quality SNVs': 89.0,\n",
       " 'Variant calling quality insertions': 66.0,\n",
       " 'Variant calling quality deletions': 87.0,\n",
       " 'Entropy genomic positions': 347700072567.9015,\n",
       " 'Entropy genomic positions SNVs': 223484414507.16443,\n",
       " 'Entropy genomic positions insertions': 94030483506.86395,\n",
       " 'Entropy genomic positions deletions': 30185174553.87339}"
      ]
     },
     "execution_count": 165,
     "metadata": {},
     "output_type": "execute_result"
    }
   ],
   "source": [
    "results_naif = evaluate_dataset(samples=samples, variants=subclonal_variants[subclonal_variants.vaf < 0.5])\n",
    "results_naif"
   ]
  },
  {
   "cell_type": "code",
   "execution_count": 166,
   "id": "1a79c937-da8a-427c-875a-6578f17c2ec8",
   "metadata": {},
   "outputs": [
    {
     "name": "stdout",
     "output_type": "stream",
     "text": [
      "135452\n",
      "2288363\n",
      "1447734\n",
      "639757\n",
      "200872\n",
      "126999\n",
      "78431\n",
      "15887\n",
      "32681\n",
      "0.125\n",
      "2.0\n",
      "20.0\n",
      "3.0\n",
      "2.0\n",
      "0.0\n",
      "0.0\n",
      "2.49\n",
      "0.025\n",
      "1871\n",
      "0.0008176150374743867\n",
      "42488\n",
      "0.01856698434645203\n",
      "18698\n",
      "0.008170906451467709\n",
      "67.0\n",
      "89.0\n",
      "66.0\n",
      "87.0\n",
      "347700072567.9015\n",
      "223484414507.16443\n",
      "94030483506.86395\n",
      "30185174553.87339\n"
     ]
    }
   ],
   "source": [
    "print_results_values(results_naif)"
   ]
  },
  {
   "cell_type": "code",
   "execution_count": 167,
   "id": "780437e5-5475-45a8-b4d5-7a63505ecc6c",
   "metadata": {},
   "outputs": [],
   "source": [
    "def evaluate_dataset_by_gene_domain(variants):\n",
    "    \n",
    "    print(\"-----\")\n",
    "    print(\"Ratio of NS/S: %s\" % (round(calculate_ns_s_ratio(variants), 3)))\n",
    "    for g in variants.gene.unique():\n",
    "        print(\"Ratio of NS/S in gene %s: %s\" % (g, round(calculate_ns_s_ratio(variants[variants.gene == g]), 3)))\n",
    "    for d in variants[variants.gene == 'S'].domain.unique():\n",
    "        print(\"Ratio of NS/S in domain %s: %s\" % (d, round(calculate_ns_s_ratio(variants[variants.domain == d]), 3)))\n",
    "    \n",
    "    print(\"-----\")\n",
    "    print(\"Ratio of in-frame/frameshift: %s\" % (round(calculate_inframe_fs_ratio(variants), 3)))\n",
    "    for g in variants.gene.unique():\n",
    "        print(\"Ratio of in-frame/frameshift in gene %s: %s\" % (g, round(calculate_inframe_fs_ratio(variants[variants.gene == g]), 3)))\n",
    "    for d in variants[variants.gene == 'S'].domain.unique():\n",
    "        print(\"Ratio of in-frame/frameshift in domain %s: %s\" % (d, round(calculate_inframe_fs_ratio(variants[variants.domain == d]), 3)))"
   ]
  },
  {
   "cell_type": "code",
   "execution_count": 168,
   "id": "e154fadb-8d0f-40f9-81d6-56f41231b9ee",
   "metadata": {},
   "outputs": [
    {
     "name": "stdout",
     "output_type": "stream",
     "text": [
      "-----\n",
      "Ratio of NS/S: 2.536\n",
      "Ratio of NS/S in gene ORF1ab: 2.512\n",
      "Ratio of NS/S in gene S: 2.608\n",
      "Ratio of NS/S in gene E: 3.594\n",
      "Ratio of NS/S in gene N: 2.466\n",
      "Ratio of NS/S in gene ORF3a: 1.901\n",
      "Ratio of NS/S in gene M: 4.815\n",
      "Ratio of NS/S in gene ORF6: 1.652\n",
      "Ratio of NS/S in gene ORF7b: 2.353\n",
      "Ratio of NS/S in gene ORF8: 3.094\n",
      "Ratio of NS/S in gene ORF7a: 3.419\n",
      "Ratio of NS/S in domain bCoV_S1_N: 1.572\n",
      "Ratio of NS/S in domain CoV_S2: 3.195\n",
      "Ratio of NS/S in domain bCoV_S1_RBD: 4.507\n",
      "Ratio of NS/S in domain CoV_S1_C: 3.419\n",
      "-----\n",
      "Ratio of in-frame/frameshift: 0.101\n",
      "Ratio of in-frame/frameshift in gene ORF1ab: 0.102\n",
      "Ratio of in-frame/frameshift in gene S: 0.14\n",
      "Ratio of in-frame/frameshift in gene E: 0.101\n",
      "Ratio of in-frame/frameshift in gene N: 0.189\n",
      "Ratio of in-frame/frameshift in gene ORF3a: 0.033\n",
      "Ratio of in-frame/frameshift in gene M: 0.027\n",
      "Ratio of in-frame/frameshift in gene ORF6: 0.025\n",
      "Ratio of in-frame/frameshift in gene ORF7b: 0.03\n",
      "Ratio of in-frame/frameshift in gene ORF8: 0.007\n",
      "Ratio of in-frame/frameshift in gene ORF7a: 0.019\n",
      "Ratio of in-frame/frameshift in domain bCoV_S1_N: 0.162\n",
      "Ratio of in-frame/frameshift in domain CoV_S2: 0.051\n",
      "Ratio of in-frame/frameshift in domain bCoV_S1_RBD: 0.293\n",
      "Ratio of in-frame/frameshift in domain CoV_S1_C: 0.012\n"
     ]
    }
   ],
   "source": [
    "evaluate_dataset_by_gene_domain(variants)"
   ]
  },
  {
   "cell_type": "markdown",
   "id": "b2651af5-3ab2-4744-80d1-1cf1cf26715a",
   "metadata": {},
   "source": [
    "## Sample filtering"
   ]
  },
  {
   "cell_type": "code",
   "execution_count": 169,
   "id": "d276e19a-d5db-4530-b4a6-41551ebd69a5",
   "metadata": {},
   "outputs": [
    {
     "data": {
      "text/html": [
       "<div>\n",
       "<style scoped>\n",
       "    .dataframe tbody tr th:only-of-type {\n",
       "        vertical-align: middle;\n",
       "    }\n",
       "\n",
       "    .dataframe tbody tr th {\n",
       "        vertical-align: top;\n",
       "    }\n",
       "\n",
       "    .dataframe thead th {\n",
       "        text-align: right;\n",
       "    }\n",
       "</style>\n",
       "<table border=\"1\" class=\"dataframe\">\n",
       "  <thead>\n",
       "    <tr style=\"text-align: right;\">\n",
       "      <th></th>\n",
       "      <th>run_accession</th>\n",
       "    </tr>\n",
       "    <tr>\n",
       "      <th>library_strategy</th>\n",
       "      <th></th>\n",
       "    </tr>\n",
       "  </thead>\n",
       "  <tbody>\n",
       "    <tr>\n",
       "      <th>Targeted-Capture</th>\n",
       "      <td>14068</td>\n",
       "    </tr>\n",
       "    <tr>\n",
       "      <th>WGA</th>\n",
       "      <td>73422</td>\n",
       "    </tr>\n",
       "    <tr>\n",
       "      <th>WGS</th>\n",
       "      <td>47962</td>\n",
       "    </tr>\n",
       "  </tbody>\n",
       "</table>\n",
       "</div>"
      ],
      "text/plain": [
       "                  run_accession\n",
       "library_strategy               \n",
       "Targeted-Capture          14068\n",
       "WGA                       73422\n",
       "WGS                       47962"
      ]
     },
     "execution_count": 169,
     "metadata": {},
     "output_type": "execute_result"
    }
   ],
   "source": [
    "samples[['library_strategy', 'run_accession']].groupby('library_strategy').count()"
   ]
  },
  {
   "cell_type": "code",
   "execution_count": 170,
   "id": "ce2baddb-1c72-4cbe-96df-4bc8a04633bc",
   "metadata": {},
   "outputs": [
    {
     "data": {
      "text/plain": [
       "(0, 100)"
      ]
     },
     "execution_count": 170,
     "metadata": {},
     "output_type": "execute_result"
    }
   ],
   "source": [
    "samples[samples['num_reads'].isna()].shape"
   ]
  },
  {
   "cell_type": "markdown",
   "id": "cba45c8e-7e76-4872-92f9-5b6e2a95b048",
   "metadata": {},
   "source": [
    "### Filter by number of reads as a proxy for viral load\n",
    "\n",
    "The best proxy for viral load is PCR Ct, but we don't have that information. As an alternative Valesano and Sapoval used the total number of uniquely mapped reads (thresholds of 50,000 and 20,000 reads respectively). Here we will use the total number of reads which will be less conservative."
   ]
  },
  {
   "cell_type": "code",
   "execution_count": 171,
   "id": "002c1735-f0cd-4e18-bd38-cbc2d2f61c8c",
   "metadata": {},
   "outputs": [
    {
     "data": {
      "text/html": [
       "<div>\n",
       "<style scoped>\n",
       "    .dataframe tbody tr th:only-of-type {\n",
       "        vertical-align: middle;\n",
       "    }\n",
       "\n",
       "    .dataframe tbody tr th {\n",
       "        vertical-align: top;\n",
       "    }\n",
       "\n",
       "    .dataframe thead th {\n",
       "        text-align: right;\n",
       "    }\n",
       "</style>\n",
       "<table border=\"1\" class=\"dataframe\">\n",
       "  <thead>\n",
       "    <tr style=\"text-align: right;\">\n",
       "      <th></th>\n",
       "      <th>num_reads</th>\n",
       "    </tr>\n",
       "    <tr>\n",
       "      <th>library_strategy</th>\n",
       "      <th></th>\n",
       "    </tr>\n",
       "  </thead>\n",
       "  <tbody>\n",
       "    <tr>\n",
       "      <th>Targeted-Capture</th>\n",
       "      <td>221718.321439</td>\n",
       "    </tr>\n",
       "    <tr>\n",
       "      <th>WGA</th>\n",
       "      <td>537527.281414</td>\n",
       "    </tr>\n",
       "    <tr>\n",
       "      <th>WGS</th>\n",
       "      <td>649825.781410</td>\n",
       "    </tr>\n",
       "  </tbody>\n",
       "</table>\n",
       "</div>"
      ],
      "text/plain": [
       "                      num_reads\n",
       "library_strategy               \n",
       "Targeted-Capture  221718.321439\n",
       "WGA               537527.281414\n",
       "WGS               649825.781410"
      ]
     },
     "execution_count": 171,
     "metadata": {},
     "output_type": "execute_result"
    }
   ],
   "source": [
    "samples[['num_reads', 'library_strategy']].groupby('library_strategy').mean()"
   ]
  },
  {
   "cell_type": "code",
   "execution_count": 172,
   "id": "1abb894e-099e-417f-ade9-54e75558aa6f",
   "metadata": {},
   "outputs": [
    {
     "data": {
      "image/png": "[encoded data removed]",
      "text/plain": [
       "<Figure size 1080x864 with 1 Axes>"
      ]
     },
     "metadata": {},
     "output_type": "display_data"
    }
   ],
   "source": [
    "filter_num_reads_1 = 50000\n",
    "filter_num_reads_2 = 20000\n",
    "\n",
    "fig = plt.figure(figsize=(15, 12))\n",
    "sns.boxplot(data=samples, x='library_strategy', y='num_reads', palette=sns.color_palette('Greys'))\n",
    "plt.yscale('log')\n",
    "plt.xlabel(None)\n",
    "plt.ylabel('log(num reads)')\n",
    "plt.axhline(filter_num_reads_1, c='r', linestyle='--')\n",
    "plt.axhline(filter_num_reads_2, c='r', linestyle='--')\n",
    "plt.suptitle(\"Filtering on total number of reads below {} and {} bp\".format(filter_num_reads_1, filter_num_reads_2))\n",
    "num_filterd_samples_1 = samples[samples.num_reads < filter_num_reads_1].shape[0]\n",
    "num_filterd_samples_2 = samples[samples.num_reads < filter_num_reads_2].shape[0]\n",
    "plt.title(\"Removes {} ({} %) and {} ({} %) samples respectively\".format(num_filterd_samples_1, round(float(num_filterd_samples_1) / num_samples * 100, 2), num_filterd_samples_2, round(float(num_filterd_samples_2) / num_samples * 100, 2)))\n",
    "sns.despine(bottom=True)\n",
    "\n",
    "fig.savefig(os.path.join(figure_output_folder, 'figure_01_sample_filtering_viral_load.png'), dpi=200)"
   ]
  },
  {
   "cell_type": "code",
   "execution_count": 173,
   "id": "b7bbf853-3263-45d1-bf90-4a2d14a1c55a",
   "metadata": {},
   "outputs": [
    {
     "data": {
      "text/html": [
       "<div>\n",
       "<style scoped>\n",
       "    .dataframe tbody tr th:only-of-type {\n",
       "        vertical-align: middle;\n",
       "    }\n",
       "\n",
       "    .dataframe tbody tr th {\n",
       "        vertical-align: top;\n",
       "    }\n",
       "\n",
       "    .dataframe thead th {\n",
       "        text-align: right;\n",
       "    }\n",
       "</style>\n",
       "<table border=\"1\" class=\"dataframe\">\n",
       "  <thead>\n",
       "    <tr style=\"text-align: right;\">\n",
       "      <th></th>\n",
       "      <th>num_reads</th>\n",
       "    </tr>\n",
       "    <tr>\n",
       "      <th>library_strategy</th>\n",
       "      <th></th>\n",
       "    </tr>\n",
       "  </thead>\n",
       "  <tbody>\n",
       "    <tr>\n",
       "      <th>Targeted-Capture</th>\n",
       "      <td>34040.0</td>\n",
       "    </tr>\n",
       "    <tr>\n",
       "      <th>WGA</th>\n",
       "      <td>426112.0</td>\n",
       "    </tr>\n",
       "    <tr>\n",
       "      <th>WGS</th>\n",
       "      <td>335209.5</td>\n",
       "    </tr>\n",
       "  </tbody>\n",
       "</table>\n",
       "</div>"
      ],
      "text/plain": [
       "                  num_reads\n",
       "library_strategy           \n",
       "Targeted-Capture    34040.0\n",
       "WGA                426112.0\n",
       "WGS                335209.5"
      ]
     },
     "execution_count": 173,
     "metadata": {},
     "output_type": "execute_result"
    }
   ],
   "source": [
    "samples[['library_strategy', 'num_reads']].groupby('library_strategy').median()"
   ]
  },
  {
   "cell_type": "markdown",
   "id": "c6849a02-a423-41b1-ae64-6f30d99914ed",
   "metadata": {},
   "source": [
    "### Filter by horizontal coverage\n",
    "\n",
    "Valesano applies a filter of a consensus sequence of at least 29,000 bp. Popa applies a a filter on 96 % of genome coverage. Others combine horizontal coverage with mean depth of coverage. Here we apply two filters at 29,000 bp covered."
   ]
  },
  {
   "cell_type": "code",
   "execution_count": 174,
   "id": "003f513a-470f-4224-9a63-bbff37de6b78",
   "metadata": {},
   "outputs": [
    {
     "data": {
      "text/html": [
       "<div>\n",
       "<style scoped>\n",
       "    .dataframe tbody tr th:only-of-type {\n",
       "        vertical-align: middle;\n",
       "    }\n",
       "\n",
       "    .dataframe tbody tr th {\n",
       "        vertical-align: top;\n",
       "    }\n",
       "\n",
       "    .dataframe thead th {\n",
       "        text-align: right;\n",
       "    }\n",
       "</style>\n",
       "<table border=\"1\" class=\"dataframe\">\n",
       "  <thead>\n",
       "    <tr style=\"text-align: right;\">\n",
       "      <th></th>\n",
       "      <th>covered_bases</th>\n",
       "    </tr>\n",
       "    <tr>\n",
       "      <th>library_strategy</th>\n",
       "      <th></th>\n",
       "    </tr>\n",
       "  </thead>\n",
       "  <tbody>\n",
       "    <tr>\n",
       "      <th>Targeted-Capture</th>\n",
       "      <td>29284.447896</td>\n",
       "    </tr>\n",
       "    <tr>\n",
       "      <th>WGA</th>\n",
       "      <td>29767.496255</td>\n",
       "    </tr>\n",
       "    <tr>\n",
       "      <th>WGS</th>\n",
       "      <td>29525.565844</td>\n",
       "    </tr>\n",
       "  </tbody>\n",
       "</table>\n",
       "</div>"
      ],
      "text/plain": [
       "                  covered_bases\n",
       "library_strategy               \n",
       "Targeted-Capture   29284.447896\n",
       "WGA                29767.496255\n",
       "WGS                29525.565844"
      ]
     },
     "execution_count": 174,
     "metadata": {},
     "output_type": "execute_result"
    }
   ],
   "source": [
    "samples[['covered_bases', 'library_strategy']].groupby('library_strategy').mean()"
   ]
  },
  {
   "cell_type": "code",
   "execution_count": 175,
   "id": "28b2d458-8fca-4300-9c2f-4bebfaf09abc",
   "metadata": {},
   "outputs": [
    {
     "data": {
      "image/png": "[encoded data removed]",
      "text/plain": [
       "<Figure size 1080x864 with 1 Axes>"
      ]
     },
     "metadata": {},
     "output_type": "display_data"
    }
   ],
   "source": [
    "# filter_covered_bases_thr = 29000\n",
    "total_length = 29903\n",
    "filter_covered_bases_thr = 29000\n",
    "filter_covered_bases_thr_2 = int(29903 * 0.96)\n",
    "\n",
    "fig = plt.figure(figsize=(15, 12))\n",
    "samples['uncovered_bases'] = samples.covered_bases.transform(lambda c: 29903 - c)\n",
    "sns.boxplot(data=samples, x='library_strategy', y='uncovered_bases', palette=sns.color_palette('Greys'))\n",
    "plt.xlabel(None)\n",
    "plt.yscale('log')\n",
    "plt.ylabel('uncovered bases')\n",
    "plt.axhline(29903 - filter_covered_bases_thr, c='r', linestyle='--')\n",
    "plt.axhline(29903 - filter_covered_bases_thr_2, c='r', linestyle='--')\n",
    "plt.suptitle(\"Filtering of covered bases below {} and {} bp\".format(filter_covered_bases_thr, filter_covered_bases_thr_2))\n",
    "num_filterd_samples = samples[samples.covered_bases < filter_covered_bases_thr].shape[0]\n",
    "num_filterd_samples_2 = samples[samples.covered_bases < filter_covered_bases_thr_2].shape[0]\n",
    "plt.title(\"Removes {} ({} %) and {} ({} %) samples respectively\".format(num_filterd_samples, round(float(num_filterd_samples) / num_samples * 100, 2), num_filterd_samples_2, round(float(num_filterd_samples_2) / num_samples * 100, 2)))\n",
    "sns.despine(bottom=True)\n",
    "fig.savefig(os.path.join(figure_output_folder, 'figure_01_sample_filtering_horizontal_coverage.png'), dpi=200)"
   ]
  },
  {
   "cell_type": "code",
   "execution_count": 176,
   "id": "4bb9937e-3b07-4bc0-b753-8e035c535fa9",
   "metadata": {},
   "outputs": [
    {
     "data": {
      "text/html": [
       "<div>\n",
       "<style scoped>\n",
       "    .dataframe tbody tr th:only-of-type {\n",
       "        vertical-align: middle;\n",
       "    }\n",
       "\n",
       "    .dataframe tbody tr th {\n",
       "        vertical-align: top;\n",
       "    }\n",
       "\n",
       "    .dataframe thead th {\n",
       "        text-align: right;\n",
       "    }\n",
       "</style>\n",
       "<table border=\"1\" class=\"dataframe\">\n",
       "  <thead>\n",
       "    <tr style=\"text-align: right;\">\n",
       "      <th></th>\n",
       "      <th>coverage</th>\n",
       "    </tr>\n",
       "    <tr>\n",
       "      <th>library_strategy</th>\n",
       "      <th></th>\n",
       "    </tr>\n",
       "  </thead>\n",
       "  <tbody>\n",
       "    <tr>\n",
       "      <th>Targeted-Capture</th>\n",
       "      <td>99.9498</td>\n",
       "    </tr>\n",
       "    <tr>\n",
       "      <th>WGA</th>\n",
       "      <td>99.8428</td>\n",
       "    </tr>\n",
       "    <tr>\n",
       "      <th>WGS</th>\n",
       "      <td>99.8027</td>\n",
       "    </tr>\n",
       "  </tbody>\n",
       "</table>\n",
       "</div>"
      ],
      "text/plain": [
       "                  coverage\n",
       "library_strategy          \n",
       "Targeted-Capture   99.9498\n",
       "WGA                99.8428\n",
       "WGS                99.8027"
      ]
     },
     "execution_count": 176,
     "metadata": {},
     "output_type": "execute_result"
    }
   ],
   "source": [
    "samples[['library_strategy', 'coverage']].groupby('library_strategy').median()"
   ]
  },
  {
   "cell_type": "markdown",
   "id": "d982457d-f0f6-45a0-9720-189fac6ed76c",
   "metadata": {},
   "source": [
    "### Filter by vertical coverage\n",
    "\n",
    "Wang applies a hard filter on 60x mean coverage. Here we compare the impact of multiple thresholds."
   ]
  },
  {
   "cell_type": "code",
   "execution_count": 177,
   "id": "d7ef2f0c-fbe5-4ae9-b88c-c42f2f943fbf",
   "metadata": {},
   "outputs": [
    {
     "data": {
      "image/png": "[encoded data removed]",
      "text/plain": [
       "<Figure size 1080x864 with 1 Axes>"
      ]
     },
     "metadata": {},
     "output_type": "display_data"
    }
   ],
   "source": [
    "filter_mean_coverage_thr_1 = 100\n",
    "filter_mean_coverage_thr_2 = 60\n",
    "filter_mean_coverage_thr_3 = 40\n",
    "filter_mean_coverage_thr_4 = 20\n",
    "\n",
    "\n",
    "fig = plt.figure(figsize=(15, 12))\n",
    "sns.boxplot(data=samples, x='library_strategy', y='mean_depth', palette=sns.color_palette('Greys'))\n",
    "plt.yscale('log')\n",
    "plt.xlabel(None)\n",
    "plt.ylabel('mean depth of coverage')\n",
    "plt.axhline(filter_mean_coverage_thr_1, c='r', linestyle='--')\n",
    "plt.axhline(filter_mean_coverage_thr_2, c='r', linestyle='--')\n",
    "plt.axhline(filter_mean_coverage_thr_3, c='r', linestyle='--')\n",
    "plt.axhline(filter_mean_coverage_thr_4, c='r', linestyle='--')\n",
    "\n",
    "plt.suptitle(\"Filters on mean depth of coverage below 100x, 60x, 40x and 20x\")\n",
    "num_filterd_samples_1 = samples[samples.mean_depth < filter_mean_coverage_thr_1].shape[0]\n",
    "num_filterd_samples_2 = samples[samples.mean_depth < filter_mean_coverage_thr_2].shape[0]\n",
    "num_filterd_samples_3 = samples[samples.mean_depth < filter_mean_coverage_thr_3].shape[0]\n",
    "num_filterd_samples_4 = samples[samples.mean_depth < filter_mean_coverage_thr_4].shape[0]\n",
    "plt.title(\"Removes {} ({} %), {} ({} %), {} ({} %) \\n and {} ({} %) samples respectively\".format(\n",
    "    num_filterd_samples_1, round(float(num_filterd_samples_1) / num_samples * 100, 2), \n",
    "    num_filterd_samples_2, round(float(num_filterd_samples_2) / num_samples * 100, 2), \n",
    "    num_filterd_samples_3, round(float(num_filterd_samples_3) / num_samples * 100, 2), \n",
    "    num_filterd_samples_4, round(float(num_filterd_samples_4) / num_samples * 100, 2)))\n",
    "sns.despine(bottom=True)\n",
    "fig.savefig(os.path.join(figure_output_folder, 'figure_01_sample_filtering_vertical_coverage.png'), dpi=200)"
   ]
  },
  {
   "cell_type": "code",
   "execution_count": 178,
   "id": "ba03f308-1a83-4c51-8663-997f4726a731",
   "metadata": {},
   "outputs": [
    {
     "data": {
      "text/html": [
       "<div>\n",
       "<style scoped>\n",
       "    .dataframe tbody tr th:only-of-type {\n",
       "        vertical-align: middle;\n",
       "    }\n",
       "\n",
       "    .dataframe tbody tr th {\n",
       "        vertical-align: top;\n",
       "    }\n",
       "\n",
       "    .dataframe thead th {\n",
       "        text-align: right;\n",
       "    }\n",
       "</style>\n",
       "<table border=\"1\" class=\"dataframe\">\n",
       "  <thead>\n",
       "    <tr style=\"text-align: right;\">\n",
       "      <th></th>\n",
       "      <th>mean_depth</th>\n",
       "    </tr>\n",
       "    <tr>\n",
       "      <th>library_strategy</th>\n",
       "      <th></th>\n",
       "    </tr>\n",
       "  </thead>\n",
       "  <tbody>\n",
       "    <tr>\n",
       "      <th>Targeted-Capture</th>\n",
       "      <td>217.9865</td>\n",
       "    </tr>\n",
       "    <tr>\n",
       "      <th>WGA</th>\n",
       "      <td>1626.4850</td>\n",
       "    </tr>\n",
       "    <tr>\n",
       "      <th>WGS</th>\n",
       "      <td>1287.7400</td>\n",
       "    </tr>\n",
       "  </tbody>\n",
       "</table>\n",
       "</div>"
      ],
      "text/plain": [
       "                  mean_depth\n",
       "library_strategy            \n",
       "Targeted-Capture    217.9865\n",
       "WGA                1626.4850\n",
       "WGS                1287.7400"
      ]
     },
     "execution_count": 178,
     "metadata": {},
     "output_type": "execute_result"
    }
   ],
   "source": [
    "samples[['library_strategy', 'mean_depth']].groupby('library_strategy').median()"
   ]
  },
  {
   "cell_type": "markdown",
   "id": "0e62364c-51fe-4599-a142-bed4b365d26d",
   "metadata": {},
   "source": [
    "### Filter by excess of low frequency variants"
   ]
  },
  {
   "cell_type": "code",
   "execution_count": 179,
   "id": "3f3b4f77-93b7-4fbd-923c-366cbcb10025",
   "metadata": {},
   "outputs": [],
   "source": [
    "data = pd.merge(variants, samples[['run_accession', 'library_strategy']], left_on='sample', right_on='run_accession', how='outer')\\\n",
    "    [['library_strategy', 'run_accession', 'variant_id']]\\\n",
    "    .groupby(['library_strategy', 'run_accession']).count().reset_index()\n",
    "\n",
    "data_snvs = pd.merge(variants[variants.variant_type == 'SNV'], samples[['run_accession', 'library_strategy']], left_on='sample', right_on='run_accession', how='outer')\\\n",
    "    [['library_strategy', 'run_accession', 'variant_id']]\\\n",
    "    .groupby(['library_strategy', 'run_accession']).count().reset_index()\n",
    "\n",
    "data_insertion = pd.merge(variants[variants.variant_type == 'INSERTION'], samples[['run_accession', 'library_strategy']], left_on='sample', right_on='run_accession', how='outer')\\\n",
    "    [['library_strategy', 'run_accession', 'variant_id']]\\\n",
    "    .groupby(['library_strategy', 'run_accession']).count().reset_index()\n",
    "\n",
    "data_deletion = pd.merge(variants[variants.variant_type == 'DELETION'], samples[['run_accession', 'library_strategy']], left_on='sample', right_on='run_accession', how='outer')\\\n",
    "    [['library_strategy', 'run_accession', 'variant_id']]\\\n",
    "    .groupby(['library_strategy', 'run_accession']).count().reset_index()"
   ]
  },
  {
   "cell_type": "code",
   "execution_count": 180,
   "id": "ea218c88-b71f-41d3-9d09-34788c192abc",
   "metadata": {},
   "outputs": [
    {
     "data": {
      "image/png": "[encoded data removed]",
      "text/plain": [
       "<Figure size 1080x864 with 1 Axes>"
      ]
     },
     "metadata": {},
     "output_type": "display_data"
    }
   ],
   "source": [
    "filter_excess_mutations_thr = int(data.variant_id.quantile(0.999))\n",
    "filter_excess_mutations_thr_snv = data_snvs.variant_id.quantile(0.99)\n",
    "filter_excess_mutations_thr_ins = data_insertion.variant_id.quantile(0.99)\n",
    "filter_excess_mutations_thr_dels = data_deletion.variant_id.quantile(0.99)\n",
    "\n",
    "fig = plt.figure(figsize=(15, 12))\n",
    "sns.boxplot(data=data, x='library_strategy', y='variant_id', palette=sns.color_palette('Greys'))\n",
    "plt.yscale('log')\n",
    "plt.xlabel(None)\n",
    "plt.ylabel('log(num variants)')\n",
    "plt.axhline(filter_excess_mutations_thr, c='r', linestyle='--')\n",
    "#fig.get_axes()[0].get_legend().remove()\n",
    "\n",
    "\n",
    "plt.suptitle(\"Filters samples with an excess of mutations\")\n",
    "num_filterd_samples = data[data.variant_id > filter_excess_mutations_thr].shape[0]\n",
    "plt.title(\"{} samples above the the 99.9th percentile ({})\".format(num_filterd_samples, filter_excess_mutations_thr))\n",
    "sns.despine(bottom=True)\n",
    "fig.savefig(os.path.join(figure_output_folder, 'figure_01_sample_excess_mutations.png'), dpi=200)"
   ]
  },
  {
   "cell_type": "code",
   "execution_count": 181,
   "id": "c053231a-e8bc-4a74-b0c4-ebfca24e8fbc",
   "metadata": {},
   "outputs": [
    {
     "data": {
      "text/html": [
       "<div>\n",
       "<style scoped>\n",
       "    .dataframe tbody tr th:only-of-type {\n",
       "        vertical-align: middle;\n",
       "    }\n",
       "\n",
       "    .dataframe tbody tr th {\n",
       "        vertical-align: top;\n",
       "    }\n",
       "\n",
       "    .dataframe thead th {\n",
       "        text-align: right;\n",
       "    }\n",
       "</style>\n",
       "<table border=\"1\" class=\"dataframe\">\n",
       "  <thead>\n",
       "    <tr style=\"text-align: right;\">\n",
       "      <th></th>\n",
       "      <th>library_strategy</th>\n",
       "      <th>run_accession</th>\n",
       "      <th>variant_id</th>\n",
       "    </tr>\n",
       "  </thead>\n",
       "  <tbody>\n",
       "    <tr>\n",
       "      <th>0</th>\n",
       "      <td>Targeted-Capture</td>\n",
       "      <td>ERR4192740</td>\n",
       "      <td>50</td>\n",
       "    </tr>\n",
       "    <tr>\n",
       "      <th>1</th>\n",
       "      <td>Targeted-Capture</td>\n",
       "      <td>ERR4204119</td>\n",
       "      <td>39</td>\n",
       "    </tr>\n",
       "    <tr>\n",
       "      <th>2</th>\n",
       "      <td>Targeted-Capture</td>\n",
       "      <td>ERR4204166</td>\n",
       "      <td>60</td>\n",
       "    </tr>\n",
       "    <tr>\n",
       "      <th>3</th>\n",
       "      <td>Targeted-Capture</td>\n",
       "      <td>ERR4204180</td>\n",
       "      <td>113</td>\n",
       "    </tr>\n",
       "    <tr>\n",
       "      <th>4</th>\n",
       "      <td>Targeted-Capture</td>\n",
       "      <td>ERR4204203</td>\n",
       "      <td>21</td>\n",
       "    </tr>\n",
       "  </tbody>\n",
       "</table>\n",
       "</div>"
      ],
      "text/plain": [
       "   library_strategy run_accession  variant_id\n",
       "0  Targeted-Capture    ERR4192740          50\n",
       "1  Targeted-Capture    ERR4204119          39\n",
       "2  Targeted-Capture    ERR4204166          60\n",
       "3  Targeted-Capture    ERR4204180         113\n",
       "4  Targeted-Capture    ERR4204203          21"
      ]
     },
     "execution_count": 181,
     "metadata": {},
     "output_type": "execute_result"
    }
   ],
   "source": [
    "data.head()"
   ]
  },
  {
   "cell_type": "code",
   "execution_count": 182,
   "id": "907ab87a-a199-46da-bb54-635c889fb425",
   "metadata": {},
   "outputs": [
    {
     "data": {
      "text/html": [
       "<div>\n",
       "<style scoped>\n",
       "    .dataframe tbody tr th:only-of-type {\n",
       "        vertical-align: middle;\n",
       "    }\n",
       "\n",
       "    .dataframe tbody tr th {\n",
       "        vertical-align: top;\n",
       "    }\n",
       "\n",
       "    .dataframe thead th {\n",
       "        text-align: right;\n",
       "    }\n",
       "</style>\n",
       "<table border=\"1\" class=\"dataframe\">\n",
       "  <thead>\n",
       "    <tr style=\"text-align: right;\">\n",
       "      <th></th>\n",
       "      <th>variant_id</th>\n",
       "    </tr>\n",
       "    <tr>\n",
       "      <th>library_strategy</th>\n",
       "      <th></th>\n",
       "    </tr>\n",
       "  </thead>\n",
       "  <tbody>\n",
       "    <tr>\n",
       "      <th>Targeted-Capture</th>\n",
       "      <td>35</td>\n",
       "    </tr>\n",
       "    <tr>\n",
       "      <th>WGA</th>\n",
       "      <td>94</td>\n",
       "    </tr>\n",
       "    <tr>\n",
       "      <th>WGS</th>\n",
       "      <td>87</td>\n",
       "    </tr>\n",
       "  </tbody>\n",
       "</table>\n",
       "</div>"
      ],
      "text/plain": [
       "                  variant_id\n",
       "library_strategy            \n",
       "Targeted-Capture          35\n",
       "WGA                       94\n",
       "WGS                       87"
      ]
     },
     "execution_count": 182,
     "metadata": {},
     "output_type": "execute_result"
    }
   ],
   "source": [
    "data[['library_strategy', 'variant_id']].groupby('library_strategy').median()"
   ]
  },
  {
   "cell_type": "code",
   "execution_count": 183,
   "id": "e08896d3-39d2-4023-a108-2ab8373752d7",
   "metadata": {},
   "outputs": [
    {
     "data": {
      "text/html": [
       "<div>\n",
       "<style scoped>\n",
       "    .dataframe tbody tr th:only-of-type {\n",
       "        vertical-align: middle;\n",
       "    }\n",
       "\n",
       "    .dataframe tbody tr th {\n",
       "        vertical-align: top;\n",
       "    }\n",
       "\n",
       "    .dataframe thead th {\n",
       "        text-align: right;\n",
       "    }\n",
       "</style>\n",
       "<table border=\"1\" class=\"dataframe\">\n",
       "  <thead>\n",
       "    <tr style=\"text-align: right;\">\n",
       "      <th></th>\n",
       "      <th>coverage</th>\n",
       "    </tr>\n",
       "    <tr>\n",
       "      <th>library_strategy</th>\n",
       "      <th></th>\n",
       "    </tr>\n",
       "  </thead>\n",
       "  <tbody>\n",
       "    <tr>\n",
       "      <th>Targeted-Capture</th>\n",
       "      <td>100.0000</td>\n",
       "    </tr>\n",
       "    <tr>\n",
       "      <th>WGA</th>\n",
       "      <td>99.8562</td>\n",
       "    </tr>\n",
       "    <tr>\n",
       "      <th>WGS</th>\n",
       "      <td>100.0000</td>\n",
       "    </tr>\n",
       "  </tbody>\n",
       "</table>\n",
       "</div>"
      ],
      "text/plain": [
       "                  coverage\n",
       "library_strategy          \n",
       "Targeted-Capture  100.0000\n",
       "WGA                99.8562\n",
       "WGS               100.0000"
      ]
     },
     "execution_count": 183,
     "metadata": {},
     "output_type": "execute_result"
    }
   ],
   "source": [
    "samples[samples.run_accession.isin(data[data.variant_id > filter_excess_mutations_thr].run_accession.unique())][['library_strategy', 'coverage']].groupby('library_strategy').median()"
   ]
  },
  {
   "cell_type": "code",
   "execution_count": 184,
   "id": "b66819ad-db33-420d-a83b-bc3e959bc378",
   "metadata": {},
   "outputs": [
    {
     "data": {
      "text/html": [
       "<div>\n",
       "<style scoped>\n",
       "    .dataframe tbody tr th:only-of-type {\n",
       "        vertical-align: middle;\n",
       "    }\n",
       "\n",
       "    .dataframe tbody tr th {\n",
       "        vertical-align: top;\n",
       "    }\n",
       "\n",
       "    .dataframe thead th {\n",
       "        text-align: right;\n",
       "    }\n",
       "</style>\n",
       "<table border=\"1\" class=\"dataframe\">\n",
       "  <thead>\n",
       "    <tr style=\"text-align: right;\">\n",
       "      <th></th>\n",
       "      <th>num_reads</th>\n",
       "    </tr>\n",
       "    <tr>\n",
       "      <th>library_strategy</th>\n",
       "      <th></th>\n",
       "    </tr>\n",
       "  </thead>\n",
       "  <tbody>\n",
       "    <tr>\n",
       "      <th>Targeted-Capture</th>\n",
       "      <td>7976903.5</td>\n",
       "    </tr>\n",
       "    <tr>\n",
       "      <th>WGA</th>\n",
       "      <td>306523.0</td>\n",
       "    </tr>\n",
       "    <tr>\n",
       "      <th>WGS</th>\n",
       "      <td>1963120.0</td>\n",
       "    </tr>\n",
       "  </tbody>\n",
       "</table>\n",
       "</div>"
      ],
      "text/plain": [
       "                  num_reads\n",
       "library_strategy           \n",
       "Targeted-Capture  7976903.5\n",
       "WGA                306523.0\n",
       "WGS               1963120.0"
      ]
     },
     "execution_count": 184,
     "metadata": {},
     "output_type": "execute_result"
    }
   ],
   "source": [
    "samples[samples.run_accession.isin(data[data.variant_id > filter_excess_mutations_thr].run_accession.unique())][['library_strategy', 'num_reads']].groupby('library_strategy').median()"
   ]
  },
  {
   "cell_type": "code",
   "execution_count": 185,
   "id": "4010509f-5f25-4da0-a36e-7b69eca0e811",
   "metadata": {},
   "outputs": [
    {
     "data": {
      "text/html": [
       "<div>\n",
       "<style scoped>\n",
       "    .dataframe tbody tr th:only-of-type {\n",
       "        vertical-align: middle;\n",
       "    }\n",
       "\n",
       "    .dataframe tbody tr th {\n",
       "        vertical-align: top;\n",
       "    }\n",
       "\n",
       "    .dataframe thead th {\n",
       "        text-align: right;\n",
       "    }\n",
       "</style>\n",
       "<table border=\"1\" class=\"dataframe\">\n",
       "  <thead>\n",
       "    <tr style=\"text-align: right;\">\n",
       "      <th></th>\n",
       "      <th>run_accession</th>\n",
       "    </tr>\n",
       "    <tr>\n",
       "      <th>library_strategy</th>\n",
       "      <th></th>\n",
       "    </tr>\n",
       "  </thead>\n",
       "  <tbody>\n",
       "    <tr>\n",
       "      <th>Targeted-Capture</th>\n",
       "      <td>40</td>\n",
       "    </tr>\n",
       "    <tr>\n",
       "      <th>WGA</th>\n",
       "      <td>71</td>\n",
       "    </tr>\n",
       "    <tr>\n",
       "      <th>WGS</th>\n",
       "      <td>25</td>\n",
       "    </tr>\n",
       "  </tbody>\n",
       "</table>\n",
       "</div>"
      ],
      "text/plain": [
       "                  run_accession\n",
       "library_strategy               \n",
       "Targeted-Capture             40\n",
       "WGA                          71\n",
       "WGS                          25"
      ]
     },
     "execution_count": 185,
     "metadata": {},
     "output_type": "execute_result"
    }
   ],
   "source": [
    "samples[samples.run_accession.isin(data[data.variant_id > filter_excess_mutations_thr].run_accession.unique())][['library_strategy', 'run_accession']].groupby('library_strategy').count()"
   ]
  },
  {
   "cell_type": "code",
   "execution_count": 186,
   "id": "d7cd176b-a606-4bfc-b3d8-e1cdb8962263",
   "metadata": {},
   "outputs": [
    {
     "data": {
      "text/html": [
       "<div>\n",
       "<style scoped>\n",
       "    .dataframe tbody tr th:only-of-type {\n",
       "        vertical-align: middle;\n",
       "    }\n",
       "\n",
       "    .dataframe tbody tr th {\n",
       "        vertical-align: top;\n",
       "    }\n",
       "\n",
       "    .dataframe thead th {\n",
       "        text-align: right;\n",
       "    }\n",
       "</style>\n",
       "<table border=\"1\" class=\"dataframe\">\n",
       "  <thead>\n",
       "    <tr style=\"text-align: right;\">\n",
       "      <th></th>\n",
       "      <th>mean_depth</th>\n",
       "    </tr>\n",
       "    <tr>\n",
       "      <th>library_strategy</th>\n",
       "      <th></th>\n",
       "    </tr>\n",
       "  </thead>\n",
       "  <tbody>\n",
       "    <tr>\n",
       "      <th>Targeted-Capture</th>\n",
       "      <td>13631.90</td>\n",
       "    </tr>\n",
       "    <tr>\n",
       "      <th>WGA</th>\n",
       "      <td>1256.06</td>\n",
       "    </tr>\n",
       "    <tr>\n",
       "      <th>WGS</th>\n",
       "      <td>7755.07</td>\n",
       "    </tr>\n",
       "  </tbody>\n",
       "</table>\n",
       "</div>"
      ],
      "text/plain": [
       "                  mean_depth\n",
       "library_strategy            \n",
       "Targeted-Capture    13631.90\n",
       "WGA                  1256.06\n",
       "WGS                  7755.07"
      ]
     },
     "execution_count": 186,
     "metadata": {},
     "output_type": "execute_result"
    }
   ],
   "source": [
    "samples[samples.run_accession.isin(data[data.variant_id > filter_excess_mutations_thr].run_accession.unique())][['library_strategy', 'mean_depth']].groupby('library_strategy').median()"
   ]
  },
  {
   "cell_type": "markdown",
   "id": "eaffd594-fcdd-42bd-9684-59807cb92ae4",
   "metadata": {},
   "source": [
    "### Identify co-infected samples\n",
    "\n",
    "In (Tonkin-Hall, 2020) they identify samples co-infected by different SARS-CoV-2 lineages using a linear model to identify those samples' mutations better explained by a combination of two SARS-Cov-2 lineages. \n",
    "They aim at filtering out those samples as they contain mutations with iSNV-looking VAFs derived from the co-infection.\n",
    "Here we use the number of mutations per sample with a VAF between 40 % and 60 % as a proxy for co-infection. We filter out those samples with an outlier number of these mid-VAF mutations.\n",
    "\n",
    "Furthermore, most of these samples have low horizontal coverage and read count values."
   ]
  },
  {
   "cell_type": "code",
   "execution_count": 187,
   "id": "2540ba50-e842-4f6e-a0f3-827f140fce59",
   "metadata": {
    "tags": []
   },
   "outputs": [],
   "source": [
    "count_variants_per_sample = pd.merge(\n",
    "    variants[(variants.vaf > 0.4) & (variants.vaf < 0.6)], \n",
    "    samples[['run_accession', 'library_strategy']], \n",
    "    left_on='sample', right_on='run_accession', how='outer')[['library_strategy', 'run_accession', 'variant_id']]\\\n",
    ".groupby(['library_strategy', 'run_accession']).count().reset_index()"
   ]
  },
  {
   "cell_type": "code",
   "execution_count": 188,
   "id": "9f3597ec-0c70-433f-a4f1-9f63730a9b80",
   "metadata": {},
   "outputs": [
    {
     "data": {
      "text/plain": [
       "0.0"
      ]
     },
     "execution_count": 188,
     "metadata": {},
     "output_type": "execute_result"
    }
   ],
   "source": [
    "count_variants_per_sample.variant_id.median()"
   ]
  },
  {
   "cell_type": "code",
   "execution_count": 189,
   "id": "4e877216-aed6-4a64-ad75-00689a50d548",
   "metadata": {},
   "outputs": [
    {
     "data": {
      "text/plain": [
       "10"
      ]
     },
     "execution_count": 189,
     "metadata": {},
     "output_type": "execute_result"
    }
   ],
   "source": [
    "#outlier_thr = count_variants_per_sample.variant_id.median() + (2 * (count_variants_per_sample.variant_id.quantile(0.75) - count_variants_per_sample.variant_id.quantile(0.25)))\n",
    "outlier_thr = 10\n",
    "outlier_thr"
   ]
  },
  {
   "cell_type": "code",
   "execution_count": 190,
   "id": "8ff398db-649e-4b29-95d0-69f38cde4776",
   "metadata": {},
   "outputs": [
    {
     "data": {
      "text/plain": [
       "356"
      ]
     },
     "execution_count": 190,
     "metadata": {},
     "output_type": "execute_result"
    }
   ],
   "source": [
    "count_variants_per_sample[count_variants_per_sample.variant_id > outlier_thr].shape[0]"
   ]
  },
  {
   "cell_type": "code",
   "execution_count": 191,
   "id": "b276ffc9-2f5b-4213-9661-3fc3f30ebce7",
   "metadata": {},
   "outputs": [
    {
     "data": {
      "image/png": "[encoded data removed]",
      "text/plain": [
       "<Figure size 1080x864 with 1 Axes>"
      ]
     },
     "metadata": {},
     "output_type": "display_data"
    }
   ],
   "source": [
    "fig = plt.figure(figsize=(15, 12))\n",
    "sns.boxplot(data=count_variants_per_sample, x='library_strategy', y='variant_id')\n",
    "plt.yscale('log')\n",
    "plt.xlabel(None)\n",
    "plt.ylabel('log(num variants)')\n",
    "plt.axhline(outlier_thr, c='r', linestyle='--')\n",
    "\n",
    "plt.suptitle(\"Filters samples with an excess of mutations with VAF between 40 % and 60 %\")\n",
    "num_filterd_samples = count_variants_per_sample[count_variants_per_sample.variant_id > outlier_thr].shape[0]\n",
    "plt.title(\"Removes {} ({} %) samples\".format(\n",
    "    num_filterd_samples, round(float(num_filterd_samples) / num_samples * 100, 2)))\n",
    "sns.despine(bottom=True)\n",
    "fig.savefig(os.path.join(figure_output_folder, 'figure_01_sample_filtering_coinfections.png'), dpi=200)"
   ]
  },
  {
   "cell_type": "markdown",
   "id": "edd1a63a-c670-455f-b59c-f649feffe37b",
   "metadata": {},
   "source": [
    "## Filtering variants"
   ]
  },
  {
   "cell_type": "code",
   "execution_count": 192,
   "id": "fda7ce7e-129b-4ac7-9c84-d9261f85d446",
   "metadata": {},
   "outputs": [
    {
     "name": "stdout",
     "output_type": "stream",
     "text": [
      "Filtered 0 (0.0 %) variants with a depth of coverage threshold of 10x\n",
      "Filtered 969312 (5.44 %) variants with a depth of coverage threshold of 50x\n",
      "Filtered 1131810 (6.36 %) variants with a depth of coverage threshold of 75x\n",
      "Filtered 1288727 (7.24 %) variants with a depth of coverage threshold of 100x\n",
      "Filtered 2513185 (14.11 %) variants with a depth of coverage threshold of 500x\n"
     ]
    }
   ],
   "source": [
    "total_variants = variants.shape[0]\n",
    "dp_thrs = [10, 50, 75, 100, 500]\n",
    "for thr in dp_thrs:\n",
    "    count_filtered_variants = variants[variants.dp < thr].shape[0]\n",
    "    print(\"Filtered {} ({} %) variants with a depth of coverage threshold of {}x\".format(count_filtered_variants, round(float(count_filtered_variants) / total_variants * 100, 2), thr))"
   ]
  },
  {
   "cell_type": "code",
   "execution_count": 193,
   "id": "6704e7d8-faba-45c8-bffc-87b6441e7f13",
   "metadata": {},
   "outputs": [
    {
     "name": "stdout",
     "output_type": "stream",
     "text": [
      "Filtered 12200227 (68.52 %) variants with a VAF threshold of 0.01\n",
      "Filtered 14556658 (81.75 %) variants with a VAF threshold of 0.02\n",
      "Filtered 16170431 (90.82 %) variants with a VAF threshold of 0.05\n"
     ]
    }
   ],
   "source": [
    "af_thrs = [0.01, 0.02, 0.05]\n",
    "for thr in af_thrs:\n",
    "    count_filtered_variants = variants[variants.vaf < thr].shape[0]\n",
    "    print(\"Filtered {} ({} %) variants with a VAF threshold of {}\".format(count_filtered_variants, round(float(count_filtered_variants) / total_variants * 100, 2), thr))"
   ]
  },
  {
   "cell_type": "code",
   "execution_count": 194,
   "id": "08a980b9-6852-403f-9a59-21a92600084c",
   "metadata": {},
   "outputs": [
    {
     "name": "stdout",
     "output_type": "stream",
     "text": [
      "Filtered 4105799 (23.06 %) variants with a number of supporting reads threshold of 5\n",
      "Filtered 9842606 (55.28 %) variants with a number of supporting reads threshold of 10\n"
     ]
    }
   ],
   "source": [
    "ac_thrs = [5, 10]\n",
    "for thr in ac_thrs:\n",
    "    count_filtered_variants = variants[variants.ac < thr].shape[0]\n",
    "    print(\"Filtered {} ({} %) variants with a number of supporting reads threshold of {}\".format(count_filtered_variants, round(float(count_filtered_variants) / total_variants * 100, 2), thr))"
   ]
  },
  {
   "cell_type": "markdown",
   "id": "442bd353-eb6f-45d0-8339-a4f9348ce1ea",
   "metadata": {},
   "source": [
    "### Variants at the extremes of the genome and at homoplasmic positions\n",
    "\n",
    "In (Sapoval, 2021) they filter out mutations at the extreme of the genome. In particular mutations between positions 1 and 55 and 29804 and 29903.\n",
    "They also filter homoplasmic positions previously reported in (De Maio, 2020).\n",
    "\n",
    "The De Maio list is maintained in this repository, we apply the same filtering with the most up to date resource, to find around a 50 % more variants being masked."
   ]
  },
  {
   "cell_type": "code",
   "execution_count": 195,
   "id": "a9bbb5e9-f6b4-4ade-844e-c5914128c810",
   "metadata": {},
   "outputs": [
    {
     "data": {
      "text/html": [
       "<div>\n",
       "<style scoped>\n",
       "    .dataframe tbody tr th:only-of-type {\n",
       "        vertical-align: middle;\n",
       "    }\n",
       "\n",
       "    .dataframe tbody tr th {\n",
       "        vertical-align: top;\n",
       "    }\n",
       "\n",
       "    .dataframe thead th {\n",
       "        text-align: right;\n",
       "    }\n",
       "</style>\n",
       "<table border=\"1\" class=\"dataframe\">\n",
       "  <thead>\n",
       "    <tr style=\"text-align: right;\">\n",
       "      <th></th>\n",
       "      <th>variant_id</th>\n",
       "      <th>sample</th>\n",
       "    </tr>\n",
       "  </thead>\n",
       "  <tbody>\n",
       "    <tr>\n",
       "      <th>1417</th>\n",
       "      <td>1730:G&gt;A</td>\n",
       "      <td>89624</td>\n",
       "    </tr>\n",
       "    <tr>\n",
       "      <th>9885</th>\n",
       "      <td>2839:T&gt;A</td>\n",
       "      <td>58928</td>\n",
       "    </tr>\n",
       "    <tr>\n",
       "      <th>21424</th>\n",
       "      <td>6696:C&gt;T</td>\n",
       "      <td>51906</td>\n",
       "    </tr>\n",
       "    <tr>\n",
       "      <th>14853</th>\n",
       "      <td>4229:A&gt;C</td>\n",
       "      <td>48968</td>\n",
       "    </tr>\n",
       "    <tr>\n",
       "      <th>12087</th>\n",
       "      <td>330:A&gt;G</td>\n",
       "      <td>45284</td>\n",
       "    </tr>\n",
       "    <tr>\n",
       "      <th>1196</th>\n",
       "      <td>1656:T&gt;A</td>\n",
       "      <td>40264</td>\n",
       "    </tr>\n",
       "    <tr>\n",
       "      <th>1207</th>\n",
       "      <td>1659:G&gt;T</td>\n",
       "      <td>37252</td>\n",
       "    </tr>\n",
       "    <tr>\n",
       "      <th>1169</th>\n",
       "      <td>1647:T&gt;A</td>\n",
       "      <td>36736</td>\n",
       "    </tr>\n",
       "    <tr>\n",
       "      <th>1160</th>\n",
       "      <td>1644:A&gt;C</td>\n",
       "      <td>33184</td>\n",
       "    </tr>\n",
       "    <tr>\n",
       "      <th>18050</th>\n",
       "      <td>5284:C&gt;T</td>\n",
       "      <td>32976</td>\n",
       "    </tr>\n",
       "    <tr>\n",
       "      <th>1675</th>\n",
       "      <td>1821:G&gt;A</td>\n",
       "      <td>30932</td>\n",
       "    </tr>\n",
       "    <tr>\n",
       "      <th>12024</th>\n",
       "      <td>3290:C&gt;G</td>\n",
       "      <td>29560</td>\n",
       "    </tr>\n",
       "    <tr>\n",
       "      <th>18046</th>\n",
       "      <td>5283:A&gt;G</td>\n",
       "      <td>28840</td>\n",
       "    </tr>\n",
       "    <tr>\n",
       "      <th>13150</th>\n",
       "      <td>3683:C&gt;A</td>\n",
       "      <td>26132</td>\n",
       "    </tr>\n",
       "    <tr>\n",
       "      <th>1550</th>\n",
       "      <td>1779:C&gt;G</td>\n",
       "      <td>25848</td>\n",
       "    </tr>\n",
       "    <tr>\n",
       "      <th>13141</th>\n",
       "      <td>3680:A&gt;C</td>\n",
       "      <td>25356</td>\n",
       "    </tr>\n",
       "    <tr>\n",
       "      <th>12186</th>\n",
       "      <td>333:T&gt;G</td>\n",
       "      <td>25308</td>\n",
       "    </tr>\n",
       "    <tr>\n",
       "      <th>14726</th>\n",
       "      <td>4185:G&gt;T</td>\n",
       "      <td>24992</td>\n",
       "    </tr>\n",
       "    <tr>\n",
       "      <th>13101</th>\n",
       "      <td>3668:T&gt;G</td>\n",
       "      <td>22828</td>\n",
       "    </tr>\n",
       "    <tr>\n",
       "      <th>14480</th>\n",
       "      <td>4102:A&gt;T</td>\n",
       "      <td>21888</td>\n",
       "    </tr>\n",
       "  </tbody>\n",
       "</table>\n",
       "</div>"
      ],
      "text/plain": [
       "      variant_id  sample\n",
       "1417    1730:G>A   89624\n",
       "9885    2839:T>A   58928\n",
       "21424   6696:C>T   51906\n",
       "14853   4229:A>C   48968\n",
       "12087    330:A>G   45284\n",
       "1196    1656:T>A   40264\n",
       "1207    1659:G>T   37252\n",
       "1169    1647:T>A   36736\n",
       "1160    1644:A>C   33184\n",
       "18050   5284:C>T   32976\n",
       "1675    1821:G>A   30932\n",
       "12024   3290:C>G   29560\n",
       "18046   5283:A>G   28840\n",
       "13150   3683:C>A   26132\n",
       "1550    1779:C>G   25848\n",
       "13141   3680:A>C   25356\n",
       "12186    333:T>G   25308\n",
       "14726   4185:G>T   24992\n",
       "13101   3668:T>G   22828\n",
       "14480   4102:A>T   21888"
      ]
     },
     "execution_count": 195,
     "metadata": {},
     "output_type": "execute_result"
    }
   ],
   "source": [
    "variants[variants.variant_type == 'SNV'][['sample', 'variant_id']].groupby('variant_id').count().reset_index().sort_values(by='sample', ascending=False).head(20)"
   ]
  },
  {
   "cell_type": "code",
   "execution_count": 196,
   "id": "c7dc9f86-a031-431b-9720-d69c2a6866d5",
   "metadata": {},
   "outputs": [
    {
     "data": {
      "text/html": [
       "<div>\n",
       "<style scoped>\n",
       "    .dataframe tbody tr th:only-of-type {\n",
       "        vertical-align: middle;\n",
       "    }\n",
       "\n",
       "    .dataframe tbody tr th {\n",
       "        vertical-align: top;\n",
       "    }\n",
       "\n",
       "    .dataframe thead th {\n",
       "        text-align: right;\n",
       "    }\n",
       "</style>\n",
       "<table border=\"1\" class=\"dataframe\">\n",
       "  <thead>\n",
       "    <tr style=\"text-align: right;\">\n",
       "      <th></th>\n",
       "      <th>variant_id</th>\n",
       "      <th>sample</th>\n",
       "    </tr>\n",
       "  </thead>\n",
       "  <tbody>\n",
       "    <tr>\n",
       "      <th>13470</th>\n",
       "      <td>6696:C&gt;CT</td>\n",
       "      <td>130632</td>\n",
       "    </tr>\n",
       "    <tr>\n",
       "      <th>1275</th>\n",
       "      <td>1946:G&gt;GT</td>\n",
       "      <td>61476</td>\n",
       "    </tr>\n",
       "    <tr>\n",
       "      <th>41</th>\n",
       "      <td>1026:C&gt;CT</td>\n",
       "      <td>58412</td>\n",
       "    </tr>\n",
       "    <tr>\n",
       "      <th>679</th>\n",
       "      <td>1628:C&gt;CA</td>\n",
       "      <td>57016</td>\n",
       "    </tr>\n",
       "    <tr>\n",
       "      <th>10464</th>\n",
       "      <td>478:C&gt;CA</td>\n",
       "      <td>54620</td>\n",
       "    </tr>\n",
       "    <tr>\n",
       "      <th>1038</th>\n",
       "      <td>1813:T&gt;TA</td>\n",
       "      <td>50072</td>\n",
       "    </tr>\n",
       "    <tr>\n",
       "      <th>7910</th>\n",
       "      <td>3448:C&gt;CA</td>\n",
       "      <td>49792</td>\n",
       "    </tr>\n",
       "    <tr>\n",
       "      <th>7921</th>\n",
       "      <td>3452:G&gt;GT</td>\n",
       "      <td>48608</td>\n",
       "    </tr>\n",
       "    <tr>\n",
       "      <th>7267</th>\n",
       "      <td>3101:C&gt;CA</td>\n",
       "      <td>47116</td>\n",
       "    </tr>\n",
       "    <tr>\n",
       "      <th>9667</th>\n",
       "      <td>4376:G&gt;GT</td>\n",
       "      <td>46948</td>\n",
       "    </tr>\n",
       "    <tr>\n",
       "      <th>509</th>\n",
       "      <td>1349:C&gt;CA</td>\n",
       "      <td>41576</td>\n",
       "    </tr>\n",
       "    <tr>\n",
       "      <th>9210</th>\n",
       "      <td>4148:G&gt;GT</td>\n",
       "      <td>40724</td>\n",
       "    </tr>\n",
       "    <tr>\n",
       "      <th>9572</th>\n",
       "      <td>4321:C&gt;CT</td>\n",
       "      <td>38780</td>\n",
       "    </tr>\n",
       "    <tr>\n",
       "      <th>837</th>\n",
       "      <td>1701:C&gt;CT</td>\n",
       "      <td>37752</td>\n",
       "    </tr>\n",
       "    <tr>\n",
       "      <th>7742</th>\n",
       "      <td>3345:G&gt;GT</td>\n",
       "      <td>36416</td>\n",
       "    </tr>\n",
       "    <tr>\n",
       "      <th>8118</th>\n",
       "      <td>3575:G&gt;GT</td>\n",
       "      <td>33508</td>\n",
       "    </tr>\n",
       "    <tr>\n",
       "      <th>7135</th>\n",
       "      <td>3004:G&gt;GT</td>\n",
       "      <td>33076</td>\n",
       "    </tr>\n",
       "    <tr>\n",
       "      <th>8586</th>\n",
       "      <td>3817:C&gt;CA</td>\n",
       "      <td>32624</td>\n",
       "    </tr>\n",
       "    <tr>\n",
       "      <th>7647</th>\n",
       "      <td>3296:C&gt;CA</td>\n",
       "      <td>31972</td>\n",
       "    </tr>\n",
       "    <tr>\n",
       "      <th>13733</th>\n",
       "      <td>6822:C&gt;CA</td>\n",
       "      <td>31140</td>\n",
       "    </tr>\n",
       "  </tbody>\n",
       "</table>\n",
       "</div>"
      ],
      "text/plain": [
       "      variant_id  sample\n",
       "13470  6696:C>CT  130632\n",
       "1275   1946:G>GT   61476\n",
       "41     1026:C>CT   58412\n",
       "679    1628:C>CA   57016\n",
       "10464   478:C>CA   54620\n",
       "1038   1813:T>TA   50072\n",
       "7910   3448:C>CA   49792\n",
       "7921   3452:G>GT   48608\n",
       "7267   3101:C>CA   47116\n",
       "9667   4376:G>GT   46948\n",
       "509    1349:C>CA   41576\n",
       "9210   4148:G>GT   40724\n",
       "9572   4321:C>CT   38780\n",
       "837    1701:C>CT   37752\n",
       "7742   3345:G>GT   36416\n",
       "8118   3575:G>GT   33508\n",
       "7135   3004:G>GT   33076\n",
       "8586   3817:C>CA   32624\n",
       "7647   3296:C>CA   31972\n",
       "13733  6822:C>CA   31140"
      ]
     },
     "execution_count": 196,
     "metadata": {},
     "output_type": "execute_result"
    }
   ],
   "source": [
    "variants[variants.variant_type == 'INSERTION'][['sample', 'variant_id']].groupby('variant_id').count().reset_index().sort_values(by='sample', ascending=False).head(20)"
   ]
  },
  {
   "cell_type": "code",
   "execution_count": 197,
   "id": "5b65e570-93e8-420a-965a-2b017195131c",
   "metadata": {},
   "outputs": [
    {
     "data": {
      "text/html": [
       "<div>\n",
       "<style scoped>\n",
       "    .dataframe tbody tr th:only-of-type {\n",
       "        vertical-align: middle;\n",
       "    }\n",
       "\n",
       "    .dataframe tbody tr th {\n",
       "        vertical-align: top;\n",
       "    }\n",
       "\n",
       "    .dataframe thead th {\n",
       "        text-align: right;\n",
       "    }\n",
       "</style>\n",
       "<table border=\"1\" class=\"dataframe\">\n",
       "  <thead>\n",
       "    <tr style=\"text-align: right;\">\n",
       "      <th></th>\n",
       "      <th>variant_id</th>\n",
       "      <th>sample</th>\n",
       "    </tr>\n",
       "  </thead>\n",
       "  <tbody>\n",
       "    <tr>\n",
       "      <th>17334</th>\n",
       "      <td>509:GGTCATGTTATGGTT&gt;G</td>\n",
       "      <td>201952</td>\n",
       "    </tr>\n",
       "    <tr>\n",
       "      <th>17231</th>\n",
       "      <td>507:ATGGTCATGTTATGGT&gt;A</td>\n",
       "      <td>138692</td>\n",
       "    </tr>\n",
       "    <tr>\n",
       "      <th>17553</th>\n",
       "      <td>514:TGTTATG&gt;T</td>\n",
       "      <td>128584</td>\n",
       "    </tr>\n",
       "    <tr>\n",
       "      <th>17331</th>\n",
       "      <td>509:GGTCATGTTA&gt;G</td>\n",
       "      <td>85460</td>\n",
       "    </tr>\n",
       "    <tr>\n",
       "      <th>11095</th>\n",
       "      <td>2889:TG&gt;T</td>\n",
       "      <td>80812</td>\n",
       "    </tr>\n",
       "    <tr>\n",
       "      <th>17705</th>\n",
       "      <td>518:ATGGTT&gt;A</td>\n",
       "      <td>78820</td>\n",
       "    </tr>\n",
       "    <tr>\n",
       "      <th>21694</th>\n",
       "      <td>685:AAAGTCATTT&gt;A</td>\n",
       "      <td>78332</td>\n",
       "    </tr>\n",
       "    <tr>\n",
       "      <th>17650</th>\n",
       "      <td>517:TATG&gt;T</td>\n",
       "      <td>77704</td>\n",
       "    </tr>\n",
       "    <tr>\n",
       "      <th>22184</th>\n",
       "      <td>7044:CT&gt;C</td>\n",
       "      <td>53704</td>\n",
       "    </tr>\n",
       "    <tr>\n",
       "      <th>14750</th>\n",
       "      <td>4174:TA&gt;T</td>\n",
       "      <td>46676</td>\n",
       "    </tr>\n",
       "    <tr>\n",
       "      <th>21597</th>\n",
       "      <td>683:CTA&gt;C</td>\n",
       "      <td>39572</td>\n",
       "    </tr>\n",
       "    <tr>\n",
       "      <th>17581</th>\n",
       "      <td>515:GTTA&gt;G</td>\n",
       "      <td>38348</td>\n",
       "    </tr>\n",
       "    <tr>\n",
       "      <th>17330</th>\n",
       "      <td>509:GGTCATGTT&gt;G</td>\n",
       "      <td>37588</td>\n",
       "    </tr>\n",
       "    <tr>\n",
       "      <th>17702</th>\n",
       "      <td>518:ATG&gt;A</td>\n",
       "      <td>36836</td>\n",
       "    </tr>\n",
       "    <tr>\n",
       "      <th>17584</th>\n",
       "      <td>515:GTTATGGTT&gt;G</td>\n",
       "      <td>33160</td>\n",
       "    </tr>\n",
       "    <tr>\n",
       "      <th>14551</th>\n",
       "      <td>4116:CAT&gt;C</td>\n",
       "      <td>32372</td>\n",
       "    </tr>\n",
       "    <tr>\n",
       "      <th>18578</th>\n",
       "      <td>5497:CA&gt;C</td>\n",
       "      <td>31854</td>\n",
       "    </tr>\n",
       "    <tr>\n",
       "      <th>14114</th>\n",
       "      <td>395:CA&gt;C</td>\n",
       "      <td>29912</td>\n",
       "    </tr>\n",
       "    <tr>\n",
       "      <th>17179</th>\n",
       "      <td>506:CATGGTCATGTT&gt;C</td>\n",
       "      <td>28732</td>\n",
       "    </tr>\n",
       "    <tr>\n",
       "      <th>1457</th>\n",
       "      <td>1806:GA&gt;G</td>\n",
       "      <td>27364</td>\n",
       "    </tr>\n",
       "  </tbody>\n",
       "</table>\n",
       "</div>"
      ],
      "text/plain": [
       "                   variant_id  sample\n",
       "17334   509:GGTCATGTTATGGTT>G  201952\n",
       "17231  507:ATGGTCATGTTATGGT>A  138692\n",
       "17553           514:TGTTATG>T  128584\n",
       "17331        509:GGTCATGTTA>G   85460\n",
       "11095               2889:TG>T   80812\n",
       "17705            518:ATGGTT>A   78820\n",
       "21694        685:AAAGTCATTT>A   78332\n",
       "17650              517:TATG>T   77704\n",
       "22184               7044:CT>C   53704\n",
       "14750               4174:TA>T   46676\n",
       "21597               683:CTA>C   39572\n",
       "17581              515:GTTA>G   38348\n",
       "17330         509:GGTCATGTT>G   37588\n",
       "17702               518:ATG>A   36836\n",
       "17584         515:GTTATGGTT>G   33160\n",
       "14551              4116:CAT>C   32372\n",
       "18578               5497:CA>C   31854\n",
       "14114                395:CA>C   29912\n",
       "17179      506:CATGGTCATGTT>C   28732\n",
       "1457                1806:GA>G   27364"
      ]
     },
     "execution_count": 197,
     "metadata": {},
     "output_type": "execute_result"
    }
   ],
   "source": [
    "variants[variants.variant_type == 'DELETION'][['sample', 'variant_id']].groupby('variant_id').count().reset_index().sort_values(by='sample', ascending=False).head(20)"
   ]
  },
  {
   "cell_type": "code",
   "execution_count": 198,
   "id": "ffca54a4-145a-48a6-be8e-35105eeebb62",
   "metadata": {},
   "outputs": [
    {
     "data": {
      "text/plain": [
       "0"
      ]
     },
     "execution_count": 198,
     "metadata": {},
     "output_type": "execute_result"
    }
   ],
   "source": [
    "sapoval_lower_position = 56\n",
    "sapoval_upper_position = 29803\n",
    "variants[(variants.position < sapoval_lower_position) | (variants.position > sapoval_upper_position)].shape[0]"
   ]
  },
  {
   "cell_type": "code",
   "execution_count": 199,
   "id": "6265d119-6a3d-401e-8986-f14f991412fb",
   "metadata": {},
   "outputs": [
    {
     "data": {
      "text/plain": [
       "27962"
      ]
     },
     "execution_count": 199,
     "metadata": {},
     "output_type": "execute_result"
    }
   ],
   "source": [
    "demaio_homoplasmic_positions = [187, 1059, 2094, 3037, 3130, 6990, 8022, 10323, 10741, 11074, 13408, 14786, 19684, 20148, 21137, 24034, 24378, 25563, 26144, 26461, 26681, 28077, 28826, 28854, 29700]\n",
    "variants[(variants.position.isin(demaio_homoplasmic_positions))].shape[0]"
   ]
  },
  {
   "cell_type": "code",
   "execution_count": 200,
   "id": "435c0dd0-c4dc-48d4-9e67-f704afdf4f15",
   "metadata": {},
   "outputs": [
    {
     "data": {
      "text/html": [
       "<div>\n",
       "<style scoped>\n",
       "    .dataframe tbody tr th:only-of-type {\n",
       "        vertical-align: middle;\n",
       "    }\n",
       "\n",
       "    .dataframe tbody tr th {\n",
       "        vertical-align: top;\n",
       "    }\n",
       "\n",
       "    .dataframe thead th {\n",
       "        text-align: right;\n",
       "    }\n",
       "</style>\n",
       "<table border=\"1\" class=\"dataframe\">\n",
       "  <thead>\n",
       "    <tr style=\"text-align: right;\">\n",
       "      <th></th>\n",
       "      <th>chromosome</th>\n",
       "      <th>position</th>\n",
       "      <th>reference</th>\n",
       "      <th>alternate</th>\n",
       "      <th>variant_id</th>\n",
       "      <th>mask</th>\n",
       "    </tr>\n",
       "  </thead>\n",
       "  <tbody>\n",
       "    <tr>\n",
       "      <th>0</th>\n",
       "      <td>MN908947.3</td>\n",
       "      <td>1</td>\n",
       "      <td>A</td>\n",
       "      <td>T</td>\n",
       "      <td>1:A&gt;T</td>\n",
       "      <td>True</td>\n",
       "    </tr>\n",
       "    <tr>\n",
       "      <th>0</th>\n",
       "      <td>MN908947.3</td>\n",
       "      <td>1</td>\n",
       "      <td>A</td>\n",
       "      <td>G</td>\n",
       "      <td>1:A&gt;G</td>\n",
       "      <td>True</td>\n",
       "    </tr>\n",
       "    <tr>\n",
       "      <th>0</th>\n",
       "      <td>MN908947.3</td>\n",
       "      <td>1</td>\n",
       "      <td>A</td>\n",
       "      <td>C</td>\n",
       "      <td>1:A&gt;C</td>\n",
       "      <td>True</td>\n",
       "    </tr>\n",
       "    <tr>\n",
       "      <th>1</th>\n",
       "      <td>MN908947.3</td>\n",
       "      <td>2</td>\n",
       "      <td>T</td>\n",
       "      <td>G</td>\n",
       "      <td>2:T&gt;G</td>\n",
       "      <td>True</td>\n",
       "    </tr>\n",
       "    <tr>\n",
       "      <th>1</th>\n",
       "      <td>MN908947.3</td>\n",
       "      <td>2</td>\n",
       "      <td>T</td>\n",
       "      <td>C</td>\n",
       "      <td>2:T&gt;C</td>\n",
       "      <td>True</td>\n",
       "    </tr>\n",
       "  </tbody>\n",
       "</table>\n",
       "</div>"
      ],
      "text/plain": [
       "   chromosome  position reference alternate variant_id  mask\n",
       "0  MN908947.3         1         A         T      1:A>T  True\n",
       "0  MN908947.3         1         A         G      1:A>G  True\n",
       "0  MN908947.3         1         A         C      1:A>C  True\n",
       "1  MN908947.3         2         T         G      2:T>G  True\n",
       "1  MN908947.3         2         T         C      2:T>C  True"
      ]
     },
     "execution_count": 200,
     "metadata": {},
     "output_type": "execute_result"
    }
   ],
   "source": [
    "problematic_sites = pd.read_csv(os.path.join(reference_folder, 'problematic_sites_sarsCov2.mask.decomposed.tsv'), sep='\\t', names=['chromosome', 'position', 'reference', 'alternate'])\n",
    "\n",
    "specific_problematic = problematic_sites[problematic_sites.alternate != '.']\n",
    "general_problematic = problematic_sites[problematic_sites.alternate == '.']\n",
    "\n",
    "bases = ['A', 'C', 'G', 'T']\n",
    "first_pass = general_problematic.copy()\n",
    "first_pass.alternate = first_pass.reference.transform(lambda r: bases[0] if r not in [bases[0]] else bases[1])\n",
    "\n",
    "second_pass = general_problematic.copy()\n",
    "second_pass.alternate = second_pass.reference.transform(lambda r: bases[1] if r not in bases[0:2] else bases[2])\n",
    "\n",
    "third_pass = general_problematic.copy()\n",
    "third_pass.alternate = third_pass.reference.transform(lambda r: bases[2] if r not in bases[0:3] else bases[3])\n",
    "\n",
    "\n",
    "problematic_sites = pd.concat([specific_problematic, first_pass, second_pass, third_pass]).sort_values('position')\n",
    "\n",
    "problematic_sites['variant_id'] = problematic_sites[['position', 'reference', 'alternate']].apply(lambda x: \"{}:{}>{}\".format(x[0], x[1], x[2]), axis=1)\n",
    "problematic_sites['mask'] = True\n",
    "problematic_sites.head()"
   ]
  },
  {
   "cell_type": "code",
   "execution_count": 201,
   "id": "cf5823fa-1ada-4c73-9da4-cd500ba42a79",
   "metadata": {},
   "outputs": [
    {
     "data": {
      "text/plain": [
       "57059"
      ]
     },
     "execution_count": 201,
     "metadata": {},
     "output_type": "execute_result"
    }
   ],
   "source": [
    "masked_variants = pd.merge(variants, problematic_sites[['variant_id', 'mask']], on='variant_id')\n",
    "masked_variants[masked_variants['mask']].shape[0]"
   ]
  },
  {
   "cell_type": "markdown",
   "id": "80be27a5-99f9-404a-846d-1fe62c79d00a",
   "metadata": {},
   "source": [
    "## Valesano-like filtering"
   ]
  },
  {
   "cell_type": "code",
   "execution_count": 202,
   "id": "77c652bd-3433-4a92-8d2e-7638565c5fe4",
   "metadata": {},
   "outputs": [],
   "source": [
    "valesano_samples = samples[(samples.read_count >= 50000) & (samples.covered_bases >= 29000)]"
   ]
  },
  {
   "cell_type": "code",
   "execution_count": 203,
   "id": "194987e5-0301-4b45-811e-8b6ce1414637",
   "metadata": {},
   "outputs": [],
   "source": [
    "valesano_variants = variants[(variants['sample'].isin(valesano_samples.run_accession)) &(variants.vaf >= 0.02) & (variants.vaf < 0.5) & (variants.dp >= 100) & (variants.ac >= 10)]"
   ]
  },
  {
   "cell_type": "code",
   "execution_count": 204,
   "id": "743a0a2f-35c1-434c-ab19-4ba67985d4a8",
   "metadata": {},
   "outputs": [
    {
     "data": {
      "text/plain": [
       "{'Num. samples': 125965,\n",
       " 'Num. mutations': 1523125,\n",
       " 'Num. SNVs': 1234647,\n",
       " 'Num. insertions': 145947,\n",
       " 'Num. deletions': 142531,\n",
       " 'Num. unique mutations': 30196,\n",
       " 'Num. unique SNVs': 20707,\n",
       " 'Num. unique insertions': 1445,\n",
       " 'Num. unique deletions': 8044,\n",
       " 'Median VAF': 0.034862399101257324,\n",
       " 'Median AC': 45.0,\n",
       " 'Median DP': 1211.0,\n",
       " 'Median mutations per sample': 3.0,\n",
       " 'Median SNVs per sample': 1.0,\n",
       " 'Median insertions per sample': 0.0,\n",
       " 'Median deletions per sample': 0.0,\n",
       " 'Ratio of NS/S': 2.859,\n",
       " 'Ratio of in-frame/frameshift': 0.109,\n",
       " 'Start loss': 362,\n",
       " 'Ratio start loss': 0.000237669265490357,\n",
       " 'Stop gained': 41170,\n",
       " 'Ratio stop gained': 0.027029954862535906,\n",
       " 'Stop loss': 62,\n",
       " 'Ratio stop loss': 4.0705785802215836e-05,\n",
       " 'Variant calling quality': 665.0,\n",
       " 'Variant calling quality SNVs': 594.0,\n",
       " 'Variant calling quality insertions': 1189.0,\n",
       " 'Variant calling quality deletions': 896.0,\n",
       " 'Entropy genomic positions': 84864764908.89848,\n",
       " 'Entropy genomic positions SNVs': 67578769485.19975,\n",
       " 'Entropy genomic positions insertions': 9543863748.95212,\n",
       " 'Entropy genomic positions deletions': 7742131674.746557}"
      ]
     },
     "execution_count": 204,
     "metadata": {},
     "output_type": "execute_result"
    }
   ],
   "source": [
    "results_valesano = evaluate_dataset(samples=valesano_samples, variants=valesano_variants)\n",
    "results_valesano"
   ]
  },
  {
   "cell_type": "code",
   "execution_count": 205,
   "id": "2c151ceb-aeaf-45fd-aab4-411fe908c8ff",
   "metadata": {},
   "outputs": [
    {
     "name": "stdout",
     "output_type": "stream",
     "text": [
      "125965\n",
      "1523125\n",
      "1234647\n",
      "145947\n",
      "142531\n",
      "30196\n",
      "20707\n",
      "1445\n",
      "8044\n",
      "0.034862399101257324\n",
      "45.0\n",
      "1211.0\n",
      "3.0\n",
      "1.0\n",
      "0.0\n",
      "0.0\n",
      "2.859\n",
      "0.109\n",
      "362\n",
      "0.000237669265490357\n",
      "41170\n",
      "0.027029954862535906\n",
      "62\n",
      "4.0705785802215836e-05\n",
      "665.0\n",
      "594.0\n",
      "1189.0\n",
      "896.0\n",
      "84864764908.89848\n",
      "67578769485.19975\n",
      "9543863748.95212\n",
      "7742131674.746557\n"
     ]
    }
   ],
   "source": [
    "print_results_values(results_valesano)"
   ]
  },
  {
   "cell_type": "code",
   "execution_count": 206,
   "id": "f171f203-c5aa-4cd9-a5fc-2274b3623dbf",
   "metadata": {},
   "outputs": [],
   "source": [
    "valesano_samples_amplicon = valesano_samples[valesano_samples.library_strategy == \"WGA\"]"
   ]
  },
  {
   "cell_type": "code",
   "execution_count": 207,
   "id": "1f112977-3017-4b7d-8da0-2929dd898987",
   "metadata": {},
   "outputs": [],
   "source": [
    "valesano_variants_amplicon = valesano_variants[valesano_variants['sample'].isin(valesano_samples_amplicon.run_accession)]"
   ]
  },
  {
   "cell_type": "code",
   "execution_count": 208,
   "id": "0a688203-b203-4c4b-801a-e3661fb14b1b",
   "metadata": {},
   "outputs": [
    {
     "data": {
      "text/plain": [
       "{'Num. samples': 72185,\n",
       " 'Num. mutations': 882571,\n",
       " 'Num. SNVs': 696226,\n",
       " 'Num. insertions': 89888,\n",
       " 'Num. deletions': 96457,\n",
       " 'Num. unique mutations': 26810,\n",
       " 'Num. unique SNVs': 18711,\n",
       " 'Num. unique insertions': 1290,\n",
       " 'Num. unique deletions': 6809,\n",
       " 'Median VAF': 0.03496500104665756,\n",
       " 'Median AC': 45.0,\n",
       " 'Median DP': 1192.0,\n",
       " 'Median mutations per sample': 2.0,\n",
       " 'Median SNVs per sample': 1.0,\n",
       " 'Median insertions per sample': 0.0,\n",
       " 'Median deletions per sample': 0.0,\n",
       " 'Ratio of NS/S': 2.004,\n",
       " 'Ratio of in-frame/frameshift': 0.091,\n",
       " 'Start loss': 176,\n",
       " 'Ratio start loss': 0.00019941738398383813,\n",
       " 'Stop gained': 15402,\n",
       " 'Ratio stop gained': 0.017451287205222016,\n",
       " 'Stop loss': 30,\n",
       " 'Ratio stop loss': 3.399159954269968e-05,\n",
       " 'Variant calling quality': 688.0,\n",
       " 'Variant calling quality SNVs': 621.0,\n",
       " 'Variant calling quality insertions': 1122.0,\n",
       " 'Variant calling quality deletions': 824.0,\n",
       " 'Entropy genomic positions': 52557257016.293655,\n",
       " 'Entropy genomic positions SNVs': 40760506240.82256,\n",
       " 'Entropy genomic positions insertions': 6686360670.356297,\n",
       " 'Entropy genomic positions deletions': 5110390105.114809}"
      ]
     },
     "execution_count": 208,
     "metadata": {},
     "output_type": "execute_result"
    }
   ],
   "source": [
    "evaluate_dataset(samples=valesano_samples_amplicon, variants=valesano_variants_amplicon)"
   ]
  },
  {
   "cell_type": "code",
   "execution_count": 209,
   "id": "c4723652-817f-4d5f-8e07-c91765fd191f",
   "metadata": {},
   "outputs": [],
   "source": [
    "valesano_samples_wgs = valesano_samples[valesano_samples.library_strategy == \"WGS\"]"
   ]
  },
  {
   "cell_type": "code",
   "execution_count": 210,
   "id": "67904264-83ce-47cb-ae61-547b2828dc7f",
   "metadata": {},
   "outputs": [],
   "source": [
    "valesano_variants_wgs = valesano_variants[valesano_variants['sample'].isin(valesano_samples_wgs.run_accession)]"
   ]
  },
  {
   "cell_type": "code",
   "execution_count": 211,
   "id": "14e271e6-20ec-40c0-bb57-002461f73f81",
   "metadata": {},
   "outputs": [
    {
     "data": {
      "text/plain": [
       "{'Num. samples': 44377,\n",
       " 'Num. mutations': 579433,\n",
       " 'Num. SNVs': 497302,\n",
       " 'Num. insertions': 37850,\n",
       " 'Num. deletions': 44281,\n",
       " 'Num. unique mutations': 20640,\n",
       " 'Num. unique SNVs': 15396,\n",
       " 'Num. unique insertions': 730,\n",
       " 'Num. unique deletions': 4514,\n",
       " 'Median VAF': 0.034246601164340966,\n",
       " 'Median AC': 46.0,\n",
       " 'Median DP': 1264.0,\n",
       " 'Median mutations per sample': 3.0,\n",
       " 'Median SNVs per sample': 2.0,\n",
       " 'Median insertions per sample': 0.0,\n",
       " 'Median deletions per sample': 0.0,\n",
       " 'Ratio of NS/S': 5.306,\n",
       " 'Ratio of in-frame/frameshift': 0.178,\n",
       " 'Start loss': 145,\n",
       " 'Ratio start loss': 0.0002502446357042143,\n",
       " 'Stop gained': 24409,\n",
       " 'Ratio stop gained': 0.042125664226925284,\n",
       " 'Stop loss': 20,\n",
       " 'Ratio stop loss': 3.451650147644335e-05,\n",
       " 'Variant calling quality': 634.0,\n",
       " 'Variant calling quality SNVs': 570.0,\n",
       " 'Variant calling quality insertions': 1327.0,\n",
       " 'Variant calling quality deletions': 1100.0,\n",
       " 'Entropy genomic positions': 29548556499.2562,\n",
       " 'Entropy genomic positions SNVs': 24452551648.815224,\n",
       " 'Entropy genomic positions insertions': 2537548989.606103,\n",
       " 'Entropy genomic positions deletions': 2558455860.8348756}"
      ]
     },
     "execution_count": 211,
     "metadata": {},
     "output_type": "execute_result"
    }
   ],
   "source": [
    "evaluate_dataset(samples=valesano_samples_wgs, variants=valesano_variants_wgs)"
   ]
  },
  {
   "cell_type": "code",
   "execution_count": 212,
   "id": "7b8cce8b-df6d-4477-930c-fb5bf78bbe9f",
   "metadata": {},
   "outputs": [],
   "source": [
    "valesano_samples_targeted = valesano_samples[valesano_samples.library_strategy == \"Targeted-Capture\"]"
   ]
  },
  {
   "cell_type": "code",
   "execution_count": 213,
   "id": "1393e3ba-a233-482e-8b2d-46a54b012baa",
   "metadata": {},
   "outputs": [],
   "source": [
    "valesano_variants_targeted = valesano_variants[valesano_variants['sample'].isin(valesano_samples_targeted.run_accession)]"
   ]
  },
  {
   "cell_type": "code",
   "execution_count": 214,
   "id": "17a9998a-9f6d-41ee-b05b-ce6d78195beb",
   "metadata": {},
   "outputs": [
    {
     "data": {
      "text/plain": [
       "{'Num. samples': 9403,\n",
       " 'Num. mutations': 61121,\n",
       " 'Num. SNVs': 41119,\n",
       " 'Num. insertions': 18209,\n",
       " 'Num. deletions': 1793,\n",
       " 'Num. unique mutations': 5280,\n",
       " 'Num. unique SNVs': 4866,\n",
       " 'Num. unique insertions': 88,\n",
       " 'Num. unique deletions': 326,\n",
       " 'Median VAF': 0.04399999976158142,\n",
       " 'Median AC': 51.0,\n",
       " 'Median DP': 1020.0,\n",
       " 'Median mutations per sample': 4.0,\n",
       " 'Median SNVs per sample': 0.0,\n",
       " 'Median insertions per sample': 0.0,\n",
       " 'Median deletions per sample': 0.0,\n",
       " 'Ratio of NS/S': 3.418,\n",
       " 'Ratio of in-frame/frameshift': 0.027,\n",
       " 'Start loss': 41,\n",
       " 'Ratio start loss': 0.0006708005431848301,\n",
       " 'Stop gained': 1359,\n",
       " 'Ratio stop gained': 0.02223458385824839,\n",
       " 'Stop loss': 12,\n",
       " 'Ratio stop loss': 0.00019633186629799905,\n",
       " 'Variant calling quality': 578.0,\n",
       " 'Variant calling quality SNVs': 346.0,\n",
       " 'Variant calling quality insertions': 1477.0,\n",
       " 'Variant calling quality deletions': 600.0,\n",
       " 'Entropy genomic positions': 2758951393.3486185,\n",
       " 'Entropy genomic positions SNVs': 2365711595.562025,\n",
       " 'Entropy genomic positions insertions': 319954088.9897206,\n",
       " 'Entropy genomic positions deletions': 73285708.79687306}"
      ]
     },
     "execution_count": 214,
     "metadata": {},
     "output_type": "execute_result"
    }
   ],
   "source": [
    "evaluate_dataset(samples=valesano_samples_targeted, variants=valesano_variants_targeted)"
   ]
  },
  {
   "cell_type": "markdown",
   "id": "b2a019be-4cfb-468b-a899-450fa6c3c08e",
   "metadata": {},
   "source": [
    "## Sapoval-like filtering"
   ]
  },
  {
   "cell_type": "code",
   "execution_count": 215,
   "id": "8ae169b4-33e3-4cc4-9a24-42961d428b2c",
   "metadata": {},
   "outputs": [],
   "source": [
    "sapoval_samples = samples[(samples.read_count >= 20000)]"
   ]
  },
  {
   "cell_type": "code",
   "execution_count": 216,
   "id": "2e937358-c946-4619-beeb-5556abad00a0",
   "metadata": {},
   "outputs": [],
   "source": [
    "sapoval_variants = variants[(variants['sample'].isin(sapoval_samples.run_accession)) &(variants.vaf >= 0.02) & (variants.vaf < 0.5) & (variants.dp >= 10)]\n",
    "sapoval_variants = sapoval_variants[~sapoval_variants.position.isin(demaio_homoplasmic_positions)]\n",
    "sapoval_variants = sapoval_variants[~((sapoval_variants.position < sapoval_lower_position) | (sapoval_variants.position > sapoval_upper_position))]"
   ]
  },
  {
   "cell_type": "code",
   "execution_count": 217,
   "id": "e15056fc-6f4e-4c3f-b87a-9442de7e75c1",
   "metadata": {},
   "outputs": [
    {
     "data": {
      "text/plain": [
       "{'Num. samples': 131721,\n",
       " 'Num. mutations': 3074296,\n",
       " 'Num. SNVs': 2062332,\n",
       " 'Num. insertions': 587164,\n",
       " 'Num. deletions': 424800,\n",
       " 'Num. unique mutations': 40049,\n",
       " 'Num. unique SNVs': 22635,\n",
       " 'Num. unique insertions': 4723,\n",
       " 'Num. unique deletions': 12691,\n",
       " 'Median VAF': 0.0466667003929615,\n",
       " 'Median AC': 10.0,\n",
       " 'Median DP': 261.0,\n",
       " 'Median mutations per sample': 6.0,\n",
       " 'Median SNVs per sample': 4.0,\n",
       " 'Median insertions per sample': 0.0,\n",
       " 'Median deletions per sample': 0.0,\n",
       " 'Ratio of NS/S': 2.688,\n",
       " 'Ratio of in-frame/frameshift': 0.069,\n",
       " 'Start loss': 643,\n",
       " 'Ratio start loss': 0.00020915357532261044,\n",
       " 'Stop gained': 77178,\n",
       " 'Ratio stop gained': 0.025104284037711398,\n",
       " 'Stop loss': 165,\n",
       " 'Ratio stop loss': 5.367082414965898e-05,\n",
       " 'Variant calling quality': 150.0,\n",
       " 'Variant calling quality SNVs': 233.0,\n",
       " 'Variant calling quality insertions': 67.0,\n",
       " 'Variant calling quality deletions': 81.0,\n",
       " 'Entropy genomic positions': 168674365074.20615,\n",
       " 'Entropy genomic positions SNVs': 110828451345.95706,\n",
       " 'Entropy genomic positions insertions': 34844251794.4593,\n",
       " 'Entropy genomic positions deletions': 23001661933.78988}"
      ]
     },
     "execution_count": 217,
     "metadata": {},
     "output_type": "execute_result"
    }
   ],
   "source": [
    "results_sapoval = evaluate_dataset(samples=sapoval_samples, variants=sapoval_variants)\n",
    "results_sapoval"
   ]
  },
  {
   "cell_type": "code",
   "execution_count": 218,
   "id": "a11e2c67-74bc-46f7-a626-9454e86704c6",
   "metadata": {},
   "outputs": [
    {
     "name": "stdout",
     "output_type": "stream",
     "text": [
      "131721\n",
      "3074296\n",
      "2062332\n",
      "587164\n",
      "424800\n",
      "40049\n",
      "22635\n",
      "4723\n",
      "12691\n",
      "0.0466667003929615\n",
      "10.0\n",
      "261.0\n",
      "6.0\n",
      "4.0\n",
      "0.0\n",
      "0.0\n",
      "2.688\n",
      "0.069\n",
      "643\n",
      "0.00020915357532261044\n",
      "77178\n",
      "0.025104284037711398\n",
      "165\n",
      "5.367082414965898e-05\n",
      "150.0\n",
      "233.0\n",
      "67.0\n",
      "81.0\n",
      "168674365074.20615\n",
      "110828451345.95706\n",
      "34844251794.4593\n",
      "23001661933.78988\n"
     ]
    }
   ],
   "source": [
    "print_results_values(results_sapoval)"
   ]
  },
  {
   "cell_type": "markdown",
   "id": "a37eb11b-6fbc-4fa4-ad1a-8da0c280e412",
   "metadata": {},
   "source": [
    "## Tonkin-Hill like filtering"
   ]
  },
  {
   "cell_type": "code",
   "execution_count": 219,
   "id": "5c1ff910-8bc4-4892-bfaa-f61cd8f04f25",
   "metadata": {},
   "outputs": [],
   "source": [
    "# exclude samples by excess of iSNVs\n",
    "count_variants_per_sample = pd.merge(variants, samples[['run_accession']], left_on='sample', right_on='run_accession', how='outer')[['run_accession', 'variant_id']].groupby('run_accession').count().reset_index()\n",
    "excess_mutations_thr = count_variants_per_sample.variant_id.quantile(0.999)\n",
    "excluded_samples_by_excess_variants = count_variants_per_sample[count_variants_per_sample.variant_id > excess_mutations_thr].run_accession\n",
    "\n",
    "# exclude samples by excess of high frequency iSNVs, suspicion of co-infection\n",
    "count_high_variants_per_sample = pd.merge(variants[variants.vaf > 0.4], samples[['run_accession']], left_on='sample', right_on='run_accession', how='outer')[['run_accession', 'variant_id']].groupby('run_accession').count().reset_index()\n",
    "coinfection_thr = count_high_variants_per_sample.variant_id.median() + (2 * (count_high_variants_per_sample.variant_id.quantile(0.75) - count_high_variants_per_sample.variant_id.quantile(0.25)))\n",
    "excluded_samples_by_coinfection = count_high_variants_per_sample[count_high_variants_per_sample.variant_id > coinfection_thr].run_accession\n",
    "\n",
    "tonkin_samples = samples[~(samples.run_accession.isin(excluded_samples_by_excess_variants)) & ~(samples.run_accession.isin(excluded_samples_by_coinfection))]"
   ]
  },
  {
   "cell_type": "code",
   "execution_count": 220,
   "id": "22d8e6c2-e6b2-48c4-8247-a1182f6b2bd6",
   "metadata": {},
   "outputs": [],
   "source": [
    "tonkin_variants = variants[(variants['sample'].isin(tonkin_samples.run_accession)) &(variants.vaf >= 0.05) & (variants.vaf < 0.5) & (variants.dp >= 100) & (variants.ac >= 5)]"
   ]
  },
  {
   "cell_type": "code",
   "execution_count": 221,
   "id": "cecb99a8-1ea9-44d5-bbf8-40ab81d0556a",
   "metadata": {},
   "outputs": [
    {
     "data": {
      "text/plain": [
       "{'Num. samples': 115843,\n",
       " 'Num. mutations': 366759,\n",
       " 'Num. SNVs': 262572,\n",
       " 'Num. insertions': 65735,\n",
       " 'Num. deletions': 38452,\n",
       " 'Num. unique mutations': 19564,\n",
       " 'Num. unique SNVs': 14513,\n",
       " 'Num. unique insertions': 778,\n",
       " 'Num. unique deletions': 4273,\n",
       " 'Median VAF': 0.07527700066566467,\n",
       " 'Median AC': 69.0,\n",
       " 'Median DP': 826.0,\n",
       " 'Median mutations per sample': 0.0,\n",
       " 'Median SNVs per sample': 0.0,\n",
       " 'Median insertions per sample': 0.0,\n",
       " 'Median deletions per sample': 0.0,\n",
       " 'Ratio of NS/S': 3.004,\n",
       " 'Ratio of in-frame/frameshift': 0.093,\n",
       " 'Start loss': 78,\n",
       " 'Ratio start loss': 0.00021267371761838155,\n",
       " 'Stop gained': 9735,\n",
       " 'Ratio stop gained': 0.026543315910448007,\n",
       " 'Stop loss': 16,\n",
       " 'Ratio stop loss': 4.3625377973001344e-05,\n",
       " 'Variant calling quality': 1293.0,\n",
       " 'Variant calling quality SNVs': 1071.0,\n",
       " 'Variant calling quality insertions': 2001.0,\n",
       " 'Variant calling quality deletions': 1585.0,\n",
       " 'Entropy genomic positions': 22097675696.997936,\n",
       " 'Entropy genomic positions SNVs': 15914234404.776896,\n",
       " 'Entropy genomic positions insertions': 4167206547.46169,\n",
       " 'Entropy genomic positions deletions': 2016234744.7593465}"
      ]
     },
     "execution_count": 221,
     "metadata": {},
     "output_type": "execute_result"
    }
   ],
   "source": [
    "results_tonkinhill = evaluate_dataset(samples=tonkin_samples, variants=tonkin_variants)\n",
    "results_tonkinhill"
   ]
  },
  {
   "cell_type": "code",
   "execution_count": 222,
   "id": "39a614c6-7dd6-43b2-9057-630c9353f789",
   "metadata": {},
   "outputs": [
    {
     "name": "stdout",
     "output_type": "stream",
     "text": [
      "115843\n",
      "366759\n",
      "262572\n",
      "65735\n",
      "38452\n",
      "19564\n",
      "14513\n",
      "778\n",
      "4273\n",
      "0.07527700066566467\n",
      "69.0\n",
      "826.0\n",
      "0.0\n",
      "0.0\n",
      "0.0\n",
      "0.0\n",
      "3.004\n",
      "0.093\n",
      "78\n",
      "0.00021267371761838155\n",
      "9735\n",
      "0.026543315910448007\n",
      "16\n",
      "4.3625377973001344e-05\n",
      "1293.0\n",
      "1071.0\n",
      "2001.0\n",
      "1585.0\n",
      "22097675696.997936\n",
      "15914234404.776896\n",
      "4167206547.46169\n",
      "2016234744.7593465\n"
     ]
    }
   ],
   "source": [
    "print_results_values(results_tonkinhill)"
   ]
  },
  {
   "cell_type": "markdown",
   "id": "001899f0-7d63-47a8-820e-91179aeab725",
   "metadata": {},
   "source": [
    "## Conservative filter\n",
    "\n",
    "Excludes samples:\n",
    "- Mapped reads >= 50,000\n",
    "- Horizontal coverage >= 29,000 bp\n",
    "- Exclude samples above 99th percentile of number of iSNVs\n",
    "- Exclude samples with an outlier number of iSNVs with VAF > 40% and VAF < 80 %\n",
    "\n",
    "Exclude variants:\n",
    "- VAF >= 2%, VAF < 50 %\n",
    "- DP >= 100\n",
    "- supporting reads >= 10\n",
    "- Mask extremes of genome + homoplasmic positions from De Maio, 2020\n",
    "- indels <= 10 bp"
   ]
  },
  {
   "cell_type": "code",
   "execution_count": 223,
   "id": "bdab5d8d-f79e-4d4f-b490-4e9cbaded2a1",
   "metadata": {},
   "outputs": [],
   "source": [
    "conservative_samples = samples[~(samples.run_accession.isin(excluded_samples_by_excess_variants)) & ~(samples.run_accession.isin(excluded_samples_by_coinfection)) & \n",
    "                              (samples.read_count >= 50000) & (samples.covered_bases >= 29000)]"
   ]
  },
  {
   "cell_type": "code",
   "execution_count": 224,
   "id": "36549182-52d9-4eb0-a796-480fbe616df9",
   "metadata": {},
   "outputs": [],
   "source": [
    "conservative_variants = variants[(variants['sample'].isin(conservative_samples.run_accession)) &(variants.vaf >= 0.02) & (variants.vaf < 0.5) & (variants.dp >= 100) & (variants.ac >= 10)]\n",
    "#conservative_variants = conservative_variants[~conservative_variants.position.isin(demaio_homoplasmic_positions)]\n",
    "masked_variants = pd.merge(conservative_variants, problematic_sites[['variant_id', 'mask']], on='variant_id', how='outer')\n",
    "masked_variants['mask'].fillna(False, inplace=True)\n",
    "conservative_variants = masked_variants[~masked_variants['mask']]\n",
    "conservative_variants = conservative_variants[~((conservative_variants.position < sapoval_lower_position) | (conservative_variants.position > sapoval_upper_position))]\n",
    "conservative_variants = conservative_variants[(conservative_variants.length <= 10) & (conservative_variants.length >= -10)]"
   ]
  },
  {
   "cell_type": "code",
   "execution_count": 225,
   "id": "cd25f2f4-b819-4c07-ae57-0d9d046364f5",
   "metadata": {},
   "outputs": [
    {
     "data": {
      "text/plain": [
       "{'Num. samples': 107318,\n",
       " 'Num. mutations': 1138580,\n",
       " 'Num. SNVs': 889729,\n",
       " 'Num. insertions': 133824,\n",
       " 'Num. deletions': 115027,\n",
       " 'Num. unique mutations': 28490,\n",
       " 'Num. unique SNVs': 19991,\n",
       " 'Num. unique insertions': 1370,\n",
       " 'Num. unique deletions': 7129,\n",
       " 'Median VAF': 0.03371480107307434,\n",
       " 'Median AC': 43.0,\n",
       " 'Median DP': 1211.0,\n",
       " 'Median mutations per sample': 3.0,\n",
       " 'Median SNVs per sample': 1.0,\n",
       " 'Median insertions per sample': 0.0,\n",
       " 'Median deletions per sample': 0.0,\n",
       " 'Ratio of NS/S': 3.291,\n",
       " 'Ratio of in-frame/frameshift': 0.073,\n",
       " 'Start loss': 294,\n",
       " 'Ratio start loss': 0.00025821637478262396,\n",
       " 'Stop gained': 34833,\n",
       " 'Ratio stop gained': 0.030593370689806602,\n",
       " 'Stop loss': 43,\n",
       " 'Ratio stop loss': 3.77663405294314e-05,\n",
       " 'Variant calling quality': 624.0,\n",
       " 'Variant calling quality SNVs': 540.0,\n",
       " 'Variant calling quality insertions': 1188.0,\n",
       " 'Variant calling quality deletions': 820.0,\n",
       " 'Entropy genomic positions': 62060935604.48811,\n",
       " 'Entropy genomic positions SNVs': 46973048470.07955,\n",
       " 'Entropy genomic positions insertions': 8682967951.270296,\n",
       " 'Entropy genomic positions deletions': 6404919183.138243}"
      ]
     },
     "execution_count": 225,
     "metadata": {},
     "output_type": "execute_result"
    }
   ],
   "source": [
    "results_covigator2 = evaluate_dataset(samples=conservative_samples, variants=conservative_variants)\n",
    "results_covigator2"
   ]
  },
  {
   "cell_type": "code",
   "execution_count": 226,
   "id": "eff4b0b4-c341-45bc-9796-9e66302331ad",
   "metadata": {},
   "outputs": [
    {
     "name": "stdout",
     "output_type": "stream",
     "text": [
      "107318\n",
      "1138580\n",
      "889729\n",
      "133824\n",
      "115027\n",
      "28490\n",
      "19991\n",
      "1370\n",
      "7129\n",
      "0.03371480107307434\n",
      "43.0\n",
      "1211.0\n",
      "3.0\n",
      "1.0\n",
      "0.0\n",
      "0.0\n",
      "3.291\n",
      "0.073\n",
      "294\n",
      "0.00025821637478262396\n",
      "34833\n",
      "0.030593370689806602\n",
      "43\n",
      "3.77663405294314e-05\n",
      "624.0\n",
      "540.0\n",
      "1188.0\n",
      "820.0\n",
      "62060935604.48811\n",
      "46973048470.07955\n",
      "8682967951.270296\n",
      "6404919183.138243\n"
     ]
    }
   ],
   "source": [
    "print_results_values(results_covigator2)"
   ]
  },
  {
   "cell_type": "code",
   "execution_count": 227,
   "id": "ccd6dcb7-5623-4f0b-bb36-b277fe5b029f",
   "metadata": {},
   "outputs": [
    {
     "name": "stdout",
     "output_type": "stream",
     "text": [
      "-----\n",
      "Ratio of NS/S: 3.291\n",
      "Ratio of NS/S in gene ORF1ab: 3.462\n",
      "Ratio of NS/S in gene S: 1.835\n",
      "Ratio of NS/S in gene E: 2.341\n",
      "Ratio of NS/S in gene N: 2.642\n",
      "Ratio of NS/S in gene ORF3a: 2.099\n",
      "Ratio of NS/S in gene M: 4.501\n",
      "Ratio of NS/S in gene ORF6: 1.603\n",
      "Ratio of NS/S in gene ORF7b: 2.883\n",
      "Ratio of NS/S in gene ORF8: 2.66\n",
      "Ratio of NS/S in gene ORF7a: 3.188\n",
      "Ratio of NS/S in domain bCoV_S1_N: 0.861\n",
      "Ratio of NS/S in domain CoV_S2: 4.263\n",
      "Ratio of NS/S in domain bCoV_S1_RBD: 2.717\n",
      "Ratio of NS/S in domain CoV_S1_C: 3.227\n",
      "-----\n",
      "Ratio of in-frame/frameshift: 0.073\n",
      "Ratio of in-frame/frameshift in gene ORF1ab: 0.074\n",
      "Ratio of in-frame/frameshift in gene S: 0.088\n",
      "Ratio of in-frame/frameshift in gene E: 0.054\n",
      "Ratio of in-frame/frameshift in gene N: 0.099\n",
      "Ratio of in-frame/frameshift in gene ORF3a: 0.037\n",
      "Ratio of in-frame/frameshift in gene M: 0.012\n",
      "Ratio of in-frame/frameshift in gene ORF6: 0.059\n",
      "Ratio of in-frame/frameshift in gene ORF7b: 0.028\n",
      "Ratio of in-frame/frameshift in gene ORF8: 0.046\n",
      "Ratio of in-frame/frameshift in gene ORF7a: 0.023\n",
      "Ratio of in-frame/frameshift in domain bCoV_S1_N: 0.13\n",
      "Ratio of in-frame/frameshift in domain CoV_S2: 0.065\n",
      "Ratio of in-frame/frameshift in domain bCoV_S1_RBD: 0.087\n",
      "Ratio of in-frame/frameshift in domain CoV_S1_C: 0.023\n"
     ]
    }
   ],
   "source": [
    "evaluate_dataset_by_gene_domain(conservative_variants)"
   ]
  },
  {
   "cell_type": "code",
   "execution_count": 228,
   "id": "a8454149-b991-4a03-83cc-3c4d214d1db6",
   "metadata": {},
   "outputs": [],
   "source": [
    "conservative_variants.to_csv(os.path.join(data_folder, 'conservative_intrahost_variants.csv.gz'), compression='gzip', index=False)\n",
    "conservative_samples.to_csv(os.path.join(data_folder, 'conservative_intrahost_samples.csv.gz'), compression='gzip', index=False)"
   ]
  },
  {
   "cell_type": "markdown",
   "id": "4fb91c1d-7bcf-45e0-ab8f-5589f1e752a9",
   "metadata": {},
   "source": [
    "## Plot filtering approaches"
   ]
  },
  {
   "cell_type": "code",
   "execution_count": 229,
   "id": "b760c6a2-86c2-483d-ace4-5fa1c731d9fc",
   "metadata": {},
   "outputs": [
    {
     "data": {
      "text/html": [
       "<div>\n",
       "<style scoped>\n",
       "    .dataframe tbody tr th:only-of-type {\n",
       "        vertical-align: middle;\n",
       "    }\n",
       "\n",
       "    .dataframe tbody tr th {\n",
       "        vertical-align: top;\n",
       "    }\n",
       "\n",
       "    .dataframe thead th {\n",
       "        text-align: right;\n",
       "    }\n",
       "</style>\n",
       "<table border=\"1\" class=\"dataframe\">\n",
       "  <thead>\n",
       "    <tr style=\"text-align: right;\">\n",
       "      <th></th>\n",
       "      <th>index</th>\n",
       "      <th>Num. samples</th>\n",
       "      <th>Num. mutations</th>\n",
       "      <th>Num. SNVs</th>\n",
       "      <th>Num. insertions</th>\n",
       "      <th>Num. deletions</th>\n",
       "      <th>Num. unique mutations</th>\n",
       "      <th>Num. unique SNVs</th>\n",
       "      <th>Num. unique insertions</th>\n",
       "      <th>Num. unique deletions</th>\n",
       "      <th>...</th>\n",
       "      <th>Ratio stop loss</th>\n",
       "      <th>Variant calling quality</th>\n",
       "      <th>Variant calling quality SNVs</th>\n",
       "      <th>Variant calling quality insertions</th>\n",
       "      <th>Variant calling quality deletions</th>\n",
       "      <th>Entropy genomic positions</th>\n",
       "      <th>Entropy genomic positions SNVs</th>\n",
       "      <th>Entropy genomic positions insertions</th>\n",
       "      <th>Entropy genomic positions deletions</th>\n",
       "      <th>group</th>\n",
       "    </tr>\n",
       "  </thead>\n",
       "  <tbody>\n",
       "    <tr>\n",
       "      <th>0</th>\n",
       "      <td>0</td>\n",
       "      <td>135452</td>\n",
       "      <td>2288363</td>\n",
       "      <td>1447734</td>\n",
       "      <td>639757</td>\n",
       "      <td>200872</td>\n",
       "      <td>126999</td>\n",
       "      <td>78431</td>\n",
       "      <td>15887</td>\n",
       "      <td>32681</td>\n",
       "      <td>...</td>\n",
       "      <td>0.008171</td>\n",
       "      <td>67.0</td>\n",
       "      <td>89.0</td>\n",
       "      <td>66.0</td>\n",
       "      <td>87.0</td>\n",
       "      <td>3.477001e+11</td>\n",
       "      <td>2.234844e+11</td>\n",
       "      <td>9.403048e+10</td>\n",
       "      <td>3.018517e+10</td>\n",
       "      <td>Naif</td>\n",
       "    </tr>\n",
       "    <tr>\n",
       "      <th>1</th>\n",
       "      <td>0</td>\n",
       "      <td>125965</td>\n",
       "      <td>1523125</td>\n",
       "      <td>1234647</td>\n",
       "      <td>145947</td>\n",
       "      <td>142531</td>\n",
       "      <td>30196</td>\n",
       "      <td>20707</td>\n",
       "      <td>1445</td>\n",
       "      <td>8044</td>\n",
       "      <td>...</td>\n",
       "      <td>0.000041</td>\n",
       "      <td>665.0</td>\n",
       "      <td>594.0</td>\n",
       "      <td>1189.0</td>\n",
       "      <td>896.0</td>\n",
       "      <td>8.486476e+10</td>\n",
       "      <td>6.757877e+10</td>\n",
       "      <td>9.543864e+09</td>\n",
       "      <td>7.742132e+09</td>\n",
       "      <td>Valesano-like</td>\n",
       "    </tr>\n",
       "    <tr>\n",
       "      <th>2</th>\n",
       "      <td>0</td>\n",
       "      <td>131721</td>\n",
       "      <td>3074296</td>\n",
       "      <td>2062332</td>\n",
       "      <td>587164</td>\n",
       "      <td>424800</td>\n",
       "      <td>40049</td>\n",
       "      <td>22635</td>\n",
       "      <td>4723</td>\n",
       "      <td>12691</td>\n",
       "      <td>...</td>\n",
       "      <td>0.000054</td>\n",
       "      <td>150.0</td>\n",
       "      <td>233.0</td>\n",
       "      <td>67.0</td>\n",
       "      <td>81.0</td>\n",
       "      <td>1.686744e+11</td>\n",
       "      <td>1.108285e+11</td>\n",
       "      <td>3.484425e+10</td>\n",
       "      <td>2.300166e+10</td>\n",
       "      <td>Sapoval-like</td>\n",
       "    </tr>\n",
       "    <tr>\n",
       "      <th>3</th>\n",
       "      <td>0</td>\n",
       "      <td>115843</td>\n",
       "      <td>366759</td>\n",
       "      <td>262572</td>\n",
       "      <td>65735</td>\n",
       "      <td>38452</td>\n",
       "      <td>19564</td>\n",
       "      <td>14513</td>\n",
       "      <td>778</td>\n",
       "      <td>4273</td>\n",
       "      <td>...</td>\n",
       "      <td>0.000044</td>\n",
       "      <td>1293.0</td>\n",
       "      <td>1071.0</td>\n",
       "      <td>2001.0</td>\n",
       "      <td>1585.0</td>\n",
       "      <td>2.209768e+10</td>\n",
       "      <td>1.591423e+10</td>\n",
       "      <td>4.167207e+09</td>\n",
       "      <td>2.016235e+09</td>\n",
       "      <td>Tonkin-Hill-like</td>\n",
       "    </tr>\n",
       "    <tr>\n",
       "      <th>4</th>\n",
       "      <td>0</td>\n",
       "      <td>107318</td>\n",
       "      <td>1138580</td>\n",
       "      <td>889729</td>\n",
       "      <td>133824</td>\n",
       "      <td>115027</td>\n",
       "      <td>28490</td>\n",
       "      <td>19991</td>\n",
       "      <td>1370</td>\n",
       "      <td>7129</td>\n",
       "      <td>...</td>\n",
       "      <td>0.000038</td>\n",
       "      <td>624.0</td>\n",
       "      <td>540.0</td>\n",
       "      <td>1188.0</td>\n",
       "      <td>820.0</td>\n",
       "      <td>6.206094e+10</td>\n",
       "      <td>4.697305e+10</td>\n",
       "      <td>8.682968e+09</td>\n",
       "      <td>6.404919e+09</td>\n",
       "      <td>CoVigator</td>\n",
       "    </tr>\n",
       "  </tbody>\n",
       "</table>\n",
       "<p>5 rows × 34 columns</p>\n",
       "</div>"
      ],
      "text/plain": [
       "   index  Num. samples  Num. mutations  Num. SNVs  Num. insertions  \\\n",
       "0      0        135452         2288363    1447734           639757   \n",
       "1      0        125965         1523125    1234647           145947   \n",
       "2      0        131721         3074296    2062332           587164   \n",
       "3      0        115843          366759     262572            65735   \n",
       "4      0        107318         1138580     889729           133824   \n",
       "\n",
       "   Num. deletions  Num. unique mutations  Num. unique SNVs  \\\n",
       "0          200872                 126999             78431   \n",
       "1          142531                  30196             20707   \n",
       "2          424800                  40049             22635   \n",
       "3           38452                  19564             14513   \n",
       "4          115027                  28490             19991   \n",
       "\n",
       "   Num. unique insertions  Num. unique deletions  ...  Ratio stop loss  \\\n",
       "0                   15887                  32681  ...         0.008171   \n",
       "1                    1445                   8044  ...         0.000041   \n",
       "2                    4723                  12691  ...         0.000054   \n",
       "3                     778                   4273  ...         0.000044   \n",
       "4                    1370                   7129  ...         0.000038   \n",
       "\n",
       "   Variant calling quality  Variant calling quality SNVs  \\\n",
       "0                     67.0                          89.0   \n",
       "1                    665.0                         594.0   \n",
       "2                    150.0                         233.0   \n",
       "3                   1293.0                        1071.0   \n",
       "4                    624.0                         540.0   \n",
       "\n",
       "   Variant calling quality insertions  Variant calling quality deletions  \\\n",
       "0                                66.0                               87.0   \n",
       "1                              1189.0                              896.0   \n",
       "2                                67.0                               81.0   \n",
       "3                              2001.0                             1585.0   \n",
       "4                              1188.0                              820.0   \n",
       "\n",
       "   Entropy genomic positions  Entropy genomic positions SNVs  \\\n",
       "0               3.477001e+11                    2.234844e+11   \n",
       "1               8.486476e+10                    6.757877e+10   \n",
       "2               1.686744e+11                    1.108285e+11   \n",
       "3               2.209768e+10                    1.591423e+10   \n",
       "4               6.206094e+10                    4.697305e+10   \n",
       "\n",
       "   Entropy genomic positions insertions  Entropy genomic positions deletions  \\\n",
       "0                          9.403048e+10                         3.018517e+10   \n",
       "1                          9.543864e+09                         7.742132e+09   \n",
       "2                          3.484425e+10                         2.300166e+10   \n",
       "3                          4.167207e+09                         2.016235e+09   \n",
       "4                          8.682968e+09                         6.404919e+09   \n",
       "\n",
       "              group  \n",
       "0              Naif  \n",
       "1     Valesano-like  \n",
       "2      Sapoval-like  \n",
       "3  Tonkin-Hill-like  \n",
       "4         CoVigator  \n",
       "\n",
       "[5 rows x 34 columns]"
      ]
     },
     "execution_count": 229,
     "metadata": {},
     "output_type": "execute_result"
    }
   ],
   "source": [
    "results_naif_df = pd.DataFrame.from_dict({k :[v] for k, v in results_naif.items()})\n",
    "results_naif_df['group'] = 'Naif'\n",
    "results_valesano_df = pd.DataFrame.from_dict({k :[v] for k, v in results_valesano.items()})\n",
    "results_valesano_df['group'] = 'Valesano-like'\n",
    "results_sapoval_df = pd.DataFrame.from_dict({k :[v] for k, v in results_sapoval.items()})\n",
    "results_sapoval_df['group'] = 'Sapoval-like'\n",
    "results_tonkinhill_df = pd.DataFrame.from_dict({k :[v] for k, v in results_tonkinhill.items()})\n",
    "results_tonkinhill_df['group'] = 'Tonkin-Hill-like'\n",
    "results_covigator2_df = pd.DataFrame.from_dict({k :[v] for k, v in results_covigator2.items()})\n",
    "results_covigator2_df['group'] = 'CoVigator'\n",
    "\n",
    "results = pd.concat([results_naif_df, results_valesano_df, results_sapoval_df, results_tonkinhill_df, results_covigator2_df]).reset_index()\n",
    "results"
   ]
  },
  {
   "cell_type": "code",
   "execution_count": 230,
   "id": "7d4ffdbf-5024-435e-9653-8885422bbe9c",
   "metadata": {},
   "outputs": [
    {
     "data": {
      "text/plain": [
       "Index(['index', 'Num. samples', 'Num. mutations', 'Num. SNVs',\n",
       "       'Num. insertions', 'Num. deletions', 'Num. unique mutations',\n",
       "       'Num. unique SNVs', 'Num. unique insertions', 'Num. unique deletions',\n",
       "       'Median VAF', 'Median AC', 'Median DP', 'Median mutations per sample',\n",
       "       'Median SNVs per sample', 'Median insertions per sample',\n",
       "       'Median deletions per sample', 'Ratio of NS/S',\n",
       "       'Ratio of in-frame/frameshift', 'Start loss', 'Ratio start loss',\n",
       "       'Stop gained', 'Ratio stop gained', 'Stop loss', 'Ratio stop loss',\n",
       "       'Variant calling quality', 'Variant calling quality SNVs',\n",
       "       'Variant calling quality insertions',\n",
       "       'Variant calling quality deletions', 'Entropy genomic positions',\n",
       "       'Entropy genomic positions SNVs',\n",
       "       'Entropy genomic positions insertions',\n",
       "       'Entropy genomic positions deletions', 'group'],\n",
       "      dtype='object')"
      ]
     },
     "execution_count": 230,
     "metadata": {},
     "output_type": "execute_result"
    }
   ],
   "source": [
    "results.columns"
   ]
  },
  {
   "cell_type": "code",
   "execution_count": 258,
   "id": "54479f5d-f8a4-4ce5-a8ff-ae5430904a90",
   "metadata": {},
   "outputs": [
    {
     "data": {
      "image/png": "[encoded data removed]",
      "text/plain": [
       "<Figure size 1000x1000 with 8 Axes>"
      ]
     },
     "metadata": {},
     "output_type": "display_data"
    }
   ],
   "source": [
    "df = results[['group', 'Num. samples', 'Num. mutations', 'Num. unique mutations', 'Median mutations per sample', 'Variant calling quality', 'Median VAF', 'Median AC', 'Median DP']]\\\n",
    "    .set_index('group')\\\n",
    "    .transpose()\\\n",
    "    .reset_index()\\\n",
    "    .rename(columns={'index': 'group'})\n",
    "\n",
    "df = df[['group', 'Naif', 'CoVigator', 'Valesano-like', 'Sapoval-like', 'Tonkin-Hill-like']]\n",
    " \n",
    " \n",
    "def make_spider( row, title, color):\n",
    "\n",
    "    # number of variable\n",
    "    categories=list(df)[1:]\n",
    "    N = len(categories)\n",
    "\n",
    "    # What will be the angle of each axis in the plot? (we divide the plot / number of variable)\n",
    "    angles = [n / float(N) * 2 * pi for n in range(N)]\n",
    "    angles += angles[:1]\n",
    "\n",
    "    # Initialise the spider plot\n",
    "    ax = plt.subplot(3,3,row+1, polar=True, )\n",
    "\n",
    "    # If you want the first axis to be on top:\n",
    "    ax.set_theta_offset(pi / 4)\n",
    "    ax.set_theta_direction(-1)\n",
    "\n",
    "    # Draw one axe per variable + add labels labels yet\n",
    "    plt.xticks(angles[:-1], categories, size=8)\n",
    "    \n",
    "    values=df.loc[row].drop('group').values.flatten().tolist()\n",
    "    values += values[:1]\n",
    "    \n",
    "    # Draw ylabels\n",
    "    ax.set_rlabel_position(0)\n",
    "    \n",
    "    max_value = max(values)\n",
    "    \n",
    "    sorted_values = sorted(values, reverse=True)\n",
    "    drop_close_by_values = []\n",
    "    for i, v in enumerate(sorted_values):\n",
    "        if i > 0 and sorted_values[i-1] - v < (max(values) - min(values)) * 0.1:\n",
    "            continue\n",
    "        else:\n",
    "            drop_close_by_values.append(v)\n",
    "        \n",
    "    \n",
    "    if max_value > 10000:\n",
    "        plt.yticks([float(v) / max_value for v in drop_close_by_values], ['%.1E' % v  for v in drop_close_by_values], size=7)\n",
    "    elif max_value < 1:\n",
    "        plt.yticks([float(v) / max_value for v in drop_close_by_values], [round(v, 2)  for v in drop_close_by_values], size=7)\n",
    "    else:\n",
    "        plt.yticks([float(v) / max_value for v in drop_close_by_values], [int(v) for v in drop_close_by_values], size=7)\n",
    "    \n",
    "    ax.fill(angles, values/max(values), color=color, alpha=0.4)\n",
    "    ax.spines['polar'].set_visible(False)\n",
    "    pos=ax.get_rlabel_position()\n",
    "    ax.set_rlabel_position(pos+9)\n",
    "\n",
    "    # Add a title\n",
    "    plt.title(title, size=11, y=1.1)\n",
    "    \n",
    "    \n",
    "    \n",
    "my_dpi=96\n",
    "fig = plt.figure(figsize=(1000/my_dpi, 1000/my_dpi), dpi=my_dpi)\n",
    " \n",
    "for row in range(0, len(df.index)):\n",
    "    make_spider( row=row, title=df['group'][row], color=sns.color_palette(\"colorblind\")[row])\n",
    "    \n",
    "plt.tight_layout()\n",
    "fig.savefig(os.path.join(figure_output_folder, 'figure_01_filtering_approaches_radar.png'), dpi=200)"
   ]
  },
  {
   "cell_type": "code",
   "execution_count": 135,
   "id": "3dc3cbec-6c19-4f10-8619-009701419dfb",
   "metadata": {},
   "outputs": [
    {
     "data": {
      "text/html": [
       "<div>\n",
       "<style scoped>\n",
       "    .dataframe tbody tr th:only-of-type {\n",
       "        vertical-align: middle;\n",
       "    }\n",
       "\n",
       "    .dataframe tbody tr th {\n",
       "        vertical-align: top;\n",
       "    }\n",
       "\n",
       "    .dataframe thead th {\n",
       "        text-align: right;\n",
       "    }\n",
       "</style>\n",
       "<table border=\"1\" class=\"dataframe\">\n",
       "  <thead>\n",
       "    <tr style=\"text-align: right;\">\n",
       "      <th>group</th>\n",
       "      <th>group</th>\n",
       "      <th>Naif</th>\n",
       "      <th>Valesano-like</th>\n",
       "      <th>Sapoval-like</th>\n",
       "      <th>Tonkin-Hill-like</th>\n",
       "      <th>CoVigator</th>\n",
       "    </tr>\n",
       "  </thead>\n",
       "  <tbody>\n",
       "    <tr>\n",
       "      <th>0</th>\n",
       "      <td>Num. samples</td>\n",
       "      <td>135452.000</td>\n",
       "      <td>1.259650e+05</td>\n",
       "      <td>1.317210e+05</td>\n",
       "      <td>115843.000000</td>\n",
       "      <td>1.073180e+05</td>\n",
       "    </tr>\n",
       "    <tr>\n",
       "      <th>1</th>\n",
       "      <td>Num. mutations</td>\n",
       "      <td>2288363.000</td>\n",
       "      <td>1.523125e+06</td>\n",
       "      <td>3.074296e+06</td>\n",
       "      <td>366759.000000</td>\n",
       "      <td>1.138580e+06</td>\n",
       "    </tr>\n",
       "    <tr>\n",
       "      <th>2</th>\n",
       "      <td>Num. unique mutations</td>\n",
       "      <td>126999.000</td>\n",
       "      <td>3.019600e+04</td>\n",
       "      <td>4.004900e+04</td>\n",
       "      <td>19564.000000</td>\n",
       "      <td>2.849000e+04</td>\n",
       "    </tr>\n",
       "    <tr>\n",
       "      <th>3</th>\n",
       "      <td>Median mutations per sample</td>\n",
       "      <td>3.000</td>\n",
       "      <td>3.000000e+00</td>\n",
       "      <td>6.000000e+00</td>\n",
       "      <td>0.000000</td>\n",
       "      <td>3.000000e+00</td>\n",
       "    </tr>\n",
       "    <tr>\n",
       "      <th>4</th>\n",
       "      <td>Variant calling quality</td>\n",
       "      <td>67.000</td>\n",
       "      <td>6.650000e+02</td>\n",
       "      <td>1.500000e+02</td>\n",
       "      <td>1293.000000</td>\n",
       "      <td>6.240000e+02</td>\n",
       "    </tr>\n",
       "    <tr>\n",
       "      <th>5</th>\n",
       "      <td>Median VAF</td>\n",
       "      <td>0.125</td>\n",
       "      <td>3.486240e-02</td>\n",
       "      <td>4.666670e-02</td>\n",
       "      <td>0.075277</td>\n",
       "      <td>3.371480e-02</td>\n",
       "    </tr>\n",
       "    <tr>\n",
       "      <th>6</th>\n",
       "      <td>Median AC</td>\n",
       "      <td>2.000</td>\n",
       "      <td>4.500000e+01</td>\n",
       "      <td>1.000000e+01</td>\n",
       "      <td>69.000000</td>\n",
       "      <td>4.300000e+01</td>\n",
       "    </tr>\n",
       "    <tr>\n",
       "      <th>7</th>\n",
       "      <td>Median DP</td>\n",
       "      <td>20.000</td>\n",
       "      <td>1.211000e+03</td>\n",
       "      <td>2.610000e+02</td>\n",
       "      <td>826.000000</td>\n",
       "      <td>1.211000e+03</td>\n",
       "    </tr>\n",
       "  </tbody>\n",
       "</table>\n",
       "</div>"
      ],
      "text/plain": [
       "group                        group         Naif  Valesano-like  Sapoval-like  \\\n",
       "0                     Num. samples   135452.000   1.259650e+05  1.317210e+05   \n",
       "1                   Num. mutations  2288363.000   1.523125e+06  3.074296e+06   \n",
       "2            Num. unique mutations   126999.000   3.019600e+04  4.004900e+04   \n",
       "3      Median mutations per sample        3.000   3.000000e+00  6.000000e+00   \n",
       "4          Variant calling quality       67.000   6.650000e+02  1.500000e+02   \n",
       "5                       Median VAF        0.125   3.486240e-02  4.666670e-02   \n",
       "6                        Median AC        2.000   4.500000e+01  1.000000e+01   \n",
       "7                        Median DP       20.000   1.211000e+03  2.610000e+02   \n",
       "\n",
       "group  Tonkin-Hill-like     CoVigator  \n",
       "0         115843.000000  1.073180e+05  \n",
       "1         366759.000000  1.138580e+06  \n",
       "2          19564.000000  2.849000e+04  \n",
       "3              0.000000  3.000000e+00  \n",
       "4           1293.000000  6.240000e+02  \n",
       "5              0.075277  3.371480e-02  \n",
       "6             69.000000  4.300000e+01  \n",
       "7            826.000000  1.211000e+03  "
      ]
     },
     "execution_count": 135,
     "metadata": {},
     "output_type": "execute_result"
    }
   ],
   "source": [
    "df"
   ]
  }
 ],
 "metadata": {
  "kernelspec": {
   "display_name": "Python 3 (ipykernel)",
   "language": "python",
   "name": "python3"
  },
  "language_info": {
   "codemirror_mode": {
    "name": "ipython",
    "version": 3
   },
   "file_extension": ".py",
   "mimetype": "text/x-python",
   "name": "python",
   "nbconvert_exporter": "python",
   "pygments_lexer": "ipython3",
   "version": "3.9.12"
  }
 },
 "nbformat": 4,
 "nbformat_minor": 5
}
